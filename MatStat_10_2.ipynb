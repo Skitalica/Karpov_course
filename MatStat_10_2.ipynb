{
 "cells": [
  {
   "cell_type": "code",
   "execution_count": 1,
   "id": "215c5311",
   "metadata": {},
   "outputs": [],
   "source": [
    "import pandas as pd\n",
    "import ssl\n",
    "import urllib.request\n",
    "import numpy as np\n",
    "import scipy.stats as stats\n",
    "import pingouin\n",
    "import matplotlib.pyplot as plt\n",
    "import statsmodels.api as sm\n",
    "from scipy.stats import shapiro\n",
    "from scipy.stats import mannwhitneyu\n",
    "from pingouin import power_ttest2n\n",
    "from scipy. stats import ttest_ind"
   ]
  },
  {
   "cell_type": "markdown",
   "id": "5f2c7dc0",
   "metadata": {},
   "source": [
    "#### Кейс №2 - Приложение доставки\n",
    "\n",
    "#### Вы работаете аналитиком в приложении по доставке продуктов. Команда внедрила в приложение умную систему рекомендации товаров – предполагается, что такая система поможет пользователям эффективнее работать с приложением и лучше находить необходимые товары.\n",
    "\n",
    "#### Чтобы проверить эффективность системы рекомендаций, был проведен АБ-тест. В группе 1 оказались пользователи с новой системой рекомендаций, в группе 0 пользователи со старой версией приложения, где нет рекомендации товаров.\n",
    "\n",
    "#### Ваша задача – оценить, смогла ли новая система рекомендаций принести пользу бизнесу и пользователям приложения. Для этого нужно выбрать одну или несколько метрик, которая отвечает за качество сервиса и статистически сравнить эти метрики в двух группах.\n",
    "\n",
    "#### Результат вашей работы – аналитическое заключение с ответом на вопрос, стоит ли включать новую систему рекомендаций на всех пользователей."
   ]
  },
  {
   "cell_type": "markdown",
   "id": "83824836",
   "metadata": {},
   "source": [
    "* ab_users_data – история заказов пользователей, в этой таблице есть информация о том, какие заказы создавали и отменяли пользователи\n",
    "* ab_orders – подробная информация о составе заказа, тут для каждого заказа есть список id тех продуктов, которые были включены в заказ\n",
    "* ab_products – подробная информация о продуктах, их название и стоимость"
   ]
  },
  {
   "cell_type": "code",
   "execution_count": 2,
   "id": "a71b1fcb",
   "metadata": {},
   "outputs": [
    {
     "data": {
      "text/html": [
       "<div>\n",
       "<style scoped>\n",
       "    .dataframe tbody tr th:only-of-type {\n",
       "        vertical-align: middle;\n",
       "    }\n",
       "\n",
       "    .dataframe tbody tr th {\n",
       "        vertical-align: top;\n",
       "    }\n",
       "\n",
       "    .dataframe thead th {\n",
       "        text-align: right;\n",
       "    }\n",
       "</style>\n",
       "<table border=\"1\" class=\"dataframe\">\n",
       "  <thead>\n",
       "    <tr style=\"text-align: right;\">\n",
       "      <th></th>\n",
       "      <th>user_id</th>\n",
       "      <th>order_id</th>\n",
       "      <th>action</th>\n",
       "      <th>time</th>\n",
       "      <th>date</th>\n",
       "      <th>group</th>\n",
       "    </tr>\n",
       "  </thead>\n",
       "  <tbody>\n",
       "    <tr>\n",
       "      <th>0</th>\n",
       "      <td>964</td>\n",
       "      <td>1255</td>\n",
       "      <td>create_order</td>\n",
       "      <td>2022-08-26 00:00:19</td>\n",
       "      <td>2022-08-26</td>\n",
       "      <td>0</td>\n",
       "    </tr>\n",
       "    <tr>\n",
       "      <th>1</th>\n",
       "      <td>965</td>\n",
       "      <td>1256</td>\n",
       "      <td>create_order</td>\n",
       "      <td>2022-08-26 00:02:21</td>\n",
       "      <td>2022-08-26</td>\n",
       "      <td>1</td>\n",
       "    </tr>\n",
       "    <tr>\n",
       "      <th>2</th>\n",
       "      <td>964</td>\n",
       "      <td>1257</td>\n",
       "      <td>create_order</td>\n",
       "      <td>2022-08-26 00:02:27</td>\n",
       "      <td>2022-08-26</td>\n",
       "      <td>0</td>\n",
       "    </tr>\n",
       "    <tr>\n",
       "      <th>3</th>\n",
       "      <td>966</td>\n",
       "      <td>1258</td>\n",
       "      <td>create_order</td>\n",
       "      <td>2022-08-26 00:02:56</td>\n",
       "      <td>2022-08-26</td>\n",
       "      <td>0</td>\n",
       "    </tr>\n",
       "    <tr>\n",
       "      <th>4</th>\n",
       "      <td>967</td>\n",
       "      <td>1259</td>\n",
       "      <td>create_order</td>\n",
       "      <td>2022-08-26 00:03:37</td>\n",
       "      <td>2022-08-26</td>\n",
       "      <td>1</td>\n",
       "    </tr>\n",
       "  </tbody>\n",
       "</table>\n",
       "</div>"
      ],
      "text/plain": [
       "   user_id  order_id        action                time       date  group\n",
       "0      964      1255  create_order 2022-08-26 00:00:19 2022-08-26      0\n",
       "1      965      1256  create_order 2022-08-26 00:02:21 2022-08-26      1\n",
       "2      964      1257  create_order 2022-08-26 00:02:27 2022-08-26      0\n",
       "3      966      1258  create_order 2022-08-26 00:02:56 2022-08-26      0\n",
       "4      967      1259  create_order 2022-08-26 00:03:37 2022-08-26      1"
      ]
     },
     "execution_count": 2,
     "metadata": {},
     "output_type": "execute_result"
    }
   ],
   "source": [
    "url = \"https://getfile.dokpub.com/yandex/get/https://disk.yandex.ru/d/4qY27tJ23G_B1g\"\n",
    "context = ssl._create_unverified_context()\n",
    "response = urllib.request.urlopen(url, context=context)\n",
    "\n",
    "ab_users_data = pd.read_csv(response, parse_dates=['time', 'date'])\n",
    "ab_users_data.head()"
   ]
  },
  {
   "cell_type": "code",
   "execution_count": 3,
   "id": "4a2b7f4d",
   "metadata": {},
   "outputs": [
    {
     "data": {
      "text/html": [
       "<div>\n",
       "<style scoped>\n",
       "    .dataframe tbody tr th:only-of-type {\n",
       "        vertical-align: middle;\n",
       "    }\n",
       "\n",
       "    .dataframe tbody tr th {\n",
       "        vertical-align: top;\n",
       "    }\n",
       "\n",
       "    .dataframe thead th {\n",
       "        text-align: right;\n",
       "    }\n",
       "</style>\n",
       "<table border=\"1\" class=\"dataframe\">\n",
       "  <thead>\n",
       "    <tr style=\"text-align: right;\">\n",
       "      <th></th>\n",
       "      <th>order_id</th>\n",
       "      <th>creation_time</th>\n",
       "      <th>product_ids</th>\n",
       "    </tr>\n",
       "  </thead>\n",
       "  <tbody>\n",
       "    <tr>\n",
       "      <th>0</th>\n",
       "      <td>1255</td>\n",
       "      <td>2022-08-26 00:00:19</td>\n",
       "      <td>{75, 22, 53, 84}</td>\n",
       "    </tr>\n",
       "    <tr>\n",
       "      <th>1</th>\n",
       "      <td>1256</td>\n",
       "      <td>2022-08-26 00:02:21</td>\n",
       "      <td>{56, 76, 39}</td>\n",
       "    </tr>\n",
       "    <tr>\n",
       "      <th>2</th>\n",
       "      <td>1257</td>\n",
       "      <td>2022-08-26 00:02:27</td>\n",
       "      <td>{76, 34, 41, 38}</td>\n",
       "    </tr>\n",
       "    <tr>\n",
       "      <th>3</th>\n",
       "      <td>1258</td>\n",
       "      <td>2022-08-26 00:02:56</td>\n",
       "      <td>{74, 6}</td>\n",
       "    </tr>\n",
       "    <tr>\n",
       "      <th>4</th>\n",
       "      <td>1259</td>\n",
       "      <td>2022-08-26 00:03:37</td>\n",
       "      <td>{20, 45, 67, 26}</td>\n",
       "    </tr>\n",
       "  </tbody>\n",
       "</table>\n",
       "</div>"
      ],
      "text/plain": [
       "   order_id       creation_time       product_ids\n",
       "0      1255 2022-08-26 00:00:19  {75, 22, 53, 84}\n",
       "1      1256 2022-08-26 00:02:21      {56, 76, 39}\n",
       "2      1257 2022-08-26 00:02:27  {76, 34, 41, 38}\n",
       "3      1258 2022-08-26 00:02:56           {74, 6}\n",
       "4      1259 2022-08-26 00:03:37  {20, 45, 67, 26}"
      ]
     },
     "execution_count": 3,
     "metadata": {},
     "output_type": "execute_result"
    }
   ],
   "source": [
    "url = \"https://getfile.dokpub.com/yandex/get/https://disk.yandex.ru/d/prdO8FDQx7lzCg\"\n",
    "context = ssl._create_unverified_context()\n",
    "response = urllib.request.urlopen(url, context=context)\n",
    "\n",
    "ab_orders = pd.read_csv(response, parse_dates=['creation_time'])\n",
    "ab_orders.head()"
   ]
  },
  {
   "cell_type": "code",
   "execution_count": 4,
   "id": "71a5aecc",
   "metadata": {},
   "outputs": [
    {
     "data": {
      "text/html": [
       "<div>\n",
       "<style scoped>\n",
       "    .dataframe tbody tr th:only-of-type {\n",
       "        vertical-align: middle;\n",
       "    }\n",
       "\n",
       "    .dataframe tbody tr th {\n",
       "        vertical-align: top;\n",
       "    }\n",
       "\n",
       "    .dataframe thead th {\n",
       "        text-align: right;\n",
       "    }\n",
       "</style>\n",
       "<table border=\"1\" class=\"dataframe\">\n",
       "  <thead>\n",
       "    <tr style=\"text-align: right;\">\n",
       "      <th></th>\n",
       "      <th>product_id</th>\n",
       "      <th>name</th>\n",
       "      <th>price</th>\n",
       "    </tr>\n",
       "  </thead>\n",
       "  <tbody>\n",
       "    <tr>\n",
       "      <th>0</th>\n",
       "      <td>1</td>\n",
       "      <td>сахар</td>\n",
       "      <td>150.0</td>\n",
       "    </tr>\n",
       "    <tr>\n",
       "      <th>1</th>\n",
       "      <td>2</td>\n",
       "      <td>чай зеленый в пакетиках</td>\n",
       "      <td>50.0</td>\n",
       "    </tr>\n",
       "    <tr>\n",
       "      <th>2</th>\n",
       "      <td>3</td>\n",
       "      <td>вода негазированная</td>\n",
       "      <td>80.4</td>\n",
       "    </tr>\n",
       "    <tr>\n",
       "      <th>3</th>\n",
       "      <td>4</td>\n",
       "      <td>леденцы</td>\n",
       "      <td>45.5</td>\n",
       "    </tr>\n",
       "    <tr>\n",
       "      <th>4</th>\n",
       "      <td>5</td>\n",
       "      <td>кофе 3 в 1</td>\n",
       "      <td>15.0</td>\n",
       "    </tr>\n",
       "  </tbody>\n",
       "</table>\n",
       "</div>"
      ],
      "text/plain": [
       "   product_id                     name  price\n",
       "0           1                    сахар  150.0\n",
       "1           2  чай зеленый в пакетиках   50.0\n",
       "2           3      вода негазированная   80.4\n",
       "3           4                  леденцы   45.5\n",
       "4           5               кофе 3 в 1   15.0"
      ]
     },
     "execution_count": 4,
     "metadata": {},
     "output_type": "execute_result"
    }
   ],
   "source": [
    "url = \"https://getfile.dokpub.com/yandex/get/https://disk.yandex.ru/d/atwrlmB_wu-fHA\"\n",
    "context = ssl._create_unverified_context()\n",
    "response = urllib.request.urlopen(url, context=context)\n",
    "\n",
    "ab_products = pd.read_csv(response)\n",
    "ab_products.head()"
   ]
  },
  {
   "cell_type": "markdown",
   "id": "cc272528",
   "metadata": {},
   "source": [
    "Посмотрим на типы данных в первом и втором датафремах, а еще на количество пропусков в данных"
   ]
  },
  {
   "cell_type": "code",
   "execution_count": 5,
   "id": "f1314ea0",
   "metadata": {},
   "outputs": [
    {
     "name": "stdout",
     "output_type": "stream",
     "text": [
      "<class 'pandas.core.frame.DataFrame'>\n",
      "RangeIndex: 4337 entries, 0 to 4336\n",
      "Data columns (total 6 columns):\n",
      " #   Column    Non-Null Count  Dtype         \n",
      "---  ------    --------------  -----         \n",
      " 0   user_id   4337 non-null   int64         \n",
      " 1   order_id  4337 non-null   int64         \n",
      " 2   action    4337 non-null   object        \n",
      " 3   time      4337 non-null   datetime64[ns]\n",
      " 4   date      4337 non-null   datetime64[ns]\n",
      " 5   group     4337 non-null   int64         \n",
      "dtypes: datetime64[ns](2), int64(3), object(1)\n",
      "memory usage: 203.4+ KB\n"
     ]
    }
   ],
   "source": [
    "ab_users_data.info()"
   ]
  },
  {
   "cell_type": "code",
   "execution_count": 6,
   "id": "afd6df93",
   "metadata": {},
   "outputs": [
    {
     "name": "stdout",
     "output_type": "stream",
     "text": [
      "<class 'pandas.core.frame.DataFrame'>\n",
      "RangeIndex: 4123 entries, 0 to 4122\n",
      "Data columns (total 3 columns):\n",
      " #   Column         Non-Null Count  Dtype         \n",
      "---  ------         --------------  -----         \n",
      " 0   order_id       4123 non-null   int64         \n",
      " 1   creation_time  4123 non-null   datetime64[ns]\n",
      " 2   product_ids    4123 non-null   object        \n",
      "dtypes: datetime64[ns](1), int64(1), object(1)\n",
      "memory usage: 96.8+ KB\n"
     ]
    }
   ],
   "source": [
    "ab_orders.info()"
   ]
  },
  {
   "cell_type": "markdown",
   "id": "3d81bcf2",
   "metadata": {},
   "source": [
    "А какие у нас есть статусы заказа?"
   ]
  },
  {
   "cell_type": "code",
   "execution_count": 7,
   "id": "e64a0212",
   "metadata": {},
   "outputs": [
    {
     "data": {
      "text/plain": [
       "array(['create_order', 'cancel_order'], dtype=object)"
      ]
     },
     "execution_count": 7,
     "metadata": {},
     "output_type": "execute_result"
    }
   ],
   "source": [
    "ab_users_data.action.unique()"
   ]
  },
  {
   "cell_type": "markdown",
   "id": "1075a26a",
   "metadata": {},
   "source": [
    "Сколько у нас уникальных пользователей?"
   ]
  },
  {
   "cell_type": "code",
   "execution_count": 8,
   "id": "0cd985fb",
   "metadata": {},
   "outputs": [
    {
     "data": {
      "text/plain": [
       "1017"
      ]
     },
     "execution_count": 8,
     "metadata": {},
     "output_type": "execute_result"
    }
   ],
   "source": [
    "ab_users_data.user_id.nunique()"
   ]
  },
  {
   "cell_type": "markdown",
   "id": "74f47009",
   "metadata": {},
   "source": [
    "Еще нам пригодятся \"разархивированные\" данные из таблицы ab_orders, колонки product_ids"
   ]
  },
  {
   "cell_type": "code",
   "execution_count": 9,
   "id": "501004b4",
   "metadata": {},
   "outputs": [
    {
     "data": {
      "text/html": [
       "<div>\n",
       "<style scoped>\n",
       "    .dataframe tbody tr th:only-of-type {\n",
       "        vertical-align: middle;\n",
       "    }\n",
       "\n",
       "    .dataframe tbody tr th {\n",
       "        vertical-align: top;\n",
       "    }\n",
       "\n",
       "    .dataframe thead th {\n",
       "        text-align: right;\n",
       "    }\n",
       "</style>\n",
       "<table border=\"1\" class=\"dataframe\">\n",
       "  <thead>\n",
       "    <tr style=\"text-align: right;\">\n",
       "      <th></th>\n",
       "      <th>order_id</th>\n",
       "      <th>creation_time</th>\n",
       "      <th>product_ids</th>\n",
       "      <th>product_ids_str</th>\n",
       "    </tr>\n",
       "  </thead>\n",
       "  <tbody>\n",
       "    <tr>\n",
       "      <th>0</th>\n",
       "      <td>1255</td>\n",
       "      <td>2022-08-26 00:00:19</td>\n",
       "      <td>{75, 22, 53, 84}</td>\n",
       "      <td>[75, 22, 53, 84]</td>\n",
       "    </tr>\n",
       "    <tr>\n",
       "      <th>1</th>\n",
       "      <td>1256</td>\n",
       "      <td>2022-08-26 00:02:21</td>\n",
       "      <td>{56, 76, 39}</td>\n",
       "      <td>[56, 76, 39]</td>\n",
       "    </tr>\n",
       "    <tr>\n",
       "      <th>2</th>\n",
       "      <td>1257</td>\n",
       "      <td>2022-08-26 00:02:27</td>\n",
       "      <td>{76, 34, 41, 38}</td>\n",
       "      <td>[76, 34, 41, 38]</td>\n",
       "    </tr>\n",
       "    <tr>\n",
       "      <th>3</th>\n",
       "      <td>1258</td>\n",
       "      <td>2022-08-26 00:02:56</td>\n",
       "      <td>{74, 6}</td>\n",
       "      <td>[74, 6]</td>\n",
       "    </tr>\n",
       "    <tr>\n",
       "      <th>4</th>\n",
       "      <td>1259</td>\n",
       "      <td>2022-08-26 00:03:37</td>\n",
       "      <td>{20, 45, 67, 26}</td>\n",
       "      <td>[20, 45, 67, 26]</td>\n",
       "    </tr>\n",
       "    <tr>\n",
       "      <th>...</th>\n",
       "      <td>...</td>\n",
       "      <td>...</td>\n",
       "      <td>...</td>\n",
       "      <td>...</td>\n",
       "    </tr>\n",
       "    <tr>\n",
       "      <th>4118</th>\n",
       "      <td>59422</td>\n",
       "      <td>2022-09-08 23:13:03</td>\n",
       "      <td>{84, 8, 24}</td>\n",
       "      <td>[84, 8, 24]</td>\n",
       "    </tr>\n",
       "    <tr>\n",
       "      <th>4119</th>\n",
       "      <td>59439</td>\n",
       "      <td>2022-09-08 23:18:05</td>\n",
       "      <td>{9, 25, 75, 30, 6}</td>\n",
       "      <td>[9, 25, 75, 30, 6]</td>\n",
       "    </tr>\n",
       "    <tr>\n",
       "      <th>4120</th>\n",
       "      <td>59464</td>\n",
       "      <td>2022-09-08 23:22:27</td>\n",
       "      <td>{60, 41, 46}</td>\n",
       "      <td>[60, 41, 46]</td>\n",
       "    </tr>\n",
       "    <tr>\n",
       "      <th>4121</th>\n",
       "      <td>59487</td>\n",
       "      <td>2022-09-08 23:29:06</td>\n",
       "      <td>{9, 62, 77}</td>\n",
       "      <td>[9, 62, 77]</td>\n",
       "    </tr>\n",
       "    <tr>\n",
       "      <th>4122</th>\n",
       "      <td>59533</td>\n",
       "      <td>2022-09-08 23:41:24</td>\n",
       "      <td>{17, 85}</td>\n",
       "      <td>[17, 85]</td>\n",
       "    </tr>\n",
       "  </tbody>\n",
       "</table>\n",
       "<p>4123 rows × 4 columns</p>\n",
       "</div>"
      ],
      "text/plain": [
       "      order_id       creation_time         product_ids     product_ids_str\n",
       "0         1255 2022-08-26 00:00:19    {75, 22, 53, 84}    [75, 22, 53, 84]\n",
       "1         1256 2022-08-26 00:02:21        {56, 76, 39}        [56, 76, 39]\n",
       "2         1257 2022-08-26 00:02:27    {76, 34, 41, 38}    [76, 34, 41, 38]\n",
       "3         1258 2022-08-26 00:02:56             {74, 6}             [74, 6]\n",
       "4         1259 2022-08-26 00:03:37    {20, 45, 67, 26}    [20, 45, 67, 26]\n",
       "...        ...                 ...                 ...                 ...\n",
       "4118     59422 2022-09-08 23:13:03         {84, 8, 24}         [84, 8, 24]\n",
       "4119     59439 2022-09-08 23:18:05  {9, 25, 75, 30, 6}  [9, 25, 75, 30, 6]\n",
       "4120     59464 2022-09-08 23:22:27        {60, 41, 46}        [60, 41, 46]\n",
       "4121     59487 2022-09-08 23:29:06         {9, 62, 77}         [9, 62, 77]\n",
       "4122     59533 2022-09-08 23:41:24            {17, 85}            [17, 85]\n",
       "\n",
       "[4123 rows x 4 columns]"
      ]
     },
     "execution_count": 9,
     "metadata": {},
     "output_type": "execute_result"
    }
   ],
   "source": [
    "ab_orders['product_ids_str'] = ab_orders.product_ids.apply(lambda x: x.strip('{}').split(', '))\n",
    "ab_orders"
   ]
  },
  {
   "cell_type": "markdown",
   "id": "10e445ce",
   "metadata": {},
   "source": [
    "Объединим две таблицы, одну с данными о заказах и их составе, вторую с историей заказов"
   ]
  },
  {
   "cell_type": "code",
   "execution_count": 10,
   "id": "1a9bb9e0",
   "metadata": {},
   "outputs": [
    {
     "data": {
      "text/html": [
       "<div>\n",
       "<style scoped>\n",
       "    .dataframe tbody tr th:only-of-type {\n",
       "        vertical-align: middle;\n",
       "    }\n",
       "\n",
       "    .dataframe tbody tr th {\n",
       "        vertical-align: top;\n",
       "    }\n",
       "\n",
       "    .dataframe thead th {\n",
       "        text-align: right;\n",
       "    }\n",
       "</style>\n",
       "<table border=\"1\" class=\"dataframe\">\n",
       "  <thead>\n",
       "    <tr style=\"text-align: right;\">\n",
       "      <th></th>\n",
       "      <th>user_id</th>\n",
       "      <th>order_id</th>\n",
       "      <th>action</th>\n",
       "      <th>date</th>\n",
       "      <th>group</th>\n",
       "      <th>creation_time</th>\n",
       "      <th>product_ids_str</th>\n",
       "    </tr>\n",
       "  </thead>\n",
       "  <tbody>\n",
       "    <tr>\n",
       "      <th>0</th>\n",
       "      <td>964</td>\n",
       "      <td>1255</td>\n",
       "      <td>create_order</td>\n",
       "      <td>2022-08-26</td>\n",
       "      <td>0</td>\n",
       "      <td>2022-08-26 00:00:19</td>\n",
       "      <td>[75, 22, 53, 84]</td>\n",
       "    </tr>\n",
       "    <tr>\n",
       "      <th>1</th>\n",
       "      <td>965</td>\n",
       "      <td>1256</td>\n",
       "      <td>create_order</td>\n",
       "      <td>2022-08-26</td>\n",
       "      <td>1</td>\n",
       "      <td>2022-08-26 00:02:21</td>\n",
       "      <td>[56, 76, 39]</td>\n",
       "    </tr>\n",
       "    <tr>\n",
       "      <th>2</th>\n",
       "      <td>964</td>\n",
       "      <td>1257</td>\n",
       "      <td>create_order</td>\n",
       "      <td>2022-08-26</td>\n",
       "      <td>0</td>\n",
       "      <td>2022-08-26 00:02:27</td>\n",
       "      <td>[76, 34, 41, 38]</td>\n",
       "    </tr>\n",
       "    <tr>\n",
       "      <th>3</th>\n",
       "      <td>966</td>\n",
       "      <td>1258</td>\n",
       "      <td>create_order</td>\n",
       "      <td>2022-08-26</td>\n",
       "      <td>0</td>\n",
       "      <td>2022-08-26 00:02:56</td>\n",
       "      <td>[74, 6]</td>\n",
       "    </tr>\n",
       "    <tr>\n",
       "      <th>4</th>\n",
       "      <td>967</td>\n",
       "      <td>1259</td>\n",
       "      <td>create_order</td>\n",
       "      <td>2022-08-26</td>\n",
       "      <td>1</td>\n",
       "      <td>2022-08-26 00:03:37</td>\n",
       "      <td>[20, 45, 67, 26]</td>\n",
       "    </tr>\n",
       "    <tr>\n",
       "      <th>...</th>\n",
       "      <td>...</td>\n",
       "      <td>...</td>\n",
       "      <td>...</td>\n",
       "      <td>...</td>\n",
       "      <td>...</td>\n",
       "      <td>...</td>\n",
       "      <td>...</td>\n",
       "    </tr>\n",
       "    <tr>\n",
       "      <th>4332</th>\n",
       "      <td>990</td>\n",
       "      <td>59422</td>\n",
       "      <td>create_order</td>\n",
       "      <td>2022-09-08</td>\n",
       "      <td>1</td>\n",
       "      <td>2022-09-08 23:13:03</td>\n",
       "      <td>[84, 8, 24]</td>\n",
       "    </tr>\n",
       "    <tr>\n",
       "      <th>4333</th>\n",
       "      <td>1418</td>\n",
       "      <td>59439</td>\n",
       "      <td>create_order</td>\n",
       "      <td>2022-09-08</td>\n",
       "      <td>1</td>\n",
       "      <td>2022-09-08 23:18:05</td>\n",
       "      <td>[9, 25, 75, 30, 6]</td>\n",
       "    </tr>\n",
       "    <tr>\n",
       "      <th>4334</th>\n",
       "      <td>1605</td>\n",
       "      <td>59464</td>\n",
       "      <td>create_order</td>\n",
       "      <td>2022-09-08</td>\n",
       "      <td>0</td>\n",
       "      <td>2022-09-08 23:22:27</td>\n",
       "      <td>[60, 41, 46]</td>\n",
       "    </tr>\n",
       "    <tr>\n",
       "      <th>4335</th>\n",
       "      <td>1461</td>\n",
       "      <td>59487</td>\n",
       "      <td>create_order</td>\n",
       "      <td>2022-09-08</td>\n",
       "      <td>0</td>\n",
       "      <td>2022-09-08 23:29:06</td>\n",
       "      <td>[9, 62, 77]</td>\n",
       "    </tr>\n",
       "    <tr>\n",
       "      <th>4336</th>\n",
       "      <td>1376</td>\n",
       "      <td>59533</td>\n",
       "      <td>create_order</td>\n",
       "      <td>2022-09-08</td>\n",
       "      <td>0</td>\n",
       "      <td>2022-09-08 23:41:24</td>\n",
       "      <td>[17, 85]</td>\n",
       "    </tr>\n",
       "  </tbody>\n",
       "</table>\n",
       "<p>4337 rows × 7 columns</p>\n",
       "</div>"
      ],
      "text/plain": [
       "      user_id  order_id        action       date  group       creation_time  \\\n",
       "0         964      1255  create_order 2022-08-26      0 2022-08-26 00:00:19   \n",
       "1         965      1256  create_order 2022-08-26      1 2022-08-26 00:02:21   \n",
       "2         964      1257  create_order 2022-08-26      0 2022-08-26 00:02:27   \n",
       "3         966      1258  create_order 2022-08-26      0 2022-08-26 00:02:56   \n",
       "4         967      1259  create_order 2022-08-26      1 2022-08-26 00:03:37   \n",
       "...       ...       ...           ...        ...    ...                 ...   \n",
       "4332      990     59422  create_order 2022-09-08      1 2022-09-08 23:13:03   \n",
       "4333     1418     59439  create_order 2022-09-08      1 2022-09-08 23:18:05   \n",
       "4334     1605     59464  create_order 2022-09-08      0 2022-09-08 23:22:27   \n",
       "4335     1461     59487  create_order 2022-09-08      0 2022-09-08 23:29:06   \n",
       "4336     1376     59533  create_order 2022-09-08      0 2022-09-08 23:41:24   \n",
       "\n",
       "         product_ids_str  \n",
       "0       [75, 22, 53, 84]  \n",
       "1           [56, 76, 39]  \n",
       "2       [76, 34, 41, 38]  \n",
       "3                [74, 6]  \n",
       "4       [20, 45, 67, 26]  \n",
       "...                  ...  \n",
       "4332         [84, 8, 24]  \n",
       "4333  [9, 25, 75, 30, 6]  \n",
       "4334        [60, 41, 46]  \n",
       "4335         [9, 62, 77]  \n",
       "4336            [17, 85]  \n",
       "\n",
       "[4337 rows x 7 columns]"
      ]
     },
     "execution_count": 10,
     "metadata": {},
     "output_type": "execute_result"
    }
   ],
   "source": [
    "users_orders = ab_users_data.merge(ab_orders, on = 'order_id', how = 'left')\n",
    "users_orders = users_orders.drop(columns = ['product_ids', 'time'],axis = 1)\n",
    "users_orders"
   ]
  },
  {
   "cell_type": "code",
   "execution_count": 11,
   "id": "cd0d2a26",
   "metadata": {},
   "outputs": [
    {
     "name": "stdout",
     "output_type": "stream",
     "text": [
      "<class 'pandas.core.frame.DataFrame'>\n",
      "Int64Index: 4337 entries, 0 to 4336\n",
      "Data columns (total 7 columns):\n",
      " #   Column           Non-Null Count  Dtype         \n",
      "---  ------           --------------  -----         \n",
      " 0   user_id          4337 non-null   int64         \n",
      " 1   order_id         4337 non-null   int64         \n",
      " 2   action           4337 non-null   object        \n",
      " 3   date             4337 non-null   datetime64[ns]\n",
      " 4   group            4337 non-null   int64         \n",
      " 5   creation_time    4337 non-null   datetime64[ns]\n",
      " 6   product_ids_str  4337 non-null   object        \n",
      "dtypes: datetime64[ns](2), int64(3), object(2)\n",
      "memory usage: 271.1+ KB\n"
     ]
    }
   ],
   "source": [
    "users_orders.info()"
   ]
  },
  {
   "cell_type": "markdown",
   "id": "af9fef4f",
   "metadata": {},
   "source": [
    "Теперь нам необходимо удалить все заказы, которые были отменены."
   ]
  },
  {
   "cell_type": "code",
   "execution_count": 12,
   "id": "c4cfcd52",
   "metadata": {},
   "outputs": [
    {
     "data": {
      "text/plain": [
       "214"
      ]
     },
     "execution_count": 12,
     "metadata": {},
     "output_type": "execute_result"
    }
   ],
   "source": [
    "def get_cancelled_orders(table):\n",
    "    cancelled_orders = []\n",
    "    for index, row in table.iterrows():\n",
    "        order_id, action = row['order_id'], row['action']\n",
    "        if action == 'cancel_order':\n",
    "            cancelled_orders.append(order_id)\n",
    "    return cancelled_orders\n",
    "\n",
    "\n",
    "cancelled_orders = get_cancelled_orders(users_orders)\n",
    "len(cancelled_orders)"
   ]
  },
  {
   "cell_type": "code",
   "execution_count": 13,
   "id": "3477d46d",
   "metadata": {},
   "outputs": [
    {
     "data": {
      "text/plain": [
       "(3909, 7)"
      ]
     },
     "execution_count": 13,
     "metadata": {},
     "output_type": "execute_result"
    }
   ],
   "source": [
    "users_orders_no_cancel = users_orders.query('order_id not in @cancelled_orders')\n",
    "users_orders_no_cancel.shape"
   ]
  },
  {
   "cell_type": "markdown",
   "id": "e378011f",
   "metadata": {},
   "source": [
    "Проверим, сошлось ли у нас количество удаленных + оставленных записей с датафреймом users_orders:"
   ]
  },
  {
   "cell_type": "code",
   "execution_count": 14,
   "id": "ae81cfb2",
   "metadata": {},
   "outputs": [
    {
     "data": {
      "text/plain": [
       "True"
      ]
     },
     "execution_count": 14,
     "metadata": {},
     "output_type": "execute_result"
    }
   ],
   "source": [
    "len(cancelled_orders) * 2 + users_orders_no_cancel.shape[0] == users_orders.shape[0]"
   ]
  },
  {
   "cell_type": "code",
   "execution_count": 15,
   "id": "9ab0a468",
   "metadata": {},
   "outputs": [
    {
     "data": {
      "text/html": [
       "<div>\n",
       "<style scoped>\n",
       "    .dataframe tbody tr th:only-of-type {\n",
       "        vertical-align: middle;\n",
       "    }\n",
       "\n",
       "    .dataframe tbody tr th {\n",
       "        vertical-align: top;\n",
       "    }\n",
       "\n",
       "    .dataframe thead th {\n",
       "        text-align: right;\n",
       "    }\n",
       "</style>\n",
       "<table border=\"1\" class=\"dataframe\">\n",
       "  <thead>\n",
       "    <tr style=\"text-align: right;\">\n",
       "      <th></th>\n",
       "      <th>user_id</th>\n",
       "      <th>order_id</th>\n",
       "      <th>action</th>\n",
       "      <th>date</th>\n",
       "      <th>group</th>\n",
       "      <th>creation_time</th>\n",
       "      <th>product_ids_str</th>\n",
       "    </tr>\n",
       "  </thead>\n",
       "  <tbody>\n",
       "    <tr>\n",
       "      <th>0</th>\n",
       "      <td>964</td>\n",
       "      <td>1255</td>\n",
       "      <td>create_order</td>\n",
       "      <td>2022-08-26</td>\n",
       "      <td>0</td>\n",
       "      <td>2022-08-26 00:00:19</td>\n",
       "      <td>[75, 22, 53, 84]</td>\n",
       "    </tr>\n",
       "    <tr>\n",
       "      <th>1</th>\n",
       "      <td>965</td>\n",
       "      <td>1256</td>\n",
       "      <td>create_order</td>\n",
       "      <td>2022-08-26</td>\n",
       "      <td>1</td>\n",
       "      <td>2022-08-26 00:02:21</td>\n",
       "      <td>[56, 76, 39]</td>\n",
       "    </tr>\n",
       "    <tr>\n",
       "      <th>2</th>\n",
       "      <td>964</td>\n",
       "      <td>1257</td>\n",
       "      <td>create_order</td>\n",
       "      <td>2022-08-26</td>\n",
       "      <td>0</td>\n",
       "      <td>2022-08-26 00:02:27</td>\n",
       "      <td>[76, 34, 41, 38]</td>\n",
       "    </tr>\n",
       "    <tr>\n",
       "      <th>4</th>\n",
       "      <td>967</td>\n",
       "      <td>1259</td>\n",
       "      <td>create_order</td>\n",
       "      <td>2022-08-26</td>\n",
       "      <td>1</td>\n",
       "      <td>2022-08-26 00:03:37</td>\n",
       "      <td>[20, 45, 67, 26]</td>\n",
       "    </tr>\n",
       "    <tr>\n",
       "      <th>5</th>\n",
       "      <td>968</td>\n",
       "      <td>1261</td>\n",
       "      <td>create_order</td>\n",
       "      <td>2022-08-26</td>\n",
       "      <td>0</td>\n",
       "      <td>2022-08-26 00:05:35</td>\n",
       "      <td>[30, 35, 69, 6]</td>\n",
       "    </tr>\n",
       "  </tbody>\n",
       "</table>\n",
       "</div>"
      ],
      "text/plain": [
       "   user_id  order_id        action       date  group       creation_time  \\\n",
       "0      964      1255  create_order 2022-08-26      0 2022-08-26 00:00:19   \n",
       "1      965      1256  create_order 2022-08-26      1 2022-08-26 00:02:21   \n",
       "2      964      1257  create_order 2022-08-26      0 2022-08-26 00:02:27   \n",
       "4      967      1259  create_order 2022-08-26      1 2022-08-26 00:03:37   \n",
       "5      968      1261  create_order 2022-08-26      0 2022-08-26 00:05:35   \n",
       "\n",
       "    product_ids_str  \n",
       "0  [75, 22, 53, 84]  \n",
       "1      [56, 76, 39]  \n",
       "2  [76, 34, 41, 38]  \n",
       "4  [20, 45, 67, 26]  \n",
       "5   [30, 35, 69, 6]  "
      ]
     },
     "execution_count": 15,
     "metadata": {},
     "output_type": "execute_result"
    }
   ],
   "source": [
    "users_orders_no_cancel.head()"
   ]
  },
  {
   "cell_type": "markdown",
   "id": "17024c04",
   "metadata": {},
   "source": [
    "Теперь создадим словарь, в который занесем в качестве ключа все id продуктов, а в значения их цену."
   ]
  },
  {
   "cell_type": "code",
   "execution_count": 16,
   "id": "f47fc3de",
   "metadata": {},
   "outputs": [],
   "source": [
    "product_dict = {}\n",
    "for index, row in ab_products.iterrows():\n",
    "    product_id = row['product_id']\n",
    "    price = row['price']\n",
    "    product_dict[product_id] = price"
   ]
  },
  {
   "cell_type": "markdown",
   "id": "3794afce",
   "metadata": {},
   "source": [
    "Теперь нам нужна функция, которая сопоставит все значения из списка product_ids_str со словарем цен и будет их суммировать."
   ]
  },
  {
   "cell_type": "code",
   "execution_count": 17,
   "id": "cf9985d9",
   "metadata": {},
   "outputs": [],
   "source": [
    "def calc_total_price(row, product_dict):\n",
    "    product_ids = []\n",
    "\n",
    "    for product_id in row['product_ids_str']:\n",
    "        product_id_int = int(product_id)\n",
    "        product_ids.append(product_id_int)\n",
    "    \n",
    "    total_price = 0  \n",
    "    for product_id in product_ids:\n",
    "        if product_id in product_dict:\n",
    "            total_price += product_dict[product_id]\n",
    "        else:\n",
    "            total_price += 0 \n",
    "    \n",
    "    return total_price\n",
    "\n"
   ]
  },
  {
   "cell_type": "markdown",
   "id": "e5f87d2c",
   "metadata": {},
   "source": [
    "Создадим колонку с суммой заказа."
   ]
  },
  {
   "cell_type": "code",
   "execution_count": 18,
   "id": "cbbb79a9",
   "metadata": {},
   "outputs": [
    {
     "name": "stderr",
     "output_type": "stream",
     "text": [
      "C:\\Users\\Дачный\\AppData\\Local\\Temp\\ipykernel_9100\\3511273527.py:1: SettingWithCopyWarning: \n",
      "A value is trying to be set on a copy of a slice from a DataFrame.\n",
      "Try using .loc[row_indexer,col_indexer] = value instead\n",
      "\n",
      "See the caveats in the documentation: https://pandas.pydata.org/pandas-docs/stable/user_guide/indexing.html#returning-a-view-versus-a-copy\n",
      "  users_orders_no_cancel['total_price'] = users_orders_no_cancel.apply(lambda x: calc_total_price(x, product_dict), axis=1)\n"
     ]
    },
    {
     "data": {
      "text/html": [
       "<div>\n",
       "<style scoped>\n",
       "    .dataframe tbody tr th:only-of-type {\n",
       "        vertical-align: middle;\n",
       "    }\n",
       "\n",
       "    .dataframe tbody tr th {\n",
       "        vertical-align: top;\n",
       "    }\n",
       "\n",
       "    .dataframe thead th {\n",
       "        text-align: right;\n",
       "    }\n",
       "</style>\n",
       "<table border=\"1\" class=\"dataframe\">\n",
       "  <thead>\n",
       "    <tr style=\"text-align: right;\">\n",
       "      <th></th>\n",
       "      <th>user_id</th>\n",
       "      <th>order_id</th>\n",
       "      <th>action</th>\n",
       "      <th>date</th>\n",
       "      <th>group</th>\n",
       "      <th>creation_time</th>\n",
       "      <th>product_ids_str</th>\n",
       "      <th>total_price</th>\n",
       "    </tr>\n",
       "  </thead>\n",
       "  <tbody>\n",
       "    <tr>\n",
       "      <th>0</th>\n",
       "      <td>964</td>\n",
       "      <td>1255</td>\n",
       "      <td>create_order</td>\n",
       "      <td>2022-08-26</td>\n",
       "      <td>0</td>\n",
       "      <td>2022-08-26 00:00:19</td>\n",
       "      <td>[75, 22, 53, 84]</td>\n",
       "      <td>408.7</td>\n",
       "    </tr>\n",
       "    <tr>\n",
       "      <th>1</th>\n",
       "      <td>965</td>\n",
       "      <td>1256</td>\n",
       "      <td>create_order</td>\n",
       "      <td>2022-08-26</td>\n",
       "      <td>1</td>\n",
       "      <td>2022-08-26 00:02:21</td>\n",
       "      <td>[56, 76, 39]</td>\n",
       "      <td>250.5</td>\n",
       "    </tr>\n",
       "    <tr>\n",
       "      <th>2</th>\n",
       "      <td>964</td>\n",
       "      <td>1257</td>\n",
       "      <td>create_order</td>\n",
       "      <td>2022-08-26</td>\n",
       "      <td>0</td>\n",
       "      <td>2022-08-26 00:02:27</td>\n",
       "      <td>[76, 34, 41, 38]</td>\n",
       "      <td>310.2</td>\n",
       "    </tr>\n",
       "    <tr>\n",
       "      <th>4</th>\n",
       "      <td>967</td>\n",
       "      <td>1259</td>\n",
       "      <td>create_order</td>\n",
       "      <td>2022-08-26</td>\n",
       "      <td>1</td>\n",
       "      <td>2022-08-26 00:03:37</td>\n",
       "      <td>[20, 45, 67, 26]</td>\n",
       "      <td>228.0</td>\n",
       "    </tr>\n",
       "    <tr>\n",
       "      <th>5</th>\n",
       "      <td>968</td>\n",
       "      <td>1261</td>\n",
       "      <td>create_order</td>\n",
       "      <td>2022-08-26</td>\n",
       "      <td>0</td>\n",
       "      <td>2022-08-26 00:05:35</td>\n",
       "      <td>[30, 35, 69, 6]</td>\n",
       "      <td>430.7</td>\n",
       "    </tr>\n",
       "    <tr>\n",
       "      <th>...</th>\n",
       "      <td>...</td>\n",
       "      <td>...</td>\n",
       "      <td>...</td>\n",
       "      <td>...</td>\n",
       "      <td>...</td>\n",
       "      <td>...</td>\n",
       "      <td>...</td>\n",
       "      <td>...</td>\n",
       "    </tr>\n",
       "    <tr>\n",
       "      <th>4332</th>\n",
       "      <td>990</td>\n",
       "      <td>59422</td>\n",
       "      <td>create_order</td>\n",
       "      <td>2022-09-08</td>\n",
       "      <td>1</td>\n",
       "      <td>2022-09-08 23:13:03</td>\n",
       "      <td>[84, 8, 24]</td>\n",
       "      <td>241.2</td>\n",
       "    </tr>\n",
       "    <tr>\n",
       "      <th>4333</th>\n",
       "      <td>1418</td>\n",
       "      <td>59439</td>\n",
       "      <td>create_order</td>\n",
       "      <td>2022-09-08</td>\n",
       "      <td>1</td>\n",
       "      <td>2022-09-08 23:18:05</td>\n",
       "      <td>[9, 25, 75, 30, 6]</td>\n",
       "      <td>518.5</td>\n",
       "    </tr>\n",
       "    <tr>\n",
       "      <th>4334</th>\n",
       "      <td>1605</td>\n",
       "      <td>59464</td>\n",
       "      <td>create_order</td>\n",
       "      <td>2022-09-08</td>\n",
       "      <td>0</td>\n",
       "      <td>2022-09-08 23:22:27</td>\n",
       "      <td>[60, 41, 46]</td>\n",
       "      <td>185.9</td>\n",
       "    </tr>\n",
       "    <tr>\n",
       "      <th>4335</th>\n",
       "      <td>1461</td>\n",
       "      <td>59487</td>\n",
       "      <td>create_order</td>\n",
       "      <td>2022-09-08</td>\n",
       "      <td>0</td>\n",
       "      <td>2022-09-08 23:29:06</td>\n",
       "      <td>[9, 62, 77]</td>\n",
       "      <td>501.9</td>\n",
       "    </tr>\n",
       "    <tr>\n",
       "      <th>4336</th>\n",
       "      <td>1376</td>\n",
       "      <td>59533</td>\n",
       "      <td>create_order</td>\n",
       "      <td>2022-09-08</td>\n",
       "      <td>0</td>\n",
       "      <td>2022-09-08 23:41:24</td>\n",
       "      <td>[17, 85]</td>\n",
       "      <td>390.3</td>\n",
       "    </tr>\n",
       "  </tbody>\n",
       "</table>\n",
       "<p>3909 rows × 8 columns</p>\n",
       "</div>"
      ],
      "text/plain": [
       "      user_id  order_id        action       date  group       creation_time  \\\n",
       "0         964      1255  create_order 2022-08-26      0 2022-08-26 00:00:19   \n",
       "1         965      1256  create_order 2022-08-26      1 2022-08-26 00:02:21   \n",
       "2         964      1257  create_order 2022-08-26      0 2022-08-26 00:02:27   \n",
       "4         967      1259  create_order 2022-08-26      1 2022-08-26 00:03:37   \n",
       "5         968      1261  create_order 2022-08-26      0 2022-08-26 00:05:35   \n",
       "...       ...       ...           ...        ...    ...                 ...   \n",
       "4332      990     59422  create_order 2022-09-08      1 2022-09-08 23:13:03   \n",
       "4333     1418     59439  create_order 2022-09-08      1 2022-09-08 23:18:05   \n",
       "4334     1605     59464  create_order 2022-09-08      0 2022-09-08 23:22:27   \n",
       "4335     1461     59487  create_order 2022-09-08      0 2022-09-08 23:29:06   \n",
       "4336     1376     59533  create_order 2022-09-08      0 2022-09-08 23:41:24   \n",
       "\n",
       "         product_ids_str  total_price  \n",
       "0       [75, 22, 53, 84]        408.7  \n",
       "1           [56, 76, 39]        250.5  \n",
       "2       [76, 34, 41, 38]        310.2  \n",
       "4       [20, 45, 67, 26]        228.0  \n",
       "5        [30, 35, 69, 6]        430.7  \n",
       "...                  ...          ...  \n",
       "4332         [84, 8, 24]        241.2  \n",
       "4333  [9, 25, 75, 30, 6]        518.5  \n",
       "4334        [60, 41, 46]        185.9  \n",
       "4335         [9, 62, 77]        501.9  \n",
       "4336            [17, 85]        390.3  \n",
       "\n",
       "[3909 rows x 8 columns]"
      ]
     },
     "execution_count": 18,
     "metadata": {},
     "output_type": "execute_result"
    }
   ],
   "source": [
    "users_orders_no_cancel['total_price'] = users_orders_no_cancel.apply(lambda x: calc_total_price(x, product_dict), axis=1)\n",
    "\n",
    "users_orders_no_cancel"
   ]
  },
  {
   "cell_type": "code",
   "execution_count": 19,
   "id": "cbcafaa7",
   "metadata": {},
   "outputs": [
    {
     "data": {
      "text/html": [
       "<div>\n",
       "<style scoped>\n",
       "    .dataframe tbody tr th:only-of-type {\n",
       "        vertical-align: middle;\n",
       "    }\n",
       "\n",
       "    .dataframe tbody tr th {\n",
       "        vertical-align: top;\n",
       "    }\n",
       "\n",
       "    .dataframe thead th {\n",
       "        text-align: right;\n",
       "    }\n",
       "</style>\n",
       "<table border=\"1\" class=\"dataframe\">\n",
       "  <thead>\n",
       "    <tr style=\"text-align: right;\">\n",
       "      <th></th>\n",
       "      <th>user_id</th>\n",
       "      <th>group</th>\n",
       "      <th>total_price</th>\n",
       "    </tr>\n",
       "  </thead>\n",
       "  <tbody>\n",
       "    <tr>\n",
       "      <th>0</th>\n",
       "      <td>964</td>\n",
       "      <td>0</td>\n",
       "      <td>359.450000</td>\n",
       "    </tr>\n",
       "    <tr>\n",
       "      <th>1</th>\n",
       "      <td>965</td>\n",
       "      <td>1</td>\n",
       "      <td>461.722222</td>\n",
       "    </tr>\n",
       "    <tr>\n",
       "      <th>2</th>\n",
       "      <td>967</td>\n",
       "      <td>1</td>\n",
       "      <td>227.480000</td>\n",
       "    </tr>\n",
       "    <tr>\n",
       "      <th>3</th>\n",
       "      <td>968</td>\n",
       "      <td>0</td>\n",
       "      <td>530.233333</td>\n",
       "    </tr>\n",
       "    <tr>\n",
       "      <th>4</th>\n",
       "      <td>969</td>\n",
       "      <td>0</td>\n",
       "      <td>340.950000</td>\n",
       "    </tr>\n",
       "    <tr>\n",
       "      <th>...</th>\n",
       "      <td>...</td>\n",
       "      <td>...</td>\n",
       "      <td>...</td>\n",
       "    </tr>\n",
       "    <tr>\n",
       "      <th>1008</th>\n",
       "      <td>1976</td>\n",
       "      <td>1</td>\n",
       "      <td>400.380000</td>\n",
       "    </tr>\n",
       "    <tr>\n",
       "      <th>1009</th>\n",
       "      <td>1977</td>\n",
       "      <td>1</td>\n",
       "      <td>195.300000</td>\n",
       "    </tr>\n",
       "    <tr>\n",
       "      <th>1010</th>\n",
       "      <td>1978</td>\n",
       "      <td>1</td>\n",
       "      <td>379.383333</td>\n",
       "    </tr>\n",
       "    <tr>\n",
       "      <th>1011</th>\n",
       "      <td>1979</td>\n",
       "      <td>1</td>\n",
       "      <td>381.420000</td>\n",
       "    </tr>\n",
       "    <tr>\n",
       "      <th>1012</th>\n",
       "      <td>1980</td>\n",
       "      <td>1</td>\n",
       "      <td>353.700000</td>\n",
       "    </tr>\n",
       "  </tbody>\n",
       "</table>\n",
       "<p>1013 rows × 3 columns</p>\n",
       "</div>"
      ],
      "text/plain": [
       "      user_id  group  total_price\n",
       "0         964      0   359.450000\n",
       "1         965      1   461.722222\n",
       "2         967      1   227.480000\n",
       "3         968      0   530.233333\n",
       "4         969      0   340.950000\n",
       "...       ...    ...          ...\n",
       "1008     1976      1   400.380000\n",
       "1009     1977      1   195.300000\n",
       "1010     1978      1   379.383333\n",
       "1011     1979      1   381.420000\n",
       "1012     1980      1   353.700000\n",
       "\n",
       "[1013 rows x 3 columns]"
      ]
     },
     "execution_count": 19,
     "metadata": {},
     "output_type": "execute_result"
    }
   ],
   "source": [
    "df_mean_price = users_orders_no_cancel.groupby(['user_id', 'group'], as_index=False).agg({'total_price':'mean'})\n",
    "df_mean_price"
   ]
  },
  {
   "cell_type": "markdown",
   "id": "39927ec2",
   "metadata": {},
   "source": [
    "В качестве метрики будем использовать Average Order value. Средний чек для покупок.\n",
    "Для начала разделим датафрейм на контрольную и тестовую группу."
   ]
  },
  {
   "cell_type": "code",
   "execution_count": 20,
   "id": "3df53d40",
   "metadata": {},
   "outputs": [
    {
     "data": {
      "text/html": [
       "<div>\n",
       "<style scoped>\n",
       "    .dataframe tbody tr th:only-of-type {\n",
       "        vertical-align: middle;\n",
       "    }\n",
       "\n",
       "    .dataframe tbody tr th {\n",
       "        vertical-align: top;\n",
       "    }\n",
       "\n",
       "    .dataframe thead th {\n",
       "        text-align: right;\n",
       "    }\n",
       "</style>\n",
       "<table border=\"1\" class=\"dataframe\">\n",
       "  <thead>\n",
       "    <tr style=\"text-align: right;\">\n",
       "      <th></th>\n",
       "      <th>user_id</th>\n",
       "      <th>group</th>\n",
       "      <th>total_price</th>\n",
       "    </tr>\n",
       "  </thead>\n",
       "  <tbody>\n",
       "    <tr>\n",
       "      <th>0</th>\n",
       "      <td>964</td>\n",
       "      <td>0</td>\n",
       "      <td>359.450000</td>\n",
       "    </tr>\n",
       "    <tr>\n",
       "      <th>3</th>\n",
       "      <td>968</td>\n",
       "      <td>0</td>\n",
       "      <td>530.233333</td>\n",
       "    </tr>\n",
       "    <tr>\n",
       "      <th>4</th>\n",
       "      <td>969</td>\n",
       "      <td>0</td>\n",
       "      <td>340.950000</td>\n",
       "    </tr>\n",
       "    <tr>\n",
       "      <th>7</th>\n",
       "      <td>972</td>\n",
       "      <td>0</td>\n",
       "      <td>546.400000</td>\n",
       "    </tr>\n",
       "    <tr>\n",
       "      <th>10</th>\n",
       "      <td>975</td>\n",
       "      <td>0</td>\n",
       "      <td>716.450000</td>\n",
       "    </tr>\n",
       "  </tbody>\n",
       "</table>\n",
       "</div>"
      ],
      "text/plain": [
       "    user_id  group  total_price\n",
       "0       964      0   359.450000\n",
       "3       968      0   530.233333\n",
       "4       969      0   340.950000\n",
       "7       972      0   546.400000\n",
       "10      975      0   716.450000"
      ]
     },
     "execution_count": 20,
     "metadata": {},
     "output_type": "execute_result"
    }
   ],
   "source": [
    "df_control = df_mean_price.query('group == 0')\n",
    "df_control.head()"
   ]
  },
  {
   "cell_type": "code",
   "execution_count": 21,
   "id": "86e38225",
   "metadata": {},
   "outputs": [
    {
     "data": {
      "text/html": [
       "<div>\n",
       "<style scoped>\n",
       "    .dataframe tbody tr th:only-of-type {\n",
       "        vertical-align: middle;\n",
       "    }\n",
       "\n",
       "    .dataframe tbody tr th {\n",
       "        vertical-align: top;\n",
       "    }\n",
       "\n",
       "    .dataframe thead th {\n",
       "        text-align: right;\n",
       "    }\n",
       "</style>\n",
       "<table border=\"1\" class=\"dataframe\">\n",
       "  <thead>\n",
       "    <tr style=\"text-align: right;\">\n",
       "      <th></th>\n",
       "      <th>user_id</th>\n",
       "      <th>group</th>\n",
       "      <th>total_price</th>\n",
       "    </tr>\n",
       "  </thead>\n",
       "  <tbody>\n",
       "    <tr>\n",
       "      <th>1</th>\n",
       "      <td>965</td>\n",
       "      <td>1</td>\n",
       "      <td>461.722222</td>\n",
       "    </tr>\n",
       "    <tr>\n",
       "      <th>2</th>\n",
       "      <td>967</td>\n",
       "      <td>1</td>\n",
       "      <td>227.480000</td>\n",
       "    </tr>\n",
       "    <tr>\n",
       "      <th>5</th>\n",
       "      <td>970</td>\n",
       "      <td>1</td>\n",
       "      <td>401.400000</td>\n",
       "    </tr>\n",
       "    <tr>\n",
       "      <th>6</th>\n",
       "      <td>971</td>\n",
       "      <td>1</td>\n",
       "      <td>393.680000</td>\n",
       "    </tr>\n",
       "    <tr>\n",
       "      <th>8</th>\n",
       "      <td>973</td>\n",
       "      <td>1</td>\n",
       "      <td>428.600000</td>\n",
       "    </tr>\n",
       "  </tbody>\n",
       "</table>\n",
       "</div>"
      ],
      "text/plain": [
       "   user_id  group  total_price\n",
       "1      965      1   461.722222\n",
       "2      967      1   227.480000\n",
       "5      970      1   401.400000\n",
       "6      971      1   393.680000\n",
       "8      973      1   428.600000"
      ]
     },
     "execution_count": 21,
     "metadata": {},
     "output_type": "execute_result"
    }
   ],
   "source": [
    "df_test = df_mean_price.query('group == 1')\n",
    "df_test.head()"
   ]
  },
  {
   "cell_type": "code",
   "execution_count": 22,
   "id": "1aecfe5b",
   "metadata": {},
   "outputs": [
    {
     "name": "stdout",
     "output_type": "stream",
     "text": [
      "Средний чек в тестовой группе не стал больше, чем в контрольной, а значит новая система рекомендаций не работает.\n"
     ]
    }
   ],
   "source": [
    "aov_control = df_control.total_price.mean().round(2)\n",
    "aov_test = df_test.total_price.mean().round(2)\n",
    "if aov_test > aov_control:\n",
    "    print('Средний чек в тестовой группе больше, чем в контрольной, а значит новая система рекомендаций работает.')\n",
    "else:\n",
    "    print('Средний чек в тестовой группе не стал больше, чем в контрольной, а значит новая система рекомендаций не работает.')"
   ]
  },
  {
   "cell_type": "code",
   "execution_count": 23,
   "id": "52790ebf",
   "metadata": {},
   "outputs": [
    {
     "data": {
      "text/plain": [
       "<Axes: >"
      ]
     },
     "execution_count": 23,
     "metadata": {},
     "output_type": "execute_result"
    },
    {
     "data": {
      "image/png": "[encoded data removed]",
      "text/plain": [
       "<Figure size 640x480 with 1 Axes>"
      ]
     },
     "metadata": {},
     "output_type": "display_data"
    }
   ],
   "source": [
    "df_control.total_price.hist()"
   ]
  },
  {
   "cell_type": "code",
   "execution_count": 24,
   "id": "ad2568b1",
   "metadata": {},
   "outputs": [
    {
     "data": {
      "text/plain": [
       "<Axes: >"
      ]
     },
     "execution_count": 24,
     "metadata": {},
     "output_type": "execute_result"
    },
    {
     "data": {
      "image/png": "[encoded data removed]",
      "text/plain": [
       "<Figure size 640x480 with 1 Axes>"
      ]
     },
     "metadata": {},
     "output_type": "display_data"
    }
   ],
   "source": [
    "df_test.total_price.hist()"
   ]
  },
  {
   "cell_type": "markdown",
   "id": "5cc9372d",
   "metadata": {},
   "source": [
    "Визуально видно, что обе выборки у нас не распределены нормально, но визуального теста не достаточно.\n",
    "Данные у нас количественные, более того, они дискретные, а значит необходимо проверить распределение на нормальность, сделать это можно через тест Шапиро-Уилка или через normaltest"
   ]
  },
  {
   "cell_type": "code",
   "execution_count": 25,
   "id": "1ef475eb",
   "metadata": {},
   "outputs": [
    {
     "name": "stdout",
     "output_type": "stream",
     "text": [
      "p_value = 2.0940003897518267e-10\n",
      "==============\n",
      "Отвергаем нулевую гипотезу в пользу альтернативной гипотезы, распределение значений не является нормальным.\n",
      "p_value = 2.5535374162388713e-11\n",
      "==============\n",
      "Отвергаем нулевую гипотезу в пользу альтернативной гипотезы, распределение значений не является нормальным.\n"
     ]
    }
   ],
   "source": [
    "for sample in (df_test.total_price, df_control.total_price):\n",
    "  p_value_norm = shapiro(sample).pvalue\n",
    "  print(f'p_value = {p_value_norm}')\n",
    "  print('==============')\n",
    "\n",
    "  if (p_value_norm < 0.05):\n",
    "      print(\"Отвергаем нулевую гипотезу в пользу альтернативной гипотезы, распределение значений не является нормальным.\")\n",
    "  else:\n",
    "      print(\"Нулевая гипотеза не отвергается. Данные распределены по нормальному закону.\")"
   ]
  },
  {
   "cell_type": "code",
   "execution_count": 26,
   "id": "3c3345c3",
   "metadata": {},
   "outputs": [],
   "source": [
    "#stats.shapiro(df_control.total_price)"
   ]
  },
  {
   "cell_type": "code",
   "execution_count": 27,
   "id": "9577047f",
   "metadata": {},
   "outputs": [],
   "source": [
    "#stats.shapiro(df_test.total_price)"
   ]
  },
  {
   "cell_type": "code",
   "execution_count": 28,
   "id": "7718bfb0",
   "metadata": {},
   "outputs": [
    {
     "data": {
      "text/html": [
       "<div>\n",
       "<style scoped>\n",
       "    .dataframe tbody tr th:only-of-type {\n",
       "        vertical-align: middle;\n",
       "    }\n",
       "\n",
       "    .dataframe tbody tr th {\n",
       "        vertical-align: top;\n",
       "    }\n",
       "\n",
       "    .dataframe thead th {\n",
       "        text-align: right;\n",
       "    }\n",
       "</style>\n",
       "<table border=\"1\" class=\"dataframe\">\n",
       "  <thead>\n",
       "    <tr style=\"text-align: right;\">\n",
       "      <th></th>\n",
       "      <th>W</th>\n",
       "      <th>pval</th>\n",
       "      <th>normal</th>\n",
       "    </tr>\n",
       "    <tr>\n",
       "      <th>group</th>\n",
       "      <th></th>\n",
       "      <th></th>\n",
       "      <th></th>\n",
       "    </tr>\n",
       "  </thead>\n",
       "  <tbody>\n",
       "    <tr>\n",
       "      <th>0</th>\n",
       "      <td>82.503208</td>\n",
       "      <td>1.215223e-18</td>\n",
       "      <td>False</td>\n",
       "    </tr>\n",
       "    <tr>\n",
       "      <th>1</th>\n",
       "      <td>71.621174</td>\n",
       "      <td>2.803236e-16</td>\n",
       "      <td>False</td>\n",
       "    </tr>\n",
       "  </tbody>\n",
       "</table>\n",
       "</div>"
      ],
      "text/plain": [
       "               W          pval  normal\n",
       "group                                 \n",
       "0      82.503208  1.215223e-18   False\n",
       "1      71.621174  2.803236e-16   False"
      ]
     },
     "execution_count": 28,
     "metadata": {},
     "output_type": "execute_result"
    }
   ],
   "source": [
    "pingouin.normality(data=df_mean_price, dv=\"total_price\", \n",
    "                   group=\"group\", method=\"normaltest\")"
   ]
  },
  {
   "cell_type": "markdown",
   "id": "ae0ce424",
   "metadata": {},
   "source": [
    "normaltest подтверждает информацию о ненормальности распределений."
   ]
  },
  {
   "cell_type": "code",
   "execution_count": 29,
   "id": "91a4a6e6",
   "metadata": {},
   "outputs": [
    {
     "data": {
      "image/png": "[encoded data removed]",
      "text/plain": [
       "<Figure size 640x480 with 1 Axes>"
      ]
     },
     "metadata": {},
     "output_type": "display_data"
    }
   ],
   "source": [
    "sm.qqplot(df_control.total_price, line='s')\n",
    "plt.show()"
   ]
  },
  {
   "cell_type": "code",
   "execution_count": 30,
   "id": "7c02b5e7",
   "metadata": {},
   "outputs": [
    {
     "data": {
      "image/png": "[encoded data removed]",
      "text/plain": [
       "<Figure size 640x480 with 1 Axes>"
      ]
     },
     "metadata": {},
     "output_type": "display_data"
    }
   ],
   "source": [
    "sm.qqplot(df_test.total_price, line='s')\n",
    "plt.show()"
   ]
  },
  {
   "cell_type": "markdown",
   "id": "0b65321a",
   "metadata": {},
   "source": [
    "Посмотреть актуальность размера выборок мы не можем, т.к. мы не знаем размер ожидаемого эффекта и поэтому не можем рассчитать MDE."
   ]
  },
  {
   "cell_type": "code",
   "execution_count": 31,
   "id": "5319289d",
   "metadata": {},
   "outputs": [
    {
     "data": {
      "text/plain": [
       "512"
      ]
     },
     "execution_count": 31,
     "metadata": {},
     "output_type": "execute_result"
    }
   ],
   "source": [
    "df_control.total_price.shape[0]"
   ]
  },
  {
   "cell_type": "code",
   "execution_count": 32,
   "id": "a2d71e3f",
   "metadata": {},
   "outputs": [
    {
     "data": {
      "text/plain": [
       "501"
      ]
     },
     "execution_count": 32,
     "metadata": {},
     "output_type": "execute_result"
    }
   ],
   "source": [
    "df_test.total_price.shape[0]"
   ]
  },
  {
   "cell_type": "markdown",
   "id": "48b27dc0",
   "metadata": {},
   "source": [
    "У нас в наличии ненормальное распределение у двух независимых групп дискретных данных, поэтому используем критерий Манна-Уитни."
   ]
  },
  {
   "cell_type": "code",
   "execution_count": 33,
   "id": "82ad2fdf",
   "metadata": {},
   "outputs": [
    {
     "data": {
      "text/plain": [
       "MannwhitneyuResult(statistic=130986.5, pvalue=0.2788094919425952)"
      ]
     },
     "execution_count": 33,
     "metadata": {},
     "output_type": "execute_result"
    }
   ],
   "source": [
    "stats. mannwhitneyu (df_control.total_price, df_test.total_price, alternative='greater')"
   ]
  },
  {
   "cell_type": "code",
   "execution_count": 79,
   "id": "576c5186",
   "metadata": {},
   "outputs": [
    {
     "name": "stdout",
     "output_type": "stream",
     "text": [
      "p-value = 0.2788\n",
      "===========================\n",
      "Нулевая гипотеза не отвергается и статзначимых различий в группах нет.\n"
     ]
    }
   ],
   "source": [
    "mannwhitneyu_res = mannwhitneyu(df_control.total_price, df_test.total_price, alternative='greater')\n",
    "\n",
    "print(f'p-value = {round(mannwhitneyu_res.pvalue, 4)}')\n",
    "print('===========================')\n",
    "\n",
    "if round(mannwhitneyu_res.pvalue, 4) < 0.05:\n",
    "    print(\"Отвергаем нулевую гипотезу в пользу альтернативной гипотезы, имеются статзначимые ризличия в группах.\")\n",
    "else:\n",
    "    print(\"Нулевая гипотеза не отвергается и статзначимых различий в группах нет.\")"
   ]
  },
  {
   "cell_type": "code",
   "execution_count": 35,
   "id": "7276991c",
   "metadata": {},
   "outputs": [
    {
     "data": {
      "text/plain": [
       "Ttest_indResult(statistic=1.5407052777251002, pvalue=0.061850724942615336)"
      ]
     },
     "execution_count": 35,
     "metadata": {},
     "output_type": "execute_result"
    }
   ],
   "source": [
    "ttest_ind(df_control.total_price, df_test.total_price, alternative = 'greater')"
   ]
  },
  {
   "cell_type": "code",
   "execution_count": 36,
   "id": "20126f50",
   "metadata": {},
   "outputs": [
    {
     "name": "stdout",
     "output_type": "stream",
     "text": [
      "p-value = 0.0619\n",
      "===========================\n",
      "Нулевая гипотеза не отвергается и статзначимых различий в группах нет.\n"
     ]
    }
   ],
   "source": [
    "alpha = 0.05\n",
    "results = ttest_ind(\n",
    "    df_control.total_price, \n",
    "    df_test.total_price,\n",
    "    alternative='greater') #‘greater’: среднее значение распределения, лежащего в основе первой выборки, больше среднего значения распределения, лежащего в основе второй выборки.\n",
    "\n",
    "print(f'p-value = {round(results.pvalue, 4)}')\n",
    "print('===========================')\n",
    "\n",
    "if round(results.pvalue, 4) < alpha:\n",
    "    print(\"Отвергаем нулевую гипотезу в пользу альтернативной гипотезы, имеются статзначимые ризличия в группах.\")\n",
    "else:\n",
    "    print(\"Нулевая гипотеза не отвергается и статзначимых различий в группах нет.\")"
   ]
  },
  {
   "cell_type": "markdown",
   "id": "2270e87e",
   "metadata": {},
   "source": [
    "В таком случае попробуем исследовать как изменилось среднее количество товаров в заказе на каждого пользователя и среднее количество заказов на каждого пользователя. Датасет с убранными данными по отмененным заказам у нас есть, воспользуемся им."
   ]
  },
  {
   "cell_type": "code",
   "execution_count": 37,
   "id": "4a0b81c6",
   "metadata": {},
   "outputs": [
    {
     "data": {
      "text/html": [
       "<div>\n",
       "<style scoped>\n",
       "    .dataframe tbody tr th:only-of-type {\n",
       "        vertical-align: middle;\n",
       "    }\n",
       "\n",
       "    .dataframe tbody tr th {\n",
       "        vertical-align: top;\n",
       "    }\n",
       "\n",
       "    .dataframe thead th {\n",
       "        text-align: right;\n",
       "    }\n",
       "</style>\n",
       "<table border=\"1\" class=\"dataframe\">\n",
       "  <thead>\n",
       "    <tr style=\"text-align: right;\">\n",
       "      <th></th>\n",
       "      <th>user_id</th>\n",
       "      <th>order_id</th>\n",
       "      <th>action</th>\n",
       "      <th>date</th>\n",
       "      <th>group</th>\n",
       "      <th>creation_time</th>\n",
       "      <th>product_ids_str</th>\n",
       "      <th>total_price</th>\n",
       "    </tr>\n",
       "  </thead>\n",
       "  <tbody>\n",
       "    <tr>\n",
       "      <th>0</th>\n",
       "      <td>964</td>\n",
       "      <td>1255</td>\n",
       "      <td>create_order</td>\n",
       "      <td>2022-08-26</td>\n",
       "      <td>0</td>\n",
       "      <td>2022-08-26 00:00:19</td>\n",
       "      <td>[75, 22, 53, 84]</td>\n",
       "      <td>408.7</td>\n",
       "    </tr>\n",
       "    <tr>\n",
       "      <th>1</th>\n",
       "      <td>965</td>\n",
       "      <td>1256</td>\n",
       "      <td>create_order</td>\n",
       "      <td>2022-08-26</td>\n",
       "      <td>1</td>\n",
       "      <td>2022-08-26 00:02:21</td>\n",
       "      <td>[56, 76, 39]</td>\n",
       "      <td>250.5</td>\n",
       "    </tr>\n",
       "  </tbody>\n",
       "</table>\n",
       "</div>"
      ],
      "text/plain": [
       "   user_id  order_id        action       date  group       creation_time  \\\n",
       "0      964      1255  create_order 2022-08-26      0 2022-08-26 00:00:19   \n",
       "1      965      1256  create_order 2022-08-26      1 2022-08-26 00:02:21   \n",
       "\n",
       "    product_ids_str  total_price  \n",
       "0  [75, 22, 53, 84]        408.7  \n",
       "1      [56, 76, 39]        250.5  "
      ]
     },
     "execution_count": 37,
     "metadata": {},
     "output_type": "execute_result"
    }
   ],
   "source": [
    "users_orders_no_cancel.head(2)"
   ]
  },
  {
   "cell_type": "markdown",
   "id": "db5a4897",
   "metadata": {},
   "source": [
    "Сначала посмотрим среднее количество заказов на каждого пользователя в контрольной и тестовой группе."
   ]
  },
  {
   "cell_type": "code",
   "execution_count": 38,
   "id": "da2dd142",
   "metadata": {},
   "outputs": [
    {
     "data": {
      "text/plain": [
       "order_id    2.982422\n",
       "dtype: float64"
      ]
     },
     "execution_count": 38,
     "metadata": {},
     "output_type": "execute_result"
    }
   ],
   "source": [
    "df_control_orders_count = users_orders_no_cancel.query('group == 0').groupby('user_id').agg({'order_id':'count'})\n",
    "df_control_orders_count.mean()"
   ]
  },
  {
   "cell_type": "code",
   "execution_count": 39,
   "id": "86b93115",
   "metadata": {},
   "outputs": [
    {
     "data": {
      "text/plain": [
       "order_id    4.754491\n",
       "dtype: float64"
      ]
     },
     "execution_count": 39,
     "metadata": {},
     "output_type": "execute_result"
    }
   ],
   "source": [
    "df_test_orders_count = users_orders_no_cancel.query('group == 1').groupby('user_id').agg({'order_id':'count'})\n",
    "df_test_orders_count.mean()"
   ]
  },
  {
   "cell_type": "markdown",
   "id": "e45d9f94",
   "metadata": {},
   "source": [
    "Необходимо проверить нормальность распределения выборок."
   ]
  },
  {
   "cell_type": "code",
   "execution_count": 40,
   "id": "d25266ca",
   "metadata": {},
   "outputs": [
    {
     "data": {
      "text/plain": [
       "array([[<Axes: title={'center': 'order_id'}>]], dtype=object)"
      ]
     },
     "execution_count": 40,
     "metadata": {},
     "output_type": "execute_result"
    },
    {
     "data": {
      "image/png": "[encoded data removed]",
      "text/plain": [
       "<Figure size 640x480 with 1 Axes>"
      ]
     },
     "metadata": {},
     "output_type": "display_data"
    }
   ],
   "source": [
    "df_control_orders_count.hist()"
   ]
  },
  {
   "cell_type": "code",
   "execution_count": 41,
   "id": "9dce94e3",
   "metadata": {},
   "outputs": [
    {
     "data": {
      "text/plain": [
       "array([[<Axes: title={'center': 'order_id'}>]], dtype=object)"
      ]
     },
     "execution_count": 41,
     "metadata": {},
     "output_type": "execute_result"
    },
    {
     "data": {
      "image/png": "[encoded data removed]",
      "text/plain": [
       "<Figure size 640x480 with 1 Axes>"
      ]
     },
     "metadata": {},
     "output_type": "display_data"
    }
   ],
   "source": [
    "df_test_orders_count.hist()"
   ]
  },
  {
   "cell_type": "code",
   "execution_count": 42,
   "id": "1f95f05e",
   "metadata": {},
   "outputs": [
    {
     "name": "stdout",
     "output_type": "stream",
     "text": [
      "p_value = 7.854406014473625e-10\n",
      "==============\n",
      "Отвергаем нулевую гипотезу в пользу альтернативной гипотезы, распределение значений не является нормальным.\n",
      "p_value = 4.7130800860460576e-23\n",
      "==============\n",
      "Отвергаем нулевую гипотезу в пользу альтернативной гипотезы, распределение значений не является нормальным.\n"
     ]
    }
   ],
   "source": [
    "for sample in (df_test_orders_count, df_control_orders_count):\n",
    "  p_value_norm = shapiro(sample).pvalue\n",
    "  print(f'p_value = {p_value_norm}')\n",
    "  print('==============')\n",
    "\n",
    "  if (p_value_norm < 0.05):\n",
    "      print(\"Отвергаем нулевую гипотезу в пользу альтернативной гипотезы, распределение значений не является нормальным.\")\n",
    "  else:\n",
    "      print(\"Нулевая гипотеза не отвергается. Данные распределены по нормальному закону.\")"
   ]
  },
  {
   "cell_type": "code",
   "execution_count": 43,
   "id": "185840e7",
   "metadata": {},
   "outputs": [
    {
     "data": {
      "text/html": [
       "<div>\n",
       "<style scoped>\n",
       "    .dataframe tbody tr th:only-of-type {\n",
       "        vertical-align: middle;\n",
       "    }\n",
       "\n",
       "    .dataframe tbody tr th {\n",
       "        vertical-align: top;\n",
       "    }\n",
       "\n",
       "    .dataframe thead th {\n",
       "        text-align: right;\n",
       "    }\n",
       "</style>\n",
       "<table border=\"1\" class=\"dataframe\">\n",
       "  <thead>\n",
       "    <tr style=\"text-align: right;\">\n",
       "      <th></th>\n",
       "      <th>W</th>\n",
       "      <th>pval</th>\n",
       "      <th>normal</th>\n",
       "    </tr>\n",
       "  </thead>\n",
       "  <tbody>\n",
       "    <tr>\n",
       "      <th>order_id</th>\n",
       "      <td>17.210719</td>\n",
       "      <td>0.000183</td>\n",
       "      <td>False</td>\n",
       "    </tr>\n",
       "  </tbody>\n",
       "</table>\n",
       "</div>"
      ],
      "text/plain": [
       "                  W      pval  normal\n",
       "order_id  17.210719  0.000183   False"
      ]
     },
     "execution_count": 43,
     "metadata": {},
     "output_type": "execute_result"
    }
   ],
   "source": [
    "pingouin.normality(data=df_test_orders_count, method=\"normaltest\")"
   ]
  },
  {
   "cell_type": "code",
   "execution_count": 44,
   "id": "0ae4a1bd",
   "metadata": {},
   "outputs": [
    {
     "data": {
      "text/html": [
       "<div>\n",
       "<style scoped>\n",
       "    .dataframe tbody tr th:only-of-type {\n",
       "        vertical-align: middle;\n",
       "    }\n",
       "\n",
       "    .dataframe tbody tr th {\n",
       "        vertical-align: top;\n",
       "    }\n",
       "\n",
       "    .dataframe thead th {\n",
       "        text-align: right;\n",
       "    }\n",
       "</style>\n",
       "<table border=\"1\" class=\"dataframe\">\n",
       "  <thead>\n",
       "    <tr style=\"text-align: right;\">\n",
       "      <th></th>\n",
       "      <th>W</th>\n",
       "      <th>pval</th>\n",
       "      <th>normal</th>\n",
       "    </tr>\n",
       "  </thead>\n",
       "  <tbody>\n",
       "    <tr>\n",
       "      <th>order_id</th>\n",
       "      <td>178.266627</td>\n",
       "      <td>1.949368e-39</td>\n",
       "      <td>False</td>\n",
       "    </tr>\n",
       "  </tbody>\n",
       "</table>\n",
       "</div>"
      ],
      "text/plain": [
       "                   W          pval  normal\n",
       "order_id  178.266627  1.949368e-39   False"
      ]
     },
     "execution_count": 44,
     "metadata": {},
     "output_type": "execute_result"
    }
   ],
   "source": [
    "pingouin.normality(data=df_control_orders_count, method=\"normaltest\")"
   ]
  },
  {
   "cell_type": "markdown",
   "id": "b61cf0a5",
   "metadata": {},
   "source": [
    "Распределние у нас не имеет нормального вида в обеих выборках, и данные количественные в двух независимых выборках. Возьмем Критерий Манна Уитни и продублируем критерием Стьюдента."
   ]
  },
  {
   "cell_type": "code",
   "execution_count": 45,
   "id": "ef030cf4",
   "metadata": {},
   "outputs": [],
   "source": [
    "df_control_orders_count = df_control_orders_count.reset_index(drop= True )"
   ]
  },
  {
   "cell_type": "code",
   "execution_count": 46,
   "id": "8bb21e63",
   "metadata": {},
   "outputs": [
    {
     "data": {
      "text/html": [
       "<div>\n",
       "<style scoped>\n",
       "    .dataframe tbody tr th:only-of-type {\n",
       "        vertical-align: middle;\n",
       "    }\n",
       "\n",
       "    .dataframe tbody tr th {\n",
       "        vertical-align: top;\n",
       "    }\n",
       "\n",
       "    .dataframe thead th {\n",
       "        text-align: right;\n",
       "    }\n",
       "</style>\n",
       "<table border=\"1\" class=\"dataframe\">\n",
       "  <thead>\n",
       "    <tr style=\"text-align: right;\">\n",
       "      <th></th>\n",
       "      <th>order_id</th>\n",
       "    </tr>\n",
       "  </thead>\n",
       "  <tbody>\n",
       "    <tr>\n",
       "      <th>0</th>\n",
       "      <td>9</td>\n",
       "    </tr>\n",
       "    <tr>\n",
       "      <th>1</th>\n",
       "      <td>5</td>\n",
       "    </tr>\n",
       "    <tr>\n",
       "      <th>2</th>\n",
       "      <td>2</td>\n",
       "    </tr>\n",
       "    <tr>\n",
       "      <th>3</th>\n",
       "      <td>5</td>\n",
       "    </tr>\n",
       "    <tr>\n",
       "      <th>4</th>\n",
       "      <td>3</td>\n",
       "    </tr>\n",
       "    <tr>\n",
       "      <th>...</th>\n",
       "      <td>...</td>\n",
       "    </tr>\n",
       "    <tr>\n",
       "      <th>496</th>\n",
       "      <td>5</td>\n",
       "    </tr>\n",
       "    <tr>\n",
       "      <th>497</th>\n",
       "      <td>4</td>\n",
       "    </tr>\n",
       "    <tr>\n",
       "      <th>498</th>\n",
       "      <td>6</td>\n",
       "    </tr>\n",
       "    <tr>\n",
       "      <th>499</th>\n",
       "      <td>5</td>\n",
       "    </tr>\n",
       "    <tr>\n",
       "      <th>500</th>\n",
       "      <td>7</td>\n",
       "    </tr>\n",
       "  </tbody>\n",
       "</table>\n",
       "<p>501 rows × 1 columns</p>\n",
       "</div>"
      ],
      "text/plain": [
       "     order_id\n",
       "0           9\n",
       "1           5\n",
       "2           2\n",
       "3           5\n",
       "4           3\n",
       "..        ...\n",
       "496         5\n",
       "497         4\n",
       "498         6\n",
       "499         5\n",
       "500         7\n",
       "\n",
       "[501 rows x 1 columns]"
      ]
     },
     "execution_count": 46,
     "metadata": {},
     "output_type": "execute_result"
    }
   ],
   "source": [
    "df_test_orders_count = df_test_orders_count.reset_index(drop= True )\n",
    "df_test_orders_count"
   ]
  },
  {
   "cell_type": "code",
   "execution_count": 62,
   "id": "36bb10db",
   "metadata": {},
   "outputs": [
    {
     "name": "stdout",
     "output_type": "stream",
     "text": [
      "Среднее количество заказов на каждого пользователя в контрольной группе 2.98\n",
      "Среднее количество заказов на каждого пользователя в тестовой группе 4.75\n"
     ]
    }
   ],
   "source": [
    "c_o_c = round(df_control_orders_count.mean().item(), 2)\n",
    "t_o_c = round(df_test_orders_count.mean().item(), 2)\n",
    "print(f'Среднее количество заказов на каждого пользователя в контрольной группе {c_o_c}')\n",
    "print(f'Среднее количество заказов на каждого пользователя в тестовой группе {t_o_c}')"
   ]
  },
  {
   "cell_type": "code",
   "execution_count": 78,
   "id": "cc739532",
   "metadata": {},
   "outputs": [
    {
     "name": "stdout",
     "output_type": "stream",
     "text": [
      "p-value = [6.09987599e-46]\n",
      "===========================\n",
      "Отвергаем нулевую гипотезу в пользу альтернативной гипотезы, имеются статзначимые ризличия в группах.\n"
     ]
    }
   ],
   "source": [
    "mannwhitneyu_res = mannwhitneyu(df_control_orders_count, df_test_orders_count, alternative='less')\n",
    "\n",
    "print(f'p-value = {mannwhitneyu_res.pvalue}')\n",
    "print('===========================')\n",
    "\n",
    "if mannwhitneyu_res.pvalue < 0.05:\n",
    "    print(\"Отвергаем нулевую гипотезу в пользу альтернативной гипотезы, имеются статзначимые ризличия в группах.\")\n",
    "else:\n",
    "    print(\"Нулевая гипотеза не отвергается и статзначимых различий в группах нет.\")"
   ]
  },
  {
   "cell_type": "code",
   "execution_count": 48,
   "id": "9c91f382",
   "metadata": {},
   "outputs": [
    {
     "name": "stdout",
     "output_type": "stream",
     "text": [
      "p-value = [4.21538866e-41]\n",
      "===========================\n",
      "Отвергаем нулевую гипотезу в пользу альтернативной гипотезы, имеются статзначимые ризличия в группах.\n"
     ]
    }
   ],
   "source": [
    "alpha = 0.05\n",
    "results = ttest_ind(\n",
    "    df_control_orders_count, \n",
    "    df_test_orders_count,\n",
    "    alternative='less') #‘less’: среднее значение распределения, лежащего в основе первой выборки, меньше среднего значения распределения, лежащего в основе второй выборки.\n",
    "\n",
    "print(f'p-value = {results.pvalue}')\n",
    "print('===========================')\n",
    "\n",
    "if results.pvalue < alpha:\n",
    "    print(\"Отвергаем нулевую гипотезу в пользу альтернативной гипотезы, имеются статзначимые ризличия в группах.\")\n",
    "else:\n",
    "    print(\"Нулевая гипотеза не отвергается и статзначимых различий в группах нет.\")"
   ]
  },
  {
   "cell_type": "code",
   "execution_count": 49,
   "id": "3760253b",
   "metadata": {},
   "outputs": [
    {
     "name": "stdout",
     "output_type": "stream",
     "text": [
      "Новая система рекомендаций смогла принести пользу бизнесу и пользователям приложения. \n",
      "Стоит включать новую систему рекомендаций на всех пользователей. \n",
      "Среднее количество заказов на каждого пользователя в тестовой группе увеличилось и стало 4.75 \n",
      "в сравнении с контрольной группой, где было 2.98\n"
     ]
    }
   ],
   "source": [
    "c_o_c = round(df_control_orders_count.mean().item(), 2)\n",
    "t_o_c = round(df_test_orders_count.mean().item(), 2)\n",
    "if c_o_c < t_o_c:\n",
    "    print(f\"Новая система рекомендаций смогла принести пользу бизнесу и пользователям приложения. \\nСтоит включать новую систему рекомендаций на всех пользователей. \\nСреднее количество заказов на каждого пользователя в тестовой группе увеличилось и стало {t_o_c} \\nв сравнении с контрольной группой, где было {c_o_c}\")\n",
    "else:\n",
    "    print(f\"Новая система рекомендаций не смогла принести пользу бизнесу и пользователям приложения. \\nНе стоит включать новую систему рекомендаций на всех пользователей. \\nСреднее количество заказов на каждого пользователя в тестовой группе уменьшилось и стало {t_o_c} \\nв сравнении с контрольной группой, где было {c_o_c}\")"
   ]
  },
  {
   "cell_type": "markdown",
   "id": "6985c3af",
   "metadata": {},
   "source": [
    "Нам осталось сравнить среднее количество товаров в каждом чеке."
   ]
  },
  {
   "cell_type": "code",
   "execution_count": 50,
   "id": "0b3d296a",
   "metadata": {},
   "outputs": [
    {
     "data": {
      "text/html": [
       "<div>\n",
       "<style scoped>\n",
       "    .dataframe tbody tr th:only-of-type {\n",
       "        vertical-align: middle;\n",
       "    }\n",
       "\n",
       "    .dataframe tbody tr th {\n",
       "        vertical-align: top;\n",
       "    }\n",
       "\n",
       "    .dataframe thead th {\n",
       "        text-align: right;\n",
       "    }\n",
       "</style>\n",
       "<table border=\"1\" class=\"dataframe\">\n",
       "  <thead>\n",
       "    <tr style=\"text-align: right;\">\n",
       "      <th></th>\n",
       "      <th>user_id</th>\n",
       "      <th>order_id</th>\n",
       "      <th>action</th>\n",
       "      <th>date</th>\n",
       "      <th>group</th>\n",
       "      <th>creation_time</th>\n",
       "      <th>product_ids_str</th>\n",
       "      <th>total_price</th>\n",
       "    </tr>\n",
       "  </thead>\n",
       "  <tbody>\n",
       "    <tr>\n",
       "      <th>0</th>\n",
       "      <td>964</td>\n",
       "      <td>1255</td>\n",
       "      <td>create_order</td>\n",
       "      <td>2022-08-26</td>\n",
       "      <td>0</td>\n",
       "      <td>2022-08-26 00:00:19</td>\n",
       "      <td>75</td>\n",
       "      <td>408.7</td>\n",
       "    </tr>\n",
       "    <tr>\n",
       "      <th>1</th>\n",
       "      <td>964</td>\n",
       "      <td>1255</td>\n",
       "      <td>create_order</td>\n",
       "      <td>2022-08-26</td>\n",
       "      <td>0</td>\n",
       "      <td>2022-08-26 00:00:19</td>\n",
       "      <td>22</td>\n",
       "      <td>408.7</td>\n",
       "    </tr>\n",
       "    <tr>\n",
       "      <th>2</th>\n",
       "      <td>964</td>\n",
       "      <td>1255</td>\n",
       "      <td>create_order</td>\n",
       "      <td>2022-08-26</td>\n",
       "      <td>0</td>\n",
       "      <td>2022-08-26 00:00:19</td>\n",
       "      <td>53</td>\n",
       "      <td>408.7</td>\n",
       "    </tr>\n",
       "    <tr>\n",
       "      <th>3</th>\n",
       "      <td>964</td>\n",
       "      <td>1255</td>\n",
       "      <td>create_order</td>\n",
       "      <td>2022-08-26</td>\n",
       "      <td>0</td>\n",
       "      <td>2022-08-26 00:00:19</td>\n",
       "      <td>84</td>\n",
       "      <td>408.7</td>\n",
       "    </tr>\n",
       "    <tr>\n",
       "      <th>4</th>\n",
       "      <td>965</td>\n",
       "      <td>1256</td>\n",
       "      <td>create_order</td>\n",
       "      <td>2022-08-26</td>\n",
       "      <td>1</td>\n",
       "      <td>2022-08-26 00:02:21</td>\n",
       "      <td>56</td>\n",
       "      <td>250.5</td>\n",
       "    </tr>\n",
       "    <tr>\n",
       "      <th>...</th>\n",
       "      <td>...</td>\n",
       "      <td>...</td>\n",
       "      <td>...</td>\n",
       "      <td>...</td>\n",
       "      <td>...</td>\n",
       "      <td>...</td>\n",
       "      <td>...</td>\n",
       "      <td>...</td>\n",
       "    </tr>\n",
       "    <tr>\n",
       "      <th>13078</th>\n",
       "      <td>1461</td>\n",
       "      <td>59487</td>\n",
       "      <td>create_order</td>\n",
       "      <td>2022-09-08</td>\n",
       "      <td>0</td>\n",
       "      <td>2022-09-08 23:29:06</td>\n",
       "      <td>9</td>\n",
       "      <td>501.9</td>\n",
       "    </tr>\n",
       "    <tr>\n",
       "      <th>13079</th>\n",
       "      <td>1461</td>\n",
       "      <td>59487</td>\n",
       "      <td>create_order</td>\n",
       "      <td>2022-09-08</td>\n",
       "      <td>0</td>\n",
       "      <td>2022-09-08 23:29:06</td>\n",
       "      <td>62</td>\n",
       "      <td>501.9</td>\n",
       "    </tr>\n",
       "    <tr>\n",
       "      <th>13080</th>\n",
       "      <td>1461</td>\n",
       "      <td>59487</td>\n",
       "      <td>create_order</td>\n",
       "      <td>2022-09-08</td>\n",
       "      <td>0</td>\n",
       "      <td>2022-09-08 23:29:06</td>\n",
       "      <td>77</td>\n",
       "      <td>501.9</td>\n",
       "    </tr>\n",
       "    <tr>\n",
       "      <th>13081</th>\n",
       "      <td>1376</td>\n",
       "      <td>59533</td>\n",
       "      <td>create_order</td>\n",
       "      <td>2022-09-08</td>\n",
       "      <td>0</td>\n",
       "      <td>2022-09-08 23:41:24</td>\n",
       "      <td>17</td>\n",
       "      <td>390.3</td>\n",
       "    </tr>\n",
       "    <tr>\n",
       "      <th>13082</th>\n",
       "      <td>1376</td>\n",
       "      <td>59533</td>\n",
       "      <td>create_order</td>\n",
       "      <td>2022-09-08</td>\n",
       "      <td>0</td>\n",
       "      <td>2022-09-08 23:41:24</td>\n",
       "      <td>85</td>\n",
       "      <td>390.3</td>\n",
       "    </tr>\n",
       "  </tbody>\n",
       "</table>\n",
       "<p>13083 rows × 8 columns</p>\n",
       "</div>"
      ],
      "text/plain": [
       "       user_id  order_id        action       date  group       creation_time  \\\n",
       "0          964      1255  create_order 2022-08-26      0 2022-08-26 00:00:19   \n",
       "1          964      1255  create_order 2022-08-26      0 2022-08-26 00:00:19   \n",
       "2          964      1255  create_order 2022-08-26      0 2022-08-26 00:00:19   \n",
       "3          964      1255  create_order 2022-08-26      0 2022-08-26 00:00:19   \n",
       "4          965      1256  create_order 2022-08-26      1 2022-08-26 00:02:21   \n",
       "...        ...       ...           ...        ...    ...                 ...   \n",
       "13078     1461     59487  create_order 2022-09-08      0 2022-09-08 23:29:06   \n",
       "13079     1461     59487  create_order 2022-09-08      0 2022-09-08 23:29:06   \n",
       "13080     1461     59487  create_order 2022-09-08      0 2022-09-08 23:29:06   \n",
       "13081     1376     59533  create_order 2022-09-08      0 2022-09-08 23:41:24   \n",
       "13082     1376     59533  create_order 2022-09-08      0 2022-09-08 23:41:24   \n",
       "\n",
       "      product_ids_str  total_price  \n",
       "0                  75        408.7  \n",
       "1                  22        408.7  \n",
       "2                  53        408.7  \n",
       "3                  84        408.7  \n",
       "4                  56        250.5  \n",
       "...               ...          ...  \n",
       "13078               9        501.9  \n",
       "13079              62        501.9  \n",
       "13080              77        501.9  \n",
       "13081              17        390.3  \n",
       "13082              85        390.3  \n",
       "\n",
       "[13083 rows x 8 columns]"
      ]
     },
     "execution_count": 50,
     "metadata": {},
     "output_type": "execute_result"
    }
   ],
   "source": [
    "users_orders_no_cancel_explode = users_orders_no_cancel.explode('product_ids_str').reset_index(drop= True )\n",
    "users_orders_no_cancel_explode"
   ]
  },
  {
   "cell_type": "code",
   "execution_count": 51,
   "id": "3eadbb41",
   "metadata": {},
   "outputs": [
    {
     "data": {
      "text/html": [
       "<div>\n",
       "<style scoped>\n",
       "    .dataframe tbody tr th:only-of-type {\n",
       "        vertical-align: middle;\n",
       "    }\n",
       "\n",
       "    .dataframe tbody tr th {\n",
       "        vertical-align: top;\n",
       "    }\n",
       "\n",
       "    .dataframe thead th {\n",
       "        text-align: right;\n",
       "    }\n",
       "</style>\n",
       "<table border=\"1\" class=\"dataframe\">\n",
       "  <thead>\n",
       "    <tr style=\"text-align: right;\">\n",
       "      <th></th>\n",
       "      <th>count_products</th>\n",
       "    </tr>\n",
       "  </thead>\n",
       "  <tbody>\n",
       "    <tr>\n",
       "      <th>0</th>\n",
       "      <td>4</td>\n",
       "    </tr>\n",
       "    <tr>\n",
       "      <th>1</th>\n",
       "      <td>4</td>\n",
       "    </tr>\n",
       "    <tr>\n",
       "      <th>2</th>\n",
       "      <td>4</td>\n",
       "    </tr>\n",
       "    <tr>\n",
       "      <th>3</th>\n",
       "      <td>4</td>\n",
       "    </tr>\n",
       "    <tr>\n",
       "      <th>4</th>\n",
       "      <td>5</td>\n",
       "    </tr>\n",
       "  </tbody>\n",
       "</table>\n",
       "</div>"
      ],
      "text/plain": [
       "   count_products\n",
       "0               4\n",
       "1               4\n",
       "2               4\n",
       "3               4\n",
       "4               5"
      ]
     },
     "execution_count": 51,
     "metadata": {},
     "output_type": "execute_result"
    }
   ],
   "source": [
    "control_count_products = users_orders_no_cancel_explode.query('group == 0') \\\n",
    "                                                    .groupby('order_id') \\\n",
    "                                                    .agg({'product_ids_str':'count'}) \\\n",
    "                                                    .reset_index(drop= True ) \\\n",
    "                                                    .rename(columns = {'product_ids_str':'count_products'})\n",
    "control_count_products.head()"
   ]
  },
  {
   "cell_type": "code",
   "execution_count": 52,
   "id": "e625220b",
   "metadata": {},
   "outputs": [
    {
     "data": {
      "text/html": [
       "<div>\n",
       "<style scoped>\n",
       "    .dataframe tbody tr th:only-of-type {\n",
       "        vertical-align: middle;\n",
       "    }\n",
       "\n",
       "    .dataframe tbody tr th {\n",
       "        vertical-align: top;\n",
       "    }\n",
       "\n",
       "    .dataframe thead th {\n",
       "        text-align: right;\n",
       "    }\n",
       "</style>\n",
       "<table border=\"1\" class=\"dataframe\">\n",
       "  <thead>\n",
       "    <tr style=\"text-align: right;\">\n",
       "      <th></th>\n",
       "      <th>count_products</th>\n",
       "    </tr>\n",
       "  </thead>\n",
       "  <tbody>\n",
       "    <tr>\n",
       "      <th>0</th>\n",
       "      <td>3</td>\n",
       "    </tr>\n",
       "    <tr>\n",
       "      <th>1</th>\n",
       "      <td>4</td>\n",
       "    </tr>\n",
       "    <tr>\n",
       "      <th>2</th>\n",
       "      <td>3</td>\n",
       "    </tr>\n",
       "    <tr>\n",
       "      <th>3</th>\n",
       "      <td>4</td>\n",
       "    </tr>\n",
       "    <tr>\n",
       "      <th>4</th>\n",
       "      <td>2</td>\n",
       "    </tr>\n",
       "  </tbody>\n",
       "</table>\n",
       "</div>"
      ],
      "text/plain": [
       "   count_products\n",
       "0               3\n",
       "1               4\n",
       "2               3\n",
       "3               4\n",
       "4               2"
      ]
     },
     "execution_count": 52,
     "metadata": {},
     "output_type": "execute_result"
    }
   ],
   "source": [
    "test_count_products = users_orders_no_cancel_explode.query('group == 1') \\\n",
    "                                                    .groupby('order_id') \\\n",
    "                                                    .agg({'product_ids_str':'count'}) \\\n",
    "                                                    .reset_index(drop= True ) \\\n",
    "                                                    .rename(columns = {'product_ids_str':'count_products'})\n",
    "test_count_products.head()"
   ]
  },
  {
   "cell_type": "code",
   "execution_count": 53,
   "id": "0b2f6ce6",
   "metadata": {},
   "outputs": [
    {
     "data": {
      "text/plain": [
       "array([[<Axes: title={'center': 'count_products'}>]], dtype=object)"
      ]
     },
     "execution_count": 53,
     "metadata": {},
     "output_type": "execute_result"
    },
    {
     "data": {
      "image/png": "[encoded data removed]",
      "text/plain": [
       "<Figure size 640x480 with 1 Axes>"
      ]
     },
     "metadata": {},
     "output_type": "display_data"
    }
   ],
   "source": [
    "control_count_products.hist()"
   ]
  },
  {
   "cell_type": "code",
   "execution_count": 54,
   "id": "f267309e",
   "metadata": {},
   "outputs": [
    {
     "data": {
      "text/plain": [
       "array([[<Axes: title={'center': 'count_products'}>]], dtype=object)"
      ]
     },
     "execution_count": 54,
     "metadata": {},
     "output_type": "execute_result"
    },
    {
     "data": {
      "image/png": "[encoded data removed]",
      "text/plain": [
       "<Figure size 640x480 with 1 Axes>"
      ]
     },
     "metadata": {},
     "output_type": "display_data"
    }
   ],
   "source": [
    "test_count_products.hist()"
   ]
  },
  {
   "cell_type": "code",
   "execution_count": 55,
   "id": "877371e5",
   "metadata": {},
   "outputs": [
    {
     "name": "stdout",
     "output_type": "stream",
     "text": [
      "p_value = 4.245708800819739e-30\n",
      "==============\n",
      "Отвергаем нулевую гипотезу в пользу альтернативной гипотезы, распределение значений не является нормальным.\n",
      "p_value = 4.1296417258489795e-25\n",
      "==============\n",
      "Отвергаем нулевую гипотезу в пользу альтернативной гипотезы, распределение значений не является нормальным.\n"
     ]
    }
   ],
   "source": [
    "for sample in (test_count_products, control_count_products):\n",
    "  p_value_norm = shapiro(sample).pvalue\n",
    "  print(f'p_value = {p_value_norm}')\n",
    "  print('==============')\n",
    "\n",
    "  if (p_value_norm < 0.05):\n",
    "      print(\"Отвергаем нулевую гипотезу в пользу альтернативной гипотезы, распределение значений не является нормальным.\")\n",
    "  else:\n",
    "      print(\"Нулевая гипотеза не отвергается. Данные распределены по нормальному закону.\")"
   ]
  },
  {
   "cell_type": "code",
   "execution_count": 56,
   "id": "0fb9d5ed",
   "metadata": {},
   "outputs": [
    {
     "data": {
      "text/html": [
       "<div>\n",
       "<style scoped>\n",
       "    .dataframe tbody tr th:only-of-type {\n",
       "        vertical-align: middle;\n",
       "    }\n",
       "\n",
       "    .dataframe tbody tr th {\n",
       "        vertical-align: top;\n",
       "    }\n",
       "\n",
       "    .dataframe thead th {\n",
       "        text-align: right;\n",
       "    }\n",
       "</style>\n",
       "<table border=\"1\" class=\"dataframe\">\n",
       "  <thead>\n",
       "    <tr style=\"text-align: right;\">\n",
       "      <th></th>\n",
       "      <th>W</th>\n",
       "      <th>pval</th>\n",
       "      <th>normal</th>\n",
       "    </tr>\n",
       "  </thead>\n",
       "  <tbody>\n",
       "    <tr>\n",
       "      <th>count_products</th>\n",
       "      <td>36.287512</td>\n",
       "      <td>1.319067e-08</td>\n",
       "      <td>False</td>\n",
       "    </tr>\n",
       "  </tbody>\n",
       "</table>\n",
       "</div>"
      ],
      "text/plain": [
       "                        W          pval  normal\n",
       "count_products  36.287512  1.319067e-08   False"
      ]
     },
     "execution_count": 56,
     "metadata": {},
     "output_type": "execute_result"
    }
   ],
   "source": [
    "pingouin.normality(data=control_count_products, method=\"normaltest\")"
   ]
  },
  {
   "cell_type": "code",
   "execution_count": 57,
   "id": "a517ccad",
   "metadata": {},
   "outputs": [
    {
     "data": {
      "text/html": [
       "<div>\n",
       "<style scoped>\n",
       "    .dataframe tbody tr th:only-of-type {\n",
       "        vertical-align: middle;\n",
       "    }\n",
       "\n",
       "    .dataframe tbody tr th {\n",
       "        vertical-align: top;\n",
       "    }\n",
       "\n",
       "    .dataframe thead th {\n",
       "        text-align: right;\n",
       "    }\n",
       "</style>\n",
       "<table border=\"1\" class=\"dataframe\">\n",
       "  <thead>\n",
       "    <tr style=\"text-align: right;\">\n",
       "      <th></th>\n",
       "      <th>W</th>\n",
       "      <th>pval</th>\n",
       "      <th>normal</th>\n",
       "    </tr>\n",
       "  </thead>\n",
       "  <tbody>\n",
       "    <tr>\n",
       "      <th>count_products</th>\n",
       "      <td>42.201912</td>\n",
       "      <td>6.854430e-10</td>\n",
       "      <td>False</td>\n",
       "    </tr>\n",
       "  </tbody>\n",
       "</table>\n",
       "</div>"
      ],
      "text/plain": [
       "                        W          pval  normal\n",
       "count_products  42.201912  6.854430e-10   False"
      ]
     },
     "execution_count": 57,
     "metadata": {},
     "output_type": "execute_result"
    }
   ],
   "source": [
    "pingouin.normality(data=test_count_products, method=\"normaltest\")"
   ]
  },
  {
   "cell_type": "markdown",
   "id": "3cf4c95f",
   "metadata": {},
   "source": [
    "Распределние у нас не имеет нормального вида в обеих выборках, и данные количественные в двух независимых выборках. Возьмем Критерий Манна Уитни и продублируем критерием Стьюдента."
   ]
  },
  {
   "cell_type": "code",
   "execution_count": 73,
   "id": "cfadb527",
   "metadata": {},
   "outputs": [
    {
     "name": "stdout",
     "output_type": "stream",
     "text": [
      "Среднее количество товаров в каждом заказе в контрольной группе 3.34\n",
      "Среднее количество товаров в каждом заказе в тестовой группе 3.35\n"
     ]
    }
   ],
   "source": [
    "ccp = round(control_count_products.mean().item(), 2)\n",
    "tcp = round(test_count_products.mean().item(), 2)\n",
    "print(f'Среднее количество товаров в каждом заказе в контрольной группе {ccp}')\n",
    "print(f'Среднее количество товаров в каждом заказе в тестовой группе {tcp}')"
   ]
  },
  {
   "cell_type": "code",
   "execution_count": 77,
   "id": "d7c238a8",
   "metadata": {},
   "outputs": [
    {
     "name": "stdout",
     "output_type": "stream",
     "text": [
      "p-value = [0.3541639]\n",
      "===========================\n",
      "Нулевая гипотеза не отвергается и статзначимых различий в группах нет.\n"
     ]
    }
   ],
   "source": [
    "mannwhitneyu_res = mannwhitneyu(control_count_products, test_count_products, alternative='less')\n",
    "\n",
    "print(f'p-value = {mannwhitneyu_res.pvalue}')\n",
    "print('===========================')\n",
    "\n",
    "if mannwhitneyu_res.pvalue < 0.05:\n",
    "    print(\"Отвергаем нулевую гипотезу в пользу альтернативной гипотезы, имеются статзначимые ризличия в группах.\")\n",
    "else:\n",
    "    print(\"Нулевая гипотеза не отвергается и статзначимых различий в группах нет.\")"
   ]
  },
  {
   "cell_type": "code",
   "execution_count": 70,
   "id": "df13d3fe",
   "metadata": {},
   "outputs": [
    {
     "name": "stdout",
     "output_type": "stream",
     "text": [
      "p-value = [4.21538866e-41]\n",
      "===========================\n",
      "Отвергаем нулевую гипотезу в пользу альтернативной гипотезы, имеются статзначимые ризличия в группах.\n"
     ]
    }
   ],
   "source": [
    "alpha = 0.05\n",
    "results = ttest_ind(\n",
    "    df_control_orders_count, \n",
    "    df_test_orders_count,\n",
    "    alternative='less') #‘less’: среднее значение распределения, лежащего в основе первой выборки, меньше среднего значения распределения, лежащего в основе второй выборки.\n",
    "\n",
    "print(f'p-value = {results.pvalue}')\n",
    "print('===========================')\n",
    "\n",
    "if results.pvalue < alpha:\n",
    "    print(\"Отвергаем нулевую гипотезу в пользу альтернативной гипотезы, имеются статзначимые ризличия в группах.\")\n",
    "else:\n",
    "    print(\"Нулевая гипотеза не отвергается и статзначимых различий в группах нет.\")"
   ]
  },
  {
   "cell_type": "markdown",
   "id": "ef531aca",
   "metadata": {},
   "source": [
    "При выборе критерия Манна Уитни нужно быть осторожным ибо результаты этого критерия могут"
   ]
  },
  {
   "cell_type": "code",
   "execution_count": 67,
   "id": "0f31131a",
   "metadata": {},
   "outputs": [
    {
     "name": "stdout",
     "output_type": "stream",
     "text": [
      "Новая система рекомендаций смогла принести пользу бизнесу и пользователям приложения. \n",
      "Стоит включать новую систему рекомендаций на всех пользователей. \n",
      "Среднее количество заказов на каждого пользователя в тестовой группе увеличилось и стало 3.35 \n",
      "в сравнении с контрольной группой, где было 3.34\n"
     ]
    }
   ],
   "source": [
    "if ccp < tcp:\n",
    "    print(f\"Новая система рекомендаций смогла принести пользу бизнесу и пользователям приложения. \\nСтоит включать новую систему рекомендаций на всех пользователей. \\nСреднее количество заказов на каждого пользователя в тестовой группе увеличилось и стало {tcp} \\nв сравнении с контрольной группой, где было {ccp}\")\n",
    "else:\n",
    "    print(f\"Новая система рекомендаций не смогла принести пользу бизнесу и пользователям приложения. \\nНе стоит включать новую систему рекомендаций на всех пользователей. \\nСреднее количество заказов на каждого пользователя в тестовой группе уменьшилось и стало {tcp} \\nв сравнении с контрольной группой, где было {ccp}\")"
   ]
  },
  {
   "cell_type": "markdown",
   "id": "db5b06a3",
   "metadata": {},
   "source": [
    "На самом деле разница на столько незначительна в сравнении среднего количества товаров в каждом чеке, что можно на эту метрику не опираться."
   ]
  },
  {
   "cell_type": "markdown",
   "id": "2544e018",
   "metadata": {},
   "source": [
    "#### Из трех метрик только одна показала у нас и положительный результат на тестовой группе и статзначимые различия выборок. Это была метрика среднего количества заказов на каждого пользователя.\n",
    "#### Метрика AOV не показала статзначимых различий, и средний чек в тестовой группе меньше, чем в контрольной.\n",
    "#### Метрика среднего количества товаров на каждый заказ показала примерно равные результаты.\n",
    "#### Новая система рекомендаций смогла принести пользу бизнесу и пользователям приложения. Стоит включать новую систему рекомендаций на всех пользователей. Среднее количество заказов на каждого пользователя в тестовой группе увеличилось и стало 4.75, в сравнении с контрольной группой, где было 2.98."
   ]
  }
 ],
 "metadata": {
  "kernelspec": {
   "display_name": "Python 3 (ipykernel)",
   "language": "python",
   "name": "python3"
  },
  "language_info": {
   "codemirror_mode": {
    "name": "ipython",
    "version": 3
   },
   "file_extension": ".py",
   "mimetype": "text/x-python",
   "name": "python",
   "nbconvert_exporter": "python",
   "pygments_lexer": "ipython3",
   "version": "3.9.13"
  }
 },
 "nbformat": 4,
 "nbformat_minor": 5
}
