{
 "cells": [
  {
   "cell_type": "markdown",
   "id": "233c6ec6",
   "metadata": {},
   "source": [
    "# Вариант 2 #\n",
    "## Задание 1. A/B–тестирование ##\n",
    "#### 1.1 Условие ####\n",
    "\n",
    "Одной из основных задач аналитика в нашей команде является корректное проведение экспериментов. Для этого мы применяем метод A/B–тестирования. В ходе тестирования одной гипотезы целевой группе была предложена новая механика оплаты услуг на сайте, у контрольной группы оставалась базовая механика. В качестве задания Вам необходимо проанализировать итоги эксперимента и сделать вывод, стоит ли запускать новую механику оплаты на всех пользователей."
   ]
  },
  {
   "cell_type": "markdown",
   "id": "468bfea3",
   "metadata": {},
   "source": [
    "#### 1.2 Входные данные ####\n",
    "\n",
    "В качестве входных данных Вы имеете 4 csv-файла:\n",
    "\n",
    "    groups.csv - файл с информацией о принадлежности пользователя к контрольной или экспериментальной группе (А – контроль, B – целевая группа) \n",
    "    groups_add.csv - дополнительный файл с пользователями, который вам прислали спустя 2 дня после передачи данных\n",
    "    active_studs.csv - файл с информацией о пользователях, которые зашли на платформу в дни проведения эксперимента. \n",
    "    checks.csv - файл с информацией об оплатах пользователей в дни проведения эксперимента. "
   ]
  },
  {
   "cell_type": "markdown",
   "id": "0a4ee537",
   "metadata": {},
   "source": [
    "Импортируем библиотеки"
   ]
  },
  {
   "cell_type": "code",
   "execution_count": 1,
   "id": "89cd7d37",
   "metadata": {},
   "outputs": [],
   "source": [
    "import pandas as pd\n",
    "from IPython.display import display, HTML\n",
    "import matplotlib.pyplot as plt\n",
    "import seaborn as sns\n",
    "import warnings\n",
    "warnings.filterwarnings('ignore')\n",
    "import pingouin\n",
    "import statsmodels.api as sm\n",
    "import scipy\n",
    "import numpy as np\n",
    "from scipy.stats import chi2_contingency\n",
    "from scipy.stats import fisher_exact\n",
    "from scipy.stats import bootstrap\n",
    "from tqdm.auto import tqdm\n",
    "%matplotlib inline\n",
    "import pandahouse as ph\n",
    "from urllib.parse import urlencode\n",
    "import requests\n",
    "import urllib.request\n",
    "import ssl\n",
    "import matplotlib.dates as mdates\n"
   ]
  },
  {
   "cell_type": "markdown",
   "id": "ee6325ad",
   "metadata": {},
   "source": [
    "Добавляем фичу со стаковерфло чтоб показать все таблицы сразу в одной строке"
   ]
  },
  {
   "cell_type": "code",
   "execution_count": 2,
   "id": "cc0f7cfa",
   "metadata": {},
   "outputs": [
    {
     "data": {
      "text/html": [
       "<style>\n",
       ".output {\n",
       "    flex-direction: row;\n",
       "}\n",
       "</style>"
      ],
      "text/plain": [
       "<IPython.core.display.HTML object>"
      ]
     },
     "execution_count": 2,
     "metadata": {},
     "output_type": "execute_result"
    }
   ],
   "source": [
    "CSS = \"\"\"\n",
    ".output {\n",
    "    flex-direction: row;\n",
    "}\n",
    "\"\"\"\n",
    "\n",
    "HTML('<style>{}</style>'.format(CSS))"
   ]
  },
  {
   "cell_type": "markdown",
   "id": "e3d69d72",
   "metadata": {},
   "source": [
    "Загружаем все базы  \n",
    "*Загрузка файлов в этой работе происходит со скопированных на свой диск данных, т.к. в исходнике превышено допустимое количество скачиваний*"
   ]
  },
  {
   "cell_type": "code",
   "execution_count": 3,
   "id": "41553238",
   "metadata": {},
   "outputs": [
    {
     "data": {
      "text/plain": [
       "\"url = 'https://getfile.dokpub.com/yandex/get/https://disk.yandex.ru/d/BGUnozLF9sKbcg'\\ncontext = ssl._create_unverified_context()\\nresponse = urllib.request.urlopen(url, context=context)\\ndf_groups = pd.read_csv(response, sep=';')\\n\\nurl = 'https://getfile.dokpub.com/yandex/get/https://disk.yandex.ru/d/xvuNkPJVO6z3iQ'\\ncontext = ssl._create_unverified_context()\\nresponse = urllib.request.urlopen(url, context=context)\\ndf_groups_add = pd.read_csv(response)\\n\\nurl = 'https://getfile.dokpub.com/yandex/get/https://disk.yandex.ru/d/KYCJSYL9HieXJA'\\ncontext = ssl._create_unverified_context()\\nresponse = urllib.request.urlopen(url, context=context)\\ndf_active_studs = pd.read_csv(response)\\n\\nurl = 'https://getfile.dokpub.com/yandex/get/https://disk.yandex.ru/d/NiJJB8qIAnPOHg'\\ncontext = ssl._create_unverified_context()\\nresponse = urllib.request.urlopen(url, context=context)\\ndf_checks = pd.read_csv(response, sep=';')\\n\\ndisplay(df_groups.head(), df_groups_add.head(), df_active_studs.head(), df_checks.head())\""
      ]
     },
     "execution_count": 3,
     "metadata": {},
     "output_type": "execute_result"
    }
   ],
   "source": [
    "'''url = 'https://getfile.dokpub.com/yandex/get/https://disk.yandex.ru/d/BGUnozLF9sKbcg'\n",
    "context = ssl._create_unverified_context()\n",
    "response = urllib.request.urlopen(url, context=context)\n",
    "df_groups = pd.read_csv(response, sep=';')\n",
    "\n",
    "url = 'https://getfile.dokpub.com/yandex/get/https://disk.yandex.ru/d/xvuNkPJVO6z3iQ'\n",
    "context = ssl._create_unverified_context()\n",
    "response = urllib.request.urlopen(url, context=context)\n",
    "df_groups_add = pd.read_csv(response)\n",
    "\n",
    "url = 'https://getfile.dokpub.com/yandex/get/https://disk.yandex.ru/d/KYCJSYL9HieXJA'\n",
    "context = ssl._create_unverified_context()\n",
    "response = urllib.request.urlopen(url, context=context)\n",
    "df_active_studs = pd.read_csv(response)\n",
    "\n",
    "url = 'https://getfile.dokpub.com/yandex/get/https://disk.yandex.ru/d/NiJJB8qIAnPOHg'\n",
    "context = ssl._create_unverified_context()\n",
    "response = urllib.request.urlopen(url, context=context)\n",
    "df_checks = pd.read_csv(response, sep=';')\n",
    "\n",
    "display(df_groups.head(), df_groups_add.head(), df_active_studs.head(), df_checks.head())'''"
   ]
  },
  {
   "cell_type": "code",
   "execution_count": 4,
   "id": "be24fa2c",
   "metadata": {},
   "outputs": [
    {
     "data": {
      "text/plain": [
       "\"# Вариант с оригинальными ссылками\\nurl = 'https://getfile.dokpub.com/yandex/get/https://disk.yandex.ru/d/UhyYx41rTt3clQ'\\ncontext = ssl._create_unverified_context()\\nresponse = urllib.request.urlopen(url, context=context)\\ndf_groups = pd.read_csv(response, sep=';')\\n\\nurl = 'https://getfile.dokpub.com/yandex/get/https://disk.yandex.ru/d/5Kxrz02m3IBUwQ'\\ncontext = ssl._create_unverified_context()\\nresponse = urllib.request.urlopen(url, context=context)\\ndf_groups_add = pd.read_csv(response)\\n\\nurl = 'https://getfile.dokpub.com/yandex/get/https://disk.yandex.ru/d/Tbs44Bm6H_FwFQ'\\ncontext = ssl._create_unverified_context()\\nresponse = urllib.request.urlopen(url, context=context)\\ndf_active_studs = pd.read_csv(response)\\n\\nurl = 'https://getfile.dokpub.com/yandex/get/https://disk.yandex.ru/d/pH1q-VqcxXjsVA'\\ncontext = ssl._create_unverified_context()\\nresponse = urllib.request.urlopen(url, context=context)\\ndf_checks = pd.read_csv(response, sep=';')\\n\\ndisplay(df_groups.head(), df_groups_add.head(), df_active_studs.head(), df_checks.head())\""
      ]
     },
     "execution_count": 4,
     "metadata": {},
     "output_type": "execute_result"
    }
   ],
   "source": [
    "'''# Вариант с оригинальными ссылками\n",
    "url = 'https://getfile.dokpub.com/yandex/get/https://disk.yandex.ru/d/UhyYx41rTt3clQ'\n",
    "context = ssl._create_unverified_context()\n",
    "response = urllib.request.urlopen(url, context=context)\n",
    "df_groups = pd.read_csv(response, sep=';')\n",
    "\n",
    "url = 'https://getfile.dokpub.com/yandex/get/https://disk.yandex.ru/d/5Kxrz02m3IBUwQ'\n",
    "context = ssl._create_unverified_context()\n",
    "response = urllib.request.urlopen(url, context=context)\n",
    "df_groups_add = pd.read_csv(response)\n",
    "\n",
    "url = 'https://getfile.dokpub.com/yandex/get/https://disk.yandex.ru/d/Tbs44Bm6H_FwFQ'\n",
    "context = ssl._create_unverified_context()\n",
    "response = urllib.request.urlopen(url, context=context)\n",
    "df_active_studs = pd.read_csv(response)\n",
    "\n",
    "url = 'https://getfile.dokpub.com/yandex/get/https://disk.yandex.ru/d/pH1q-VqcxXjsVA'\n",
    "context = ssl._create_unverified_context()\n",
    "response = urllib.request.urlopen(url, context=context)\n",
    "df_checks = pd.read_csv(response, sep=';')\n",
    "\n",
    "display(df_groups.head(), df_groups_add.head(), df_active_studs.head(), df_checks.head())'''"
   ]
  },
  {
   "cell_type": "markdown",
   "id": "2b184769",
   "metadata": {},
   "source": [
    "Еще один вариант загрузки данных для искушённых."
   ]
  },
  {
   "cell_type": "code",
   "execution_count": 101,
   "id": "5e5dedb0",
   "metadata": {},
   "outputs": [],
   "source": [
    "#Будет показывать ошибку KeyError: 'href' из-за превышенного лимита скачиваний\n",
    "base_url = 'https://cloud-api.yandex.net/v1/disk/public/resources/download?'\n",
    "public_key_groups = 'https://disk.yandex.ru/d/UhyYx41rTt3clQ'\n",
    "public_key_groups_add = 'https://disk.yandex.ru/d/5Kxrz02m3IBUwQ'\n",
    "public_key_active_studs = 'https://disk.yandex.ru/d/Tbs44Bm6H_FwFQ'\n",
    "public_key_checks = 'https://disk.yandex.ru/d/pH1q-VqcxXjsVA'"
   ]
  },
  {
   "cell_type": "code",
   "execution_count": 102,
   "id": "038c4569",
   "metadata": {},
   "outputs": [],
   "source": [
    "def download_data(public_key):\n",
    "    final_url = base_url + urlencode(dict(public_key=public_key))\n",
    "    response_active = requests.get(final_url)\n",
    "    download_url = response_active.json()['href']\n",
    "    return download_url"
   ]
  },
  {
   "cell_type": "code",
   "execution_count": 103,
   "id": "9bf39915",
   "metadata": {},
   "outputs": [
    {
     "ename": "KeyError",
     "evalue": "'href'",
     "output_type": "error",
     "traceback": [
      "\u001b[1;31m---------------------------------------------------------------------------\u001b[0m",
      "\u001b[1;31mKeyError\u001b[0m                                  Traceback (most recent call last)",
      "\u001b[1;32m~\\AppData\\Local\\Temp\\ipykernel_10292\\2855667184.py\u001b[0m in \u001b[0;36m<module>\u001b[1;34m\u001b[0m\n\u001b[1;32m----> 1\u001b[1;33m \u001b[0mdownload_url\u001b[0m \u001b[1;33m=\u001b[0m \u001b[0mdownload_data\u001b[0m\u001b[1;33m(\u001b[0m\u001b[0mpublic_key_groups\u001b[0m\u001b[1;33m)\u001b[0m\u001b[1;33m\u001b[0m\u001b[1;33m\u001b[0m\u001b[0m\n\u001b[0m\u001b[0;32m      2\u001b[0m \u001b[0mdf_groups\u001b[0m \u001b[1;33m=\u001b[0m \u001b[0mpd\u001b[0m\u001b[1;33m.\u001b[0m\u001b[0mread_csv\u001b[0m\u001b[1;33m(\u001b[0m\u001b[0mdownload_url\u001b[0m\u001b[1;33m,\u001b[0m \u001b[0msep\u001b[0m\u001b[1;33m=\u001b[0m\u001b[1;34m';'\u001b[0m\u001b[1;33m)\u001b[0m\u001b[1;33m\u001b[0m\u001b[1;33m\u001b[0m\u001b[0m\n\u001b[0;32m      3\u001b[0m \u001b[1;33m\u001b[0m\u001b[0m\n\u001b[0;32m      4\u001b[0m \u001b[0mdownload_url\u001b[0m \u001b[1;33m=\u001b[0m \u001b[0mdownload_data\u001b[0m\u001b[1;33m(\u001b[0m\u001b[0mpublic_key_groups_add\u001b[0m\u001b[1;33m)\u001b[0m\u001b[1;33m\u001b[0m\u001b[1;33m\u001b[0m\u001b[0m\n\u001b[0;32m      5\u001b[0m \u001b[0mdf_group_add\u001b[0m \u001b[1;33m=\u001b[0m \u001b[0mpd\u001b[0m\u001b[1;33m.\u001b[0m\u001b[0mread_csv\u001b[0m\u001b[1;33m(\u001b[0m\u001b[0mdownload_url\u001b[0m\u001b[1;33m)\u001b[0m\u001b[1;33m\u001b[0m\u001b[1;33m\u001b[0m\u001b[0m\n",
      "\u001b[1;32m~\\AppData\\Local\\Temp\\ipykernel_10292\\1834574773.py\u001b[0m in \u001b[0;36mdownload_data\u001b[1;34m(public_key)\u001b[0m\n\u001b[0;32m      2\u001b[0m     \u001b[0mfinal_url\u001b[0m \u001b[1;33m=\u001b[0m \u001b[0mbase_url\u001b[0m \u001b[1;33m+\u001b[0m \u001b[0murlencode\u001b[0m\u001b[1;33m(\u001b[0m\u001b[0mdict\u001b[0m\u001b[1;33m(\u001b[0m\u001b[0mpublic_key\u001b[0m\u001b[1;33m=\u001b[0m\u001b[0mpublic_key\u001b[0m\u001b[1;33m)\u001b[0m\u001b[1;33m)\u001b[0m\u001b[1;33m\u001b[0m\u001b[1;33m\u001b[0m\u001b[0m\n\u001b[0;32m      3\u001b[0m     \u001b[0mresponse_active\u001b[0m \u001b[1;33m=\u001b[0m \u001b[0mrequests\u001b[0m\u001b[1;33m.\u001b[0m\u001b[0mget\u001b[0m\u001b[1;33m(\u001b[0m\u001b[0mfinal_url\u001b[0m\u001b[1;33m)\u001b[0m\u001b[1;33m\u001b[0m\u001b[1;33m\u001b[0m\u001b[0m\n\u001b[1;32m----> 4\u001b[1;33m     \u001b[0mdownload_url\u001b[0m \u001b[1;33m=\u001b[0m \u001b[0mresponse_active\u001b[0m\u001b[1;33m.\u001b[0m\u001b[0mjson\u001b[0m\u001b[1;33m(\u001b[0m\u001b[1;33m)\u001b[0m\u001b[1;33m[\u001b[0m\u001b[1;34m'href'\u001b[0m\u001b[1;33m]\u001b[0m\u001b[1;33m\u001b[0m\u001b[1;33m\u001b[0m\u001b[0m\n\u001b[0m\u001b[0;32m      5\u001b[0m     \u001b[1;32mreturn\u001b[0m \u001b[0mdownload_url\u001b[0m\u001b[1;33m\u001b[0m\u001b[1;33m\u001b[0m\u001b[0m\n",
      "\u001b[1;31mKeyError\u001b[0m: 'href'"
     ]
    }
   ],
   "source": [
    "download_url = download_data(public_key_groups)\n",
    "df_groups = pd.read_csv(download_url, sep=';')\n",
    "\n",
    "download_url = download_data(public_key_groups_add)\n",
    "df_group_add = pd.read_csv(download_url)\n",
    "\n",
    "download_url = download_data(public_key_active_studs)\n",
    "df_active_students = pd.read_csv(download_url)\n",
    "\n",
    "download_url = download_data(public_key_checks)\n",
    "df_checks = pd.read_csv(download_url, sep=';')\n",
    "\n",
    "display(df_groups.head(), df_groups_add.head(), df_active_studs.head(), df_checks.head())"
   ]
  },
  {
   "cell_type": "code",
   "execution_count": 104,
   "id": "83d3bdc1",
   "metadata": {},
   "outputs": [
    {
     "data": {
      "text/html": [
       "<div>\n",
       "<style scoped>\n",
       "    .dataframe tbody tr th:only-of-type {\n",
       "        vertical-align: middle;\n",
       "    }\n",
       "\n",
       "    .dataframe tbody tr th {\n",
       "        vertical-align: top;\n",
       "    }\n",
       "\n",
       "    .dataframe thead th {\n",
       "        text-align: right;\n",
       "    }\n",
       "</style>\n",
       "<table border=\"1\" class=\"dataframe\">\n",
       "  <thead>\n",
       "    <tr style=\"text-align: right;\">\n",
       "      <th></th>\n",
       "      <th>id</th>\n",
       "      <th>grp</th>\n",
       "    </tr>\n",
       "  </thead>\n",
       "  <tbody>\n",
       "    <tr>\n",
       "      <th>0</th>\n",
       "      <td>1489</td>\n",
       "      <td>B</td>\n",
       "    </tr>\n",
       "    <tr>\n",
       "      <th>1</th>\n",
       "      <td>1627</td>\n",
       "      <td>A</td>\n",
       "    </tr>\n",
       "    <tr>\n",
       "      <th>2</th>\n",
       "      <td>1768</td>\n",
       "      <td>B</td>\n",
       "    </tr>\n",
       "    <tr>\n",
       "      <th>3</th>\n",
       "      <td>1783</td>\n",
       "      <td>B</td>\n",
       "    </tr>\n",
       "    <tr>\n",
       "      <th>4</th>\n",
       "      <td>1794</td>\n",
       "      <td>A</td>\n",
       "    </tr>\n",
       "  </tbody>\n",
       "</table>\n",
       "</div>"
      ],
      "text/plain": [
       "     id grp\n",
       "0  1489   B\n",
       "1  1627   A\n",
       "2  1768   B\n",
       "3  1783   B\n",
       "4  1794   A"
      ]
     },
     "metadata": {},
     "output_type": "display_data"
    },
    {
     "data": {
      "text/html": [
       "<div>\n",
       "<style scoped>\n",
       "    .dataframe tbody tr th:only-of-type {\n",
       "        vertical-align: middle;\n",
       "    }\n",
       "\n",
       "    .dataframe tbody tr th {\n",
       "        vertical-align: top;\n",
       "    }\n",
       "\n",
       "    .dataframe thead th {\n",
       "        text-align: right;\n",
       "    }\n",
       "</style>\n",
       "<table border=\"1\" class=\"dataframe\">\n",
       "  <thead>\n",
       "    <tr style=\"text-align: right;\">\n",
       "      <th></th>\n",
       "      <th>id</th>\n",
       "      <th>grp</th>\n",
       "    </tr>\n",
       "  </thead>\n",
       "  <tbody>\n",
       "    <tr>\n",
       "      <th>0</th>\n",
       "      <td>5694584</td>\n",
       "      <td>B</td>\n",
       "    </tr>\n",
       "    <tr>\n",
       "      <th>1</th>\n",
       "      <td>5694830</td>\n",
       "      <td>B</td>\n",
       "    </tr>\n",
       "    <tr>\n",
       "      <th>2</th>\n",
       "      <td>5695057</td>\n",
       "      <td>B</td>\n",
       "    </tr>\n",
       "    <tr>\n",
       "      <th>3</th>\n",
       "      <td>5698872</td>\n",
       "      <td>B</td>\n",
       "    </tr>\n",
       "    <tr>\n",
       "      <th>4</th>\n",
       "      <td>5699067</td>\n",
       "      <td>B</td>\n",
       "    </tr>\n",
       "  </tbody>\n",
       "</table>\n",
       "</div>"
      ],
      "text/plain": [
       "        id grp\n",
       "0  5694584   B\n",
       "1  5694830   B\n",
       "2  5695057   B\n",
       "3  5698872   B\n",
       "4  5699067   B"
      ]
     },
     "metadata": {},
     "output_type": "display_data"
    },
    {
     "data": {
      "text/html": [
       "<div>\n",
       "<style scoped>\n",
       "    .dataframe tbody tr th:only-of-type {\n",
       "        vertical-align: middle;\n",
       "    }\n",
       "\n",
       "    .dataframe tbody tr th {\n",
       "        vertical-align: top;\n",
       "    }\n",
       "\n",
       "    .dataframe thead th {\n",
       "        text-align: right;\n",
       "    }\n",
       "</style>\n",
       "<table border=\"1\" class=\"dataframe\">\n",
       "  <thead>\n",
       "    <tr style=\"text-align: right;\">\n",
       "      <th></th>\n",
       "      <th>student_id</th>\n",
       "    </tr>\n",
       "  </thead>\n",
       "  <tbody>\n",
       "    <tr>\n",
       "      <th>0</th>\n",
       "      <td>581585</td>\n",
       "    </tr>\n",
       "    <tr>\n",
       "      <th>1</th>\n",
       "      <td>5723133</td>\n",
       "    </tr>\n",
       "    <tr>\n",
       "      <th>2</th>\n",
       "      <td>3276743</td>\n",
       "    </tr>\n",
       "    <tr>\n",
       "      <th>3</th>\n",
       "      <td>4238589</td>\n",
       "    </tr>\n",
       "    <tr>\n",
       "      <th>4</th>\n",
       "      <td>4475369</td>\n",
       "    </tr>\n",
       "  </tbody>\n",
       "</table>\n",
       "</div>"
      ],
      "text/plain": [
       "   student_id\n",
       "0      581585\n",
       "1     5723133\n",
       "2     3276743\n",
       "3     4238589\n",
       "4     4475369"
      ]
     },
     "metadata": {},
     "output_type": "display_data"
    },
    {
     "data": {
      "text/html": [
       "<div>\n",
       "<style scoped>\n",
       "    .dataframe tbody tr th:only-of-type {\n",
       "        vertical-align: middle;\n",
       "    }\n",
       "\n",
       "    .dataframe tbody tr th {\n",
       "        vertical-align: top;\n",
       "    }\n",
       "\n",
       "    .dataframe thead th {\n",
       "        text-align: right;\n",
       "    }\n",
       "</style>\n",
       "<table border=\"1\" class=\"dataframe\">\n",
       "  <thead>\n",
       "    <tr style=\"text-align: right;\">\n",
       "      <th></th>\n",
       "      <th>student_id</th>\n",
       "      <th>rev</th>\n",
       "    </tr>\n",
       "  </thead>\n",
       "  <tbody>\n",
       "    <tr>\n",
       "      <th>0</th>\n",
       "      <td>1627</td>\n",
       "      <td>990.0</td>\n",
       "    </tr>\n",
       "    <tr>\n",
       "      <th>1</th>\n",
       "      <td>3185</td>\n",
       "      <td>690.0</td>\n",
       "    </tr>\n",
       "    <tr>\n",
       "      <th>2</th>\n",
       "      <td>25973</td>\n",
       "      <td>690.0</td>\n",
       "    </tr>\n",
       "    <tr>\n",
       "      <th>3</th>\n",
       "      <td>26280</td>\n",
       "      <td>690.0</td>\n",
       "    </tr>\n",
       "    <tr>\n",
       "      <th>4</th>\n",
       "      <td>100300</td>\n",
       "      <td>990.0</td>\n",
       "    </tr>\n",
       "  </tbody>\n",
       "</table>\n",
       "</div>"
      ],
      "text/plain": [
       "   student_id    rev\n",
       "0        1627  990.0\n",
       "1        3185  690.0\n",
       "2       25973  690.0\n",
       "3       26280  690.0\n",
       "4      100300  990.0"
      ]
     },
     "metadata": {},
     "output_type": "display_data"
    }
   ],
   "source": [
    "'''df_groups = pd.read_csv('Проект_2_groups.csv', sep=';')\n",
    "df_groups_add = pd.read_csv('Проект_2_group_add.csv')\n",
    "df_active_studs = pd.read_csv('Проект_2_active_studs.csv')\n",
    "df_checks = pd.read_csv('Проект_2_checks.csv', sep=';')\n",
    "display(df_groups.head(), df_groups_add.head(), df_active_studs.head(), df_checks.head())'''"
   ]
  },
  {
   "cell_type": "markdown",
   "id": "3fe5da97",
   "metadata": {},
   "source": [
    "посмотрим есть ли пересечения по id между таблицей принадлежности людей к контрольной или тестируемой группам и таблицей с дополнительными данными присланной через два дня"
   ]
  },
  {
   "cell_type": "code",
   "execution_count": 6,
   "id": "33dc7fb0",
   "metadata": {},
   "outputs": [],
   "source": [
    "df1 = df_groups.merge(df_groups_add, on='id')"
   ]
  },
  {
   "cell_type": "code",
   "execution_count": 7,
   "id": "89662c53",
   "metadata": {},
   "outputs": [
    {
     "name": "stdout",
     "output_type": "stream",
     "text": [
      "<class 'pandas.core.frame.DataFrame'>\n",
      "Index: 0 entries\n",
      "Data columns (total 3 columns):\n",
      " #   Column  Non-Null Count  Dtype \n",
      "---  ------  --------------  ----- \n",
      " 0   id      0 non-null      int64 \n",
      " 1   grp_x   0 non-null      object\n",
      " 2   grp_y   0 non-null      object\n",
      "dtypes: int64(1), object(2)\n",
      "memory usage: 0.0+ bytes\n"
     ]
    }
   ],
   "source": [
    "df1.info()"
   ]
  },
  {
   "cell_type": "markdown",
   "id": "df1267ed",
   "metadata": {},
   "source": [
    "путем объединения таблиц видно, что пересечений по id не выявлено.\n",
    "Попробуем найти пересечение через серии id"
   ]
  },
  {
   "cell_type": "code",
   "execution_count": 8,
   "id": "d314d08b",
   "metadata": {},
   "outputs": [],
   "source": [
    "series1 = df_groups.id\n",
    "series2 = df_groups_add.id"
   ]
  },
  {
   "cell_type": "code",
   "execution_count": 9,
   "id": "251a5b81",
   "metadata": {},
   "outputs": [
    {
     "data": {
      "text/plain": [
       "0           1489\n",
       "1           1627\n",
       "2           1768\n",
       "3           1783\n",
       "4           1794\n",
       "          ...   \n",
       "74479    5692459\n",
       "74480    5692572\n",
       "74481    5692865\n",
       "74482    5693667\n",
       "74483    5694419\n",
       "Name: id, Length: 74484, dtype: int64"
      ]
     },
     "execution_count": 9,
     "metadata": {},
     "output_type": "execute_result"
    }
   ],
   "source": [
    "series1"
   ]
  },
  {
   "cell_type": "code",
   "execution_count": 10,
   "id": "384509a4",
   "metadata": {},
   "outputs": [
    {
     "data": {
      "text/plain": [
       "set()"
      ]
     },
     "execution_count": 10,
     "metadata": {},
     "output_type": "execute_result"
    }
   ],
   "source": [
    "set(series1) & set(series2)"
   ]
  },
  {
   "cell_type": "markdown",
   "id": "ee9c2091",
   "metadata": {},
   "source": [
    "Пересечений нет.  \n",
    "Посмотрим количество участников эксперимента в каждой из групп в исходной таблице с данными."
   ]
  },
  {
   "cell_type": "code",
   "execution_count": 11,
   "id": "1e64fcae",
   "metadata": {},
   "outputs": [
    {
     "data": {
      "text/plain": [
       "B    59813\n",
       "A    14671\n",
       "Name: grp, dtype: int64"
      ]
     },
     "execution_count": 11,
     "metadata": {},
     "output_type": "execute_result"
    }
   ],
   "source": [
    "df_groups.grp.value_counts()"
   ]
  },
  {
   "cell_type": "markdown",
   "id": "408c9276",
   "metadata": {},
   "source": [
    "Объединим наши исходные с добавочными данные"
   ]
  },
  {
   "cell_type": "code",
   "execution_count": 12,
   "id": "db46a49f",
   "metadata": {},
   "outputs": [
    {
     "data": {
      "text/html": [
       "<div>\n",
       "<style scoped>\n",
       "    .dataframe tbody tr th:only-of-type {\n",
       "        vertical-align: middle;\n",
       "    }\n",
       "\n",
       "    .dataframe tbody tr th {\n",
       "        vertical-align: top;\n",
       "    }\n",
       "\n",
       "    .dataframe thead th {\n",
       "        text-align: right;\n",
       "    }\n",
       "</style>\n",
       "<table border=\"1\" class=\"dataframe\">\n",
       "  <thead>\n",
       "    <tr style=\"text-align: right;\">\n",
       "      <th></th>\n",
       "      <th>id</th>\n",
       "      <th>grp</th>\n",
       "    </tr>\n",
       "  </thead>\n",
       "  <tbody>\n",
       "    <tr>\n",
       "      <th>0</th>\n",
       "      <td>1489</td>\n",
       "      <td>B</td>\n",
       "    </tr>\n",
       "    <tr>\n",
       "      <th>1</th>\n",
       "      <td>1627</td>\n",
       "      <td>A</td>\n",
       "    </tr>\n",
       "    <tr>\n",
       "      <th>2</th>\n",
       "      <td>1768</td>\n",
       "      <td>B</td>\n",
       "    </tr>\n",
       "    <tr>\n",
       "      <th>3</th>\n",
       "      <td>1783</td>\n",
       "      <td>B</td>\n",
       "    </tr>\n",
       "    <tr>\n",
       "      <th>4</th>\n",
       "      <td>1794</td>\n",
       "      <td>A</td>\n",
       "    </tr>\n",
       "  </tbody>\n",
       "</table>\n",
       "</div>"
      ],
      "text/plain": [
       "     id grp\n",
       "0  1489   B\n",
       "1  1627   A\n",
       "2  1768   B\n",
       "3  1783   B\n",
       "4  1794   A"
      ]
     },
     "execution_count": 12,
     "metadata": {},
     "output_type": "execute_result"
    }
   ],
   "source": [
    "df_groups_and_add = pd.concat((df_groups, df_groups_add), ignore_index=True)\n",
    "df_groups_and_add.head()"
   ]
  },
  {
   "cell_type": "markdown",
   "id": "d63a5602",
   "metadata": {},
   "source": [
    "Посмотрим на данные в таблицах с информацией об активности и об оплатах."
   ]
  },
  {
   "cell_type": "code",
   "execution_count": 13,
   "id": "08b66e10",
   "metadata": {},
   "outputs": [
    {
     "name": "stdout",
     "output_type": "stream",
     "text": [
      "<class 'pandas.core.frame.DataFrame'>\n",
      "RangeIndex: 8341 entries, 0 to 8340\n",
      "Data columns (total 1 columns):\n",
      " #   Column      Non-Null Count  Dtype\n",
      "---  ------      --------------  -----\n",
      " 0   student_id  8341 non-null   int64\n",
      "dtypes: int64(1)\n",
      "memory usage: 65.3 KB\n"
     ]
    }
   ],
   "source": [
    "df_active_studs.info()"
   ]
  },
  {
   "cell_type": "code",
   "execution_count": 14,
   "id": "5e2ad8ae",
   "metadata": {},
   "outputs": [
    {
     "name": "stdout",
     "output_type": "stream",
     "text": [
      "<class 'pandas.core.frame.DataFrame'>\n",
      "RangeIndex: 541 entries, 0 to 540\n",
      "Data columns (total 2 columns):\n",
      " #   Column      Non-Null Count  Dtype  \n",
      "---  ------      --------------  -----  \n",
      " 0   student_id  541 non-null    int64  \n",
      " 1   rev         541 non-null    float64\n",
      "dtypes: float64(1), int64(1)\n",
      "memory usage: 8.6 KB\n"
     ]
    }
   ],
   "source": [
    "df_checks.info()"
   ]
  },
  {
   "cell_type": "markdown",
   "id": "5832c602",
   "metadata": {},
   "source": [
    "Пропусков значений не выявлено.  \n",
    "Переименуем колонку student_id в id чтоб было удобнее потом объединять таблицы."
   ]
  },
  {
   "cell_type": "code",
   "execution_count": 15,
   "id": "9ab63394",
   "metadata": {},
   "outputs": [
    {
     "data": {
      "text/html": [
       "<div>\n",
       "<style scoped>\n",
       "    .dataframe tbody tr th:only-of-type {\n",
       "        vertical-align: middle;\n",
       "    }\n",
       "\n",
       "    .dataframe tbody tr th {\n",
       "        vertical-align: top;\n",
       "    }\n",
       "\n",
       "    .dataframe thead th {\n",
       "        text-align: right;\n",
       "    }\n",
       "</style>\n",
       "<table border=\"1\" class=\"dataframe\">\n",
       "  <thead>\n",
       "    <tr style=\"text-align: right;\">\n",
       "      <th></th>\n",
       "      <th>id</th>\n",
       "    </tr>\n",
       "  </thead>\n",
       "  <tbody>\n",
       "    <tr>\n",
       "      <th>0</th>\n",
       "      <td>581585</td>\n",
       "    </tr>\n",
       "    <tr>\n",
       "      <th>1</th>\n",
       "      <td>5723133</td>\n",
       "    </tr>\n",
       "    <tr>\n",
       "      <th>2</th>\n",
       "      <td>3276743</td>\n",
       "    </tr>\n",
       "    <tr>\n",
       "      <th>3</th>\n",
       "      <td>4238589</td>\n",
       "    </tr>\n",
       "    <tr>\n",
       "      <th>4</th>\n",
       "      <td>4475369</td>\n",
       "    </tr>\n",
       "  </tbody>\n",
       "</table>\n",
       "</div>"
      ],
      "text/plain": [
       "        id\n",
       "0   581585\n",
       "1  5723133\n",
       "2  3276743\n",
       "3  4238589\n",
       "4  4475369"
      ]
     },
     "execution_count": 15,
     "metadata": {},
     "output_type": "execute_result"
    }
   ],
   "source": [
    "df_active_studs.rename(columns={'student_id':'id'}, inplace = True )\n",
    "df_active_studs.head()"
   ]
  },
  {
   "cell_type": "markdown",
   "id": "f7d673c0",
   "metadata": {},
   "source": [
    "Добавим колонку с единицей у активных людей для дальнейшего анализа."
   ]
  },
  {
   "cell_type": "code",
   "execution_count": 16,
   "id": "5adcbbd2",
   "metadata": {},
   "outputs": [
    {
     "data": {
      "text/html": [
       "<div>\n",
       "<style scoped>\n",
       "    .dataframe tbody tr th:only-of-type {\n",
       "        vertical-align: middle;\n",
       "    }\n",
       "\n",
       "    .dataframe tbody tr th {\n",
       "        vertical-align: top;\n",
       "    }\n",
       "\n",
       "    .dataframe thead th {\n",
       "        text-align: right;\n",
       "    }\n",
       "</style>\n",
       "<table border=\"1\" class=\"dataframe\">\n",
       "  <thead>\n",
       "    <tr style=\"text-align: right;\">\n",
       "      <th></th>\n",
       "      <th>id</th>\n",
       "      <th>active</th>\n",
       "    </tr>\n",
       "  </thead>\n",
       "  <tbody>\n",
       "    <tr>\n",
       "      <th>0</th>\n",
       "      <td>581585</td>\n",
       "      <td>1</td>\n",
       "    </tr>\n",
       "    <tr>\n",
       "      <th>1</th>\n",
       "      <td>5723133</td>\n",
       "      <td>1</td>\n",
       "    </tr>\n",
       "    <tr>\n",
       "      <th>2</th>\n",
       "      <td>3276743</td>\n",
       "      <td>1</td>\n",
       "    </tr>\n",
       "    <tr>\n",
       "      <th>3</th>\n",
       "      <td>4238589</td>\n",
       "      <td>1</td>\n",
       "    </tr>\n",
       "    <tr>\n",
       "      <th>4</th>\n",
       "      <td>4475369</td>\n",
       "      <td>1</td>\n",
       "    </tr>\n",
       "  </tbody>\n",
       "</table>\n",
       "</div>"
      ],
      "text/plain": [
       "        id active\n",
       "0   581585      1\n",
       "1  5723133      1\n",
       "2  3276743      1\n",
       "3  4238589      1\n",
       "4  4475369      1"
      ]
     },
     "execution_count": 16,
     "metadata": {},
     "output_type": "execute_result"
    }
   ],
   "source": [
    "df_active_studs['active'] = '1'\n",
    "df_active_studs.head()"
   ]
  },
  {
   "cell_type": "markdown",
   "id": "75f073a0",
   "metadata": {},
   "source": [
    "Добавим к данным с распределением по группам данные об активности."
   ]
  },
  {
   "cell_type": "code",
   "execution_count": 17,
   "id": "dbd90f83",
   "metadata": {},
   "outputs": [
    {
     "data": {
      "text/html": [
       "<div>\n",
       "<style scoped>\n",
       "    .dataframe tbody tr th:only-of-type {\n",
       "        vertical-align: middle;\n",
       "    }\n",
       "\n",
       "    .dataframe tbody tr th {\n",
       "        vertical-align: top;\n",
       "    }\n",
       "\n",
       "    .dataframe thead th {\n",
       "        text-align: right;\n",
       "    }\n",
       "</style>\n",
       "<table border=\"1\" class=\"dataframe\">\n",
       "  <thead>\n",
       "    <tr style=\"text-align: right;\">\n",
       "      <th></th>\n",
       "      <th>id</th>\n",
       "      <th>grp</th>\n",
       "      <th>active</th>\n",
       "    </tr>\n",
       "  </thead>\n",
       "  <tbody>\n",
       "    <tr>\n",
       "      <th>0</th>\n",
       "      <td>1489</td>\n",
       "      <td>B</td>\n",
       "      <td>NaN</td>\n",
       "    </tr>\n",
       "    <tr>\n",
       "      <th>1</th>\n",
       "      <td>1627</td>\n",
       "      <td>A</td>\n",
       "      <td>1</td>\n",
       "    </tr>\n",
       "    <tr>\n",
       "      <th>2</th>\n",
       "      <td>1768</td>\n",
       "      <td>B</td>\n",
       "      <td>NaN</td>\n",
       "    </tr>\n",
       "    <tr>\n",
       "      <th>3</th>\n",
       "      <td>1783</td>\n",
       "      <td>B</td>\n",
       "      <td>NaN</td>\n",
       "    </tr>\n",
       "    <tr>\n",
       "      <th>4</th>\n",
       "      <td>1794</td>\n",
       "      <td>A</td>\n",
       "      <td>NaN</td>\n",
       "    </tr>\n",
       "  </tbody>\n",
       "</table>\n",
       "</div>"
      ],
      "text/plain": [
       "     id grp active\n",
       "0  1489   B    NaN\n",
       "1  1627   A      1\n",
       "2  1768   B    NaN\n",
       "3  1783   B    NaN\n",
       "4  1794   A    NaN"
      ]
     },
     "execution_count": 17,
     "metadata": {},
     "output_type": "execute_result"
    }
   ],
   "source": [
    "df_and_active = df_groups_and_add.merge(df_active_studs, how='left', on='id')\n",
    "df_and_active.head()"
   ]
  },
  {
   "cell_type": "markdown",
   "id": "c4bbc463",
   "metadata": {},
   "source": [
    "В таблице с оплатами тоже переименуем колонку student_id в id для удобства объединения. Еще добавим колонку с единицами тем, у кого были оплаты. И объединим со всеми предыдущими данными."
   ]
  },
  {
   "cell_type": "code",
   "execution_count": 18,
   "id": "0b4f8807",
   "metadata": {},
   "outputs": [
    {
     "data": {
      "text/html": [
       "<div>\n",
       "<style scoped>\n",
       "    .dataframe tbody tr th:only-of-type {\n",
       "        vertical-align: middle;\n",
       "    }\n",
       "\n",
       "    .dataframe tbody tr th {\n",
       "        vertical-align: top;\n",
       "    }\n",
       "\n",
       "    .dataframe thead th {\n",
       "        text-align: right;\n",
       "    }\n",
       "</style>\n",
       "<table border=\"1\" class=\"dataframe\">\n",
       "  <thead>\n",
       "    <tr style=\"text-align: right;\">\n",
       "      <th></th>\n",
       "      <th>id</th>\n",
       "      <th>rev</th>\n",
       "      <th>pay</th>\n",
       "    </tr>\n",
       "  </thead>\n",
       "  <tbody>\n",
       "    <tr>\n",
       "      <th>0</th>\n",
       "      <td>1627</td>\n",
       "      <td>990.0</td>\n",
       "      <td>1</td>\n",
       "    </tr>\n",
       "    <tr>\n",
       "      <th>1</th>\n",
       "      <td>3185</td>\n",
       "      <td>690.0</td>\n",
       "      <td>1</td>\n",
       "    </tr>\n",
       "    <tr>\n",
       "      <th>2</th>\n",
       "      <td>25973</td>\n",
       "      <td>690.0</td>\n",
       "      <td>1</td>\n",
       "    </tr>\n",
       "    <tr>\n",
       "      <th>3</th>\n",
       "      <td>26280</td>\n",
       "      <td>690.0</td>\n",
       "      <td>1</td>\n",
       "    </tr>\n",
       "    <tr>\n",
       "      <th>4</th>\n",
       "      <td>100300</td>\n",
       "      <td>990.0</td>\n",
       "      <td>1</td>\n",
       "    </tr>\n",
       "  </tbody>\n",
       "</table>\n",
       "</div>"
      ],
      "text/plain": [
       "       id    rev  pay\n",
       "0    1627  990.0    1\n",
       "1    3185  690.0    1\n",
       "2   25973  690.0    1\n",
       "3   26280  690.0    1\n",
       "4  100300  990.0    1"
      ]
     },
     "execution_count": 18,
     "metadata": {},
     "output_type": "execute_result"
    }
   ],
   "source": [
    "df_checks.rename(columns={'student_id':'id'}, inplace = True )\n",
    "df_checks['pay'] = 1\n",
    "df_checks.head()"
   ]
  },
  {
   "cell_type": "code",
   "execution_count": 19,
   "id": "6658614c",
   "metadata": {},
   "outputs": [
    {
     "data": {
      "text/html": [
       "<div>\n",
       "<style scoped>\n",
       "    .dataframe tbody tr th:only-of-type {\n",
       "        vertical-align: middle;\n",
       "    }\n",
       "\n",
       "    .dataframe tbody tr th {\n",
       "        vertical-align: top;\n",
       "    }\n",
       "\n",
       "    .dataframe thead th {\n",
       "        text-align: right;\n",
       "    }\n",
       "</style>\n",
       "<table border=\"1\" class=\"dataframe\">\n",
       "  <thead>\n",
       "    <tr style=\"text-align: right;\">\n",
       "      <th></th>\n",
       "      <th>id</th>\n",
       "      <th>grp</th>\n",
       "      <th>active</th>\n",
       "      <th>rev</th>\n",
       "      <th>pay</th>\n",
       "    </tr>\n",
       "  </thead>\n",
       "  <tbody>\n",
       "    <tr>\n",
       "      <th>0</th>\n",
       "      <td>1489</td>\n",
       "      <td>B</td>\n",
       "      <td>NaN</td>\n",
       "      <td>NaN</td>\n",
       "      <td>NaN</td>\n",
       "    </tr>\n",
       "    <tr>\n",
       "      <th>1</th>\n",
       "      <td>1627</td>\n",
       "      <td>A</td>\n",
       "      <td>1</td>\n",
       "      <td>990.0</td>\n",
       "      <td>1.0</td>\n",
       "    </tr>\n",
       "    <tr>\n",
       "      <th>2</th>\n",
       "      <td>1768</td>\n",
       "      <td>B</td>\n",
       "      <td>NaN</td>\n",
       "      <td>NaN</td>\n",
       "      <td>NaN</td>\n",
       "    </tr>\n",
       "    <tr>\n",
       "      <th>3</th>\n",
       "      <td>1783</td>\n",
       "      <td>B</td>\n",
       "      <td>NaN</td>\n",
       "      <td>NaN</td>\n",
       "      <td>NaN</td>\n",
       "    </tr>\n",
       "    <tr>\n",
       "      <th>4</th>\n",
       "      <td>1794</td>\n",
       "      <td>A</td>\n",
       "      <td>NaN</td>\n",
       "      <td>NaN</td>\n",
       "      <td>NaN</td>\n",
       "    </tr>\n",
       "  </tbody>\n",
       "</table>\n",
       "</div>"
      ],
      "text/plain": [
       "     id grp active    rev  pay\n",
       "0  1489   B    NaN    NaN  NaN\n",
       "1  1627   A      1  990.0  1.0\n",
       "2  1768   B    NaN    NaN  NaN\n",
       "3  1783   B    NaN    NaN  NaN\n",
       "4  1794   A    NaN    NaN  NaN"
      ]
     },
     "execution_count": 19,
     "metadata": {},
     "output_type": "execute_result"
    }
   ],
   "source": [
    "df_all = df_and_active.merge(df_checks, how='left', on='id')\n",
    "df_all.head()"
   ]
  },
  {
   "cell_type": "code",
   "execution_count": 20,
   "id": "197a7d33",
   "metadata": {},
   "outputs": [
    {
     "name": "stdout",
     "output_type": "stream",
     "text": [
      "<class 'pandas.core.frame.DataFrame'>\n",
      "Int64Index: 74576 entries, 0 to 74575\n",
      "Data columns (total 5 columns):\n",
      " #   Column  Non-Null Count  Dtype  \n",
      "---  ------  --------------  -----  \n",
      " 0   id      74576 non-null  int64  \n",
      " 1   grp     74576 non-null  object \n",
      " 2   active  8341 non-null   object \n",
      " 3   rev     541 non-null    float64\n",
      " 4   pay     541 non-null    float64\n",
      "dtypes: float64(2), int64(1), object(2)\n",
      "memory usage: 3.4+ MB\n"
     ]
    }
   ],
   "source": [
    "df_all.info()"
   ]
  },
  {
   "cell_type": "markdown",
   "id": "d83c8983",
   "metadata": {},
   "source": [
    "В получившейся таблице у нас из 74576 человек вышло 8341 активных и 541 оплативших пользователей."
   ]
  },
  {
   "cell_type": "markdown",
   "id": "dea5bba9",
   "metadata": {},
   "source": [
    "Посмотрим сколько человек у нас стало в контрольной (A) и тестируемой (B) группах после объединения всех таблиц."
   ]
  },
  {
   "cell_type": "code",
   "execution_count": 21,
   "id": "aaddbda8",
   "metadata": {},
   "outputs": [
    {
     "data": {
      "text/html": [
       "<div>\n",
       "<style scoped>\n",
       "    .dataframe tbody tr th:only-of-type {\n",
       "        vertical-align: middle;\n",
       "    }\n",
       "\n",
       "    .dataframe tbody tr th {\n",
       "        vertical-align: top;\n",
       "    }\n",
       "\n",
       "    .dataframe thead th {\n",
       "        text-align: right;\n",
       "    }\n",
       "</style>\n",
       "<table border=\"1\" class=\"dataframe\">\n",
       "  <thead>\n",
       "    <tr style=\"text-align: right;\">\n",
       "      <th></th>\n",
       "      <th>droup</th>\n",
       "      <th>count_users</th>\n",
       "    </tr>\n",
       "  </thead>\n",
       "  <tbody>\n",
       "    <tr>\n",
       "      <th>0</th>\n",
       "      <td>A</td>\n",
       "      <td>14693</td>\n",
       "    </tr>\n",
       "    <tr>\n",
       "      <th>1</th>\n",
       "      <td>B</td>\n",
       "      <td>59883</td>\n",
       "    </tr>\n",
       "  </tbody>\n",
       "</table>\n",
       "</div>"
      ],
      "text/plain": [
       "  droup  count_users\n",
       "0     A        14693\n",
       "1     B        59883"
      ]
     },
     "execution_count": 21,
     "metadata": {},
     "output_type": "execute_result"
    }
   ],
   "source": [
    "group_clustering = df_all.groupby('grp', as_index=False) \\\n",
    "                                 .agg({'id': 'count'}) \\\n",
    "                                 .rename(columns={'id': 'count_users', 'grp': 'droup'})\n",
    "group_clustering"
   ]
  },
  {
   "cell_type": "markdown",
   "id": "57842f29",
   "metadata": {},
   "source": [
    "А сколько человек в группах в процентном соотношении?"
   ]
  },
  {
   "cell_type": "code",
   "execution_count": 22,
   "id": "662839f6",
   "metadata": {},
   "outputs": [
    {
     "data": {
      "text/html": [
       "<div>\n",
       "<style scoped>\n",
       "    .dataframe tbody tr th:only-of-type {\n",
       "        vertical-align: middle;\n",
       "    }\n",
       "\n",
       "    .dataframe tbody tr th {\n",
       "        vertical-align: top;\n",
       "    }\n",
       "\n",
       "    .dataframe thead th {\n",
       "        text-align: right;\n",
       "    }\n",
       "</style>\n",
       "<table border=\"1\" class=\"dataframe\">\n",
       "  <thead>\n",
       "    <tr style=\"text-align: right;\">\n",
       "      <th></th>\n",
       "      <th>droup</th>\n",
       "      <th>count_users</th>\n",
       "      <th>percent</th>\n",
       "    </tr>\n",
       "  </thead>\n",
       "  <tbody>\n",
       "    <tr>\n",
       "      <th>0</th>\n",
       "      <td>A</td>\n",
       "      <td>14693</td>\n",
       "      <td>19.7</td>\n",
       "    </tr>\n",
       "    <tr>\n",
       "      <th>1</th>\n",
       "      <td>B</td>\n",
       "      <td>59883</td>\n",
       "      <td>80.3</td>\n",
       "    </tr>\n",
       "  </tbody>\n",
       "</table>\n",
       "</div>"
      ],
      "text/plain": [
       "  droup  count_users  percent\n",
       "0     A        14693     19.7\n",
       "1     B        59883     80.3"
      ]
     },
     "execution_count": 22,
     "metadata": {},
     "output_type": "execute_result"
    }
   ],
   "source": [
    "group_clustering['percent'] = (group_clustering.count_users / df_all.shape[0] * 100).round(1)\n",
    "group_clustering"
   ]
  },
  {
   "cell_type": "markdown",
   "id": "f586f9df",
   "metadata": {},
   "source": [
    "Надо посмотреть сколько человек из 541 оплативших у нас НЕ были активными!"
   ]
  },
  {
   "cell_type": "code",
   "execution_count": 23,
   "id": "24968c18",
   "metadata": {},
   "outputs": [
    {
     "data": {
      "text/html": [
       "<div>\n",
       "<style scoped>\n",
       "    .dataframe tbody tr th:only-of-type {\n",
       "        vertical-align: middle;\n",
       "    }\n",
       "\n",
       "    .dataframe tbody tr th {\n",
       "        vertical-align: top;\n",
       "    }\n",
       "\n",
       "    .dataframe thead th {\n",
       "        text-align: right;\n",
       "    }\n",
       "</style>\n",
       "<table border=\"1\" class=\"dataframe\">\n",
       "  <thead>\n",
       "    <tr style=\"text-align: right;\">\n",
       "      <th></th>\n",
       "      <th>id</th>\n",
       "      <th>grp</th>\n",
       "      <th>active</th>\n",
       "      <th>rev</th>\n",
       "      <th>pay</th>\n",
       "    </tr>\n",
       "  </thead>\n",
       "  <tbody>\n",
       "    <tr>\n",
       "      <th>0</th>\n",
       "      <td>1489</td>\n",
       "      <td>B</td>\n",
       "      <td>0</td>\n",
       "      <td>0.0</td>\n",
       "      <td>0.0</td>\n",
       "    </tr>\n",
       "    <tr>\n",
       "      <th>1</th>\n",
       "      <td>1627</td>\n",
       "      <td>A</td>\n",
       "      <td>1</td>\n",
       "      <td>990.0</td>\n",
       "      <td>1.0</td>\n",
       "    </tr>\n",
       "    <tr>\n",
       "      <th>2</th>\n",
       "      <td>1768</td>\n",
       "      <td>B</td>\n",
       "      <td>0</td>\n",
       "      <td>0.0</td>\n",
       "      <td>0.0</td>\n",
       "    </tr>\n",
       "    <tr>\n",
       "      <th>3</th>\n",
       "      <td>1783</td>\n",
       "      <td>B</td>\n",
       "      <td>0</td>\n",
       "      <td>0.0</td>\n",
       "      <td>0.0</td>\n",
       "    </tr>\n",
       "    <tr>\n",
       "      <th>4</th>\n",
       "      <td>1794</td>\n",
       "      <td>A</td>\n",
       "      <td>0</td>\n",
       "      <td>0.0</td>\n",
       "      <td>0.0</td>\n",
       "    </tr>\n",
       "    <tr>\n",
       "      <th>...</th>\n",
       "      <td>...</td>\n",
       "      <td>...</td>\n",
       "      <td>...</td>\n",
       "      <td>...</td>\n",
       "      <td>...</td>\n",
       "    </tr>\n",
       "    <tr>\n",
       "      <th>74571</th>\n",
       "      <td>200247820</td>\n",
       "      <td>B</td>\n",
       "      <td>0</td>\n",
       "      <td>0.0</td>\n",
       "      <td>0.0</td>\n",
       "    </tr>\n",
       "    <tr>\n",
       "      <th>74572</th>\n",
       "      <td>201032527</td>\n",
       "      <td>B</td>\n",
       "      <td>0</td>\n",
       "      <td>0.0</td>\n",
       "      <td>0.0</td>\n",
       "    </tr>\n",
       "    <tr>\n",
       "      <th>74573</th>\n",
       "      <td>201067612</td>\n",
       "      <td>B</td>\n",
       "      <td>0</td>\n",
       "      <td>0.0</td>\n",
       "      <td>0.0</td>\n",
       "    </tr>\n",
       "    <tr>\n",
       "      <th>74574</th>\n",
       "      <td>201067653</td>\n",
       "      <td>B</td>\n",
       "      <td>0</td>\n",
       "      <td>0.0</td>\n",
       "      <td>0.0</td>\n",
       "    </tr>\n",
       "    <tr>\n",
       "      <th>74575</th>\n",
       "      <td>201067659</td>\n",
       "      <td>B</td>\n",
       "      <td>0</td>\n",
       "      <td>0.0</td>\n",
       "      <td>0.0</td>\n",
       "    </tr>\n",
       "  </tbody>\n",
       "</table>\n",
       "<p>74576 rows × 5 columns</p>\n",
       "</div>"
      ],
      "text/plain": [
       "              id grp active    rev  pay\n",
       "0           1489   B      0    0.0  0.0\n",
       "1           1627   A      1  990.0  1.0\n",
       "2           1768   B      0    0.0  0.0\n",
       "3           1783   B      0    0.0  0.0\n",
       "4           1794   A      0    0.0  0.0\n",
       "...          ...  ..    ...    ...  ...\n",
       "74571  200247820   B      0    0.0  0.0\n",
       "74572  201032527   B      0    0.0  0.0\n",
       "74573  201067612   B      0    0.0  0.0\n",
       "74574  201067653   B      0    0.0  0.0\n",
       "74575  201067659   B      0    0.0  0.0\n",
       "\n",
       "[74576 rows x 5 columns]"
      ]
     },
     "execution_count": 23,
     "metadata": {},
     "output_type": "execute_result"
    }
   ],
   "source": [
    "df_only_rev = df_all.fillna(0)\n",
    "df_only_rev"
   ]
  },
  {
   "cell_type": "code",
   "execution_count": 24,
   "id": "e0b72b17",
   "metadata": {},
   "outputs": [
    {
     "data": {
      "text/plain": [
       "B    120\n",
       "A     29\n",
       "Name: grp, dtype: int64"
      ]
     },
     "execution_count": 24,
     "metadata": {},
     "output_type": "execute_result"
    }
   ],
   "source": [
    "df_only_rev.query('rev > 0').query('active == 0').grp.value_counts()"
   ]
  },
  {
   "cell_type": "code",
   "execution_count": 25,
   "id": "38edf498",
   "metadata": {},
   "outputs": [
    {
     "data": {
      "text/plain": [
       "392"
      ]
     },
     "execution_count": 25,
     "metadata": {},
     "output_type": "execute_result"
    }
   ],
   "source": [
    "df_checks.shape[0] - df_only_rev.query('rev > 0').query('active == 0').shape[0]"
   ]
  },
  {
   "cell_type": "markdown",
   "id": "915420e9",
   "metadata": {},
   "source": [
    "392 человека оплатили и были при этом активны в период теста. У нас оплатили, но не были активны 120 человек из тестируемой группы и 29 человек из контрольной! Возможно, где-то закралась ошибка. А может у этих людей был подключен автоплатеж. Можно посмотреть суммы списания у этих людей:"
   ]
  },
  {
   "cell_type": "code",
   "execution_count": 26,
   "id": "114a39a6",
   "metadata": {},
   "outputs": [
    {
     "data": {
      "text/html": [
       "<div>\n",
       "<style scoped>\n",
       "    .dataframe tbody tr th:only-of-type {\n",
       "        vertical-align: middle;\n",
       "    }\n",
       "\n",
       "    .dataframe tbody tr th {\n",
       "        vertical-align: top;\n",
       "    }\n",
       "\n",
       "    .dataframe thead th {\n",
       "        text-align: right;\n",
       "    }\n",
       "</style>\n",
       "<table border=\"1\" class=\"dataframe\">\n",
       "  <thead>\n",
       "    <tr style=\"text-align: right;\">\n",
       "      <th></th>\n",
       "      <th>rev</th>\n",
       "      <th>times</th>\n",
       "    </tr>\n",
       "  </thead>\n",
       "  <tbody>\n",
       "    <tr>\n",
       "      <th>5</th>\n",
       "      <td>690.0000</td>\n",
       "      <td>61</td>\n",
       "    </tr>\n",
       "    <tr>\n",
       "      <th>1</th>\n",
       "      <td>290.0000</td>\n",
       "      <td>24</td>\n",
       "    </tr>\n",
       "    <tr>\n",
       "      <th>7</th>\n",
       "      <td>990.0000</td>\n",
       "      <td>19</td>\n",
       "    </tr>\n",
       "    <tr>\n",
       "      <th>0</th>\n",
       "      <td>199.0000</td>\n",
       "      <td>14</td>\n",
       "    </tr>\n",
       "    <tr>\n",
       "      <th>8</th>\n",
       "      <td>1140.0000</td>\n",
       "      <td>14</td>\n",
       "    </tr>\n",
       "    <tr>\n",
       "      <th>3</th>\n",
       "      <td>580.0000</td>\n",
       "      <td>4</td>\n",
       "    </tr>\n",
       "    <tr>\n",
       "      <th>10</th>\n",
       "      <td>1900.0000</td>\n",
       "      <td>4</td>\n",
       "    </tr>\n",
       "    <tr>\n",
       "      <th>6</th>\n",
       "      <td>840.0000</td>\n",
       "      <td>3</td>\n",
       "    </tr>\n",
       "    <tr>\n",
       "      <th>2</th>\n",
       "      <td>398.0000</td>\n",
       "      <td>2</td>\n",
       "    </tr>\n",
       "    <tr>\n",
       "      <th>4</th>\n",
       "      <td>630.0000</td>\n",
       "      <td>1</td>\n",
       "    </tr>\n",
       "    <tr>\n",
       "      <th>9</th>\n",
       "      <td>1180.0000</td>\n",
       "      <td>1</td>\n",
       "    </tr>\n",
       "    <tr>\n",
       "      <th>11</th>\n",
       "      <td>1900.0001</td>\n",
       "      <td>1</td>\n",
       "    </tr>\n",
       "    <tr>\n",
       "      <th>12</th>\n",
       "      <td>1980.0000</td>\n",
       "      <td>1</td>\n",
       "    </tr>\n",
       "  </tbody>\n",
       "</table>\n",
       "</div>"
      ],
      "text/plain": [
       "          rev  times\n",
       "5    690.0000     61\n",
       "1    290.0000     24\n",
       "7    990.0000     19\n",
       "0    199.0000     14\n",
       "8   1140.0000     14\n",
       "3    580.0000      4\n",
       "10  1900.0000      4\n",
       "6    840.0000      3\n",
       "2    398.0000      2\n",
       "4    630.0000      1\n",
       "9   1180.0000      1\n",
       "11  1900.0001      1\n",
       "12  1980.0000      1"
      ]
     },
     "execution_count": 26,
     "metadata": {},
     "output_type": "execute_result"
    }
   ],
   "source": [
    "df_only_rev.query('rev > 0'). \\\n",
    "            query('active == 0'). \\\n",
    "            groupby('rev', as_index=False). \\\n",
    "            agg({'id':'count'}).rename(columns={'id': \"times\"}) \\\n",
    "            .sort_values('times', ascending = False)"
   ]
  },
  {
   "cell_type": "markdown",
   "id": "b1bdd2f8",
   "metadata": {},
   "source": [
    "Все суммы разные, это может быть автоматическое списание за какое-либо количество прорешенных задач или использованных дней подписки."
   ]
  },
  {
   "cell_type": "markdown",
   "id": "5f2fe23b",
   "metadata": {},
   "source": [
    "Посмотрим сколько человек в % из оплативших не заходили на сайт в дни теста"
   ]
  },
  {
   "cell_type": "code",
   "execution_count": 27,
   "id": "4abf5ccb",
   "metadata": {},
   "outputs": [
    {
     "data": {
      "text/plain": [
       "id    27.54\n",
       "dtype: float64"
      ]
     },
     "execution_count": 27,
     "metadata": {},
     "output_type": "execute_result"
    }
   ],
   "source": [
    "round(df_only_rev.query('rev > 0')\n",
    "                  .query('active == 0')\n",
    "                  .agg({'id':'count'}) / df_only_rev.query('rev > 0')\n",
    "                                                      .agg({'id':'count'}) * 100, 2)"
   ]
  },
  {
   "cell_type": "markdown",
   "id": "f6253ac2",
   "metadata": {},
   "source": [
    "27,5% от общего количества оплативших не были активны в дни теста на сайте."
   ]
  },
  {
   "cell_type": "markdown",
   "id": "f40977b6",
   "metadata": {},
   "source": [
    "Можно еще посмотреть какой % суммы от общей суммы оплаты пришёлся на неактивных в период теста пользователей:"
   ]
  },
  {
   "cell_type": "code",
   "execution_count": 28,
   "id": "437673e2",
   "metadata": {},
   "outputs": [
    {
     "data": {
      "text/plain": [
       "rev    18.41\n",
       "dtype: float64"
      ]
     },
     "execution_count": 28,
     "metadata": {},
     "output_type": "execute_result"
    }
   ],
   "source": [
    "round(df_only_rev.query('rev > 0')\n",
    "                  .query('active == 0')\n",
    "                  .agg({'rev':'sum'})/ df_only_rev.query('rev > 0')\n",
    "                                                      .agg({'rev':'sum'}) * 100, 2)"
   ]
  },
  {
   "cell_type": "markdown",
   "id": "fdb3e41c",
   "metadata": {},
   "source": [
    "Сколько всего денег принесли активные пользователи в контрольной и в тестируемой группах?"
   ]
  },
  {
   "cell_type": "code",
   "execution_count": 29,
   "id": "23d61841",
   "metadata": {},
   "outputs": [
    {
     "data": {
      "text/html": [
       "<div>\n",
       "<style scoped>\n",
       "    .dataframe tbody tr th:only-of-type {\n",
       "        vertical-align: middle;\n",
       "    }\n",
       "\n",
       "    .dataframe tbody tr th {\n",
       "        vertical-align: top;\n",
       "    }\n",
       "\n",
       "    .dataframe thead th {\n",
       "        text-align: right;\n",
       "    }\n",
       "</style>\n",
       "<table border=\"1\" class=\"dataframe\">\n",
       "  <thead>\n",
       "    <tr style=\"text-align: right;\">\n",
       "      <th></th>\n",
       "      <th>group</th>\n",
       "      <th>sum_money</th>\n",
       "    </tr>\n",
       "  </thead>\n",
       "  <tbody>\n",
       "    <tr>\n",
       "      <th>0</th>\n",
       "      <td>A</td>\n",
       "      <td>72820.0</td>\n",
       "    </tr>\n",
       "    <tr>\n",
       "      <th>1</th>\n",
       "      <td>B</td>\n",
       "      <td>394974.0</td>\n",
       "    </tr>\n",
       "  </tbody>\n",
       "</table>\n",
       "</div>"
      ],
      "text/plain": [
       "  group  sum_money\n",
       "0     A    72820.0\n",
       "1     B   394974.0"
      ]
     },
     "execution_count": 29,
     "metadata": {},
     "output_type": "execute_result"
    }
   ],
   "source": [
    "df_sum_of_money = df_only_rev.query('active == \"1\"') \\\n",
    "                            .groupby('grp', as_index=False) \\\n",
    "                            .agg({'rev':'sum'}) \\\n",
    "                            .rename(columns= {'rev':'sum_money', 'grp':'group'}) \\\n",
    "                            .round()\n",
    "df_sum_of_money"
   ]
  },
  {
   "cell_type": "markdown",
   "id": "17363306",
   "metadata": {},
   "source": [
    "Посмотри на графике"
   ]
  },
  {
   "cell_type": "code",
   "execution_count": 30,
   "id": "bd948263",
   "metadata": {},
   "outputs": [
    {
     "data": {
      "image/png": "[encoded data removed]",
      "text/plain": [
       "<Figure size 1000x700 with 1 Axes>"
      ]
     },
     "metadata": {},
     "output_type": "display_data"
    }
   ],
   "source": [
    "sns.set(rc={'figure.figsize' : (10, 7)}, style=\"whitegrid\", palette=\"hls\")\n",
    "sns.barplot(data=df_sum_of_money, x=\"group\", y = \"sum_money\", hue=\"group\")\n",
    "plt.show()"
   ]
  },
  {
   "cell_type": "markdown",
   "id": "1e661347",
   "metadata": {},
   "source": [
    "Такой разрыв вполне может быть из-за неравномерного распределения людей по группам."
   ]
  },
  {
   "cell_type": "markdown",
   "id": "99aad4b7",
   "metadata": {},
   "source": [
    "А какие суммы у нас проходили? Были ли странности?"
   ]
  },
  {
   "cell_type": "code",
   "execution_count": 31,
   "id": "57e939c0",
   "metadata": {},
   "outputs": [
    {
     "data": {
      "text/plain": [
       "1900.0000    97\n",
       "290.0000     94\n",
       "690.0000     78\n",
       "199.0000     46\n",
       "990.0000     41\n",
       "1900.0001    36\n",
       "840.0000     27\n",
       "1140.0000    25\n",
       "580.0000     15\n",
       "590.0000     11\n",
       "398.0000      9\n",
       "1530.0000     8\n",
       "870.0000      6\n",
       "3660.0000     5\n",
       "1980.0000     4\n",
       "2890.0000     4\n",
       "2910.0000     4\n",
       "489.0000      3\n",
       "1160.0000     3\n",
       "2099.0000     3\n",
       "2820.0000     2\n",
       "1180.0000     2\n",
       "2220.0000     2\n",
       "2900.0000     1\n",
       "1830.0000     1\n",
       "597.0000      1\n",
       "1339.0000     1\n",
       "1968.0000     1\n",
       "1050.0000     1\n",
       "630.0000      1\n",
       "1729.0000     1\n",
       "1388.0000     1\n",
       "2190.0000     1\n",
       "4650.0000     1\n",
       "796.0000      1\n",
       "3040.0000     1\n",
       "880.0000      1\n",
       "3260.0000     1\n",
       "1039.0000     1\n",
       "Name: rev, dtype: int64"
      ]
     },
     "execution_count": 31,
     "metadata": {},
     "output_type": "execute_result"
    }
   ],
   "source": [
    "df_only_rev.query('rev > 0').rev.value_counts()"
   ]
  },
  {
   "cell_type": "code",
   "execution_count": 32,
   "id": "d52b30ff",
   "metadata": {},
   "outputs": [
    {
     "data": {
      "text/plain": [
       "39"
      ]
     },
     "execution_count": 32,
     "metadata": {},
     "output_type": "execute_result"
    }
   ],
   "source": [
    "# Сколько всего у нас уникальных значений сумм?\n",
    "df_only_rev.query('rev > 0').rev.nunique()"
   ]
  },
  {
   "cell_type": "markdown",
   "id": "3ff6162c",
   "metadata": {},
   "source": [
    "1900.0001 очень сильно выбивается из общего списка, скорее всего был сбой. Надо обратить внимание программистов на округление сумм или на типы данных! Хотя проблема может прятаться и не там."
   ]
  },
  {
   "cell_type": "markdown",
   "id": "7b6a5933",
   "metadata": {},
   "source": [
    "Сделаем датасет с только оплатившими людьми."
   ]
  },
  {
   "cell_type": "code",
   "execution_count": 33,
   "id": "1570fca3",
   "metadata": {},
   "outputs": [
    {
     "data": {
      "text/html": [
       "<div>\n",
       "<style scoped>\n",
       "    .dataframe tbody tr th:only-of-type {\n",
       "        vertical-align: middle;\n",
       "    }\n",
       "\n",
       "    .dataframe tbody tr th {\n",
       "        vertical-align: top;\n",
       "    }\n",
       "\n",
       "    .dataframe thead th {\n",
       "        text-align: right;\n",
       "    }\n",
       "</style>\n",
       "<table border=\"1\" class=\"dataframe\">\n",
       "  <thead>\n",
       "    <tr style=\"text-align: right;\">\n",
       "      <th></th>\n",
       "      <th>id</th>\n",
       "      <th>grp</th>\n",
       "      <th>active</th>\n",
       "      <th>rev</th>\n",
       "      <th>pay</th>\n",
       "    </tr>\n",
       "  </thead>\n",
       "  <tbody>\n",
       "    <tr>\n",
       "      <th>1</th>\n",
       "      <td>1627</td>\n",
       "      <td>A</td>\n",
       "      <td>1</td>\n",
       "      <td>990.0</td>\n",
       "      <td>1.0</td>\n",
       "    </tr>\n",
       "    <tr>\n",
       "      <th>39</th>\n",
       "      <td>3185</td>\n",
       "      <td>B</td>\n",
       "      <td>0</td>\n",
       "      <td>690.0</td>\n",
       "      <td>1.0</td>\n",
       "    </tr>\n",
       "    <tr>\n",
       "      <th>121</th>\n",
       "      <td>25973</td>\n",
       "      <td>B</td>\n",
       "      <td>0</td>\n",
       "      <td>690.0</td>\n",
       "      <td>1.0</td>\n",
       "    </tr>\n",
       "    <tr>\n",
       "      <th>125</th>\n",
       "      <td>26280</td>\n",
       "      <td>B</td>\n",
       "      <td>0</td>\n",
       "      <td>690.0</td>\n",
       "      <td>1.0</td>\n",
       "    </tr>\n",
       "    <tr>\n",
       "      <th>220</th>\n",
       "      <td>100300</td>\n",
       "      <td>B</td>\n",
       "      <td>1</td>\n",
       "      <td>990.0</td>\n",
       "      <td>1.0</td>\n",
       "    </tr>\n",
       "  </tbody>\n",
       "</table>\n",
       "</div>"
      ],
      "text/plain": [
       "         id grp active    rev  pay\n",
       "1      1627   A      1  990.0  1.0\n",
       "39     3185   B      0  690.0  1.0\n",
       "121   25973   B      0  690.0  1.0\n",
       "125   26280   B      0  690.0  1.0\n",
       "220  100300   B      1  990.0  1.0"
      ]
     },
     "execution_count": 33,
     "metadata": {},
     "output_type": "execute_result"
    }
   ],
   "source": [
    "df_pay = df_only_rev.query('rev > 0')\n",
    "df_pay.head()"
   ]
  },
  {
   "cell_type": "markdown",
   "id": "bc4e12a7",
   "metadata": {},
   "source": [
    "Глянем, есть ли повторяющиеся id"
   ]
  },
  {
   "cell_type": "code",
   "execution_count": 34,
   "id": "47ecdaaf",
   "metadata": {},
   "outputs": [
    {
     "data": {
      "text/plain": [
       "1"
      ]
     },
     "execution_count": 34,
     "metadata": {},
     "output_type": "execute_result"
    }
   ],
   "source": [
    "df_pay.id.value_counts().max()"
   ]
  },
  {
   "cell_type": "markdown",
   "id": "44d0bebd",
   "metadata": {},
   "source": [
    "Повторяющихся id нет"
   ]
  },
  {
   "cell_type": "markdown",
   "id": "7c06e188",
   "metadata": {},
   "source": [
    "Посмотрим на какие примерно суммы приходится большая часть оплат в обеих группах, для этого разобьем все оплаты на 5 категорий:"
   ]
  },
  {
   "cell_type": "code",
   "execution_count": 35,
   "id": "a1833230",
   "metadata": {},
   "outputs": [
    {
     "data": {
      "text/plain": [
       "(195.53799999999998, 891.2]    0.71\n",
       "(891.2, 1583.4]                0.17\n",
       "(2275.6, 2967.8]               0.06\n",
       "(1583.4, 2275.6]               0.04\n",
       "(2967.8, 3660.0]               0.03\n",
       "Name: rev, dtype: float64"
      ]
     },
     "execution_count": 35,
     "metadata": {},
     "output_type": "execute_result"
    }
   ],
   "source": [
    "df_pay_control = df_pay.query('grp == \"A\"').rev.value_counts(normalize=True, bins=5).round(2)\n",
    "df_pay_control"
   ]
  },
  {
   "cell_type": "code",
   "execution_count": 36,
   "id": "3e287638",
   "metadata": {},
   "outputs": [
    {
     "data": {
      "text/plain": [
       "(194.548, 1089.2]    0.58\n",
       "(1089.2, 1979.4]     0.38\n",
       "(2869.6, 3759.8]     0.02\n",
       "(1979.4, 2869.6]     0.02\n",
       "(3759.8, 4650.0]     0.00\n",
       "Name: rev, dtype: float64"
      ]
     },
     "execution_count": 36,
     "metadata": {},
     "output_type": "execute_result"
    }
   ],
   "source": [
    "df_pay_test = df_pay.query('grp == \"B\"').rev.value_counts(normalize=True, bins=5).round(2)\n",
    "df_pay_test"
   ]
  },
  {
   "cell_type": "markdown",
   "id": "5ffb0379",
   "metadata": {},
   "source": [
    "А если в точных суммах посмотреть на топ 10 сумм оплат в обеих группах?"
   ]
  },
  {
   "cell_type": "code",
   "execution_count": 37,
   "id": "21aa9d28",
   "metadata": {},
   "outputs": [
    {
     "data": {
      "text/plain": [
       "290.0     31\n",
       "690.0     19\n",
       "199.0      7\n",
       "990.0      6\n",
       "580.0      6\n",
       "590.0      5\n",
       "1140.0     5\n",
       "1530.0     3\n",
       "840.0      3\n",
       "3660.0     3\n",
       "Name: rev, dtype: int64"
      ]
     },
     "execution_count": 37,
     "metadata": {},
     "output_type": "execute_result"
    }
   ],
   "source": [
    "# контрольная группа:\n",
    "df_pay.query('grp == \"A\"').rev.value_counts().head(10)"
   ]
  },
  {
   "cell_type": "code",
   "execution_count": 38,
   "id": "7211c6b0",
   "metadata": {},
   "outputs": [
    {
     "data": {
      "text/plain": [
       "1900.0000    97\n",
       "290.0000     63\n",
       "690.0000     59\n",
       "199.0000     39\n",
       "1900.0001    36\n",
       "990.0000     35\n",
       "840.0000     24\n",
       "1140.0000    20\n",
       "580.0000      9\n",
       "398.0000      7\n",
       "Name: rev, dtype: int64"
      ]
     },
     "execution_count": 38,
     "metadata": {},
     "output_type": "execute_result"
    }
   ],
   "source": [
    "# тестируемая группа\n",
    "df_pay.query('grp == \"B\"').rev.value_counts().head(10)"
   ]
  },
  {
   "cell_type": "markdown",
   "id": "76b27edb",
   "metadata": {},
   "source": [
    "Топ 3 проходящих оплат пришлась в контрольной группе на суммы от 199 до 690р,с уклоном в меньшую сторону, тогда как в целевой группе от 290 до 1900р с явным превосходством 1900р как чека."
   ]
  },
  {
   "cell_type": "markdown",
   "id": "34ad27c8",
   "metadata": {},
   "source": [
    "Необходимо посмотреть количество человек в контрольной и тестируемой группах в датасете с данными только оплативших людей."
   ]
  },
  {
   "cell_type": "code",
   "execution_count": 39,
   "id": "a1a5c68d",
   "metadata": {},
   "outputs": [
    {
     "data": {
      "text/html": [
       "<div>\n",
       "<style scoped>\n",
       "    .dataframe tbody tr th:only-of-type {\n",
       "        vertical-align: middle;\n",
       "    }\n",
       "\n",
       "    .dataframe tbody tr th {\n",
       "        vertical-align: top;\n",
       "    }\n",
       "\n",
       "    .dataframe thead th {\n",
       "        text-align: right;\n",
       "    }\n",
       "</style>\n",
       "<table border=\"1\" class=\"dataframe\">\n",
       "  <thead>\n",
       "    <tr style=\"text-align: right;\">\n",
       "      <th></th>\n",
       "      <th>grp</th>\n",
       "      <th>count_users</th>\n",
       "      <th>percent</th>\n",
       "    </tr>\n",
       "  </thead>\n",
       "  <tbody>\n",
       "    <tr>\n",
       "      <th>0</th>\n",
       "      <td>A</td>\n",
       "      <td>107</td>\n",
       "      <td>19.8</td>\n",
       "    </tr>\n",
       "    <tr>\n",
       "      <th>1</th>\n",
       "      <td>B</td>\n",
       "      <td>434</td>\n",
       "      <td>80.2</td>\n",
       "    </tr>\n",
       "  </tbody>\n",
       "</table>\n",
       "</div>"
      ],
      "text/plain": [
       "  grp  count_users  percent\n",
       "0   A          107     19.8\n",
       "1   B          434     80.2"
      ]
     },
     "execution_count": 39,
     "metadata": {},
     "output_type": "execute_result"
    }
   ],
   "source": [
    "df_count = df_pay.groupby('grp', as_index=False).agg({'id':'count'}).rename(columns={'id': \"count_users\"})\n",
    "df_count['percent'] = (df_count.count_users / df_pay.shape[0] * 100).round(1)\n",
    "df_count"
   ]
  },
  {
   "cell_type": "markdown",
   "id": "593bf325",
   "metadata": {},
   "source": [
    "А если посмотреть соотношение людей в датасете, где указаны оплатившие и неоплатившие люди?"
   ]
  },
  {
   "cell_type": "code",
   "execution_count": 40,
   "id": "b08c6dac",
   "metadata": {},
   "outputs": [
    {
     "data": {
      "text/html": [
       "<div>\n",
       "<style scoped>\n",
       "    .dataframe tbody tr th:only-of-type {\n",
       "        vertical-align: middle;\n",
       "    }\n",
       "\n",
       "    .dataframe tbody tr th {\n",
       "        vertical-align: top;\n",
       "    }\n",
       "\n",
       "    .dataframe thead th {\n",
       "        text-align: right;\n",
       "    }\n",
       "</style>\n",
       "<table border=\"1\" class=\"dataframe\">\n",
       "  <thead>\n",
       "    <tr style=\"text-align: right;\">\n",
       "      <th></th>\n",
       "      <th>grp</th>\n",
       "      <th>count_users</th>\n",
       "      <th>percent</th>\n",
       "    </tr>\n",
       "  </thead>\n",
       "  <tbody>\n",
       "    <tr>\n",
       "      <th>0</th>\n",
       "      <td>A</td>\n",
       "      <td>14693</td>\n",
       "      <td>19.7</td>\n",
       "    </tr>\n",
       "    <tr>\n",
       "      <th>1</th>\n",
       "      <td>B</td>\n",
       "      <td>59883</td>\n",
       "      <td>80.3</td>\n",
       "    </tr>\n",
       "  </tbody>\n",
       "</table>\n",
       "</div>"
      ],
      "text/plain": [
       "  grp  count_users  percent\n",
       "0   A        14693     19.7\n",
       "1   B        59883     80.3"
      ]
     },
     "execution_count": 40,
     "metadata": {},
     "output_type": "execute_result"
    }
   ],
   "source": [
    "df_count_all = df_all.groupby('grp', as_index=False).agg({'id':'count'}).rename(columns={'id': \"count_users\"})\n",
    "df_count_all['percent'] = (df_count_all.count_users / df_all.shape[0] * 100).round(1)\n",
    "df_count_all"
   ]
  },
  {
   "cell_type": "markdown",
   "id": "dcc5e3a2",
   "metadata": {},
   "source": [
    "Видно, что процент контрольной и тестируемой групп не сильно отличается в исходном наборе данных и в наборе данных с только проплатившими подписку людьми."
   ]
  },
  {
   "cell_type": "markdown",
   "id": "939d3c39",
   "metadata": {},
   "source": [
    "Продолжим работать с датасетом только оплативших активных людей. Нет смысла смотреть неактивных людей, так как нам интересен результат теста. Можем посмотреть наглядно количество оплат от контрольной и тестовой групп:"
   ]
  },
  {
   "cell_type": "code",
   "execution_count": 41,
   "id": "62ebd340",
   "metadata": {},
   "outputs": [
    {
     "data": {
      "text/html": [
       "<div>\n",
       "<style scoped>\n",
       "    .dataframe tbody tr th:only-of-type {\n",
       "        vertical-align: middle;\n",
       "    }\n",
       "\n",
       "    .dataframe tbody tr th {\n",
       "        vertical-align: top;\n",
       "    }\n",
       "\n",
       "    .dataframe thead th {\n",
       "        text-align: right;\n",
       "    }\n",
       "</style>\n",
       "<table border=\"1\" class=\"dataframe\">\n",
       "  <thead>\n",
       "    <tr style=\"text-align: right;\">\n",
       "      <th></th>\n",
       "      <th>id</th>\n",
       "      <th>grp</th>\n",
       "      <th>active</th>\n",
       "      <th>price</th>\n",
       "      <th>pay</th>\n",
       "    </tr>\n",
       "  </thead>\n",
       "  <tbody>\n",
       "    <tr>\n",
       "      <th>1</th>\n",
       "      <td>1627</td>\n",
       "      <td>A</td>\n",
       "      <td>1</td>\n",
       "      <td>990.0000</td>\n",
       "      <td>1.0</td>\n",
       "    </tr>\n",
       "    <tr>\n",
       "      <th>220</th>\n",
       "      <td>100300</td>\n",
       "      <td>B</td>\n",
       "      <td>1</td>\n",
       "      <td>990.0000</td>\n",
       "      <td>1.0</td>\n",
       "    </tr>\n",
       "    <tr>\n",
       "      <th>320</th>\n",
       "      <td>108270</td>\n",
       "      <td>B</td>\n",
       "      <td>1</td>\n",
       "      <td>290.0000</td>\n",
       "      <td>1.0</td>\n",
       "    </tr>\n",
       "    <tr>\n",
       "      <th>3779</th>\n",
       "      <td>264473</td>\n",
       "      <td>B</td>\n",
       "      <td>1</td>\n",
       "      <td>1900.0001</td>\n",
       "      <td>1.0</td>\n",
       "    </tr>\n",
       "    <tr>\n",
       "      <th>4187</th>\n",
       "      <td>274352</td>\n",
       "      <td>B</td>\n",
       "      <td>1</td>\n",
       "      <td>690.0000</td>\n",
       "      <td>1.0</td>\n",
       "    </tr>\n",
       "  </tbody>\n",
       "</table>\n",
       "</div>"
      ],
      "text/plain": [
       "          id grp active      price  pay\n",
       "1       1627   A      1   990.0000  1.0\n",
       "220   100300   B      1   990.0000  1.0\n",
       "320   108270   B      1   290.0000  1.0\n",
       "3779  264473   B      1  1900.0001  1.0\n",
       "4187  274352   B      1   690.0000  1.0"
      ]
     },
     "execution_count": 41,
     "metadata": {},
     "output_type": "execute_result"
    }
   ],
   "source": [
    "df_pay_active = df_pay.query('active == \"1\"').rename(columns={'rev': \"price\"})\n",
    "df_pay_active.head()"
   ]
  },
  {
   "cell_type": "code",
   "execution_count": 42,
   "id": "e4ae1416",
   "metadata": {},
   "outputs": [
    {
     "data": {
      "text/plain": [
       "(392, 5)"
      ]
     },
     "execution_count": 42,
     "metadata": {},
     "output_type": "execute_result"
    }
   ],
   "source": [
    "df_pay_active.shape"
   ]
  },
  {
   "cell_type": "code",
   "execution_count": 43,
   "id": "e3359f68",
   "metadata": {},
   "outputs": [
    {
     "data": {
      "image/png": "[encoded data removed]",
      "text/plain": [
       "<Figure size 1000x700 with 1 Axes>"
      ]
     },
     "metadata": {},
     "output_type": "display_data"
    }
   ],
   "source": [
    "# сначала посмотрим как распределяются оплаты относительно контрольной и тестовой групп\n",
    "sns.histplot(data=df_pay_active, x='price', hue='grp', bins=20, kde=True)\n",
    "# bins берем за 20, т.к. уникальных значений сумм у нас 39, но там почти половина это по 1-2 оплаты,\n",
    "# значит количество подгрупп можно сократить в два раза, если сократить больше, то будет не так наглядно\n",
    "plt.show()"
   ]
  },
  {
   "cell_type": "code",
   "execution_count": 44,
   "id": "d6503dc5",
   "metadata": {},
   "outputs": [
    {
     "data": {
      "image/png": "[encoded data removed]",
      "text/plain": [
       "<Figure size 1000x700 with 1 Axes>"
      ]
     },
     "metadata": {},
     "output_type": "display_data"
    }
   ],
   "source": [
    "sns.boxplot(data=df_pay_active, y='price', x='grp')\n",
    "plt.show()"
   ]
  },
  {
   "cell_type": "code",
   "execution_count": 45,
   "id": "371e0650",
   "metadata": {},
   "outputs": [
    {
     "data": {
      "image/png": "[encoded data removed]",
      "text/plain": [
       "<Figure size 565.25x500 with 1 Axes>"
      ]
     },
     "metadata": {},
     "output_type": "display_data"
    }
   ],
   "source": [
    "# теперь можно наглядно увидеть какую долю от общих оплат фиксированных сумм оплатили люди из контрольной,\n",
    "# а какую из тестовой группы\n",
    "sns.displot(data=df_pay_active, x='price', hue='grp', multiple=\"stack\", bins=20)\n",
    "plt.show()"
   ]
  },
  {
   "cell_type": "markdown",
   "id": "c08dbe86",
   "metadata": {},
   "source": [
    "#### 1.3 Вопросы ####\n",
    "\n",
    "Предлагаем Вам ответить на следующие вопросы:\n",
    "\n",
    "    На какие метрики Вы смотрите в ходе анализа и почему?\n",
    "    Имеются ли различия в показателях и с чем они могут быть связаны?\n",
    "    Являются ли эти различия статистически значимыми?\n",
    "    Стоит ли запускать новую механику на всех пользователей?"
   ]
  },
  {
   "cell_type": "markdown",
   "id": "d2278c34",
   "metadata": {},
   "source": [
    "За основные метрики мы можем взять конверсию CR, средний доход на платящего пользователя ARPPU, средний доход с привлечённого пользователя ARPU:\n",
    "\n",
    "    CR это отношение в нашем случае оплативших людей  / к количеству людей активных в период эксперимента\n",
    "    ARPPU это итоговая сумма / число оплативших\n",
    "    ARPU это уже средняя выручка на одного клиента, считается как ARPPU * CR\n",
    "Метрик связанных со временем мы взять не можем за неимением временных данных.\n"
   ]
  },
  {
   "cell_type": "code",
   "execution_count": 46,
   "id": "6eff9ec2",
   "metadata": {},
   "outputs": [
    {
     "data": {
      "text/html": [
       "<div>\n",
       "<style scoped>\n",
       "    .dataframe tbody tr th:only-of-type {\n",
       "        vertical-align: middle;\n",
       "    }\n",
       "\n",
       "    .dataframe tbody tr th {\n",
       "        vertical-align: top;\n",
       "    }\n",
       "\n",
       "    .dataframe thead th {\n",
       "        text-align: right;\n",
       "    }\n",
       "</style>\n",
       "<table border=\"1\" class=\"dataframe\">\n",
       "  <thead>\n",
       "    <tr style=\"text-align: right;\">\n",
       "      <th></th>\n",
       "      <th>id</th>\n",
       "      <th>grp</th>\n",
       "      <th>active</th>\n",
       "      <th>rev</th>\n",
       "      <th>pay</th>\n",
       "    </tr>\n",
       "  </thead>\n",
       "  <tbody>\n",
       "    <tr>\n",
       "      <th>1</th>\n",
       "      <td>1627</td>\n",
       "      <td>A</td>\n",
       "      <td>1</td>\n",
       "      <td>990.0</td>\n",
       "      <td>1.0</td>\n",
       "    </tr>\n",
       "    <tr>\n",
       "      <th>10</th>\n",
       "      <td>2085</td>\n",
       "      <td>B</td>\n",
       "      <td>1</td>\n",
       "      <td>0.0</td>\n",
       "      <td>0.0</td>\n",
       "    </tr>\n",
       "    <tr>\n",
       "      <th>12</th>\n",
       "      <td>2215</td>\n",
       "      <td>B</td>\n",
       "      <td>1</td>\n",
       "      <td>0.0</td>\n",
       "      <td>0.0</td>\n",
       "    </tr>\n",
       "    <tr>\n",
       "      <th>43</th>\n",
       "      <td>3391</td>\n",
       "      <td>A</td>\n",
       "      <td>1</td>\n",
       "      <td>0.0</td>\n",
       "      <td>0.0</td>\n",
       "    </tr>\n",
       "    <tr>\n",
       "      <th>45</th>\n",
       "      <td>3401</td>\n",
       "      <td>B</td>\n",
       "      <td>1</td>\n",
       "      <td>0.0</td>\n",
       "      <td>0.0</td>\n",
       "    </tr>\n",
       "  </tbody>\n",
       "</table>\n",
       "</div>"
      ],
      "text/plain": [
       "      id grp active    rev  pay\n",
       "1   1627   A      1  990.0  1.0\n",
       "10  2085   B      1    0.0  0.0\n",
       "12  2215   B      1    0.0  0.0\n",
       "43  3391   A      1    0.0  0.0\n",
       "45  3401   B      1    0.0  0.0"
      ]
     },
     "execution_count": 46,
     "metadata": {},
     "output_type": "execute_result"
    }
   ],
   "source": [
    "# сначала отберем только активных в дни эксперимента людей\n",
    "df_only_active = df_all.query('active == \"1\"')\n",
    "df_only_active = df_only_active.fillna(0)\n",
    "df_only_active.head()"
   ]
  },
  {
   "cell_type": "code",
   "execution_count": 47,
   "id": "efcbf4d4",
   "metadata": {},
   "outputs": [
    {
     "data": {
      "text/html": [
       "<div>\n",
       "<style scoped>\n",
       "    .dataframe tbody tr th:only-of-type {\n",
       "        vertical-align: middle;\n",
       "    }\n",
       "\n",
       "    .dataframe tbody tr th {\n",
       "        vertical-align: top;\n",
       "    }\n",
       "\n",
       "    .dataframe thead th {\n",
       "        text-align: right;\n",
       "    }\n",
       "</style>\n",
       "<table border=\"1\" class=\"dataframe\">\n",
       "  <thead>\n",
       "    <tr style=\"text-align: right;\">\n",
       "      <th></th>\n",
       "      <th>group</th>\n",
       "      <th>count_active</th>\n",
       "      <th>count_active_and_pay</th>\n",
       "      <th>total_amount</th>\n",
       "    </tr>\n",
       "  </thead>\n",
       "  <tbody>\n",
       "    <tr>\n",
       "      <th>0</th>\n",
       "      <td>A</td>\n",
       "      <td>1538</td>\n",
       "      <td>78.0</td>\n",
       "      <td>72820.0000</td>\n",
       "    </tr>\n",
       "    <tr>\n",
       "      <th>1</th>\n",
       "      <td>B</td>\n",
       "      <td>6803</td>\n",
       "      <td>314.0</td>\n",
       "      <td>394974.0035</td>\n",
       "    </tr>\n",
       "  </tbody>\n",
       "</table>\n",
       "</div>"
      ],
      "text/plain": [
       "  group  count_active  count_active_and_pay  total_amount\n",
       "0     A          1538                  78.0    72820.0000\n",
       "1     B          6803                 314.0   394974.0035"
      ]
     },
     "execution_count": 47,
     "metadata": {},
     "output_type": "execute_result"
    }
   ],
   "source": [
    "# А теперь сделаем таблицу с необходимыми для метрик данными\n",
    "df_count_of_active = df_only_active.groupby('grp', as_index=False) \\\n",
    "                                    .agg({'id':'count', 'pay':'sum', 'rev': 'sum'}) \\\n",
    "                                    .rename(columns = {'id': 'count_active', 'grp':'group', 'pay': 'count_active_and_pay', 'rev' : 'total_amount'}) \n",
    "                                    \n",
    "df_count_of_active"
   ]
  },
  {
   "cell_type": "code",
   "execution_count": 48,
   "id": "0a0c42a4",
   "metadata": {},
   "outputs": [
    {
     "data": {
      "text/plain": [
       "0    5.07\n",
       "dtype: float64"
      ]
     },
     "execution_count": 48,
     "metadata": {},
     "output_type": "execute_result"
    }
   ],
   "source": [
    "CR_A = (df_count_of_active.query('group == \"A\"')\n",
    "                            .count_active_and_pay / df_count_of_active.query('group == \"A\"')\n",
    "                                                                        .count_active)\n",
    "CR_A.mul(100).round(2)"
   ]
  },
  {
   "cell_type": "code",
   "execution_count": 49,
   "id": "3d573ba2",
   "metadata": {},
   "outputs": [
    {
     "data": {
      "text/plain": [
       "1    4.62\n",
       "dtype: float64"
      ]
     },
     "execution_count": 49,
     "metadata": {},
     "output_type": "execute_result"
    }
   ],
   "source": [
    "CR_B = (df_count_of_active.query('group == \"B\"')\n",
    "                            .count_active_and_pay / df_count_of_active.query('group == \"B\"')\n",
    "                                                                        .count_active)\n",
    "CR_B.mul(100).round(2)"
   ]
  },
  {
   "cell_type": "markdown",
   "id": "6d857f49",
   "metadata": {},
   "source": [
    "Метрика ARPPU:"
   ]
  },
  {
   "cell_type": "code",
   "execution_count": 50,
   "id": "c9318560",
   "metadata": {},
   "outputs": [
    {
     "data": {
      "text/plain": [
       "0    933.59\n",
       "dtype: float64"
      ]
     },
     "execution_count": 50,
     "metadata": {},
     "output_type": "execute_result"
    }
   ],
   "source": [
    "ARPPU_A = (df_count_of_active.query('group == \"A\"')\n",
    "                               .total_amount / df_count_of_active.query('group == \"A\"')\n",
    "                                                                   .count_active_and_pay)\n",
    "ARPPU_A.round(2)"
   ]
  },
  {
   "cell_type": "code",
   "execution_count": 51,
   "id": "88f275a3",
   "metadata": {},
   "outputs": [
    {
     "data": {
      "text/plain": [
       "1    1257.88\n",
       "dtype: float64"
      ]
     },
     "execution_count": 51,
     "metadata": {},
     "output_type": "execute_result"
    }
   ],
   "source": [
    "ARPPU_B = (df_count_of_active.query('group == \"B\"')\n",
    "                               .total_amount / df_count_of_active.query('group == \"B\"')\n",
    "                                                                   .count_active_and_pay)\n",
    "ARPPU_B.round(2)"
   ]
  },
  {
   "cell_type": "markdown",
   "id": "f16c2944",
   "metadata": {},
   "source": [
    "Метрика ARPU:"
   ]
  },
  {
   "cell_type": "code",
   "execution_count": 52,
   "id": "689f7a9e",
   "metadata": {},
   "outputs": [
    {
     "data": {
      "text/plain": [
       "0    47.35\n",
       "dtype: float64"
      ]
     },
     "execution_count": 52,
     "metadata": {},
     "output_type": "execute_result"
    }
   ],
   "source": [
    "ARPU_A = (df_count_of_active.query('group == \"A\"')\n",
    "                               .total_amount / df_count_of_active.query('group == \"A\"')\n",
    "                                                                   .count_active)\n",
    "ARPU_A.round(2)"
   ]
  },
  {
   "cell_type": "code",
   "execution_count": 53,
   "id": "54f716eb",
   "metadata": {},
   "outputs": [
    {
     "data": {
      "text/plain": [
       "1    58.06\n",
       "dtype: float64"
      ]
     },
     "execution_count": 53,
     "metadata": {},
     "output_type": "execute_result"
    }
   ],
   "source": [
    "ARPU_B = (df_count_of_active.query('group == \"B\"')\n",
    "                               .total_amount / df_count_of_active.query('group == \"B\"')\n",
    "                                                                   .count_active)\n",
    "ARPU_B.round(2)"
   ]
  },
  {
   "cell_type": "code",
   "execution_count": 54,
   "id": "39d5d861",
   "metadata": {},
   "outputs": [
    {
     "data": {
      "text/plain": [
       "0    True\n",
       "dtype: bool"
      ]
     },
     "execution_count": 54,
     "metadata": {},
     "output_type": "execute_result"
    }
   ],
   "source": [
    "# Можем перепроверить значение метрики ARPU для контрольной группы\n",
    "(CR_A * ARPPU_A).round(2) == ARPU_A.round(2)"
   ]
  },
  {
   "cell_type": "code",
   "execution_count": 55,
   "id": "deea0b68",
   "metadata": {},
   "outputs": [
    {
     "data": {
      "text/plain": [
       "1    True\n",
       "dtype: bool"
      ]
     },
     "execution_count": 55,
     "metadata": {},
     "output_type": "execute_result"
    }
   ],
   "source": [
    "# Можем перепроверить значение метрики ARPU для тестируемой группы\n",
    "(CR_B * ARPPU_B).round(2) == ARPU_B.round(2)"
   ]
  },
  {
   "cell_type": "markdown",
   "id": "b7735f6c",
   "metadata": {},
   "source": [
    "Из наших метрик стало видно, что конверсия в оплату у контрольной группы выше почти на 0,5%, чем у тестируемой. Показатели же доходов фиксируют разницу на 324,3 пункта в пользу тестируемой группы активных и платящих людей, и разницу на 10,71 пункт в пользу тестируемой группы активных людей. Не будем забывать о различиях в размерах групп"
   ]
  },
  {
   "cell_type": "markdown",
   "id": "8f478a44",
   "metadata": {},
   "source": [
    "Теперь необходимо посмотреть гомогенность и нормальность распределения в наших группах для выбора тестов и проверки стат значимости наших исследований."
   ]
  },
  {
   "cell_type": "markdown",
   "id": "d28d284c",
   "metadata": {},
   "source": [
    "Можно посмотреть нормальность распределения."
   ]
  },
  {
   "cell_type": "code",
   "execution_count": 58,
   "id": "b83189c6",
   "metadata": {},
   "outputs": [
    {
     "data": {
      "image/png": "[encoded data removed]",
      "text/plain": [
       "<Figure size 1000x700 with 1 Axes>"
      ]
     },
     "metadata": {},
     "output_type": "display_data"
    }
   ],
   "source": [
    "sns.histplot(data=df_only_active, x=\"rev\", hue='grp', kde=True)\n",
    "plt.show()"
   ]
  },
  {
   "cell_type": "code",
   "execution_count": 64,
   "id": "cac46f79",
   "metadata": {},
   "outputs": [
    {
     "data": {
      "image/png": "[encoded data removed]",
      "text/plain": [
       "<Figure size 1000x700 with 1 Axes>"
      ]
     },
     "metadata": {},
     "output_type": "display_data"
    }
   ],
   "source": [
    "sns.histplot(data=df_pay_active, x=\"price\", hue='grp', kde=True)\n",
    "plt.show()"
   ]
  },
  {
   "cell_type": "markdown",
   "id": "6e7f5261",
   "metadata": {},
   "source": [
    "Визуально видно, что обе выборки у нас не распределены нормально, т.к. не имеют формы колокола,а имеют несколько мод, но визуального теста не достаточно. Данные у нас количественные, более того, они дискретные, а значит необходимо проверить распределение на нормальность, сделать это можно через через normaltest, где \n",
    "    \n",
    "    H₀- распределение нормальное\n",
    "    H₁- распределение ненормальное\n",
    "    р- уровень значимости 0.05\n",
    "    \n",
    "В графе normal будет указано:\n",
    "    \n",
    "    True - распределение является нормальным \n",
    "    False - распределение не является нормальным"
   ]
  },
  {
   "cell_type": "code",
   "execution_count": 59,
   "id": "58bd66d8",
   "metadata": {},
   "outputs": [
    {
     "data": {
      "text/html": [
       "<div>\n",
       "<style scoped>\n",
       "    .dataframe tbody tr th:only-of-type {\n",
       "        vertical-align: middle;\n",
       "    }\n",
       "\n",
       "    .dataframe tbody tr th {\n",
       "        vertical-align: top;\n",
       "    }\n",
       "\n",
       "    .dataframe thead th {\n",
       "        text-align: right;\n",
       "    }\n",
       "</style>\n",
       "<table border=\"1\" class=\"dataframe\">\n",
       "  <thead>\n",
       "    <tr style=\"text-align: right;\">\n",
       "      <th></th>\n",
       "      <th>W</th>\n",
       "      <th>pval</th>\n",
       "      <th>normal</th>\n",
       "    </tr>\n",
       "    <tr>\n",
       "      <th>grp</th>\n",
       "      <th></th>\n",
       "      <th></th>\n",
       "      <th></th>\n",
       "    </tr>\n",
       "  </thead>\n",
       "  <tbody>\n",
       "    <tr>\n",
       "      <th>A</th>\n",
       "      <td>2240.595797</td>\n",
       "      <td>0.0</td>\n",
       "      <td>False</td>\n",
       "    </tr>\n",
       "    <tr>\n",
       "      <th>B</th>\n",
       "      <td>7797.399212</td>\n",
       "      <td>0.0</td>\n",
       "      <td>False</td>\n",
       "    </tr>\n",
       "  </tbody>\n",
       "</table>\n",
       "</div>"
      ],
      "text/plain": [
       "               W  pval  normal\n",
       "grp                           \n",
       "A    2240.595797   0.0   False\n",
       "B    7797.399212   0.0   False"
      ]
     },
     "execution_count": 59,
     "metadata": {},
     "output_type": "execute_result"
    }
   ],
   "source": [
    "pingouin.normality(data=df_only_active, dv=\"rev\", group=\"grp\", method=\"normaltest\")"
   ]
  },
  {
   "cell_type": "code",
   "execution_count": 65,
   "id": "5aef60cc",
   "metadata": {},
   "outputs": [
    {
     "data": {
      "text/html": [
       "<div>\n",
       "<style scoped>\n",
       "    .dataframe tbody tr th:only-of-type {\n",
       "        vertical-align: middle;\n",
       "    }\n",
       "\n",
       "    .dataframe tbody tr th {\n",
       "        vertical-align: top;\n",
       "    }\n",
       "\n",
       "    .dataframe thead th {\n",
       "        text-align: right;\n",
       "    }\n",
       "</style>\n",
       "<table border=\"1\" class=\"dataframe\">\n",
       "  <thead>\n",
       "    <tr style=\"text-align: right;\">\n",
       "      <th></th>\n",
       "      <th>W</th>\n",
       "      <th>pval</th>\n",
       "      <th>normal</th>\n",
       "    </tr>\n",
       "    <tr>\n",
       "      <th>grp</th>\n",
       "      <th></th>\n",
       "      <th></th>\n",
       "      <th></th>\n",
       "    </tr>\n",
       "  </thead>\n",
       "  <tbody>\n",
       "    <tr>\n",
       "      <th>A</th>\n",
       "      <td>30.378420</td>\n",
       "      <td>2.531687e-07</td>\n",
       "      <td>False</td>\n",
       "    </tr>\n",
       "    <tr>\n",
       "      <th>B</th>\n",
       "      <td>6.795663</td>\n",
       "      <td>3.344572e-02</td>\n",
       "      <td>False</td>\n",
       "    </tr>\n",
       "  </tbody>\n",
       "</table>\n",
       "</div>"
      ],
      "text/plain": [
       "             W          pval  normal\n",
       "grp                                 \n",
       "A    30.378420  2.531687e-07   False\n",
       "B     6.795663  3.344572e-02   False"
      ]
     },
     "execution_count": 65,
     "metadata": {},
     "output_type": "execute_result"
    }
   ],
   "source": [
    "pingouin.normality(data=df_pay_active, dv=\"price\", group=\"grp\", method=\"normaltest\")"
   ]
  },
  {
   "cell_type": "markdown",
   "id": "53270973",
   "metadata": {},
   "source": [
    "Наши наблюдения о ненормальности распределений подтвердились."
   ]
  },
  {
   "cell_type": "markdown",
   "id": "d21fd22d",
   "metadata": {},
   "source": [
    "Проверить гомогенность можно с помощью критерия Левена и критерия Фишера. Мы используем критерий Левена, с параметром центра равным медиане ибо распределения у нас несимметричны. \n",
    "\n",
    "    H₀ - дисперсия среди групп одинакова.\n",
    "    H₁- дисперсия среди групп не одинакова.\n",
    "    \n",
    "    р-уровень значимости 0.05."
   ]
  },
  {
   "cell_type": "code",
   "execution_count": 66,
   "id": "f7bf8e8f",
   "metadata": {},
   "outputs": [
    {
     "data": {
      "text/plain": [
       "LeveneResult(statistic=3.075681699981606, pvalue=0.08025675761347022)"
      ]
     },
     "execution_count": 66,
     "metadata": {},
     "output_type": "execute_result"
    }
   ],
   "source": [
    "scipy.stats.levene(df_control.price, df_test.price, center='median')"
   ]
  },
  {
   "cell_type": "markdown",
   "id": "68779334",
   "metadata": {},
   "source": [
    "p-value > 0.05, следовательно отклонить теорио о гомогенности дисперсий  мы не можем, а значит можем принимать нулевую гипотезу о гомогенности выборок."
   ]
  },
  {
   "cell_type": "markdown",
   "id": "9dae1327",
   "metadata": {},
   "source": [
    "#### Выберем тесты для наших метрик: ####\n",
    "**1. В метрике CR(конверсии) у нас категориальные данные, поэтому для теста будем использовать в дальнейшем хи-квадрат, можно еще проверить на критерии Фишера.**  \n",
    "**2. В метриках же ARPPU и ARPU у нас имеются выбросы и несколько мод, взять среднее мы не можем. Мы хотим оценить статистическую значимость различий в медианах и лучшим решением будет взять бутстрап.**"
   ]
  },
  {
   "cell_type": "markdown",
   "id": "6ae7be9c",
   "metadata": {},
   "source": [
    "**1.CR**\n",
    "    \n",
    "    H₀ - Значимые различия конверсий между тестовой и контрольной группами отсутствуют и новая механика оплаты не влияет на конверсию, совпадения случайны.\n",
    "    H₁ - Имеются значимые различия конверсий между тестовой и контрольной группами и новая механика оплаты влияет на конверсию.\n",
    "    р-уровень значимости 0.05"
   ]
  },
  {
   "cell_type": "code",
   "execution_count": 67,
   "id": "6d18c290",
   "metadata": {},
   "outputs": [
    {
     "data": {
      "text/html": [
       "<div>\n",
       "<style scoped>\n",
       "    .dataframe tbody tr th:only-of-type {\n",
       "        vertical-align: middle;\n",
       "    }\n",
       "\n",
       "    .dataframe tbody tr th {\n",
       "        vertical-align: top;\n",
       "    }\n",
       "\n",
       "    .dataframe thead th {\n",
       "        text-align: right;\n",
       "    }\n",
       "</style>\n",
       "<table border=\"1\" class=\"dataframe\">\n",
       "  <thead>\n",
       "    <tr style=\"text-align: right;\">\n",
       "      <th></th>\n",
       "      <th>group</th>\n",
       "      <th>count_active</th>\n",
       "      <th>count_active_and_pay</th>\n",
       "      <th>total_amount</th>\n",
       "    </tr>\n",
       "  </thead>\n",
       "  <tbody>\n",
       "    <tr>\n",
       "      <th>0</th>\n",
       "      <td>A</td>\n",
       "      <td>1538</td>\n",
       "      <td>78.0</td>\n",
       "      <td>72820.0000</td>\n",
       "    </tr>\n",
       "    <tr>\n",
       "      <th>1</th>\n",
       "      <td>B</td>\n",
       "      <td>6803</td>\n",
       "      <td>314.0</td>\n",
       "      <td>394974.0035</td>\n",
       "    </tr>\n",
       "  </tbody>\n",
       "</table>\n",
       "</div>"
      ],
      "text/plain": [
       "  group  count_active  count_active_and_pay  total_amount\n",
       "0     A          1538                  78.0    72820.0000\n",
       "1     B          6803                 314.0   394974.0035"
      ]
     },
     "execution_count": 67,
     "metadata": {},
     "output_type": "execute_result"
    }
   ],
   "source": [
    "df_count_of_active"
   ]
  },
  {
   "cell_type": "markdown",
   "id": "bebb3973",
   "metadata": {},
   "source": [
    "Делаем предвариетльные расчеты:"
   ]
  },
  {
   "cell_type": "code",
   "execution_count": 68,
   "id": "7bfa0074",
   "metadata": {},
   "outputs": [
    {
     "data": {
      "text/plain": [
       "1460.0"
      ]
     },
     "execution_count": 68,
     "metadata": {},
     "output_type": "execute_result"
    }
   ],
   "source": [
    "df_count_of_active.iloc[0][1] - df_count_of_active.iloc[0][2]"
   ]
  },
  {
   "cell_type": "code",
   "execution_count": 69,
   "id": "32d436b4",
   "metadata": {},
   "outputs": [
    {
     "data": {
      "text/plain": [
       "6489.0"
      ]
     },
     "execution_count": 69,
     "metadata": {},
     "output_type": "execute_result"
    }
   ],
   "source": [
    "df_count_of_active.iloc[1][1] - df_count_of_active.iloc[1][2]"
   ]
  },
  {
   "cell_type": "code",
   "execution_count": 70,
   "id": "fedd23a6",
   "metadata": {},
   "outputs": [
    {
     "data": {
      "text/plain": [
       "0.486"
      ]
     },
     "execution_count": 70,
     "metadata": {},
     "output_type": "execute_result"
    }
   ],
   "source": [
    "obs = np.array([[(df_count_of_active.iloc[0][1] - df_count_of_active.iloc[0][2]), df_count_of_active.iloc[0][2]],\n",
    "                [(df_count_of_active.iloc[1][1] - df_count_of_active.iloc[1][2]), df_count_of_active.iloc[1][2]]])\n",
    "res = chi2_contingency(obs)\n",
    "chi_squared = res[1].round(3)\n",
    "chi_squared"
   ]
  },
  {
   "cell_type": "code",
   "execution_count": 71,
   "id": "f5e1d481",
   "metadata": {},
   "outputs": [
    {
     "data": {
      "text/html": [
       "<div>\n",
       "<style scoped>\n",
       "    .dataframe tbody tr th:only-of-type {\n",
       "        vertical-align: middle;\n",
       "    }\n",
       "\n",
       "    .dataframe tbody tr th {\n",
       "        vertical-align: top;\n",
       "    }\n",
       "\n",
       "    .dataframe thead th {\n",
       "        text-align: right;\n",
       "    }\n",
       "</style>\n",
       "<table border=\"1\" class=\"dataframe\">\n",
       "  <thead>\n",
       "    <tr style=\"text-align: right;\">\n",
       "      <th>pay</th>\n",
       "      <th>0.0</th>\n",
       "      <th>1.0</th>\n",
       "    </tr>\n",
       "    <tr>\n",
       "      <th>grp</th>\n",
       "      <th></th>\n",
       "      <th></th>\n",
       "    </tr>\n",
       "  </thead>\n",
       "  <tbody>\n",
       "    <tr>\n",
       "      <th>A</th>\n",
       "      <td>1460</td>\n",
       "      <td>78</td>\n",
       "    </tr>\n",
       "    <tr>\n",
       "      <th>B</th>\n",
       "      <td>6489</td>\n",
       "      <td>314</td>\n",
       "    </tr>\n",
       "  </tbody>\n",
       "</table>\n",
       "</div>"
      ],
      "text/plain": [
       "pay   0.0  1.0\n",
       "grp           \n",
       "A    1460   78\n",
       "B    6489  314"
      ]
     },
     "execution_count": 71,
     "metadata": {},
     "output_type": "execute_result"
    }
   ],
   "source": [
    "# Сделаем таблицу сопряжённости и посчитаем хи квадрат через нее\n",
    "chi_squared_crosstab = pd.crosstab(df_only_active.grp, df_only_active.pay)\n",
    "chi_squared_crosstab"
   ]
  },
  {
   "cell_type": "code",
   "execution_count": 72,
   "id": "895b4ed7",
   "metadata": {},
   "outputs": [
    {
     "data": {
      "text/plain": [
       "0.486"
      ]
     },
     "execution_count": 72,
     "metadata": {},
     "output_type": "execute_result"
    }
   ],
   "source": [
    "chi_squared = chi2_contingency(chi_squared_crosstab)[1].round(3)\n",
    "chi_squared"
   ]
  },
  {
   "cell_type": "markdown",
   "id": "ed1793d4",
   "metadata": {},
   "source": [
    "Критерий Фишера"
   ]
  },
  {
   "cell_type": "code",
   "execution_count": 73,
   "id": "ff8de57a",
   "metadata": {},
   "outputs": [
    {
     "data": {
      "text/plain": [
       "0.463"
      ]
     },
     "execution_count": 73,
     "metadata": {},
     "output_type": "execute_result"
    }
   ],
   "source": [
    "fisher_exact(obs)[1].round(3)"
   ]
  },
  {
   "cell_type": "markdown",
   "id": "e770029c",
   "metadata": {},
   "source": [
    "Так как pvalue больше 0,05 мы не можем отклонить нулевую гипотезу. Метрика конверсии показала нам, что есть влияние от новой механики оплаты, а тесты показали, что на эти данные нельзя опираться, так как между ними нет статистически значимых отличий."
   ]
  },
  {
   "cell_type": "markdown",
   "id": "1d35246b",
   "metadata": {},
   "source": [
    "**2.APPRU и APRU**\n",
    "    \n",
    "    H₀ - Значимые различия между средними доходами тестовой и контрольной отсутствуют и новая механика оплаты не влияет на средний доход, совпадения случайны.\n",
    "    H₁ - Имеются значимые различия между средними доходами тестовой и контрольной группами и новая механика оплаты влияет на средний доход.\n",
    "    р-уровень значимости 0.05"
   ]
  },
  {
   "cell_type": "code",
   "execution_count": 74,
   "id": "6a97d088",
   "metadata": {},
   "outputs": [
    {
     "data": {
      "text/html": [
       "<div>\n",
       "<style scoped>\n",
       "    .dataframe tbody tr th:only-of-type {\n",
       "        vertical-align: middle;\n",
       "    }\n",
       "\n",
       "    .dataframe tbody tr th {\n",
       "        vertical-align: top;\n",
       "    }\n",
       "\n",
       "    .dataframe thead th {\n",
       "        text-align: right;\n",
       "    }\n",
       "</style>\n",
       "<table border=\"1\" class=\"dataframe\">\n",
       "  <thead>\n",
       "    <tr style=\"text-align: right;\">\n",
       "      <th></th>\n",
       "      <th>id</th>\n",
       "      <th>grp</th>\n",
       "      <th>active</th>\n",
       "      <th>rev</th>\n",
       "      <th>pay</th>\n",
       "    </tr>\n",
       "  </thead>\n",
       "  <tbody>\n",
       "    <tr>\n",
       "      <th>1</th>\n",
       "      <td>1627</td>\n",
       "      <td>A</td>\n",
       "      <td>1</td>\n",
       "      <td>990.0</td>\n",
       "      <td>1.0</td>\n",
       "    </tr>\n",
       "    <tr>\n",
       "      <th>10</th>\n",
       "      <td>2085</td>\n",
       "      <td>B</td>\n",
       "      <td>1</td>\n",
       "      <td>0.0</td>\n",
       "      <td>0.0</td>\n",
       "    </tr>\n",
       "    <tr>\n",
       "      <th>12</th>\n",
       "      <td>2215</td>\n",
       "      <td>B</td>\n",
       "      <td>1</td>\n",
       "      <td>0.0</td>\n",
       "      <td>0.0</td>\n",
       "    </tr>\n",
       "    <tr>\n",
       "      <th>43</th>\n",
       "      <td>3391</td>\n",
       "      <td>A</td>\n",
       "      <td>1</td>\n",
       "      <td>0.0</td>\n",
       "      <td>0.0</td>\n",
       "    </tr>\n",
       "    <tr>\n",
       "      <th>45</th>\n",
       "      <td>3401</td>\n",
       "      <td>B</td>\n",
       "      <td>1</td>\n",
       "      <td>0.0</td>\n",
       "      <td>0.0</td>\n",
       "    </tr>\n",
       "  </tbody>\n",
       "</table>\n",
       "</div>"
      ],
      "text/plain": [
       "      id grp active    rev  pay\n",
       "1   1627   A      1  990.0  1.0\n",
       "10  2085   B      1    0.0  0.0\n",
       "12  2215   B      1    0.0  0.0\n",
       "43  3391   A      1    0.0  0.0\n",
       "45  3401   B      1    0.0  0.0"
      ]
     },
     "metadata": {},
     "output_type": "display_data"
    },
    {
     "data": {
      "text/html": [
       "<div>\n",
       "<style scoped>\n",
       "    .dataframe tbody tr th:only-of-type {\n",
       "        vertical-align: middle;\n",
       "    }\n",
       "\n",
       "    .dataframe tbody tr th {\n",
       "        vertical-align: top;\n",
       "    }\n",
       "\n",
       "    .dataframe thead th {\n",
       "        text-align: right;\n",
       "    }\n",
       "</style>\n",
       "<table border=\"1\" class=\"dataframe\">\n",
       "  <thead>\n",
       "    <tr style=\"text-align: right;\">\n",
       "      <th></th>\n",
       "      <th>id</th>\n",
       "      <th>grp</th>\n",
       "      <th>active</th>\n",
       "      <th>price</th>\n",
       "      <th>pay</th>\n",
       "    </tr>\n",
       "  </thead>\n",
       "  <tbody>\n",
       "    <tr>\n",
       "      <th>1</th>\n",
       "      <td>1627</td>\n",
       "      <td>A</td>\n",
       "      <td>1</td>\n",
       "      <td>990.0000</td>\n",
       "      <td>1.0</td>\n",
       "    </tr>\n",
       "    <tr>\n",
       "      <th>220</th>\n",
       "      <td>100300</td>\n",
       "      <td>B</td>\n",
       "      <td>1</td>\n",
       "      <td>990.0000</td>\n",
       "      <td>1.0</td>\n",
       "    </tr>\n",
       "    <tr>\n",
       "      <th>320</th>\n",
       "      <td>108270</td>\n",
       "      <td>B</td>\n",
       "      <td>1</td>\n",
       "      <td>290.0000</td>\n",
       "      <td>1.0</td>\n",
       "    </tr>\n",
       "    <tr>\n",
       "      <th>3779</th>\n",
       "      <td>264473</td>\n",
       "      <td>B</td>\n",
       "      <td>1</td>\n",
       "      <td>1900.0001</td>\n",
       "      <td>1.0</td>\n",
       "    </tr>\n",
       "    <tr>\n",
       "      <th>4187</th>\n",
       "      <td>274352</td>\n",
       "      <td>B</td>\n",
       "      <td>1</td>\n",
       "      <td>690.0000</td>\n",
       "      <td>1.0</td>\n",
       "    </tr>\n",
       "  </tbody>\n",
       "</table>\n",
       "</div>"
      ],
      "text/plain": [
       "          id grp active      price  pay\n",
       "1       1627   A      1   990.0000  1.0\n",
       "220   100300   B      1   990.0000  1.0\n",
       "320   108270   B      1   290.0000  1.0\n",
       "3779  264473   B      1  1900.0001  1.0\n",
       "4187  274352   B      1   690.0000  1.0"
      ]
     },
     "metadata": {},
     "output_type": "display_data"
    }
   ],
   "source": [
    "# нам понадобятся два датасета: один с активными, второй с активными оплатившими людьми\n",
    "display(df_only_active.head(), df_pay_active.head())"
   ]
  },
  {
   "cell_type": "code",
   "execution_count": 75,
   "id": "50901533",
   "metadata": {},
   "outputs": [
    {
     "data": {
      "text/html": [
       "<div>\n",
       "<style scoped>\n",
       "    .dataframe tbody tr th:only-of-type {\n",
       "        vertical-align: middle;\n",
       "    }\n",
       "\n",
       "    .dataframe tbody tr th {\n",
       "        vertical-align: top;\n",
       "    }\n",
       "\n",
       "    .dataframe thead th {\n",
       "        text-align: right;\n",
       "    }\n",
       "</style>\n",
       "<table border=\"1\" class=\"dataframe\">\n",
       "  <thead>\n",
       "    <tr style=\"text-align: right;\">\n",
       "      <th></th>\n",
       "      <th>price</th>\n",
       "    </tr>\n",
       "    <tr>\n",
       "      <th>grp</th>\n",
       "      <th></th>\n",
       "    </tr>\n",
       "  </thead>\n",
       "  <tbody>\n",
       "    <tr>\n",
       "      <th>A</th>\n",
       "      <td>585.0</td>\n",
       "    </tr>\n",
       "    <tr>\n",
       "      <th>B</th>\n",
       "      <td>1140.0</td>\n",
       "    </tr>\n",
       "  </tbody>\n",
       "</table>\n",
       "</div>"
      ],
      "text/plain": [
       "      price\n",
       "grp        \n",
       "A     585.0\n",
       "B    1140.0"
      ]
     },
     "execution_count": 75,
     "metadata": {},
     "output_type": "execute_result"
    }
   ],
   "source": [
    "# посмотрим медианную выручку. Из-за выбросов среднюю выручку смотреть хуже.\n",
    "df_pay_active.groupby('grp').agg({'price': np.median})"
   ]
  },
  {
   "cell_type": "code",
   "execution_count": 76,
   "id": "fd1793df",
   "metadata": {},
   "outputs": [],
   "source": [
    "# разобьем наши датасеты по группам для дальнейшего статтеста\n",
    "for_arppu_A = df_pay_active.query('grp == \"A\"')\n",
    "for_arppu_B = df_pay_active.query('grp == \"B\"')\n",
    "for_arpu_A = df_only_active.query('grp == \"A\"')\n",
    "for_arpu_B = df_only_active.query('grp == \"B\"')"
   ]
  },
  {
   "cell_type": "code",
   "execution_count": 77,
   "id": "1ef7583c",
   "metadata": {},
   "outputs": [
    {
     "data": {
      "image/png": "[encoded data removed]",
      "text/plain": [
       "<Figure size 500x500 with 1 Axes>"
      ]
     },
     "metadata": {},
     "output_type": "display_data"
    },
    {
     "data": {
      "image/png": "[encoded data removed]",
      "text/plain": [
       "<Figure size 500x500 with 1 Axes>"
      ]
     },
     "metadata": {},
     "output_type": "display_data"
    }
   ],
   "source": [
    "# еще раз посмотрим на распределение\n",
    "sns.displot(data=df_pay_active[df_pay_active.grp == 'A'], x=\"price\")\n",
    "sns.displot(data=df_pay_active[df_pay_active.grp == 'B'], x=\"price\")\n",
    "plt.show()"
   ]
  },
  {
   "cell_type": "code",
   "execution_count": 78,
   "id": "378a210a",
   "metadata": {},
   "outputs": [],
   "source": [
    "# подготовим функции\n",
    "def arpu_f(x):\n",
    "    return np.median(x)\n",
    "\n",
    "def arppu_f(y):\n",
    "    return np.median(y)"
   ]
  },
  {
   "cell_type": "markdown",
   "id": "47ecee6f",
   "metadata": {},
   "source": [
    "Теперь необходимо создать функцию для бутстрап анализа"
   ]
  },
  {
   "cell_type": "code",
   "execution_count": 79,
   "id": "336f6a2d",
   "metadata": {},
   "outputs": [],
   "source": [
    "# функция для проверки гипотез с помощью бутстрапа\n",
    "def get_bootstrap(\n",
    "    data_column_1,                       # числовые значения контрольной выборки\n",
    "    data_column_2,                       # числовые значения целевой выборки\n",
    "    col_1,                               #название колонки первой выборки\n",
    "    col_2,                               #название колонки второй выборки\n",
    "    sample_count_1=0,                  #количество наблюдений для подвыборок\n",
    "    sample_count_2=0,                  #количество наблюдений для подвыборок\n",
    "    boot_it=10000,                     #количество бутстрэп-подвыборок\n",
    "    statistic='median',                  #интересующая нас статистика\n",
    "    bootstrap_conf_level=0.95,         #уровень значимости\n",
    "    replace=True,                      #параметр возвращения\n",
    "    max_len=True\n",
    "):\n",
    "    from scipy.stats import norm\n",
    "\n",
    "    if sample_count_1 == 0:\n",
    "        sample_count_1 = len(data_column_1[col_1])\n",
    "\n",
    "    if sample_count_2 == 0:\n",
    "        sample_count_2 = len(data_column_1[col_2])\n",
    "    if max_len:\n",
    "        boot_len = max([sample_count_1, sample_count_2])\n",
    "    else:\n",
    "        boot_len = min([sample_count_1, sample_count_2])\n",
    "\n",
    "    boot_data = []\n",
    "    smpl_1_data = []\n",
    "    smpl_2_data = []\n",
    "    for i in tqdm(range(boot_it)):         #извлекаем подвыборки\n",
    "        if statistic == 'arpu':\n",
    "            samples_1 = arpu(data_column_1.sample(boot_len, replace=replace))\n",
    "            samples_2 = arpu(data_column_2.sample(boot_len, replace=replace))\n",
    "        else:\n",
    "            samples_1 = np.nanmean(data_column_1[col_1].sample(boot_len, replace=replace).values)\n",
    "            samples_2 = np.nanmean(data_column_2[col_2].sample(boot_len, replace=replace).values)\n",
    "\n",
    "\n",
    "        boot_data.append(samples_1-samples_2)\n",
    "        smpl_1_data.append(samples_1)\n",
    "        smpl_2_data.append(samples_2)\n",
    "\n",
    "    pd_boot_data = pd.DataFrame(boot_data)\n",
    "\n",
    "    # доверительный интервал\n",
    "    left_quant = (1 - bootstrap_conf_level)/2\n",
    "    right_quant = 1 - (1 - bootstrap_conf_level) / 2\n",
    "    quants = pd_boot_data.quantile([left_quant, right_quant])\n",
    "\n",
    "    p_1 = norm.cdf(\n",
    "        x=0,\n",
    "        loc=np.nanmean(boot_data),\n",
    "        scale=np.nanstd(boot_data)\n",
    "    )\n",
    "    p_2 = norm.cdf(\n",
    "        x=0,\n",
    "        loc=-np.nanmean(boot_data),\n",
    "        scale=np.nanstd(boot_data)\n",
    "    )\n",
    "    p_value = min(p_1, p_2) * 2\n",
    "\n",
    "    #настройка визуализации\n",
    "    _, _, bars = plt.hist(pd_boot_data[0], bins=30)\n",
    "    for bar in bars:\n",
    "        if bar.get_x() <= quants.iloc[0][0] or bar.get_x() >= quants.iloc[1][0]:\n",
    "            bar.set_facecolor('#CB6D67')\n",
    "        else:\n",
    "            bar.set_facecolor('#C5CB67')\n",
    "            bar.set_edgecolor('black')\n",
    "\n",
    "    plt.style.use('ggplot')\n",
    "    plt.vlines(quants, ymin=0, ymax=50, linestyle='--')\n",
    "    plt.xlabel('boot_data')\n",
    "    plt.ylabel('frequency')\n",
    "    plt.title(\"Histogram of bootstrap\")\n",
    "    plt.show()\n",
    "\n",
    "    print('pvalue = ', p_value)\n",
    " \n",
    "    return {\"boot_data\" : boot_data, \n",
    "            \"quants\" : quants, \n",
    "            \"p_value\" : p_value,\n",
    "           \"smpl_1_data\" : smpl_1_data,\n",
    "           \"smpl_2_data\" : smpl_2_data}"
   ]
  },
  {
   "cell_type": "code",
   "execution_count": 80,
   "id": "fe7e7c3e",
   "metadata": {},
   "outputs": [
    {
     "data": {
      "application/vnd.jupyter.widget-view+json": {
       "model_id": "a169216a2e9c4a0ab0759154c5f460ae",
       "version_major": 2,
       "version_minor": 0
      },
      "text/plain": [
       "  0%|          | 0/10000 [00:00<?, ?it/s]"
      ]
     },
     "metadata": {},
     "output_type": "display_data"
    },
    {
     "data": {
      "image/png": "[encoded data removed]",
      "text/plain": [
       "<Figure size 1000x700 with 1 Axes>"
      ]
     },
     "metadata": {},
     "output_type": "display_data"
    },
    {
     "name": "stdout",
     "output_type": "stream",
     "text": [
      "pvalue =  0.33027846946156636\n"
     ]
    }
   ],
   "source": [
    "arpu_bootstrap = get_bootstrap(data_column_1=for_arpu_A, col_1='rev',\n",
    "                        data_column_2=for_arpu_B, col_2='rev',\n",
    "                        boot_it=10000,\n",
    "                        statistic='arpu_f')"
   ]
  },
  {
   "cell_type": "markdown",
   "id": "1094b3aa",
   "metadata": {},
   "source": [
    "Так как ноль входит в доверительный интервал, значит статистически значимых отличий может не быть. Мы не можем отвергнуть нулевую гипотезу. ARPU в контрольной и тестируемой группах статистически значимо не различаются."
   ]
  },
  {
   "cell_type": "code",
   "execution_count": 81,
   "id": "f443de70",
   "metadata": {},
   "outputs": [
    {
     "data": {
      "application/vnd.jupyter.widget-view+json": {
       "model_id": "94cc17323af24dc99afe2b8bec8cc785",
       "version_major": 2,
       "version_minor": 0
      },
      "text/plain": [
       "  0%|          | 0/10000 [00:00<?, ?it/s]"
      ]
     },
     "metadata": {},
     "output_type": "display_data"
    },
    {
     "data": {
      "image/png": "[encoded data removed]",
      "text/plain": [
       "<Figure size 1000x700 with 1 Axes>"
      ]
     },
     "metadata": {},
     "output_type": "display_data"
    },
    {
     "name": "stdout",
     "output_type": "stream",
     "text": [
      "pvalue =  0.018760720428723867\n"
     ]
    }
   ],
   "source": [
    "arppu_bootstrap = get_bootstrap(data_column_1=for_arppu_A, col_1='price',\n",
    "                        data_column_2=for_arppu_B, col_2='price',\n",
    "                        boot_it=10000,\n",
    "                        statistic='arppu_f')"
   ]
  },
  {
   "cell_type": "markdown",
   "id": "b9cb9951",
   "metadata": {},
   "source": [
    "Так как ноль не входит в доверительный интервал, мы имеем основания отклонить нулевую гипотезу и можем склоняться к принятию альтернативной. ARPPU в контрольной и тестируемой группах статистически значимо различаются."
   ]
  },
  {
   "cell_type": "markdown",
   "id": "8d10c8e8",
   "metadata": {},
   "source": [
    "**Вывод**  \n",
    "    Сплитование изначально было сделано неправильно, т.к. размер контрольной группы меньше 20%, а целевой больше 80% от общего числа участников.  \n",
    "    Было выявлено 149 человек, которые оплатили, но при этом не были активны на сайте, что являлось условием эксперимента. Возможно это прошла автооплата по подписке или могла закрасться ошибка. После изменения механики оплаты стало существенно больше оплат за 1900 около 22% и еще 8% оплатили на 1900.0001, одна сотая копейки может быть ошибкой в коде при взятии неверного формата данных, как вариант.  \n",
    "    Конверсия в оплату у контрольной группы хоть показала результат выше, чем у целевой почти на 0,5%, но опираться на эти данные нельзя, так как тест не показал статистически значимых различий между выборками.  \n",
    "    Метрика ARPU показала перевес на 10,71 пункта в пользу тестируемой группы против контрольной, но и на эти данные мы не можем опираться, так как тест не показал статистически значимых различий между выборками.  \n",
    "    Метрика ARPPU показала перевес на 324,3 пункта в пользу тестируемой группы против контрольной и на эти данные уже можно опираться. Тест показал, что статистически значимые различия между группами есть.  \n",
    "    \n",
    "**Рекомендации**\n",
    "    По возможности провести тест еще раз, предварительно более равномерно распределив контрольную и тестовую группу по численности.   \n",
    "    Отследить появление неактивных плательщиков.  \n",
    "    Выяснить и предовратить причину появления дробных чисел в оплате.  \n",
    "      \n",
    "    Если провести исследование повторно не представляется возможным, то новую механику запускать на мой взгляд, с опорой на статистические тесты и метрики, можно."
   ]
  },
  {
   "cell_type": "markdown",
   "id": "54c85899",
   "metadata": {},
   "source": [
    "## Задание 2. SQL"
   ]
  },
  {
   "cell_type": "markdown",
   "id": "672aebaa",
   "metadata": {},
   "source": [
    "#### 2.1 Очень усердные ученики. ####\n",
    "\n",
    "#### 2.1.1 Условие ####\n",
    "\n",
    "Образовательные курсы состоят из различных уроков, каждый из которых состоит из нескольких маленьких заданий. Каждое такое маленькое задание называется \"горошиной\".\n",
    "\n",
    "Назовём очень усердным учеником того пользователя, который хотя бы раз за текущий месяц правильно решил 20 горошин.\n",
    "#### 2.1.2 Задача ####\n",
    "\n",
    "Дана таблица default.peas:\n",
    "\n",
    "|Название атрибута||Тип атрибута||Смысловое значение|\n",
    "|---||---||---|\n",
    "|st_id||int||ID ученика|\n",
    "|timesst||timestamp||Время решения карточки|\n",
    "|correct||bool||Правильно ли решена горошина?|\n",
    "|subject||text||Дисциплина в которой находится горошина|\n",
    "\n",
    "\n",
    "\n",
    "Необходимо написать оптимальный запрос, который даст информацию о количестве очень усердных студентов.  \n",
    "NB! Под усердным студентом мы понимаем студента, который правильно решил 20 задач за текущий месяц."
   ]
  },
  {
   "cell_type": "code",
   "execution_count": 82,
   "id": "f4a4f648",
   "metadata": {},
   "outputs": [],
   "source": [
    "connection_default = {'host': 'https://clickhouse.lab.karpov.courses',\n",
    "                      'database':'default',\n",
    "                      'user':'student', \n",
    "                      'password':'dpo_python_2020'\n",
    "                     }"
   ]
  },
  {
   "cell_type": "code",
   "execution_count": 83,
   "id": "7581f13d",
   "metadata": {},
   "outputs": [],
   "source": [
    "query_2_1 = '''\n",
    "    SELECT COUNT( DISTINCT id) as hard_work_students\n",
    "    FROM (\n",
    "        SELECT st_id as id,\n",
    "                sum(correct)\n",
    "        FROM default.peas\n",
    "        WHERE correct = 1 AND\n",
    "            month(timest) = (\n",
    "                SELECT month(max(timest))\n",
    "                FROM default.peas\n",
    "        )\n",
    "    GROUP BY st_id\n",
    "    HAVING sum(correct) >=20)\n",
    "    '''"
   ]
  },
  {
   "cell_type": "code",
   "execution_count": 84,
   "id": "3b063072",
   "metadata": {},
   "outputs": [
    {
     "data": {
      "text/html": [
       "<div>\n",
       "<style scoped>\n",
       "    .dataframe tbody tr th:only-of-type {\n",
       "        vertical-align: middle;\n",
       "    }\n",
       "\n",
       "    .dataframe tbody tr th {\n",
       "        vertical-align: top;\n",
       "    }\n",
       "\n",
       "    .dataframe thead th {\n",
       "        text-align: right;\n",
       "    }\n",
       "</style>\n",
       "<table border=\"1\" class=\"dataframe\">\n",
       "  <thead>\n",
       "    <tr style=\"text-align: right;\">\n",
       "      <th></th>\n",
       "      <th>hard_work_students</th>\n",
       "    </tr>\n",
       "  </thead>\n",
       "  <tbody>\n",
       "    <tr>\n",
       "      <th>0</th>\n",
       "      <td>136</td>\n",
       "    </tr>\n",
       "  </tbody>\n",
       "</table>\n",
       "</div>"
      ],
      "text/plain": [
       "   hard_work_students\n",
       "0                 136"
      ]
     },
     "execution_count": 84,
     "metadata": {},
     "output_type": "execute_result"
    }
   ],
   "source": [
    "# отправляем запрос и записываем результат\n",
    "q_result_2_1 = ph.read_clickhouse(query=query_2_1, connection=connection_default)\n",
    "q_result_2_1"
   ]
  },
  {
   "cell_type": "markdown",
   "id": "70a57d20",
   "metadata": {},
   "source": [
    "#### 2.2 Оптимизация воронки ####\n",
    "\n",
    "#### 2.2.1 Условие ####\n",
    "\n",
    "Образовательная платформа предлагает пройти студентам курсы по модели trial: студент может решить бесплатно лишь 30 горошин в день. Для неограниченного количества заданий в определенной дисциплине студенту необходимо приобрести полный доступ. Команда провела эксперимент, где был протестирован новый экран оплаты.\n",
    "\n",
    "#### 2.2.2 Задача ####\n",
    "\n",
    "Дана таблицы:\n",
    "_default.peas:_\n",
    "\n",
    "|Название атрибута||Тип атрибута||Смысловое значение|\n",
    "|---||---||---|\n",
    "|st_id||int||ID ученика|\n",
    "|timesst||timestamp||Время решения карточки|\n",
    "|correct||bool||Правильно ли решена горошина?|\n",
    "|subject||text||Дисциплина в которой находится горошина|\n",
    "\n",
    "\n",
    "\\\n",
    "_default.studs:_\n",
    "\n",
    "|Название атрибута||Тип атрибута||Смысловое значение|\n",
    "|---||---||---|\n",
    "|st_id||int||ID ученика|\n",
    "|test_grp||text||Метка ученика в данном эксперименте|\n",
    "\n",
    "\n",
    "\\\n",
    "_default.final_project_check:_\n",
    "\n",
    "|Название атрибута||Тип атрибута||Смысловое значение|\n",
    "|---||---||---|\n",
    "|st_id||int||ID ученика|\n",
    "|saletime||timestamp||Время покупки|\n",
    "|money||int||Цена, по которой приобрели данный курс|\n",
    "|subject||text||Дисциплина|\n",
    "    \n",
    "Необходимо в одном запросе выгрузить следующую информацию о группах пользователей:\n",
    "\n",
    "    ARPU -средняя выручка на одного пользователя\n",
    "    ARPAU -средняя выручка на одного активного пользователя\n",
    "    CR в покупку -конверсия, т.е. отношение количества купивших к общему числу пользователей\n",
    "    СR активного пользователя в покупку - отношение количества купивших к числу активных пользователей\n",
    "    CR пользователя из активности по математике (subject = ’math’) в покупку курса по математике - отношение количества людей купивших курс по математике, к количеству людей, каждый из которых смог решить больше одной задачи по математике.\n",
    "    ARPU считается относительно всех пользователей, попавших в группы.\n",
    "\n",
    "Активным считается пользователь, за все время решивший больше 10 задач правильно в любых дисциплинах.\n",
    "\n",
    "Активным по математике считается пользователь, за все время решивший 2 или больше задач правильно по математике."
   ]
  },
  {
   "cell_type": "code",
   "execution_count": 85,
   "id": "a223c786",
   "metadata": {},
   "outputs": [],
   "source": [
    "query_2_2 = '''SELECT test_grp,\n",
    "    ROUND(SUM(fpc.money)/uniq(s.st_id), 2) AS ARPU,\n",
    "    ROUND(SUM(CASE WHEN active_studs.active > 10 THEN fpc.money END)/uniq(CASE WHEN active_studs.active > 10 THEN active_studs.st_id END), 2) AS ARPAU,\n",
    "    ROUND(uniq(CASE WHEN fpc.money > 0 THEN fpc.st_id END)/uniq(s.st_id) *100, 2) AS CR,\n",
    "    ROUND(uniq(CASE WHEN fpc.money > 0 AND active_studs.active > 10 THEN fpc.st_id END)/uniq(CASE WHEN active_studs.active > 10 THEN active_studs.st_id END) *100, 2) AS CR_active,\n",
    "    ROUND(uniq(CASE WHEN active_studs.math_active > 1 AND fpc.money > 0 AND fpc.subject = 'Math' THEN active_studs.st_id END)/uniq(CASE WHEN active_studs.math_active > 1 THEN active_studs.st_id END) *100, 2) AS CR_active_in_math\n",
    "FROM default.studs s\n",
    "LEFT JOIN default.final_project_check fpc ON s.st_id = fpc.st_id\n",
    "LEFT JOIN\n",
    "(SELECT\n",
    "        st_id,\n",
    "        COUNT(correct) AS active,\n",
    "        SUM(CASE WHEN subject = 'Math' THEN correct END) AS math_active\n",
    "    FROM default.peas\n",
    "    WHERE correct = 1\n",
    "    GROUP BY st_id\n",
    ") as active_studs ON s.st_id = active_studs.st_id\n",
    "GROUP BY test_grp'''\n",
    "# uniq использован вместо uniqExact, т.к. он дает меньшую нагрузку"
   ]
  },
  {
   "cell_type": "code",
   "execution_count": 86,
   "id": "9c870f78",
   "metadata": {},
   "outputs": [
    {
     "data": {
      "text/html": [
       "<div>\n",
       "<style scoped>\n",
       "    .dataframe tbody tr th:only-of-type {\n",
       "        vertical-align: middle;\n",
       "    }\n",
       "\n",
       "    .dataframe tbody tr th {\n",
       "        vertical-align: top;\n",
       "    }\n",
       "\n",
       "    .dataframe thead th {\n",
       "        text-align: right;\n",
       "    }\n",
       "</style>\n",
       "<table border=\"1\" class=\"dataframe\">\n",
       "  <thead>\n",
       "    <tr style=\"text-align: right;\">\n",
       "      <th></th>\n",
       "      <th>test_grp</th>\n",
       "      <th>ARPU</th>\n",
       "      <th>ARPAU</th>\n",
       "      <th>CR</th>\n",
       "      <th>CR_active</th>\n",
       "      <th>CR_active_in_math</th>\n",
       "    </tr>\n",
       "  </thead>\n",
       "  <tbody>\n",
       "    <tr>\n",
       "      <th>0</th>\n",
       "      <td>control</td>\n",
       "      <td>4540.98</td>\n",
       "      <td>10393.70</td>\n",
       "      <td>4.92</td>\n",
       "      <td>11.02</td>\n",
       "      <td>6.12</td>\n",
       "    </tr>\n",
       "    <tr>\n",
       "      <th>1</th>\n",
       "      <td>pilot</td>\n",
       "      <td>11508.47</td>\n",
       "      <td>29739.58</td>\n",
       "      <td>10.85</td>\n",
       "      <td>26.04</td>\n",
       "      <td>9.52</td>\n",
       "    </tr>\n",
       "  </tbody>\n",
       "</table>\n",
       "</div>"
      ],
      "text/plain": [
       "  test_grp      ARPU     ARPAU     CR  CR_active  CR_active_in_math\n",
       "0  control   4540.98  10393.70   4.92      11.02               6.12\n",
       "1    pilot  11508.47  29739.58  10.85      26.04               9.52"
      ]
     },
     "execution_count": 86,
     "metadata": {},
     "output_type": "execute_result"
    }
   ],
   "source": [
    "# отправляем запрос и записываем результат\n",
    "q_result_2_2 = ph.read_clickhouse(query=query_2_2, connection=connection_default)\n",
    "q_result_2_2"
   ]
  },
  {
   "cell_type": "markdown",
   "id": "48d131f4",
   "metadata": {},
   "source": [
    "Вывод: Из метрик A/B теста видно, что внесённые изменения положительно влияют на все показатели. Остаётся проверить их на статистическую значимость и при положительном итоге отдавать в продакт."
   ]
  },
  {
   "cell_type": "markdown",
   "id": "0c3231f7",
   "metadata": {},
   "source": [
    "## Задание 3. Python ##\n",
    "#### 3.1 Задача ####\n",
    "\n",
    "Реализуйте функцию, которая будет автоматически подгружать информацию из дополнительного файла groups_add.csv (заголовки могут отличаться) и на основании дополнительных параметров пересчитывать метрики."
   ]
  },
  {
   "cell_type": "code",
   "execution_count": 87,
   "id": "37046271",
   "metadata": {},
   "outputs": [],
   "source": [
    "def metrics_func(df_groups, df_groups_add, df_active_studs, df_checks):\n",
    "\n",
    "    # Переименуем для удобства столбцы и добавим колонки с показателем оплаты или активности\n",
    "    df_active_studs = df_active_studs.rename(columns={'student_id': 'id'})\n",
    "    df_checks = df_checks.rename(columns={'student_id': 'id'})\n",
    "    df_active_studs['activity'] = 1\n",
    "    df_checks['payed'] = 1\n",
    "\n",
    "    # Объединим все данные\n",
    "    df_all_new = pd.concat([df_groups, df_groups_add])\n",
    "    df_full_new = df_all_new.merge(df_checks, on='id', how='left').fillna(0) \\\n",
    "                             .merge(df_active_studs, on='id', how='left').fillna(0)\n",
    "\n",
    "    # Просчитаем метрики\n",
    "    df_only_active = df_full_new.query('activity == 1')\n",
    "\n",
    "    metrics = df_only_active.groupby('grp', as_index=False) \\\n",
    "                                    .agg({'id':'count', 'rev':'sum', 'pay': 'sum'}) \\\n",
    "                                    .rename(columns = {'id': 'count_active', 'grp':'group', 'pay': 'count_active_and_pay', 'rev' : 'total_amount'}) \n",
    "    \n",
    "    metrics['CR'] = round(metrics['count_active_and_pay'] / metrics['count_active'] * 100, 1)\n",
    "    metrics['ARPPU'] = round(metrics['total_amount'] / metrics['count_active_and_pay'], 1)\n",
    "    metrics['ARPU'] = round(metrics['total_amount'] / metrics['count_active'], 1)    \n",
    "    \n",
    "    return metrics"
   ]
  },
  {
   "cell_type": "code",
   "execution_count": 88,
   "id": "dd07efa6",
   "metadata": {},
   "outputs": [
    {
     "data": {
      "text/html": [
       "<div>\n",
       "<style scoped>\n",
       "    .dataframe tbody tr th:only-of-type {\n",
       "        vertical-align: middle;\n",
       "    }\n",
       "\n",
       "    .dataframe tbody tr th {\n",
       "        vertical-align: top;\n",
       "    }\n",
       "\n",
       "    .dataframe thead th {\n",
       "        text-align: right;\n",
       "    }\n",
       "</style>\n",
       "<table border=\"1\" class=\"dataframe\">\n",
       "  <thead>\n",
       "    <tr style=\"text-align: right;\">\n",
       "      <th></th>\n",
       "      <th>group</th>\n",
       "      <th>count_active</th>\n",
       "      <th>total_amount</th>\n",
       "      <th>count_active_and_pay</th>\n",
       "      <th>CR</th>\n",
       "      <th>ARPPU</th>\n",
       "      <th>ARPU</th>\n",
       "    </tr>\n",
       "  </thead>\n",
       "  <tbody>\n",
       "    <tr>\n",
       "      <th>0</th>\n",
       "      <td>A</td>\n",
       "      <td>1538</td>\n",
       "      <td>72820.0000</td>\n",
       "      <td>78.0</td>\n",
       "      <td>5.1</td>\n",
       "      <td>933.6</td>\n",
       "      <td>47.3</td>\n",
       "    </tr>\n",
       "    <tr>\n",
       "      <th>1</th>\n",
       "      <td>B</td>\n",
       "      <td>6803</td>\n",
       "      <td>394974.0035</td>\n",
       "      <td>314.0</td>\n",
       "      <td>4.6</td>\n",
       "      <td>1257.9</td>\n",
       "      <td>58.1</td>\n",
       "    </tr>\n",
       "  </tbody>\n",
       "</table>\n",
       "</div>"
      ],
      "text/plain": [
       "  group  count_active  total_amount  count_active_and_pay   CR   ARPPU  ARPU\n",
       "0     A          1538    72820.0000                  78.0  5.1   933.6  47.3\n",
       "1     B          6803   394974.0035                 314.0  4.6  1257.9  58.1"
      ]
     },
     "execution_count": 88,
     "metadata": {},
     "output_type": "execute_result"
    }
   ],
   "source": [
    "metrics = metrics_func(df_groups, df_groups_add, df_active_studs, df_checks)\n",
    "metrics"
   ]
  },
  {
   "cell_type": "markdown",
   "id": "4a617e81",
   "metadata": {},
   "source": [
    "#### 3.2 ####\n",
    "Реализуйте функцию, которая будет строить графики по получаемым метрикам. "
   ]
  },
  {
   "cell_type": "code",
   "execution_count": 89,
   "id": "7c3de889",
   "metadata": {},
   "outputs": [],
   "source": [
    "def metrics_plot():\n",
    "    plt.figure(figsize=(20, 5))\n",
    "    plt.subplot(1, 3, 1)\n",
    "    sns.barplot(x=\"group\", y=\"CR\", data=metrics, ci=None, palette=\"hls\")\n",
    "    plt.title(\"Конверсия\")\n",
    "    plt.subplot(1, 3, 2)\n",
    "    sns.barplot(x=\"group\", y=\"ARPPU\", data=metrics, ci=None, palette=\"hls\")\n",
    "    plt.title(\"ARPPU\")\n",
    "    plt.subplot(1, 3, 3)\n",
    "    sns.barplot(x=\"group\", y=\"ARPU\", data=metrics, ci=None, palette=\"hls\")\n",
    "    plt.title(\"ARPU\")\n",
    "    plt.show()"
   ]
  },
  {
   "cell_type": "code",
   "execution_count": 90,
   "id": "319b4d81",
   "metadata": {},
   "outputs": [
    {
     "data": {
      "image/png": "[encoded data removed]",
      "text/plain": [
       "<Figure size 2000x500 with 3 Axes>"
      ]
     },
     "metadata": {},
     "output_type": "display_data"
    }
   ],
   "source": [
    "metrics_plot()"
   ]
  },
  {
   "cell_type": "code",
   "execution_count": null,
   "id": "67e0660f",
   "metadata": {},
   "outputs": [],
   "source": []
  }
 ],
 "metadata": {
  "kernelspec": {
   "display_name": "Python 3 (ipykernel)",
   "language": "python",
   "name": "python3"
  },
  "language_info": {
   "codemirror_mode": {
    "name": "ipython",
    "version": 3
   },
   "file_extension": ".py",
   "mimetype": "text/x-python",
   "name": "python",
   "nbconvert_exporter": "python",
   "pygments_lexer": "ipython3",
   "version": "3.9.13"
  }
 },
 "nbformat": 4,
 "nbformat_minor": 5
}
