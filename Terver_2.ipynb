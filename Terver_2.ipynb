{
 "cells": [
  {
   "cell_type": "code",
   "execution_count": 5,
   "id": "4a045220",
   "metadata": {},
   "outputs": [],
   "source": [
    "from scipy import special #модуль питона, предназначенный для научных и инженерных расчетов\n"
   ]
  },
  {
   "cell_type": "code",
   "execution_count": 6,
   "id": "07ba1c0a",
   "metadata": {},
   "outputs": [
    {
     "ename": "NameError",
     "evalue": "name 'n' is not defined",
     "output_type": "error",
     "traceback": [
      "\u001b[1;31m---------------------------------------------------------------------------\u001b[0m",
      "\u001b[1;31mNameError\u001b[0m                                 Traceback (most recent call last)",
      "\u001b[1;32m~\\AppData\\Local\\Temp\\ipykernel_10640\\4208886368.py\u001b[0m in \u001b[0;36m<module>\u001b[1;34m\u001b[0m\n\u001b[1;32m----> 1\u001b[1;33m \u001b[0mspecial\u001b[0m\u001b[1;33m.\u001b[0m\u001b[0mcomb\u001b[0m\u001b[1;33m(\u001b[0m\u001b[0mn\u001b[0m\u001b[1;33m,\u001b[0m \u001b[0mk\u001b[0m\u001b[1;33m)\u001b[0m \u001b[1;31m#биномиальный коэффициент\u001b[0m\u001b[1;33m\u001b[0m\u001b[1;33m\u001b[0m\u001b[0m\n\u001b[0m",
      "\u001b[1;31mNameError\u001b[0m: name 'n' is not defined"
     ]
    }
   ],
   "source": [
    "special.comb(n, k) #биномиальный коэффициент"
   ]
  },
  {
   "cell_type": "code",
   "execution_count": null,
   "id": "43d8fab6",
   "metadata": {},
   "outputs": [],
   "source": [
    "'''\n",
    "Задание 1\n",
    "\n",
    "Устройство, состоящее из пяти независимо работающих элементов, включается за время Т. \n",
    "Вероятность отказа каждого из них за это время равна 0,4. Найти вероятность того, что откажут три элемента. \n",
    "Ответ округлите до четырёх знаков после запятой. В качестве десятичного разделителя используйте точку.'''"
   ]
  },
  {
   "cell_type": "code",
   "execution_count": 1,
   "id": "0fb54aab",
   "metadata": {},
   "outputs": [],
   "source": [
    "#альтернативный вариант\n",
    "\n",
    "from math import factorial\n",
    "\n",
    "def num_of_successes(n, k):\n",
    "    return factorial(n)/(factorial(k) * factorial(n - k))"
   ]
  },
  {
   "cell_type": "code",
   "execution_count": 2,
   "id": "575b5372",
   "metadata": {},
   "outputs": [
    {
     "data": {
      "text/plain": [
       "10.0"
      ]
     },
     "execution_count": 2,
     "metadata": {},
     "output_type": "execute_result"
    }
   ],
   "source": [
    "num_of_successes(5, 3)"
   ]
  },
  {
   "cell_type": "code",
   "execution_count": 5,
   "id": "7a52ba2e",
   "metadata": {},
   "outputs": [],
   "source": [
    "def bernulli(num_of_successes, p, q, n, k):\n",
    "    return num_of_successes * (p**k) * (q**(n-k))"
   ]
  },
  {
   "cell_type": "code",
   "execution_count": 6,
   "id": "a9f76473",
   "metadata": {},
   "outputs": [
    {
     "data": {
      "text/plain": [
       "0.23040000000000005"
      ]
     },
     "execution_count": 6,
     "metadata": {},
     "output_type": "execute_result"
    }
   ],
   "source": [
    "bernulli (10.0, 0.4, 0.6, 5, 3)"
   ]
  },
  {
   "cell_type": "code",
   "execution_count": null,
   "id": "b0bccb71",
   "metadata": {},
   "outputs": [],
   "source": [
    "'''Задание 2\n",
    "\n",
    "Устройство, состоящее из пяти независимо работающих элементов, включается за время Т. \n",
    "Вероятность отказа каждого из них за это время равна 0,4. Найдите вероятность того, что хотя бы один элемент откажет. \n",
    "Ответ округлите до трёх знаков после запятой. В качестве десятичного разделителя используйте точку.'''"
   ]
  },
  {
   "cell_type": "code",
   "execution_count": 33,
   "id": "f00eb85d",
   "metadata": {},
   "outputs": [
    {
     "data": {
      "text/plain": [
       "1.0"
      ]
     },
     "execution_count": 33,
     "metadata": {},
     "output_type": "execute_result"
    }
   ],
   "source": [
    "num_of_successes(5, 5)"
   ]
  },
  {
   "cell_type": "code",
   "execution_count": 34,
   "id": "09b56f11",
   "metadata": {},
   "outputs": [
    {
     "data": {
      "text/plain": [
       "0.9222400000000001"
      ]
     },
     "execution_count": 34,
     "metadata": {},
     "output_type": "execute_result"
    }
   ],
   "source": [
    "1 - bernulli(1.0, 0.6, 0.4, 5, 5)"
   ]
  },
  {
   "cell_type": "code",
   "execution_count": 20,
   "id": "14867aa8",
   "metadata": {},
   "outputs": [
    {
     "data": {
      "text/plain": [
       "0.92224"
      ]
     },
     "execution_count": 20,
     "metadata": {},
     "output_type": "execute_result"
    }
   ],
   "source": [
    "1 - (3**5)/(5**5)"
   ]
  },
  {
   "cell_type": "code",
   "execution_count": null,
   "id": "92f2dc44",
   "metadata": {},
   "outputs": [],
   "source": [
    "'''\n",
    "Задание 3\n",
    "\n",
    "Производится 8 выстрелов по цели, в каждом из которых вероятность попадания равна 0,3. Найти вероятность того, \n",
    "что цель будет поражена хотя бы два раза. Ответ округлите до тысячных. В качестве десятичного разделителя используйте точку.'''"
   ]
  },
  {
   "cell_type": "code",
   "execution_count": 31,
   "id": "e23c8cfa",
   "metadata": {},
   "outputs": [
    {
     "data": {
      "text/plain": [
       "8.0"
      ]
     },
     "execution_count": 31,
     "metadata": {},
     "output_type": "execute_result"
    }
   ],
   "source": [
    "num_of_successes(8, 1) # цель поражена хотя бы 1 раз"
   ]
  },
  {
   "cell_type": "code",
   "execution_count": 32,
   "id": "955763fb",
   "metadata": {},
   "outputs": [
    {
     "data": {
      "text/plain": [
       "0.1976503199999999"
      ]
     },
     "execution_count": 32,
     "metadata": {},
     "output_type": "execute_result"
    }
   ],
   "source": [
    "bernulli(8.0, 0.3, 0.7, 8, 1) # цель поражена хотя бы 1 раз"
   ]
  },
  {
   "cell_type": "code",
   "execution_count": 35,
   "id": "5242073a",
   "metadata": {},
   "outputs": [
    {
     "data": {
      "text/plain": [
       "1.0"
      ]
     },
     "execution_count": 35,
     "metadata": {},
     "output_type": "execute_result"
    }
   ],
   "source": [
    "num_of_successes(8, 8) # цель не поражена"
   ]
  },
  {
   "cell_type": "code",
   "execution_count": 36,
   "id": "d6869c19",
   "metadata": {},
   "outputs": [
    {
     "data": {
      "text/plain": [
       "0.05764800999999997"
      ]
     },
     "execution_count": 36,
     "metadata": {},
     "output_type": "execute_result"
    }
   ],
   "source": [
    "bernulli(1.0, 0.7, 0.3, 8, 8) # цель не поражена"
   ]
  },
  {
   "cell_type": "code",
   "execution_count": 37,
   "id": "bd8b21be",
   "metadata": {},
   "outputs": [
    {
     "data": {
      "text/plain": [
       "0.7447016700000001"
      ]
     },
     "execution_count": 37,
     "metadata": {},
     "output_type": "execute_result"
    }
   ],
   "source": [
    " 1 - (0.1976503199999999 + 0.05764800999999997)"
   ]
  },
  {
   "cell_type": "code",
   "execution_count": null,
   "id": "de8f6108",
   "metadata": {},
   "outputs": [],
   "source": [
    "'''\n",
    "Задание 4\n",
    "\n",
    "В магазине 7 покупателей. Каждый может совершить покупку с вероятностью 0,4. \n",
    "Найти вероятность того, что не более двух человек совершат покупку. Ответ округлите до сотых. \n",
    "В качестве десятичного разделителя используйте точку.'''"
   ]
  },
  {
   "cell_type": "code",
   "execution_count": 40,
   "id": "ced98656",
   "metadata": {},
   "outputs": [
    {
     "data": {
      "text/plain": [
       "0.027993599999999993"
      ]
     },
     "execution_count": 40,
     "metadata": {},
     "output_type": "execute_result"
    }
   ],
   "source": [
    "bernulli(num_of_successes(7, 7), 0.6, 0.4, 7, 7) # никто не купил"
   ]
  },
  {
   "cell_type": "code",
   "execution_count": 39,
   "id": "773a41da",
   "metadata": {},
   "outputs": [
    {
     "data": {
      "text/plain": [
       "0.13063679999999997"
      ]
     },
     "execution_count": 39,
     "metadata": {},
     "output_type": "execute_result"
    }
   ],
   "source": [
    "bernulli(num_of_successes(7, 1), 0.4, 0.6, 7, 1) # купил хотя бы один"
   ]
  },
  {
   "cell_type": "code",
   "execution_count": 41,
   "id": "b119ab80",
   "metadata": {},
   "outputs": [
    {
     "data": {
      "text/plain": [
       "0.2612736"
      ]
     },
     "execution_count": 41,
     "metadata": {},
     "output_type": "execute_result"
    }
   ],
   "source": [
    "bernulli(num_of_successes(7, 2), 0.4, 0.6, 7, 2) #купили двое"
   ]
  },
  {
   "cell_type": "code",
   "execution_count": 42,
   "id": "a57c82e7",
   "metadata": {},
   "outputs": [
    {
     "data": {
      "text/plain": [
       "0.41990399999999994"
      ]
     },
     "execution_count": 42,
     "metadata": {},
     "output_type": "execute_result"
    }
   ],
   "source": [
    "bernulli(num_of_successes(7, 7), 0.6, 0.4, 7, 7) + bernulli(num_of_successes(7, 1), 0.4, 0.6, 7, 1) + bernulli(num_of_successes(7, 2), 0.4, 0.6, 7, 2)"
   ]
  },
  {
   "cell_type": "code",
   "execution_count": null,
   "id": "52508e17",
   "metadata": {},
   "outputs": [],
   "source": [
    "'''\n",
    "Задание 5\n",
    "\n",
    "В телеателье имеется 7 телевизоров. Для каждого телевизора вероятность того, что в данный момент он включен, \n",
    "равна 0,5. Найти вероятность того, что в данный момент включены не менее трех телевизоров. Ответ округлите до тысячных. \n",
    "В качестве десятичного разделителя используйте точку.'''"
   ]
  },
  {
   "cell_type": "code",
   "execution_count": 45,
   "id": "8d0e413f",
   "metadata": {},
   "outputs": [
    {
     "data": {
      "text/plain": [
       "0.7734375"
      ]
     },
     "execution_count": 45,
     "metadata": {},
     "output_type": "execute_result"
    }
   ],
   "source": [
    "1 - (bernulli(num_of_successes(7, 0), 0.5, 0.5, 7, 0) + #вычитаем из 1 ни одного включенного\n",
    "     bernulli(num_of_successes(7, 1), 0.5, 0.5, 7, 1) + # и один включенный вычитаем\n",
    "     bernulli(num_of_successes(7, 2), 0.5, 0.5, 7, 2)) # два включенных тоже вычитаем"
   ]
  },
  {
   "cell_type": "code",
   "execution_count": 5,
   "id": "1d302c5c",
   "metadata": {},
   "outputs": [
    {
     "data": {
      "text/plain": [
       "0.7734375"
      ]
     },
     "execution_count": 5,
     "metadata": {},
     "output_type": "execute_result"
    }
   ],
   "source": [
    "(bernulli(num_of_successes(7, 7), 0.5, 0.5, 7, 7) +\n",
    "bernulli(num_of_successes(7, 6), 0.5, 0.5, 7, 6) +\n",
    "bernulli(num_of_successes(7, 5), 0.5, 0.5, 7, 5) +\n",
    "bernulli(num_of_successes(7, 4), 0.5, 0.5, 7, 4) +\n",
    "bernulli(num_of_successes(7, 3), 0.5, 0.5, 7, 3))"
   ]
  },
  {
   "cell_type": "code",
   "execution_count": null,
   "id": "59765249",
   "metadata": {},
   "outputs": [],
   "source": [
    "'''\n",
    "Задание 6\n",
    "\n",
    "Пусть вероятность того, что покупателю необходим компьютер с операционной системой Linux, равна 0.25. \n",
    "Найдите вероятность того, что из шести покупателей по крайней мере двум необходим компьютер с операционной системой Linux.\n",
    "Ответ округлите до сотых, в качестве разделителя используйте точку.'''"
   ]
  },
  {
   "cell_type": "code",
   "execution_count": 48,
   "id": "c87db407",
   "metadata": {},
   "outputs": [
    {
     "data": {
      "text/plain": [
       "0.466064453125"
      ]
     },
     "execution_count": 48,
     "metadata": {},
     "output_type": "execute_result"
    }
   ],
   "source": [
    "1 - (bernulli(num_of_successes(6, 6), 0.75, 0.25, 6, 6) + # вероятность, что линукс НЕ установят на все компы \n",
    "     bernulli(num_of_successes(6, 1), 0.25, 0.75, 6, 1)) # вероятность, что линукс установят на 1 ПК"
   ]
  },
  {
   "cell_type": "code",
   "execution_count": null,
   "id": "06879926",
   "metadata": {},
   "outputs": [],
   "source": [
    "'''\n",
    "Задание 7\n",
    "\n",
    "Для нормальной работы отдела по дата-аналитике необходимо, чтобы в офисе было не менее восьми программистов, \n",
    "а всего в штате 10 программистов. Вероятность того, что программист заболеет, равна 0.1. \n",
    "Найдите вероятность нормальной работы отдела по дата-аналитике.\n",
    "\n",
    "Ответ округлите до сотых, а в качестве разделителя используйте точку.'''"
   ]
  },
  {
   "cell_type": "code",
   "execution_count": 49,
   "id": "bef625dd",
   "metadata": {},
   "outputs": [
    {
     "data": {
      "text/plain": [
       "0.9298091736000003"
      ]
     },
     "execution_count": 49,
     "metadata": {},
     "output_type": "execute_result"
    }
   ],
   "source": [
    "(bernulli(num_of_successes(10, 10), 0.9, 0.1, 10, 10) + # вероятность, что никто не болеет\n",
    " bernulli(num_of_successes(10, 1), 0.1, 0.9, 10, 1) + # вероятность, что болеет один программист\n",
    " bernulli(num_of_successes(10, 2), 0.1, 0.9, 10, 2)) # вероятность, что болеет два программиста"
   ]
  },
  {
   "cell_type": "code",
   "execution_count": null,
   "id": "11f4fe31",
   "metadata": {},
   "outputs": [],
   "source": [
    "'''\n",
    "Задание 8\n",
    "\n",
    "Среди всех скриптов, которые пишет программист, с 10%-ой вероятностью скрипт будет с ошибкой. \n",
    "Найдем вероятность того, что среди 30 скриптов два не будут работать.\n",
    "\n",
    "Ответ округлите до тысячных, в качестве десятичного разделителя используйте точку.'''"
   ]
  },
  {
   "cell_type": "code",
   "execution_count": 51,
   "id": "88b27f37",
   "metadata": {},
   "outputs": [
    {
     "data": {
      "text/plain": [
       "0.228"
      ]
     },
     "execution_count": 51,
     "metadata": {},
     "output_type": "execute_result"
    }
   ],
   "source": [
    "round(bernulli(num_of_successes(30, 2), 0.1, 0.9, 30, 2), 3)"
   ]
  },
  {
   "cell_type": "code",
   "execution_count": null,
   "id": "2d2ab98a",
   "metadata": {},
   "outputs": [],
   "source": [
    "'''\n",
    "Задание 9\n",
    "\n",
    "В очень большом чате по дата аналитике сидит 1730 человек. Вероятность того, \n",
    "что день рождения наугад взятого участника чата приходится на определенный день года, \n",
    "равна 1/365 для каждого из 365 дней. Найдем наиболее вероятное число счастливчиков, которые родились 1 марта.'''"
   ]
  },
  {
   "cell_type": "code",
   "execution_count": 52,
   "id": "358d5242",
   "metadata": {},
   "outputs": [
    {
     "data": {
      "text/plain": [
       "0.04127460470635112"
      ]
     },
     "execution_count": 52,
     "metadata": {},
     "output_type": "execute_result"
    }
   ],
   "source": [
    "bernulli(num_of_successes(1730, 1), (1/365), (1-(1/365)), 1730, 1)"
   ]
  },
  {
   "cell_type": "code",
   "execution_count": 53,
   "id": "106aae45",
   "metadata": {},
   "outputs": [
    {
     "data": {
      "text/plain": [
       "3.742465753424658"
      ]
     },
     "execution_count": 53,
     "metadata": {},
     "output_type": "execute_result"
    }
   ],
   "source": [
    "(1730/365) - (1 - 1/365)"
   ]
  },
  {
   "cell_type": "code",
   "execution_count": 54,
   "id": "4406984b",
   "metadata": {},
   "outputs": [
    {
     "data": {
      "text/plain": [
       "4.742465753424658"
      ]
     },
     "execution_count": 54,
     "metadata": {},
     "output_type": "execute_result"
    }
   ],
   "source": [
    "(1730/365) + 1/365"
   ]
  },
  {
   "cell_type": "code",
   "execution_count": null,
   "id": "34932256",
   "metadata": {},
   "outputs": [],
   "source": [
    "'''Задание 10\n",
    "\n",
    "В урне 20 шаров: 15 белых и 5 чёрных. Вынули подряд 5 шаров, причём каждый вынутый шар возвращается в урну \n",
    "и перед извлечением следующего шары в урне тщательно перемешиваются. Найдите вероятность того, что из пяти вынутых шаров \n",
    "будет 2 белых.\n",
    "\n",
    "Ответ округлите до тысячных, в качестве десятичного разделителя используйте точку.'''"
   ]
  },
  {
   "cell_type": "code",
   "execution_count": 57,
   "id": "df379070",
   "metadata": {},
   "outputs": [
    {
     "data": {
      "text/plain": [
       "0.088"
      ]
     },
     "execution_count": 57,
     "metadata": {},
     "output_type": "execute_result"
    }
   ],
   "source": [
    "round(bernulli(num_of_successes(5, 2), 0.75, 0.25, 5, 2), 3)"
   ]
  },
  {
   "cell_type": "code",
   "execution_count": null,
   "id": "7c2be45f",
   "metadata": {},
   "outputs": [],
   "source": []
  }
 ],
 "metadata": {
  "kernelspec": {
   "display_name": "Python 3 (ipykernel)",
   "language": "python",
   "name": "python3"
  },
  "language_info": {
   "codemirror_mode": {
    "name": "ipython",
    "version": 3
   },
   "file_extension": ".py",
   "mimetype": "text/x-python",
   "name": "python",
   "nbconvert_exporter": "python",
   "pygments_lexer": "ipython3",
   "version": "3.9.13"
  }
 },
 "nbformat": 4,
 "nbformat_minor": 5
}
