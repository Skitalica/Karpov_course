{
 "cells": [
  {
   "cell_type": "markdown",
   "id": "3b5134cc",
   "metadata": {},
   "source": [
    "#### Кейс №1 - Приложение знакомств\n",
    "\n",
    "#### Вы работаете аналитиком в приложении для онлайн-знакомств. Механика приложения следующая: пользователи видят в приложении анкеты друг друга и могут ставить друг другу лайки или дизлайки. Если пользователи поставили друг другу лайк – это называется мэтч, и у пользователей появляется возможность познакомиться.\n",
    "\n",
    "#### Команда приложения разработала новый алгоритм для поиска наиболее подходящих анкет. Для проверки работы алгоритма был проведен АБ-тест. Все пользователи были разделены на две группы. Пользователи в группе с номером 0 пользовались приложением со старым алгоритмом. Все пользователи в группе 1 пользовались приложением с новым алгоритмом для поиска анкет.\n",
    "\n",
    "#### Ваша задача – оценить, правда ли, что новый алгоритм улучшил качество сервиса. Для этого нужно выбрать одну или несколько метрик, которые отвечают за качество сервиса, и статистически сравнить эти метрики в двух группах.\n",
    "\n",
    "#### В данных находится выгрузка логов взаимодействия пользователей друг с другом. Для каждой пары пользователей указано, из какой они группы АБ-теста и случился ли у них мэтч.\n",
    "\n",
    "#### Результат вашей работы – аналитическое заключение с ответом на вопрос, стоит ли включать новую систему поиска анкет на всех пользователей. #### "
   ]
  },
  {
   "cell_type": "code",
   "execution_count": 17,
   "id": "f1652617",
   "metadata": {},
   "outputs": [],
   "source": [
    "import pandas as pd\n",
    "import ssl\n",
    "import urllib.request\n",
    "import numpy as np\n",
    "from scipy.stats import chi2_contingency\n",
    "import scipy.stats as stats"
   ]
  },
  {
   "cell_type": "code",
   "execution_count": 3,
   "id": "5eab219c",
   "metadata": {},
   "outputs": [
    {
     "data": {
      "text/html": [
       "<div>\n",
       "<style scoped>\n",
       "    .dataframe tbody tr th:only-of-type {\n",
       "        vertical-align: middle;\n",
       "    }\n",
       "\n",
       "    .dataframe tbody tr th {\n",
       "        vertical-align: top;\n",
       "    }\n",
       "\n",
       "    .dataframe thead th {\n",
       "        text-align: right;\n",
       "    }\n",
       "</style>\n",
       "<table border=\"1\" class=\"dataframe\">\n",
       "  <thead>\n",
       "    <tr style=\"text-align: right;\">\n",
       "      <th></th>\n",
       "      <th>user_id_1</th>\n",
       "      <th>user_id_2</th>\n",
       "      <th>group</th>\n",
       "      <th>is_match</th>\n",
       "    </tr>\n",
       "  </thead>\n",
       "  <tbody>\n",
       "    <tr>\n",
       "      <th>0</th>\n",
       "      <td>79</td>\n",
       "      <td>91</td>\n",
       "      <td>1</td>\n",
       "      <td>1</td>\n",
       "    </tr>\n",
       "    <tr>\n",
       "      <th>1</th>\n",
       "      <td>716</td>\n",
       "      <td>353</td>\n",
       "      <td>1</td>\n",
       "      <td>1</td>\n",
       "    </tr>\n",
       "    <tr>\n",
       "      <th>2</th>\n",
       "      <td>423</td>\n",
       "      <td>677</td>\n",
       "      <td>0</td>\n",
       "      <td>0</td>\n",
       "    </tr>\n",
       "    <tr>\n",
       "      <th>3</th>\n",
       "      <td>658</td>\n",
       "      <td>165</td>\n",
       "      <td>1</td>\n",
       "      <td>1</td>\n",
       "    </tr>\n",
       "    <tr>\n",
       "      <th>4</th>\n",
       "      <td>969</td>\n",
       "      <td>155</td>\n",
       "      <td>0</td>\n",
       "      <td>1</td>\n",
       "    </tr>\n",
       "    <tr>\n",
       "      <th>...</th>\n",
       "      <td>...</td>\n",
       "      <td>...</td>\n",
       "      <td>...</td>\n",
       "      <td>...</td>\n",
       "    </tr>\n",
       "    <tr>\n",
       "      <th>14509</th>\n",
       "      <td>476</td>\n",
       "      <td>631</td>\n",
       "      <td>0</td>\n",
       "      <td>0</td>\n",
       "    </tr>\n",
       "    <tr>\n",
       "      <th>14510</th>\n",
       "      <td>455</td>\n",
       "      <td>770</td>\n",
       "      <td>1</td>\n",
       "      <td>0</td>\n",
       "    </tr>\n",
       "    <tr>\n",
       "      <th>14511</th>\n",
       "      <td>260</td>\n",
       "      <td>6</td>\n",
       "      <td>1</td>\n",
       "      <td>1</td>\n",
       "    </tr>\n",
       "    <tr>\n",
       "      <th>14512</th>\n",
       "      <td>885</td>\n",
       "      <td>812</td>\n",
       "      <td>1</td>\n",
       "      <td>1</td>\n",
       "    </tr>\n",
       "    <tr>\n",
       "      <th>14513</th>\n",
       "      <td>357</td>\n",
       "      <td>810</td>\n",
       "      <td>1</td>\n",
       "      <td>1</td>\n",
       "    </tr>\n",
       "  </tbody>\n",
       "</table>\n",
       "<p>14514 rows × 4 columns</p>\n",
       "</div>"
      ],
      "text/plain": [
       "       user_id_1  user_id_2  group  is_match\n",
       "0             79         91      1         1\n",
       "1            716        353      1         1\n",
       "2            423        677      0         0\n",
       "3            658        165      1         1\n",
       "4            969        155      0         1\n",
       "...          ...        ...    ...       ...\n",
       "14509        476        631      0         0\n",
       "14510        455        770      1         0\n",
       "14511        260          6      1         1\n",
       "14512        885        812      1         1\n",
       "14513        357        810      1         1\n",
       "\n",
       "[14514 rows x 4 columns]"
      ]
     },
     "execution_count": 3,
     "metadata": {},
     "output_type": "execute_result"
    }
   ],
   "source": [
    "url = \"https://getfile.dokpub.com/yandex/get/https://disk.yandex.ru/d/txn7q-CE2zSaPg\"\n",
    "context = ssl._create_unverified_context()\n",
    "response = urllib.request.urlopen(url, context=context)\n",
    "\n",
    "dating_data = pd.read_csv(response)\n",
    "dating_data"
   ]
  },
  {
   "cell_type": "markdown",
   "id": "82bd75a6",
   "metadata": {},
   "source": [
    "group:\n",
    "    \n",
    "    0 - контрольная\n",
    "    1 - тестовая\n",
    "    \n",
    "is_match:\n",
    "\n",
    "    0 - дизлайк( не сошлись)\n",
    "    1 - лайк (мэтч)"
   ]
  },
  {
   "cell_type": "code",
   "execution_count": 4,
   "id": "494dea34",
   "metadata": {},
   "outputs": [
    {
     "name": "stdout",
     "output_type": "stream",
     "text": [
      "<class 'pandas.core.frame.DataFrame'>\n",
      "RangeIndex: 14514 entries, 0 to 14513\n",
      "Data columns (total 4 columns):\n",
      " #   Column     Non-Null Count  Dtype\n",
      "---  ------     --------------  -----\n",
      " 0   user_id_1  14514 non-null  int64\n",
      " 1   user_id_2  14514 non-null  int64\n",
      " 2   group      14514 non-null  int64\n",
      " 3   is_match   14514 non-null  int64\n",
      "dtypes: int64(4)\n",
      "memory usage: 453.7 KB\n"
     ]
    }
   ],
   "source": [
    "dating_data.info()"
   ]
  },
  {
   "cell_type": "code",
   "execution_count": 9,
   "id": "c4bc3abe",
   "metadata": {},
   "outputs": [
    {
     "data": {
      "text/plain": [
       "user_id_1    4792\n",
       "user_id_2    4792\n",
       "group        4792\n",
       "is_match     4792\n",
       "dtype: int64"
      ]
     },
     "execution_count": 9,
     "metadata": {},
     "output_type": "execute_result"
    }
   ],
   "source": [
    "control_all = dating_data.query('group == 0').count()\n",
    "control_all"
   ]
  },
  {
   "cell_type": "code",
   "execution_count": 10,
   "id": "a2027ef7",
   "metadata": {},
   "outputs": [
    {
     "data": {
      "text/plain": [
       "user_id_1    9722\n",
       "user_id_2    9722\n",
       "group        9722\n",
       "is_match     9722\n",
       "dtype: int64"
      ]
     },
     "execution_count": 10,
     "metadata": {},
     "output_type": "execute_result"
    }
   ],
   "source": [
    "testing_all = dating_data.query('group == 1').count()\n",
    "testing_all"
   ]
  },
  {
   "cell_type": "code",
   "execution_count": 11,
   "id": "9aba9d24",
   "metadata": {},
   "outputs": [
    {
     "data": {
      "text/plain": [
       "934"
      ]
     },
     "execution_count": 11,
     "metadata": {},
     "output_type": "execute_result"
    }
   ],
   "source": [
    "control_match = dating_data.query('group == 0').is_match.sum()\n",
    "control_match"
   ]
  },
  {
   "cell_type": "code",
   "execution_count": 12,
   "id": "02dc3e4d",
   "metadata": {},
   "outputs": [
    {
     "data": {
      "text/plain": [
       "3909"
      ]
     },
     "execution_count": 12,
     "metadata": {},
     "output_type": "execute_result"
    }
   ],
   "source": [
    "testing_match = dating_data.query('group == 1').is_match.sum()\n",
    "testing_match"
   ]
  },
  {
   "cell_type": "markdown",
   "id": "51375493",
   "metadata": {},
   "source": [
    "У нас категориальные данные, поэтому для теста будем использовать в дальнейшем хи-квадрат, можно еще проверить на критерии Фишера.\n",
    "\n",
    "В качестве основной метрики используем коэффициент конверсии, т.е. отношение кол-ва мэтчей к общему количеству человек."
   ]
  },
  {
   "cell_type": "code",
   "execution_count": 13,
   "id": "bf25dc1f",
   "metadata": {},
   "outputs": [
    {
     "data": {
      "text/plain": [
       "user_id_1    3858\n",
       "user_id_2    3858\n",
       "group        3858\n",
       "is_match     3858\n",
       "dtype: int64"
      ]
     },
     "execution_count": 13,
     "metadata": {},
     "output_type": "execute_result"
    }
   ],
   "source": [
    "control_all - control_match"
   ]
  },
  {
   "cell_type": "code",
   "execution_count": 14,
   "id": "88ef88cb",
   "metadata": {},
   "outputs": [
    {
     "data": {
      "text/plain": [
       "user_id_1    5813\n",
       "user_id_2    5813\n",
       "group        5813\n",
       "is_match     5813\n",
       "dtype: int64"
      ]
     },
     "execution_count": 14,
     "metadata": {},
     "output_type": "execute_result"
    }
   ],
   "source": [
    "testing_all - testing_match"
   ]
  },
  {
   "cell_type": "markdown",
   "id": "09948f56",
   "metadata": {},
   "source": [
    "Хи-квадрат"
   ]
  },
  {
   "cell_type": "code",
   "execution_count": 16,
   "id": "e2c1479d",
   "metadata": {},
   "outputs": [
    {
     "data": {
      "text/plain": [
       "Chi2ContingencyResult(statistic=618.6889141576198, pvalue=1.4418299163662586e-136, dof=1, expected_freq=array([[3244.01584677, 6477.98415323],\n",
       "       [1598.98415323, 3193.01584677]]))"
      ]
     },
     "execution_count": 16,
     "metadata": {},
     "output_type": "execute_result"
    }
   ],
   "source": [
    "obs = np.array([[3909, 5813], [934, 3858]])\n",
    "res = chi2_contingency(obs)\n",
    "res"
   ]
  },
  {
   "cell_type": "markdown",
   "id": "7e941bcd",
   "metadata": {},
   "source": [
    "Критерий Фишера"
   ]
  },
  {
   "cell_type": "code",
   "execution_count": 18,
   "id": "4a2590fc",
   "metadata": {},
   "outputs": [
    {
     "data": {
      "text/plain": [
       "SignificanceResult(statistic=2.777670295958516, pvalue=4.1568056557373717e-144)"
      ]
     },
     "execution_count": 18,
     "metadata": {},
     "output_type": "execute_result"
    }
   ],
   "source": [
    "stats.fisher_exact(obs)"
   ]
  },
  {
   "cell_type": "markdown",
   "id": "d4148ff2",
   "metadata": {},
   "source": [
    "Оба критерия дают нам понять, что при таком p-value у нас появляются основания отклонить Нулевую гипотезу( о том, что статзначимых различий нет)."
   ]
  },
  {
   "cell_type": "markdown",
   "id": "1b08b70d",
   "metadata": {},
   "source": [
    "Теперь посмотрим на наши метрики Conversion Rate."
   ]
  },
  {
   "cell_type": "code",
   "execution_count": 25,
   "id": "b2ae87b3",
   "metadata": {},
   "outputs": [
    {
     "data": {
      "text/plain": [
       "user_id_1    19.49\n",
       "user_id_2    19.49\n",
       "group        19.49\n",
       "is_match     19.49\n",
       "dtype: float64"
      ]
     },
     "execution_count": 25,
     "metadata": {},
     "output_type": "execute_result"
    }
   ],
   "source": [
    "control_conversion = (control_match / control_all).mul(100).round(2)\n",
    "control_conversion"
   ]
  },
  {
   "cell_type": "code",
   "execution_count": 24,
   "id": "7f107cdc",
   "metadata": {},
   "outputs": [
    {
     "data": {
      "text/plain": [
       "user_id_1    40.21\n",
       "user_id_2    40.21\n",
       "group        40.21\n",
       "is_match     40.21\n",
       "dtype: float64"
      ]
     },
     "execution_count": 24,
     "metadata": {},
     "output_type": "execute_result"
    }
   ],
   "source": [
    "testing_conversion = (testing_match / testing_all).mul(100).round(2)\n",
    "testing_conversion"
   ]
  },
  {
   "cell_type": "code",
   "execution_count": 26,
   "id": "1fcad393",
   "metadata": {},
   "outputs": [
    {
     "data": {
      "text/plain": [
       "user_id_1    20.72\n",
       "user_id_2    20.72\n",
       "group        20.72\n",
       "is_match     20.72\n",
       "dtype: float64"
      ]
     },
     "execution_count": 26,
     "metadata": {},
     "output_type": "execute_result"
    }
   ],
   "source": [
    "testing_conversion - control_conversion"
   ]
  },
  {
   "cell_type": "markdown",
   "id": "b3745de8",
   "metadata": {},
   "source": [
    "#### Судя по показателям нашей метрики мы смело можем заявить, что новый алгоритм улучшил качество сервиса  на 20.72%. Новую систему поиска анкет на всех пользователей включать стоит!"
   ]
  }
 ],
 "metadata": {
  "kernelspec": {
   "display_name": "Python 3 (ipykernel)",
   "language": "python",
   "name": "python3"
  },
  "language_info": {
   "codemirror_mode": {
    "name": "ipython",
    "version": 3
   },
   "file_extension": ".py",
   "mimetype": "text/x-python",
   "name": "python",
   "nbconvert_exporter": "python",
   "pygments_lexer": "ipython3",
   "version": "3.9.13"
  }
 },
 "nbformat": 4,
 "nbformat_minor": 5
}
