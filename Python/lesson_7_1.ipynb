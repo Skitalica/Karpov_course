{
 "cells": [
  {
   "cell_type": "code",
   "execution_count": 3,
   "id": "7aa98853",
   "metadata": {},
   "outputs": [
    {
     "name": "stdout",
     "output_type": "stream",
     "text": [
      "Collecting vk_api\n",
      "  Using cached vk_api-11.9.9-py3-none-any.whl (48 kB)\n",
      "Requirement already satisfied: requests in c:\\users\\skitalica\\anaconda3\\lib\\site-packages (from vk_api) (2.28.1)\n",
      "Requirement already satisfied: idna<4,>=2.5 in c:\\users\\skitalica\\anaconda3\\lib\\site-packages (from requests->vk_api) (3.3)\n",
      "Requirement already satisfied: certifi>=2017.4.17 in c:\\users\\skitalica\\anaconda3\\lib\\site-packages (from requests->vk_api) (2022.9.14)\n",
      "Requirement already satisfied: urllib3<1.27,>=1.21.1 in c:\\users\\skitalica\\anaconda3\\lib\\site-packages (from requests->vk_api) (1.26.11)\n",
      "Requirement already satisfied: charset-normalizer<3,>=2 in c:\\users\\skitalica\\anaconda3\\lib\\site-packages (from requests->vk_api) (2.0.4)\n",
      "Installing collected packages: vk_api\n",
      "Successfully installed vk_api-11.9.9\n"
     ]
    }
   ],
   "source": [
    "#! pip install vk_api  установка библиотек в джупитер"
   ]
  },
  {
   "cell_type": "code",
   "execution_count": 16,
   "id": "11007b47",
   "metadata": {},
   "outputs": [
    {
     "name": "stdout",
     "output_type": "stream",
     "text": [
      "Collecting gspread\n",
      "  Downloading gspread-5.7.2-py3-none-any.whl (40 kB)\n",
      "     -------------------------------------- 40.5/40.5 kB 644.2 kB/s eta 0:00:00\n",
      "Collecting google-auth>=1.12.0\n",
      "  Downloading google_auth-2.16.2-py2.py3-none-any.whl (177 kB)\n",
      "     -------------------------------------- 177.2/177.2 kB 1.5 MB/s eta 0:00:00\n",
      "Collecting google-auth-oauthlib>=0.4.1\n",
      "  Downloading google_auth_oauthlib-1.0.0-py2.py3-none-any.whl (18 kB)\n",
      "Requirement already satisfied: pyasn1-modules>=0.2.1 in c:\\users\\skitalica\\anaconda3\\lib\\site-packages (from google-auth>=1.12.0->gspread) (0.2.8)\n",
      "Collecting rsa<5,>=3.1.4\n",
      "  Downloading rsa-4.9-py3-none-any.whl (34 kB)\n",
      "Collecting cachetools<6.0,>=2.0.0\n",
      "  Downloading cachetools-5.3.0-py3-none-any.whl (9.3 kB)\n",
      "Requirement already satisfied: six>=1.9.0 in c:\\users\\skitalica\\anaconda3\\lib\\site-packages (from google-auth>=1.12.0->gspread) (1.16.0)\n",
      "Collecting requests-oauthlib>=0.7.0\n",
      "  Downloading requests_oauthlib-1.3.1-py2.py3-none-any.whl (23 kB)\n",
      "Requirement already satisfied: pyasn1<0.5.0,>=0.4.6 in c:\\users\\skitalica\\anaconda3\\lib\\site-packages (from pyasn1-modules>=0.2.1->google-auth>=1.12.0->gspread) (0.4.8)\n",
      "Collecting oauthlib>=3.0.0\n",
      "  Downloading oauthlib-3.2.2-py3-none-any.whl (151 kB)\n",
      "     -------------------------------------- 151.7/151.7 kB 4.6 MB/s eta 0:00:00\n",
      "Requirement already satisfied: requests>=2.0.0 in c:\\users\\skitalica\\anaconda3\\lib\\site-packages (from requests-oauthlib>=0.7.0->google-auth-oauthlib>=0.4.1->gspread) (2.28.1)\n",
      "Requirement already satisfied: certifi>=2017.4.17 in c:\\users\\skitalica\\anaconda3\\lib\\site-packages (from requests>=2.0.0->requests-oauthlib>=0.7.0->google-auth-oauthlib>=0.4.1->gspread) (2022.9.14)\n",
      "Requirement already satisfied: urllib3<1.27,>=1.21.1 in c:\\users\\skitalica\\anaconda3\\lib\\site-packages (from requests>=2.0.0->requests-oauthlib>=0.7.0->google-auth-oauthlib>=0.4.1->gspread) (1.26.11)\n",
      "Requirement already satisfied: idna<4,>=2.5 in c:\\users\\skitalica\\anaconda3\\lib\\site-packages (from requests>=2.0.0->requests-oauthlib>=0.7.0->google-auth-oauthlib>=0.4.1->gspread) (3.3)\n",
      "Requirement already satisfied: charset-normalizer<3,>=2 in c:\\users\\skitalica\\anaconda3\\lib\\site-packages (from requests>=2.0.0->requests-oauthlib>=0.7.0->google-auth-oauthlib>=0.4.1->gspread) (2.0.4)\n",
      "Installing collected packages: rsa, oauthlib, cachetools, requests-oauthlib, google-auth, google-auth-oauthlib, gspread\n",
      "Successfully installed cachetools-5.3.0 google-auth-2.16.2 google-auth-oauthlib-1.0.0 gspread-5.7.2 oauthlib-3.2.2 requests-oauthlib-1.3.1 rsa-4.9\n"
     ]
    }
   ],
   "source": [
    "! pip install gspread"
   ]
  },
  {
   "cell_type": "code",
   "execution_count": 25,
   "id": "42ae9595",
   "metadata": {},
   "outputs": [],
   "source": [
    "import pandas as pd\n",
    "import datetime\n",
    "import vk_api\n",
    "import os\n",
    "import requests\n",
    "import json\n",
    "import random\n",
    "\n",
    "%matplotlib inline\n",
    "import matplotlib.pyplot as plt\n",
    "import seaborn as sns\n",
    "import sys\n",
    "import numpy as np"
   ]
  },
  {
   "cell_type": "code",
   "execution_count": 5,
   "id": "a106455a",
   "metadata": {},
   "outputs": [],
   "source": [
    "token = 'vk1.a._jjV60ffSdMa3YfE95BZN3EktMTZ0Gj4Pv6Cn3f_d5QtUh-ijHIzgm13JQ_mTzB1ckcNpY6xsL-D7IPZiHhZjpeNsUz0FUCzHg_bWQogeQbB6poG639iLEejNchRhPjgo0YEBydUOq0Sx2b68B5ek0wFBAdjGfmYxYCaiAxFy213caFi1fbNGmBgIKWUCkwxRIN5KTQ9RfoMUe_idZsZnA'"
   ]
  },
  {
   "cell_type": "code",
   "execution_count": 12,
   "id": "3c99a473",
   "metadata": {},
   "outputs": [],
   "source": [
    "vk_session = vk_api.VkApi(token=token)\n",
    "vk = vk_session.get_api()"
   ]
  },
  {
   "cell_type": "code",
   "execution_count": 14,
   "id": "32ce78da",
   "metadata": {},
   "outputs": [
    {
     "data": {
      "text/plain": [
       "0"
      ]
     },
     "execution_count": 14,
     "metadata": {},
     "output_type": "execute_result"
    }
   ],
   "source": [
    "vk.messages.send(\n",
    "    chat_id=2,\n",
    "    random_id=5,\n",
    "    message='Если они тебе мешают, конечно. Или просто забей =)')"
   ]
  },
  {
   "cell_type": "code",
   "execution_count": null,
   "id": "35bae8ff",
   "metadata": {},
   "outputs": [],
   "source": [
    "'''\n",
    "\"client_email\": \"skitatest@level-storm-380712.iam.gserviceaccount.com\"\n",
    "'''"
   ]
  },
  {
   "cell_type": "code",
   "execution_count": 17,
   "id": "03de5196",
   "metadata": {},
   "outputs": [
    {
     "ename": "ModuleNotFoundError",
     "evalue": "No module named 'oauth2client'",
     "output_type": "error",
     "traceback": [
      "\u001b[1;31m---------------------------------------------------------------------------\u001b[0m",
      "\u001b[1;31mModuleNotFoundError\u001b[0m                       Traceback (most recent call last)",
      "\u001b[1;32m~\\AppData\\Local\\Temp\\ipykernel_11228\\3129763758.py\u001b[0m in \u001b[0;36m<module>\u001b[1;34m\u001b[0m\n\u001b[0;32m      1\u001b[0m \u001b[1;32mimport\u001b[0m \u001b[0mgspread\u001b[0m\u001b[1;33m\u001b[0m\u001b[1;33m\u001b[0m\u001b[0m\n\u001b[1;32m----> 2\u001b[1;33m \u001b[1;32mfrom\u001b[0m \u001b[0moauth2client\u001b[0m\u001b[1;33m.\u001b[0m\u001b[0mservice_account\u001b[0m \u001b[1;32mimport\u001b[0m \u001b[0mServiceAccountCredentials\u001b[0m\u001b[1;33m\u001b[0m\u001b[1;33m\u001b[0m\u001b[0m\n\u001b[0m\u001b[0;32m      3\u001b[0m \u001b[1;33m\u001b[0m\u001b[0m\n\u001b[0;32m      4\u001b[0m \u001b[1;33m\u001b[0m\u001b[0m\n\u001b[0;32m      5\u001b[0m \u001b[1;31m# Specify path to your file with credentials\u001b[0m\u001b[1;33m\u001b[0m\u001b[1;33m\u001b[0m\u001b[0m\n",
      "\u001b[1;31mModuleNotFoundError\u001b[0m: No module named 'oauth2client'"
     ]
    }
   ],
   "source": [
    "import gspread\n",
    "from oauth2client.service_account import ServiceAccountCredentials\n",
    "\n",
    "\n",
    "# Specify path to your file with credentials\n",
    "path_to_credential = 'credentials.json' \n",
    "\n",
    "# Specify name of table in google sheets\n",
    "table_name = 'стемпинг платы'\n",
    "\n",
    "scope = ['https://spreadsheets.google.com/feeds',\n",
    "         'https://www.googleapis.com/auth/drive']\n",
    "\n",
    "credentials = ServiceAccountCredentials.from_json_keyfile_name(path_to_credential, scope)\n",
    "\n",
    "gs = gspread.authorize(credentials)\n",
    "work_sheet = gs.open(table_name)\n",
    "\n",
    "# Select 1st sheet\n",
    "sheet1 = work_sheet.sheet1\n",
    "\n",
    "# Get data in python lists format\n",
    "data = sheet1.get_all_values()\n",
    "\n",
    "# Get header from data\n",
    "headers = data.pop(0)\n",
    "\n",
    "# Create df\n",
    "df = pd.DataFrame(data, columns=headers)\n",
    "df.head()"
   ]
  },
  {
   "cell_type": "code",
   "execution_count": null,
   "id": "859e0a5e",
   "metadata": {},
   "outputs": [],
   "source": [
    "'''7-1-1\n",
    "⭐️Задание со звёздочкой!⭐️\n",
    "\n",
    "Считайте данные из Google Sheets, которые находятся по этой ссылке при помощи библиотеки requests. \n",
    "Посчитайте процент мужчин среди всех посетителей сайта, округлите ответ до целых.\n",
    "\n",
    "Воспользуйтесь этим кодом, чтобы перевести данные из реквеста в пандас\n",
    "\n",
    "from io import BytesIO\n",
    "import requests\n",
    "\n",
    "\n",
    "req = requests.get(your_link)\n",
    "data = req.content\n",
    "\n",
    "df = pd.read_csv(BytesIO(data))\n",
    "'''"
   ]
  },
  {
   "cell_type": "code",
   "execution_count": 18,
   "id": "2afd5d16",
   "metadata": {},
   "outputs": [],
   "source": [
    "from io import BytesIO\n",
    "import requests\n",
    "\n",
    "\n",
    "req = requests.get('https://docs.google.com/spreadsheets/d/1e3PRXmMNXo9AZZnaol1aHgYxtH6KYaCDymEQlK6jaO8/export?format=csv')\n",
    "data = req.content\n",
    "\n",
    "df = pd.read_csv(BytesIO(data))"
   ]
  },
  {
   "cell_type": "code",
   "execution_count": 19,
   "id": "2ea7adc7",
   "metadata": {},
   "outputs": [
    {
     "data": {
      "text/html": [
       "<div>\n",
       "<style scoped>\n",
       "    .dataframe tbody tr th:only-of-type {\n",
       "        vertical-align: middle;\n",
       "    }\n",
       "\n",
       "    .dataframe tbody tr th {\n",
       "        vertical-align: top;\n",
       "    }\n",
       "\n",
       "    .dataframe thead th {\n",
       "        text-align: right;\n",
       "    }\n",
       "</style>\n",
       "<table border=\"1\" class=\"dataframe\">\n",
       "  <thead>\n",
       "    <tr style=\"text-align: right;\">\n",
       "      <th></th>\n",
       "      <th>date</th>\n",
       "      <th>gender</th>\n",
       "      <th>users</th>\n",
       "    </tr>\n",
       "  </thead>\n",
       "  <tbody>\n",
       "    <tr>\n",
       "      <th>0</th>\n",
       "      <td>2020-06-14</td>\n",
       "      <td>Not specified</td>\n",
       "      <td>150</td>\n",
       "    </tr>\n",
       "    <tr>\n",
       "      <th>1</th>\n",
       "      <td>2020-06-14</td>\n",
       "      <td>male</td>\n",
       "      <td>117</td>\n",
       "    </tr>\n",
       "    <tr>\n",
       "      <th>2</th>\n",
       "      <td>2020-06-14</td>\n",
       "      <td>female</td>\n",
       "      <td>21</td>\n",
       "    </tr>\n",
       "  </tbody>\n",
       "</table>\n",
       "</div>"
      ],
      "text/plain": [
       "         date         gender  users\n",
       "0  2020-06-14  Not specified    150\n",
       "1  2020-06-14           male    117\n",
       "2  2020-06-14         female     21"
      ]
     },
     "execution_count": 19,
     "metadata": {},
     "output_type": "execute_result"
    }
   ],
   "source": [
    "df"
   ]
  },
  {
   "cell_type": "code",
   "execution_count": 22,
   "id": "1956d6bd",
   "metadata": {},
   "outputs": [
    {
     "data": {
      "text/plain": [
       "41.0"
      ]
     },
     "execution_count": 22,
     "metadata": {},
     "output_type": "execute_result"
    }
   ],
   "source": [
    "result = (117/df.users.sum()*100)\n",
    "result.round()"
   ]
  },
  {
   "cell_type": "code",
   "execution_count": null,
   "id": "cd68e07b",
   "metadata": {},
   "outputs": [],
   "source": [
    "'''7-1-2\n",
    "Скачайте файл с данными посещаемости сайта Яндекс.Метрика отсюда (сохранен в переменную df).\n",
    "При помощи функции np.where создайте серию, в которую будет записываться 1, если посещения были сделаны роботами с браузера, \n",
    "содержащего Chrome в названии, и 0 в других случаях. Поместите получившуюся серию в переменную chrome_robots.'''"
   ]
  },
  {
   "cell_type": "code",
   "execution_count": 24,
   "id": "274809ec",
   "metadata": {},
   "outputs": [
    {
     "data": {
      "text/html": [
       "<div>\n",
       "<style scoped>\n",
       "    .dataframe tbody tr th:only-of-type {\n",
       "        vertical-align: middle;\n",
       "    }\n",
       "\n",
       "    .dataframe tbody tr th {\n",
       "        vertical-align: top;\n",
       "    }\n",
       "\n",
       "    .dataframe thead th {\n",
       "        text-align: right;\n",
       "    }\n",
       "</style>\n",
       "<table border=\"1\" class=\"dataframe\">\n",
       "  <thead>\n",
       "    <tr style=\"text-align: right;\">\n",
       "      <th></th>\n",
       "      <th>date</th>\n",
       "      <th>browser</th>\n",
       "      <th>user_type</th>\n",
       "      <th>users</th>\n",
       "    </tr>\n",
       "  </thead>\n",
       "  <tbody>\n",
       "    <tr>\n",
       "      <th>0</th>\n",
       "      <td>2020-06-14</td>\n",
       "      <td>Google Chrome</td>\n",
       "      <td>People</td>\n",
       "      <td>139</td>\n",
       "    </tr>\n",
       "    <tr>\n",
       "      <th>1</th>\n",
       "      <td>2020-06-14</td>\n",
       "      <td>Chrome Mobile</td>\n",
       "      <td>People</td>\n",
       "      <td>35</td>\n",
       "    </tr>\n",
       "    <tr>\n",
       "      <th>2</th>\n",
       "      <td>2020-06-14</td>\n",
       "      <td>Google Chrome</td>\n",
       "      <td>Robots</td>\n",
       "      <td>28</td>\n",
       "    </tr>\n",
       "    <tr>\n",
       "      <th>3</th>\n",
       "      <td>2020-06-14</td>\n",
       "      <td>Yandex Browser</td>\n",
       "      <td>People</td>\n",
       "      <td>22</td>\n",
       "    </tr>\n",
       "    <tr>\n",
       "      <th>4</th>\n",
       "      <td>2020-06-14</td>\n",
       "      <td>Firefox</td>\n",
       "      <td>People</td>\n",
       "      <td>15</td>\n",
       "    </tr>\n",
       "  </tbody>\n",
       "</table>\n",
       "</div>"
      ],
      "text/plain": [
       "         date         browser user_type  users\n",
       "0  2020-06-14   Google Chrome    People    139\n",
       "1  2020-06-14   Chrome Mobile    People     35\n",
       "2  2020-06-14   Google Chrome    Robots     28\n",
       "3  2020-06-14  Yandex Browser    People     22\n",
       "4  2020-06-14         Firefox    People     15"
      ]
     },
     "execution_count": 24,
     "metadata": {},
     "output_type": "execute_result"
    }
   ],
   "source": [
    "df2=pd.read_csv('https://getfile.dokpub.com/yandex/get/https://disk.yandex.ru/d/NU25PVVkxIEEtw.csv')\n",
    "df2.head()"
   ]
  },
  {
   "cell_type": "code",
   "execution_count": 27,
   "id": "96a2f02e",
   "metadata": {},
   "outputs": [],
   "source": [
    "chrome_robots = pd.Series(np.where((df2.user_type == 'Robots') & (df2.browser.str.contains('Chrome')), 1, 0))"
   ]
  },
  {
   "cell_type": "code",
   "execution_count": null,
   "id": "f8c67f8c",
   "metadata": {},
   "outputs": [],
   "source": [
    "'''7-1-3\n",
    "⭐️Задание со звёздочкой!⭐️\n",
    "\n",
    "У вас есть датасет с данными о кликах и показах по объявлению, в котором есть пропуски. \n",
    "Вычислите количество строк без пропусков в колонке click_type. Запишите ответ в переменную not_nan_count\n",
    "\n",
    "ad_id – id объявления\n",
    "user_id – id пользователя\n",
    "click_type – тип клика (клик по заголовку объявления, клик по центру)\n",
    "Данные сохранены в переменную df.\n",
    "\n",
    "'''"
   ]
  },
  {
   "cell_type": "code",
   "execution_count": 28,
   "id": "c6c03b88",
   "metadata": {},
   "outputs": [
    {
     "data": {
      "text/html": [
       "<div>\n",
       "<style scoped>\n",
       "    .dataframe tbody tr th:only-of-type {\n",
       "        vertical-align: middle;\n",
       "    }\n",
       "\n",
       "    .dataframe tbody tr th {\n",
       "        vertical-align: top;\n",
       "    }\n",
       "\n",
       "    .dataframe thead th {\n",
       "        text-align: right;\n",
       "    }\n",
       "</style>\n",
       "<table border=\"1\" class=\"dataframe\">\n",
       "  <thead>\n",
       "    <tr style=\"text-align: right;\">\n",
       "      <th></th>\n",
       "      <th>ad_id</th>\n",
       "      <th>user_id</th>\n",
       "      <th>click_type</th>\n",
       "    </tr>\n",
       "  </thead>\n",
       "  <tbody>\n",
       "    <tr>\n",
       "      <th>0</th>\n",
       "      <td>12345</td>\n",
       "      <td>qwert</td>\n",
       "      <td>top</td>\n",
       "    </tr>\n",
       "    <tr>\n",
       "      <th>1</th>\n",
       "      <td>12345</td>\n",
       "      <td>fsssc</td>\n",
       "      <td>center</td>\n",
       "    </tr>\n",
       "    <tr>\n",
       "      <th>2</th>\n",
       "      <td>12345</td>\n",
       "      <td>vfvgg</td>\n",
       "      <td>NaN</td>\n",
       "    </tr>\n",
       "    <tr>\n",
       "      <th>3</th>\n",
       "      <td>12345</td>\n",
       "      <td>asrvv</td>\n",
       "      <td>NaN</td>\n",
       "    </tr>\n",
       "    <tr>\n",
       "      <th>4</th>\n",
       "      <td>12345</td>\n",
       "      <td>tynuy</td>\n",
       "      <td>top</td>\n",
       "    </tr>\n",
       "  </tbody>\n",
       "</table>\n",
       "</div>"
      ],
      "text/plain": [
       "   ad_id user_id click_type\n",
       "0  12345   qwert        top\n",
       "1  12345   fsssc     center\n",
       "2  12345   vfvgg        NaN\n",
       "3  12345   asrvv        NaN\n",
       "4  12345   tynuy        top"
      ]
     },
     "execution_count": 28,
     "metadata": {},
     "output_type": "execute_result"
    }
   ],
   "source": [
    "df3=pd.read_csv('sample_ads.csv')\n",
    "df3.head()"
   ]
  },
  {
   "cell_type": "code",
   "execution_count": 30,
   "id": "e200569b",
   "metadata": {},
   "outputs": [
    {
     "data": {
      "text/plain": [
       "11"
      ]
     },
     "execution_count": 30,
     "metadata": {},
     "output_type": "execute_result"
    }
   ],
   "source": [
    "not_nan_count = df3.click_type.notna().sum()"
   ]
  },
  {
   "cell_type": "code",
   "execution_count": null,
   "id": "26a38a8a",
   "metadata": {},
   "outputs": [],
   "source": [
    "'''7-1-4\n",
    "⭐️Задание со звёздочкой!⭐️\n",
    "\n",
    "В списке lst находятся различные элементы. Создайте список new_list и сделайте следующее:\n",
    "\n",
    "при помощи конструкции try except и цикла попробуйте преобразовать каждое значение в листе в int\n",
    "если это получилось – добавьте преобразованное значение  в список new_list\n",
    "'''"
   ]
  },
  {
   "cell_type": "code",
   "execution_count": null,
   "id": "f88f522d",
   "metadata": {},
   "outputs": [],
   "source": [
    "'''\n",
    "new_list=[]\n",
    "for i in lst:\n",
    "    try:\n",
    "        new_list.append(int(i))\n",
    "    except:\n",
    "        continue\n",
    "'''"
   ]
  },
  {
   "cell_type": "code",
   "execution_count": null,
   "id": "9c682d65",
   "metadata": {},
   "outputs": [],
   "source": [
    "'''7-1-5\n",
    "⭐️Задание со звёздочкой! ⭐️\n",
    "\n",
    "А теперь попробуем воспользоваться знаниями использования Telegram API. Отправьте себе в личку любое послание, \n",
    "а в ответ к этому шагу напишите ник бота, от имени которого будете отправлять сообщения.\n",
    "'''"
   ]
  },
  {
   "cell_type": "code",
   "execution_count": null,
   "id": "580aa6e3",
   "metadata": {},
   "outputs": [],
   "source": [
    "'''\n",
    "https://api.telegram.org/bot{token}/getUpdates\n",
    "'''"
   ]
  },
  {
   "cell_type": "code",
   "execution_count": 41,
   "id": "b0e052fe",
   "metadata": {},
   "outputs": [],
   "source": [
    "import requests\n",
    "import json\n",
    "from urllib.parse import urlencode\n",
    "\n",
    "\n",
    "token = '5753392046:AAHUO9wdnl5XHOwF6KI_pLNleFFGJEgQFYA'\n",
    "chat_id = 277684942  # your chat id\n",
    "\n",
    "message = '???'  # text which you want to send\n",
    "\n",
    "params = {'chat_id': chat_id, 'text': message}\n",
    "\n",
    "base_url = f'https://api.telegram.org/bot5753392046:AAHUO9wdnl5XHOwF6KI_pLNleFFGJEgQFYA/'\n",
    "url = base_url + 'sendMessage?' + urlencode(params)\n",
    "# Only if you need it\n",
    "# proxy = {'https': 'https://77.48.23.199:57842'}\n",
    "\n",
    "# To send request via proxy\n",
    "# resp = requests.get(url, proxies=proxy)\n",
    "resp = requests.get(url)"
   ]
  },
  {
   "cell_type": "code",
   "execution_count": null,
   "id": "eac66460",
   "metadata": {},
   "outputs": [],
   "source": []
  },
  {
   "cell_type": "code",
   "execution_count": null,
   "id": "a9f30a0a",
   "metadata": {},
   "outputs": [],
   "source": []
  },
  {
   "cell_type": "code",
   "execution_count": null,
   "id": "b4c3406a",
   "metadata": {},
   "outputs": [],
   "source": []
  }
 ],
 "metadata": {
  "kernelspec": {
   "display_name": "Python 3 (ipykernel)",
   "language": "python",
   "name": "python3"
  },
  "language_info": {
   "codemirror_mode": {
    "name": "ipython",
    "version": 3
   },
   "file_extension": ".py",
   "mimetype": "text/x-python",
   "name": "python",
   "nbconvert_exporter": "python",
   "pygments_lexer": "ipython3",
   "version": "3.9.13"
  }
 },
 "nbformat": 4,
 "nbformat_minor": 5
}
