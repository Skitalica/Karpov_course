{
 "cells": [
  {
   "cell_type": "code",
   "execution_count": 9,
   "id": "caa08781",
   "metadata": {},
   "outputs": [],
   "source": [
    "import pandas as pd\n",
    "import matplotlib.pyplot as plt\n",
    "import seaborn as sns\n",
    "import os\n",
    "%matplotlib inline"
   ]
  },
  {
   "cell_type": "code",
   "execution_count": null,
   "id": "e1824acb",
   "metadata": {},
   "outputs": [],
   "source": [
    "'''4-2-1\n",
    "💀 Сложное задание! 💀\n",
    "Соберите все данные из папки data в один датафрэйм, имеющий следующие столбцы: колонки из самих файлов (product_id, quantity),\n",
    "имя пользователя (name), и дату этих покупок (date), соответствует названию папки, где лежит папка с пользователем).\n",
    "Пример итоговой таблицы:\n",
    "\n",
    "    product_id  quantity    name             date\n",
    "0       56          2         Anatoly_Karpov   2020-12-30\n",
    "1       7           2         Anatoly_Karpov   2020-12-30\n",
    "2       9           3         Anatoly_Karpov   2020-12-30\n",
    "\n",
    "Для объединения датафреймов, читаемых из файлов, можно использовать метод pd.concat(). Например:\n",
    "\n",
    "1. Имеются следующие данные:\n",
    "\n",
    "> df_1\n",
    "    product_id  quantity    name               date\n",
    "0       56          2         Anatoly_Karpov     2020-12-30\n",
    "1       7           2         Anatoly_Karpov     2020-12-30\n",
    "2       9           3         Anatoly_Karpov     2020-12-30\n",
    "\n",
    "> df_2\n",
    "    product_id  quantity    name               date\n",
    "0       4           2         Кatya_Skriptsova   2020-12-30\n",
    "1       71          1         Кatya_Skriptsova   2020-12-31\n",
    "\n",
    "2. Соединяем, передав pd.concat на вход список датафреймов, которые нужно объединить. Обратите внимание: индексы повторяются,\n",
    "поэтому после соединения всех данных нужно их сбросить.\n",
    "\n",
    "> df = pd.concat([df_1, df_2])\n",
    "> df\n",
    "    product_id  quantity    name                date\n",
    "0       56          2         Anatoly_Karpov      2020-12-30\n",
    "1       7           2         Anatoly_Karpov      2020-12-30\n",
    "2       9           3         Anatoly_Karpov      2020-12-30\n",
    "0       4           2         Кatya_Skriptsova    2020-12-30\n",
    "1       71          1         Кatya_Skriptsova    2020-12-31\n",
    "В качестве ответа укажите сумму по колонке quantity.'''"
   ]
  },
  {
   "cell_type": "code",
   "execution_count": 7,
   "id": "e748ad04",
   "metadata": {},
   "outputs": [],
   "source": [
    "'''\n",
    "ASmirnov_12_03 = pd.read_csv(r'F:\\Data\\2020-12-03\\Alexey_Smirnov\\data.csv')\n",
    "APetrov_12_03 = pd.read_csv(r'F:\\Data\\2020-12-03\\Anton_Petrov\\data.csv')\n",
    "KPetrov_12_03 = pd.read_csv(r'F:\\Data\\2020-12-03\\Kirill_Petrov\\data.csv')\n",
    "PFedorov_12_03 = pd.read_csv(r'F:\\Data\\2020-12-03\\Petr_Fedorov\\data.csv')\n",
    "VIvanov_12_03 = pd.read_csv(r'F:\\Data\\2020-12-03\\Vasiliy_Ivanov\\data.csv')\n",
    "VPetrov_12_03 = pd.read_csv(r'F:\\Data\\2020-12-03\\Vasiliy_Petrov\\data.csv')\n",
    "KFedorov_12_04 = pd.read_csv(r'F:\\Data\\2020-12-04\\Kirill_Fedorov\\data.csv')\n",
    "ASmirnov_12_04 = pd.read_csv(r'F:\\Data\\2020-12-04\\Alexey_Smirnov\\data.csv')\n",
    "PFedorov_12_04 = pd.read_csv(r'F:\\Data\\2020-12-04\\Petr_Fedorov\\data.csv')\n",
    "PIvanov_12_04 = pd.read_csv(r'F:\\Data\\2020-12-04\\Petr_Ivanov\\data.csv')\n",
    "PSmirnov_12_04 = pd.read_csv(r'F:\\Data\\2020-12-04\\Petr_Smirnov\\data.csv')\n",
    "RFedorov_12_04 = pd.read_csv(r'F:\\Data\\2020-12-04\\Rostislav_Fedorov\\data.csv')\n",
    "RIvanov_12_04 = pd.read_csv(r'F:\\Data\\2020-12-04\\Rostislav_Ivanov\\data.csv')\n",
    "RSmirnov_12_04 = pd.read_csv(r'F:\\Data\\2020-12-04\\Rostislav_Smirnov\\data.csv')\n",
    "VIvanov_12_04 = pd.read_csv(r'F:\\Data\\2020-12-04\\Vasiliy_Ivanov\\data.csv')\n",
    "AFedorov_12_05 = pd.read_csv(r'F:\\Data\\2020-12-05\\Alexey_Fedorov\\data.csv')\n",
    "APetrov_12_05 = pd.read_csv(r'F:\\Data\\2020-12-05\\Alexey_Petrov\\data.csv')\n",
    "KSmirnov_12_05 = pd.read_csv(r'F:\\Data\\2020-12-05\\Kirill_Smirnov\\data.csv')\n",
    "PIvanov_12_05 = pd.read_csv(r'F:\\Data\\2020-12-05\\Petr_Ivanov\\data.csv')\n",
    "PSmirnov_12_05 = pd.read_csv(r'F:\\Data\\2020-12-05\\Petr_Smirnov\\data.csv')\n",
    "RSmirnov_12_05 = pd.read_csv(r'F:\\Data\\2020-12-05\\Rostislav_Smirnov\\data.csv')\n",
    "VFedorov_12_06 = pd.read_csv(r'F:\\Data\\2020-12-06\\Vasiliy_Fedorov\\data.csv')\n",
    "AFedorov_12_07 = pd.read_csv(r'F:\\Data\\2020-12-07\\Alexey_Fedorov\\data.csv')\n",
    "AIvanov_12_07 = pd.read_csv(r'F:\\Data\\2020-12-07\\Alexey_Ivanov\\data.csv')\n",
    "ASmirnov_12_07 = pd.read_csv(r'F:\\Data\\2020-12-07\\Alexey_Smirnov\\data.csv')\n",
    "AIvanov_12_07 = pd.read_csv(r'F:\\Data\\2020-12-07\\Anton_Ivanov\\data.csv')\n",
    "ASmirnov_12_07 = pd.read_csv(r'F:\\Data\\2020-12-07\\Anton_Smirnov\\data.csv')\n",
    "KFedorov_12_07 = pd.read_csv(r'F:\\Data\\2020-12-07\\Kirill_Fedorov\\data.csv')\n",
    "PFedorov_12_07 = pd.read_csv(r'F:\\Data\\2020-12-07\\Petr_Fedorov\\data.csv')\n",
    "PSmirnov_12_07 = pd.read_csv(r'F:\\Data\\2020-12-07\\Petr_Smirnov\\data.csv')\n",
    "RFedorov_12_07 = pd.read_csv(r'F:\\Data\\2020-12-07\\Rostislav_Fedorov\\data.csv')\n",
    "VIvanov_12_07 = pd.read_csv(r'F:\\Data\\2020-12-07\\Vasiliy_Ivanov\\data.csv')\n",
    "AFedorov_12_08 = pd.read_csv(r'F:\\Data\\2020-12-08\\Alexey_Fedorov\\data.csv')\n",
    "ASmirnov_12_08 = pd.read_csv(r'F:\\Data\\2020-12-08\\Anton_Smirnov\\data.csv')\n",
    "KSmirnov_12_08 = pd.read_csv(r'F:\\Data\\2020-12-08\\Kirill_Smirnov\\data.csv')\n",
    "PPetrov_12_08 = pd.read_csv(r'F:\\Data\\2020-12-08\\Petr_Petrov\\data.csv')\n",
    "RPetrov_12_08 = pd.read_csv(r'F:\\Data\\2020-12-08\\Rostislav_Petrov\\data.csv')\n",
    "ASmirnov_12_09 = pd.read_csv(r'F:\\Data\\2020-12-09\\Alexey_Smirnov\\data.csv')\n",
    "AIvanov_12_09 = pd.read_csv(r'F:\\Data\\2020-12-09\\Anton_Ivanov\\data.csv')\n",
    "APetrov_12_09 = pd.read_csv(r'F:\\Data\\2020-12-09\\Anton_Petrov\\data.csv')\n",
    "ASmirnov_12_09 = pd.read_csv(r'F:\\Data\\2020-12-09\\Anton_Smirnov\\data.csv')\n",
    "PFedorov_12_09 = pd.read_csv(r'F:\\Data\\2020-12-09\\Petr_Fedorov\\data.csv')\n",
    "RPetrov_12_09 = pd.read_csv(r'F:\\Data\\2020-12-09\\Rostislav_Petrov\\data.csv')\n",
    "VIvanov_12_09 = pd.read_csv(r'F:\\Data\\2020-12-09\\Vasiliy_Ivanov\\data.csv')\n",
    "'''"
   ]
  },
  {
   "cell_type": "code",
   "execution_count": null,
   "id": "de70258d",
   "metadata": {},
   "outputs": [],
   "source": [
    "'''df = pd.DataFrame()\n",
    "\n",
    "for path, dirs, files in os.walk(path):\n",
    "    for fname in files:\n",
    "        s = os.path.join(path, fname)     \n",
    "        s_name = s.split('/')[-2]        \n",
    "        s_date = s.split('/')[-3]        \n",
    "        df1 = pd.read_csv(s)        \n",
    "        df1['name'] = s_name\n",
    "        df1['date'] = s_date        \n",
    "        df = df.append(df1)'''\n",
    "\n",
    "'''for date in os.listdir(start_path):\n",
    "    for name in os.listdir(start_path + date):\n",
    "        data_path = start_path + date + r'/' + name + '/data.csv'\n",
    "        temp_df = pd.read_csv(data_path)\n",
    "        temp_df['name'] = name\n",
    "        temp_df['date'] = date\n",
    "        start_df = pd.concat((start_df, temp_df))'''\n",
    "\n",
    "'''for root, dirs, files in os.walk(path):\n",
    "    for file in files:\n",
    "        path_file = os.path.join(root, file)\n",
    "        df_add = pd.read_csv(path_file)\n",
    "        path_name = root.split('/')\n",
    "        date = path_name[-2]\n",
    "        name = path_name[-1]\n",
    "        df_add['date'] = date\n",
    "        df_add['name'] = name\n",
    "        df = pd.concat((df, df_add))  '''"
   ]
  },
  {
   "cell_type": "code",
   "execution_count": null,
   "id": "4dc63ea3",
   "metadata": {},
   "outputs": [],
   "source": [
    "'''for date in os.listdir(start):\n",
    "    for name in os.listdir(start + date):\n",
    "        file_path = start + date + r'/' + name + '\\data.csv'\n",
    "        df = pd.read_csv(data_path)\n",
    "        df['name'] = name\n",
    "        df['date'] = date\n",
    "        start_df = pd.concat((start_df))'''"
   ]
  },
  {
   "cell_type": "code",
   "execution_count": 53,
   "id": "38c8e060",
   "metadata": {},
   "outputs": [
    {
     "data": {
      "text/plain": [
       "'F:/Data\\\\2020-12-09\\\\Vasiliy_Ivanov\\\\data.csv'"
      ]
     },
     "execution_count": 53,
     "metadata": {},
     "output_type": "execute_result"
    }
   ],
   "source": [
    "#Запускать только один раз!\n",
    "start = r'F:/Data'\n",
    "df = pd.DataFrame()\n",
    "\n",
    "for path, dirs, files in os.walk(start):\n",
    "    for file in files:\n",
    "        path_file = os.path.join(path, file)\n",
    "        df_new = pd.read_csv(path_file)\n",
    "        name = path_file.split('\\\\')[-2]\n",
    "        date = path_file.split('\\\\')[-3]\n",
    "        df_new['name'] = name\n",
    "        df_new['date'] = date\n",
    "        df = pd.concat((df, df_new))\n",
    "path_file"
   ]
  },
  {
   "cell_type": "code",
   "execution_count": 54,
   "id": "9ca495d0",
   "metadata": {},
   "outputs": [
    {
     "data": {
      "text/html": [
       "<div>\n",
       "<style scoped>\n",
       "    .dataframe tbody tr th:only-of-type {\n",
       "        vertical-align: middle;\n",
       "    }\n",
       "\n",
       "    .dataframe tbody tr th {\n",
       "        vertical-align: top;\n",
       "    }\n",
       "\n",
       "    .dataframe thead th {\n",
       "        text-align: right;\n",
       "    }\n",
       "</style>\n",
       "<table border=\"1\" class=\"dataframe\">\n",
       "  <thead>\n",
       "    <tr style=\"text-align: right;\">\n",
       "      <th></th>\n",
       "      <th>product_id</th>\n",
       "      <th>quantity</th>\n",
       "      <th>name</th>\n",
       "      <th>date</th>\n",
       "    </tr>\n",
       "  </thead>\n",
       "  <tbody>\n",
       "    <tr>\n",
       "      <th>0</th>\n",
       "      <td>47</td>\n",
       "      <td>1</td>\n",
       "      <td>Alexey_Smirnov</td>\n",
       "      <td>2020-12-03</td>\n",
       "    </tr>\n",
       "    <tr>\n",
       "      <th>1</th>\n",
       "      <td>57</td>\n",
       "      <td>1</td>\n",
       "      <td>Alexey_Smirnov</td>\n",
       "      <td>2020-12-03</td>\n",
       "    </tr>\n",
       "    <tr>\n",
       "      <th>2</th>\n",
       "      <td>14</td>\n",
       "      <td>2</td>\n",
       "      <td>Alexey_Smirnov</td>\n",
       "      <td>2020-12-03</td>\n",
       "    </tr>\n",
       "    <tr>\n",
       "      <th>3</th>\n",
       "      <td>52</td>\n",
       "      <td>1</td>\n",
       "      <td>Alexey_Smirnov</td>\n",
       "      <td>2020-12-03</td>\n",
       "    </tr>\n",
       "    <tr>\n",
       "      <th>4</th>\n",
       "      <td>1</td>\n",
       "      <td>4</td>\n",
       "      <td>Alexey_Smirnov</td>\n",
       "      <td>2020-12-03</td>\n",
       "    </tr>\n",
       "  </tbody>\n",
       "</table>\n",
       "</div>"
      ],
      "text/plain": [
       "   product_id  quantity            name        date\n",
       "0          47         1  Alexey_Smirnov  2020-12-03\n",
       "1          57         1  Alexey_Smirnov  2020-12-03\n",
       "2          14         2  Alexey_Smirnov  2020-12-03\n",
       "3          52         1  Alexey_Smirnov  2020-12-03\n",
       "4           1         4  Alexey_Smirnov  2020-12-03"
      ]
     },
     "execution_count": 54,
     "metadata": {},
     "output_type": "execute_result"
    }
   ],
   "source": [
    "df = df.drop('Unnamed: 0', axis=1).reset_index(drop=True)\n",
    "df.head()"
   ]
  },
  {
   "cell_type": "code",
   "execution_count": 55,
   "id": "a92e6352",
   "metadata": {},
   "outputs": [
    {
     "data": {
      "text/plain": [
       "480"
      ]
     },
     "execution_count": 55,
     "metadata": {},
     "output_type": "execute_result"
    }
   ],
   "source": [
    "df.quantity.sum()"
   ]
  },
  {
   "cell_type": "code",
   "execution_count": null,
   "id": "0c31c878",
   "metadata": {},
   "outputs": [],
   "source": [
    "'''4-2-2 Выясните, какой пользователь купил больше всего товаров. Если их несколько, то перечислите имена через запятую\n",
    "с пробелом и в алфавитном порядке. Например:\n",
    "Anatoly_Karpov, Nekto_Ktotovich, Lena_Uhanova, Ignat, Sasha_Tokarev\n",
    "'''"
   ]
  },
  {
   "cell_type": "code",
   "execution_count": 31,
   "id": "58a5e6f9",
   "metadata": {},
   "outputs": [
    {
     "data": {
      "text/plain": [
       "array(['Alexey_Smirnov', 'Anton_Petrov', 'Kirill_Petrov', 'Petr_Fedorov',\n",
       "       'Vasiliy_Ivanov', 'Vasiliy_Petrov', 'Kirill_Fedorov',\n",
       "       'Petr_Ivanov', 'Petr_Smirnov', 'Rostislav_Fedorov',\n",
       "       'Rostislav_Ivanov', 'Rostislav_Smirnov', 'Alexey_Fedorov',\n",
       "       'Alexey_Petrov', 'Kirill_Smirnov', 'Vasiliy_Fedorov',\n",
       "       'Alexey_Ivanov', 'Anton_Ivanov', 'Anton_Smirnov', 'Petr_Petrov',\n",
       "       'Rostislav_Petrov'], dtype=object)"
      ]
     },
     "execution_count": 31,
     "metadata": {},
     "output_type": "execute_result"
    }
   ],
   "source": [
    "df.name.unique()"
   ]
  },
  {
   "cell_type": "code",
   "execution_count": 42,
   "id": "eb802a9a",
   "metadata": {},
   "outputs": [
    {
     "data": {
      "text/plain": [
       "52"
      ]
     },
     "execution_count": 42,
     "metadata": {},
     "output_type": "execute_result"
    }
   ],
   "source": [
    "max_quantity = df.groupby('name').quantity.sum().max()\n",
    "#sum_quantity = df.groupby('name').quantity.sum()\n",
    "max_quantity"
   ]
  },
  {
   "cell_type": "code",
   "execution_count": 46,
   "id": "38ea348e",
   "metadata": {},
   "outputs": [
    {
     "data": {
      "text/html": [
       "<div>\n",
       "<style scoped>\n",
       "    .dataframe tbody tr th:only-of-type {\n",
       "        vertical-align: middle;\n",
       "    }\n",
       "\n",
       "    .dataframe tbody tr th {\n",
       "        vertical-align: top;\n",
       "    }\n",
       "\n",
       "    .dataframe thead th {\n",
       "        text-align: right;\n",
       "    }\n",
       "</style>\n",
       "<table border=\"1\" class=\"dataframe\">\n",
       "  <thead>\n",
       "    <tr style=\"text-align: right;\">\n",
       "      <th></th>\n",
       "      <th>name</th>\n",
       "      <th>quantity</th>\n",
       "    </tr>\n",
       "  </thead>\n",
       "  <tbody>\n",
       "    <tr>\n",
       "      <th>3</th>\n",
       "      <td>Alexey_Smirnov</td>\n",
       "      <td>52</td>\n",
       "    </tr>\n",
       "    <tr>\n",
       "      <th>13</th>\n",
       "      <td>Petr_Smirnov</td>\n",
       "      <td>52</td>\n",
       "    </tr>\n",
       "  </tbody>\n",
       "</table>\n",
       "</div>"
      ],
      "text/plain": [
       "              name  quantity\n",
       "3   Alexey_Smirnov        52\n",
       "13    Petr_Smirnov        52"
      ]
     },
     "execution_count": 46,
     "metadata": {},
     "output_type": "execute_result"
    }
   ],
   "source": [
    "max_quantity_name = df.groupby('name',as_index=False).agg({'quantity':'sum'}).query('quantity == @max_quantity')\n",
    "max_quantity_name"
   ]
  },
  {
   "cell_type": "code",
   "execution_count": 57,
   "id": "6e8380b6",
   "metadata": {},
   "outputs": [
    {
     "data": {
      "text/plain": [
       "'Alexey_Smirnov, Petr_Smirnov'"
      ]
     },
     "execution_count": 57,
     "metadata": {},
     "output_type": "execute_result"
    }
   ],
   "source": [
    "#', '.join([str(name) for name in max_quantity_name.name])"
   ]
  },
  {
   "cell_type": "code",
   "execution_count": 58,
   "id": "8f44b854",
   "metadata": {},
   "outputs": [
    {
     "name": "stdout",
     "output_type": "stream",
     "text": [
      "Alexey_Smirnov, Petr_Smirnov\n"
     ]
    }
   ],
   "source": [
    "a = (df.groupby('name')\n",
    "              .quantity.sum()\n",
    "              .sort_values(ascending=False)\n",
    "              .index[:2])\n",
    "print(*a, sep=', ')"
   ]
  },
  {
   "cell_type": "code",
   "execution_count": null,
   "id": "f917c3ea",
   "metadata": {},
   "outputs": [],
   "source": [
    "'''4-2-3\n",
    "Найдите топ-10 товаров по числу проданных единиц за всё время и постройте барплот (столбчатую диаграмму, sns.barplot), где:\n",
    "по оси x – идентификаторы товаров (product_id) \n",
    "по оси y – суммарное число их покупок (сколько товаров с таким product_id было продано)\n",
    "Для практики попробуйте изменить параметры графика: цвет (color), прозрачность (alpha), сортировку значений по оси х (order). \n",
    "В качестве ответа укажите, сколько было продано единиц товара с product_id равным 56.'''"
   ]
  },
  {
   "cell_type": "code",
   "execution_count": 100,
   "id": "bf35f815",
   "metadata": {},
   "outputs": [
    {
     "data": {
      "text/html": [
       "<div>\n",
       "<style scoped>\n",
       "    .dataframe tbody tr th:only-of-type {\n",
       "        vertical-align: middle;\n",
       "    }\n",
       "\n",
       "    .dataframe tbody tr th {\n",
       "        vertical-align: top;\n",
       "    }\n",
       "\n",
       "    .dataframe thead th {\n",
       "        text-align: right;\n",
       "    }\n",
       "</style>\n",
       "<table border=\"1\" class=\"dataframe\">\n",
       "  <thead>\n",
       "    <tr style=\"text-align: right;\">\n",
       "      <th></th>\n",
       "      <th>quantity</th>\n",
       "    </tr>\n",
       "    <tr>\n",
       "      <th>product_id</th>\n",
       "      <th></th>\n",
       "    </tr>\n",
       "  </thead>\n",
       "  <tbody>\n",
       "    <tr>\n",
       "      <th>27</th>\n",
       "      <td>20</td>\n",
       "    </tr>\n",
       "    <tr>\n",
       "      <th>56</th>\n",
       "      <td>18</td>\n",
       "    </tr>\n",
       "    <tr>\n",
       "      <th>24</th>\n",
       "      <td>15</td>\n",
       "    </tr>\n",
       "    <tr>\n",
       "      <th>74</th>\n",
       "      <td>15</td>\n",
       "    </tr>\n",
       "    <tr>\n",
       "      <th>41</th>\n",
       "      <td>14</td>\n",
       "    </tr>\n",
       "    <tr>\n",
       "      <th>34</th>\n",
       "      <td>13</td>\n",
       "    </tr>\n",
       "    <tr>\n",
       "      <th>94</th>\n",
       "      <td>13</td>\n",
       "    </tr>\n",
       "    <tr>\n",
       "      <th>66</th>\n",
       "      <td>13</td>\n",
       "    </tr>\n",
       "    <tr>\n",
       "      <th>92</th>\n",
       "      <td>12</td>\n",
       "    </tr>\n",
       "    <tr>\n",
       "      <th>50</th>\n",
       "      <td>12</td>\n",
       "    </tr>\n",
       "  </tbody>\n",
       "</table>\n",
       "</div>"
      ],
      "text/plain": [
       "            quantity\n",
       "product_id          \n",
       "27                20\n",
       "56                18\n",
       "24                15\n",
       "74                15\n",
       "41                14\n",
       "34                13\n",
       "94                13\n",
       "66                13\n",
       "92                12\n",
       "50                12"
      ]
     },
     "execution_count": 100,
     "metadata": {},
     "output_type": "execute_result"
    }
   ],
   "source": [
    "top10_product_id = df.groupby('product_id').agg({'quantity':'sum'}).sort_values('quantity',ascending=False)[:10]\n",
    "top10_product_id"
   ]
  },
  {
   "cell_type": "code",
   "execution_count": 101,
   "id": "1e8a6179",
   "metadata": {},
   "outputs": [
    {
     "data": {
      "text/html": [
       "<div>\n",
       "<style scoped>\n",
       "    .dataframe tbody tr th:only-of-type {\n",
       "        vertical-align: middle;\n",
       "    }\n",
       "\n",
       "    .dataframe tbody tr th {\n",
       "        vertical-align: top;\n",
       "    }\n",
       "\n",
       "    .dataframe thead th {\n",
       "        text-align: right;\n",
       "    }\n",
       "</style>\n",
       "<table border=\"1\" class=\"dataframe\">\n",
       "  <thead>\n",
       "    <tr style=\"text-align: right;\">\n",
       "      <th></th>\n",
       "      <th>quantity</th>\n",
       "    </tr>\n",
       "    <tr>\n",
       "      <th>product_id</th>\n",
       "      <th></th>\n",
       "    </tr>\n",
       "  </thead>\n",
       "  <tbody>\n",
       "    <tr>\n",
       "      <th>56</th>\n",
       "      <td>18</td>\n",
       "    </tr>\n",
       "  </tbody>\n",
       "</table>\n",
       "</div>"
      ],
      "text/plain": [
       "            quantity\n",
       "product_id          \n",
       "56                18"
      ]
     },
     "execution_count": 101,
     "metadata": {},
     "output_type": "execute_result"
    }
   ],
   "source": [
    "top10_product_id.query('product_id == 56')"
   ]
  },
  {
   "cell_type": "code",
   "execution_count": 148,
   "id": "f32a776c",
   "metadata": {},
   "outputs": [
    {
     "data": {
      "image/png": "[encoded data removed]",
      "text/plain": [
       "<Figure size 640x480 with 1 Axes>"
      ]
     },
     "metadata": {},
     "output_type": "display_data"
    }
   ],
   "source": [
    "sns.barplot(x=top10_product_id.index, \n",
    "            y=\"quantity\", \n",
    "            data=top10_product_id, \n",
    "            color='aquamarine', \n",
    "            alpha=0.8, \n",
    "            order=top10_product_id.index)\n",
    "plt.show()"
   ]
  },
  {
   "cell_type": "code",
   "execution_count": null,
   "id": "1097da31",
   "metadata": {},
   "outputs": [],
   "source": [
    "'''4-2-4 Посмотрим на продажи по дням! Для визуализации снова используйте барплот, только теперь по оси x будут дни, \n",
    "по которым у нас есть данные (date). Далее выберите верные утверждения:'''"
   ]
  },
  {
   "cell_type": "code",
   "execution_count": 108,
   "id": "79aa0770",
   "metadata": {},
   "outputs": [
    {
     "data": {
      "text/html": [
       "<div>\n",
       "<style scoped>\n",
       "    .dataframe tbody tr th:only-of-type {\n",
       "        vertical-align: middle;\n",
       "    }\n",
       "\n",
       "    .dataframe tbody tr th {\n",
       "        vertical-align: top;\n",
       "    }\n",
       "\n",
       "    .dataframe thead th {\n",
       "        text-align: right;\n",
       "    }\n",
       "</style>\n",
       "<table border=\"1\" class=\"dataframe\">\n",
       "  <thead>\n",
       "    <tr style=\"text-align: right;\">\n",
       "      <th></th>\n",
       "      <th>quantity</th>\n",
       "    </tr>\n",
       "    <tr>\n",
       "      <th>date</th>\n",
       "      <th></th>\n",
       "    </tr>\n",
       "  </thead>\n",
       "  <tbody>\n",
       "    <tr>\n",
       "      <th>2020-12-03</th>\n",
       "      <td>60</td>\n",
       "    </tr>\n",
       "    <tr>\n",
       "      <th>2020-12-04</th>\n",
       "      <td>113</td>\n",
       "    </tr>\n",
       "    <tr>\n",
       "      <th>2020-12-05</th>\n",
       "      <td>61</td>\n",
       "    </tr>\n",
       "    <tr>\n",
       "      <th>2020-12-06</th>\n",
       "      <td>15</td>\n",
       "    </tr>\n",
       "    <tr>\n",
       "      <th>2020-12-07</th>\n",
       "      <td>94</td>\n",
       "    </tr>\n",
       "    <tr>\n",
       "      <th>2020-12-08</th>\n",
       "      <td>68</td>\n",
       "    </tr>\n",
       "    <tr>\n",
       "      <th>2020-12-09</th>\n",
       "      <td>69</td>\n",
       "    </tr>\n",
       "  </tbody>\n",
       "</table>\n",
       "</div>"
      ],
      "text/plain": [
       "            quantity\n",
       "date                \n",
       "2020-12-03        60\n",
       "2020-12-04       113\n",
       "2020-12-05        61\n",
       "2020-12-06        15\n",
       "2020-12-07        94\n",
       "2020-12-08        68\n",
       "2020-12-09        69"
      ]
     },
     "execution_count": 108,
     "metadata": {},
     "output_type": "execute_result"
    }
   ],
   "source": [
    "date_quantity=df.groupby('date').agg({'quantity':'sum'})\n",
    "date_quantity"
   ]
  },
  {
   "cell_type": "code",
   "execution_count": 143,
   "id": "dc8a3b6f",
   "metadata": {},
   "outputs": [
    {
     "data": {
      "image/png": "[encoded data removed]",
      "text/plain": [
       "<Figure size 640x480 with 1 Axes>"
      ]
     },
     "metadata": {},
     "output_type": "display_data"
    }
   ],
   "source": [
    "ax = sns.barplot(x=date_quantity.index, \n",
    "            y=date_quantity.quantity,\n",
    "            color='g',\n",
    "            alpha=0.6)\n",
    "plt.xticks(rotation = 45) #matplotlib для этого обязательно! \n",
    "#взято отсюда: https://stackabuse.com/rotate-axis-labels-in-matplotlib/\n",
    "plt.show() #удаляет всякие подписи"
   ]
  },
  {
   "cell_type": "code",
   "execution_count": null,
   "id": "08788330",
   "metadata": {},
   "outputs": [],
   "source": [
    "'''4 декабря было куплено почти в два раза больше товаров, чем в предыдущий день\n",
    "Максимальное число товаров было продано 4 декабря\n",
    "Меньше всего товаров было приобретено 6 декабря\n",
    "8 и 9 декабря было продано примерно одинаковое число товаров'''"
   ]
  },
  {
   "cell_type": "code",
   "execution_count": null,
   "id": "da6e4913",
   "metadata": {},
   "outputs": [],
   "source": [
    "'''4-2-5 \n",
    "💀 Сложное задание! 💀\n",
    "Сколько пользователей приобрели какой-либо товар повторно (более 1 раза)? Повтором будем считать покупку товара с одинаковым \n",
    "product_id, совершенную в разные дни. \n",
    "Например, пользователь Sasha Tsarev дважды приобрел товар 6. Поскольку покупка была совершена в один и тот же день, \n",
    "повторной в данном случае она считаться не будет. Katya Skriptsova также сделал две покупки товара 7, но в разные дни, \n",
    "поэтому этот случай засчитывается.\n",
    "\n",
    "\n",
    "product_id quantity name              date\n",
    "25         2        Katya Skriptsova  2020-12-05\n",
    "54         1        Olya Silyutina    2020-12-05    \n",
    "7          4        Katya Skriptsova  2020-12-05  \n",
    "6          4        Sasha Tsarev      2020-12-06\n",
    "6          1        Sasha Tsarev      2020-12-06\n",
    "7          5        Katya Skriptsova  2020-12-06  '''"
   ]
  },
  {
   "cell_type": "code",
   "execution_count": 147,
   "id": "a8158e7d",
   "metadata": {},
   "outputs": [
    {
     "data": {
      "text/html": [
       "<div>\n",
       "<style scoped>\n",
       "    .dataframe tbody tr th:only-of-type {\n",
       "        vertical-align: middle;\n",
       "    }\n",
       "\n",
       "    .dataframe tbody tr th {\n",
       "        vertical-align: top;\n",
       "    }\n",
       "\n",
       "    .dataframe thead th {\n",
       "        text-align: right;\n",
       "    }\n",
       "</style>\n",
       "<table border=\"1\" class=\"dataframe\">\n",
       "  <thead>\n",
       "    <tr style=\"text-align: right;\">\n",
       "      <th></th>\n",
       "      <th></th>\n",
       "      <th>date</th>\n",
       "    </tr>\n",
       "    <tr>\n",
       "      <th>name</th>\n",
       "      <th>product_id</th>\n",
       "      <th></th>\n",
       "    </tr>\n",
       "  </thead>\n",
       "  <tbody>\n",
       "    <tr>\n",
       "      <th>Anton_Ivanov</th>\n",
       "      <th>15</th>\n",
       "      <td>2</td>\n",
       "    </tr>\n",
       "    <tr>\n",
       "      <th>Petr_Fedorov</th>\n",
       "      <th>94</th>\n",
       "      <td>2</td>\n",
       "    </tr>\n",
       "  </tbody>\n",
       "</table>\n",
       "</div>"
      ],
      "text/plain": [
       "                         date\n",
       "name         product_id      \n",
       "Anton_Ivanov 15             2\n",
       "Petr_Fedorov 94             2"
      ]
     },
     "execution_count": 147,
     "metadata": {},
     "output_type": "execute_result"
    }
   ],
   "source": [
    "without_duple = df.drop_duplicates(['name', 'product_id', 'date']) \\\n",
    "                  .groupby(['name', 'product_id']) \\\n",
    "                  .agg({'date':'count'}) \\\n",
    "                  .query('date > 1')\n",
    "without_duple"
   ]
  },
  {
   "cell_type": "code",
   "execution_count": 144,
   "id": "e9dc5a05",
   "metadata": {},
   "outputs": [
    {
     "data": {
      "text/html": [
       "<div>\n",
       "<style scoped>\n",
       "    .dataframe tbody tr th:only-of-type {\n",
       "        vertical-align: middle;\n",
       "    }\n",
       "\n",
       "    .dataframe tbody tr th {\n",
       "        vertical-align: top;\n",
       "    }\n",
       "\n",
       "    .dataframe thead th {\n",
       "        text-align: right;\n",
       "    }\n",
       "</style>\n",
       "<table border=\"1\" class=\"dataframe\">\n",
       "  <thead>\n",
       "    <tr style=\"text-align: right;\">\n",
       "      <th></th>\n",
       "      <th>product_id</th>\n",
       "      <th>quantity</th>\n",
       "      <th>name</th>\n",
       "      <th>date</th>\n",
       "    </tr>\n",
       "  </thead>\n",
       "  <tbody>\n",
       "    <tr>\n",
       "      <th>0</th>\n",
       "      <td>47</td>\n",
       "      <td>1</td>\n",
       "      <td>Alexey_Smirnov</td>\n",
       "      <td>2020-12-03</td>\n",
       "    </tr>\n",
       "    <tr>\n",
       "      <th>1</th>\n",
       "      <td>57</td>\n",
       "      <td>1</td>\n",
       "      <td>Alexey_Smirnov</td>\n",
       "      <td>2020-12-03</td>\n",
       "    </tr>\n",
       "    <tr>\n",
       "      <th>2</th>\n",
       "      <td>14</td>\n",
       "      <td>2</td>\n",
       "      <td>Alexey_Smirnov</td>\n",
       "      <td>2020-12-03</td>\n",
       "    </tr>\n",
       "    <tr>\n",
       "      <th>3</th>\n",
       "      <td>52</td>\n",
       "      <td>1</td>\n",
       "      <td>Alexey_Smirnov</td>\n",
       "      <td>2020-12-03</td>\n",
       "    </tr>\n",
       "    <tr>\n",
       "      <th>4</th>\n",
       "      <td>1</td>\n",
       "      <td>4</td>\n",
       "      <td>Alexey_Smirnov</td>\n",
       "      <td>2020-12-03</td>\n",
       "    </tr>\n",
       "    <tr>\n",
       "      <th>...</th>\n",
       "      <td>...</td>\n",
       "      <td>...</td>\n",
       "      <td>...</td>\n",
       "      <td>...</td>\n",
       "    </tr>\n",
       "    <tr>\n",
       "      <th>156</th>\n",
       "      <td>66</td>\n",
       "      <td>4</td>\n",
       "      <td>Rostislav_Petrov</td>\n",
       "      <td>2020-12-09</td>\n",
       "    </tr>\n",
       "    <tr>\n",
       "      <th>157</th>\n",
       "      <td>39</td>\n",
       "      <td>2</td>\n",
       "      <td>Rostislav_Petrov</td>\n",
       "      <td>2020-12-09</td>\n",
       "    </tr>\n",
       "    <tr>\n",
       "      <th>158</th>\n",
       "      <td>82</td>\n",
       "      <td>4</td>\n",
       "      <td>Vasiliy_Ivanov</td>\n",
       "      <td>2020-12-09</td>\n",
       "    </tr>\n",
       "    <tr>\n",
       "      <th>159</th>\n",
       "      <td>74</td>\n",
       "      <td>2</td>\n",
       "      <td>Vasiliy_Ivanov</td>\n",
       "      <td>2020-12-09</td>\n",
       "    </tr>\n",
       "    <tr>\n",
       "      <th>160</th>\n",
       "      <td>54</td>\n",
       "      <td>3</td>\n",
       "      <td>Vasiliy_Ivanov</td>\n",
       "      <td>2020-12-09</td>\n",
       "    </tr>\n",
       "  </tbody>\n",
       "</table>\n",
       "<p>161 rows × 4 columns</p>\n",
       "</div>"
      ],
      "text/plain": [
       "     product_id  quantity              name        date\n",
       "0            47         1    Alexey_Smirnov  2020-12-03\n",
       "1            57         1    Alexey_Smirnov  2020-12-03\n",
       "2            14         2    Alexey_Smirnov  2020-12-03\n",
       "3            52         1    Alexey_Smirnov  2020-12-03\n",
       "4             1         4    Alexey_Smirnov  2020-12-03\n",
       "..          ...       ...               ...         ...\n",
       "156          66         4  Rostislav_Petrov  2020-12-09\n",
       "157          39         2  Rostislav_Petrov  2020-12-09\n",
       "158          82         4    Vasiliy_Ivanov  2020-12-09\n",
       "159          74         2    Vasiliy_Ivanov  2020-12-09\n",
       "160          54         3    Vasiliy_Ivanov  2020-12-09\n",
       "\n",
       "[161 rows x 4 columns]"
      ]
     },
     "execution_count": 144,
     "metadata": {},
     "output_type": "execute_result"
    }
   ],
   "source": [
    "df"
   ]
  },
  {
   "cell_type": "code",
   "execution_count": null,
   "id": "33da7ab1",
   "metadata": {},
   "outputs": [],
   "source": []
  }
 ],
 "metadata": {
  "kernelspec": {
   "display_name": "Python 3 (ipykernel)",
   "language": "python",
   "name": "python3"
  },
  "language_info": {
   "codemirror_mode": {
    "name": "ipython",
    "version": 3
   },
   "file_extension": ".py",
   "mimetype": "text/x-python",
   "name": "python",
   "nbconvert_exporter": "python",
   "pygments_lexer": "ipython3",
   "version": "3.9.13"
  }
 },
 "nbformat": 4,
 "nbformat_minor": 5
}
