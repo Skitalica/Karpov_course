{
 "cells": [
  {
   "cell_type": "code",
   "execution_count": 19,
   "id": "460e5ce2",
   "metadata": {},
   "outputs": [],
   "source": [
    "import pandas as pd\n",
    "import numpy as np\n",
    "import matplotlib.pyplot as plt\n",
    "import seaborn as sns"
   ]
  },
  {
   "cell_type": "code",
   "execution_count": 30,
   "id": "ed58a185",
   "metadata": {},
   "outputs": [],
   "source": [
    "nyc = pd.read_csv('train.csv')"
   ]
  },
  {
   "cell_type": "code",
   "execution_count": 31,
   "id": "711fc0e6",
   "metadata": {},
   "outputs": [
    {
     "name": "stdout",
     "output_type": "stream",
     "text": [
      "Wall time: 0 ns\n"
     ]
    },
    {
     "data": {
      "text/html": [
       "<div>\n",
       "<style scoped>\n",
       "    .dataframe tbody tr th:only-of-type {\n",
       "        vertical-align: middle;\n",
       "    }\n",
       "\n",
       "    .dataframe tbody tr th {\n",
       "        vertical-align: top;\n",
       "    }\n",
       "\n",
       "    .dataframe thead th {\n",
       "        text-align: right;\n",
       "    }\n",
       "</style>\n",
       "<table border=\"1\" class=\"dataframe\">\n",
       "  <thead>\n",
       "    <tr style=\"text-align: right;\">\n",
       "      <th></th>\n",
       "      <th>key</th>\n",
       "      <th>fare_amount</th>\n",
       "      <th>pickup_datetime</th>\n",
       "      <th>pickup_longitude</th>\n",
       "      <th>pickup_latitude</th>\n",
       "      <th>dropoff_longitude</th>\n",
       "      <th>dropoff_latitude</th>\n",
       "      <th>passenger_count</th>\n",
       "    </tr>\n",
       "  </thead>\n",
       "  <tbody>\n",
       "    <tr>\n",
       "      <th>0</th>\n",
       "      <td>2009-06-15 17:26:21.0000001</td>\n",
       "      <td>4.5</td>\n",
       "      <td>2009-06-15 17:26:21 UTC</td>\n",
       "      <td>-73.844311</td>\n",
       "      <td>40.721319</td>\n",
       "      <td>-73.841610</td>\n",
       "      <td>40.712278</td>\n",
       "      <td>1</td>\n",
       "    </tr>\n",
       "    <tr>\n",
       "      <th>1</th>\n",
       "      <td>2010-01-05 16:52:16.0000002</td>\n",
       "      <td>16.9</td>\n",
       "      <td>2010-01-05 16:52:16 UTC</td>\n",
       "      <td>-74.016048</td>\n",
       "      <td>40.711303</td>\n",
       "      <td>-73.979268</td>\n",
       "      <td>40.782004</td>\n",
       "      <td>1</td>\n",
       "    </tr>\n",
       "    <tr>\n",
       "      <th>2</th>\n",
       "      <td>2011-08-18 00:35:00.00000049</td>\n",
       "      <td>5.7</td>\n",
       "      <td>2011-08-18 00:35:00 UTC</td>\n",
       "      <td>-73.982738</td>\n",
       "      <td>40.761270</td>\n",
       "      <td>-73.991242</td>\n",
       "      <td>40.750562</td>\n",
       "      <td>2</td>\n",
       "    </tr>\n",
       "    <tr>\n",
       "      <th>3</th>\n",
       "      <td>2012-04-21 04:30:42.0000001</td>\n",
       "      <td>7.7</td>\n",
       "      <td>2012-04-21 04:30:42 UTC</td>\n",
       "      <td>-73.987130</td>\n",
       "      <td>40.733143</td>\n",
       "      <td>-73.991567</td>\n",
       "      <td>40.758092</td>\n",
       "      <td>1</td>\n",
       "    </tr>\n",
       "    <tr>\n",
       "      <th>4</th>\n",
       "      <td>2010-03-09 07:51:00.000000135</td>\n",
       "      <td>5.3</td>\n",
       "      <td>2010-03-09 07:51:00 UTC</td>\n",
       "      <td>-73.968095</td>\n",
       "      <td>40.768008</td>\n",
       "      <td>-73.956655</td>\n",
       "      <td>40.783762</td>\n",
       "      <td>1</td>\n",
       "    </tr>\n",
       "  </tbody>\n",
       "</table>\n",
       "</div>"
      ],
      "text/plain": [
       "                             key  fare_amount          pickup_datetime  \\\n",
       "0    2009-06-15 17:26:21.0000001          4.5  2009-06-15 17:26:21 UTC   \n",
       "1    2010-01-05 16:52:16.0000002         16.9  2010-01-05 16:52:16 UTC   \n",
       "2   2011-08-18 00:35:00.00000049          5.7  2011-08-18 00:35:00 UTC   \n",
       "3    2012-04-21 04:30:42.0000001          7.7  2012-04-21 04:30:42 UTC   \n",
       "4  2010-03-09 07:51:00.000000135          5.3  2010-03-09 07:51:00 UTC   \n",
       "\n",
       "   pickup_longitude  pickup_latitude  dropoff_longitude  dropoff_latitude  \\\n",
       "0        -73.844311        40.721319         -73.841610         40.712278   \n",
       "1        -74.016048        40.711303         -73.979268         40.782004   \n",
       "2        -73.982738        40.761270         -73.991242         40.750562   \n",
       "3        -73.987130        40.733143         -73.991567         40.758092   \n",
       "4        -73.968095        40.768008         -73.956655         40.783762   \n",
       "\n",
       "   passenger_count  \n",
       "0                1  \n",
       "1                1  \n",
       "2                2  \n",
       "3                1  \n",
       "4                1  "
      ]
     },
     "execution_count": 31,
     "metadata": {},
     "output_type": "execute_result"
    }
   ],
   "source": [
    "%time nyc.head()"
   ]
  },
  {
   "cell_type": "code",
   "execution_count": 32,
   "id": "5d236e7b",
   "metadata": {},
   "outputs": [
    {
     "data": {
      "text/plain": [
       "True"
      ]
     },
     "execution_count": 32,
     "metadata": {},
     "output_type": "execute_result"
    }
   ],
   "source": [
    "np.sqrt(4) == 4**0.5"
   ]
  },
  {
   "cell_type": "code",
   "execution_count": null,
   "id": "e71eb607",
   "metadata": {},
   "outputs": [],
   "source": [
    "'''pickup_datetime — дата начала поездки\n",
    "pickup_longitude — долгота исходного местоположения\n",
    "pickup_latitude — широта исходного местоположения\n",
    "dropoff_longitude — долгота пункта назначения\n",
    "dropoff_latitude — широта пункта назначения\n",
    "fare_amount — стоимость поездки в долларах\n",
    "passenger_count — число пассажиров'''"
   ]
  },
  {
   "cell_type": "code",
   "execution_count": null,
   "id": "667781ef",
   "metadata": {},
   "outputs": [],
   "source": [
    "'''8-1'''"
   ]
  },
  {
   "cell_type": "code",
   "execution_count": 33,
   "id": "30d91c2c",
   "metadata": {},
   "outputs": [],
   "source": [
    "def haversine(p_long, p_lat, d_long, d_lat, r = 6371):\n",
    "    p_long, p_lat, d_long, d_lat = [np.radians(i) for i in (p_long, p_lat, d_long, d_lat)]\n",
    "    sliced = np.sin((d_lat - p_lat) / 2) ** 2 + (np.cos(p_lat) * np.cos(d_lat) * (np.sin((d_long - p_long) / 2) ** 2))\n",
    "    return 2 * r * np.arcsin(sliced ** 0.5)"
   ]
  },
  {
   "cell_type": "code",
   "execution_count": 36,
   "id": "edab10d5",
   "metadata": {},
   "outputs": [
    {
     "name": "stdout",
     "output_type": "stream",
     "text": [
      "Wall time: 3.03 s\n"
     ]
    }
   ],
   "source": [
    "# df['distance'] = pd.Series(haversine(row['...'], ..., ..., ...) for i, row in nyc.iterrows())\n",
    "%time nyc['distance'] = pd.Series(haversine(row['pickup_longitude'], row['pickup_latitude'], row['dropoff_longitude'], row['dropoff_latitude']) for i, row in nyc.iterrows())"
   ]
  },
  {
   "cell_type": "code",
   "execution_count": 38,
   "id": "fa2afb65",
   "metadata": {},
   "outputs": [
    {
     "name": "stdout",
     "output_type": "stream",
     "text": [
      "Wall time: 3.65 s\n"
     ]
    }
   ],
   "source": [
    "%time nyc['distance'] = pd.Series(haversine(row.pickup_longitude, row.pickup_latitude, row.dropoff_longitude, row.dropoff_latitude) for i, row in nyc.iterrows())"
   ]
  },
  {
   "cell_type": "code",
   "execution_count": null,
   "id": "9fd087fd",
   "metadata": {},
   "outputs": [],
   "source": [
    "'''8-2'''"
   ]
  },
  {
   "cell_type": "code",
   "execution_count": 39,
   "id": "a6235f7b",
   "metadata": {},
   "outputs": [
    {
     "name": "stdout",
     "output_type": "stream",
     "text": [
      "Wall time: 648 ms\n"
     ]
    },
    {
     "data": {
      "text/plain": [
       "0        1.030764\n",
       "1        8.450134\n",
       "2        1.389525\n",
       "3        2.799270\n",
       "4        1.999157\n",
       "           ...   \n",
       "49995    4.940374\n",
       "49996    0.874706\n",
       "49997    2.263286\n",
       "49998    0.665245\n",
       "49999    0.000000\n",
       "Length: 50000, dtype: float64"
      ]
     },
     "execution_count": 39,
     "metadata": {},
     "output_type": "execute_result"
    }
   ],
   "source": [
    "%time nyc['distance'] = pd.Series(haversine(row.pickup_longitude, row.pickup_latitude, row.dropoff_longitude, row.dropoff_latitude) for row in nyc.itertuples())"
   ]
  },
  {
   "cell_type": "code",
   "execution_count": null,
   "id": "7f704edb",
   "metadata": {},
   "outputs": [],
   "source": [
    "'''8-3'''"
   ]
  },
  {
   "cell_type": "code",
   "execution_count": 47,
   "id": "b3d45625",
   "metadata": {},
   "outputs": [
    {
     "name": "stdout",
     "output_type": "stream",
     "text": [
      "Wall time: 2.09 s\n"
     ]
    }
   ],
   "source": [
    "%time nyc['distance'] = nyc.apply(lambda row: haversine(row.pickup_longitude, row.pickup_latitude, row.dropoff_longitude, row.dropoff_latitude), axis = 1)"
   ]
  },
  {
   "cell_type": "code",
   "execution_count": 45,
   "id": "8e300553",
   "metadata": {},
   "outputs": [],
   "source": [
    "longest = nyc.distance.max()"
   ]
  },
  {
   "cell_type": "code",
   "execution_count": 46,
   "id": "fe1a257a",
   "metadata": {},
   "outputs": [
    {
     "data": {
      "text/plain": [
       "8667.818812217454"
      ]
     },
     "execution_count": 46,
     "metadata": {},
     "output_type": "execute_result"
    }
   ],
   "source": [
    "longest"
   ]
  },
  {
   "cell_type": "code",
   "execution_count": null,
   "id": "1f3e4f71",
   "metadata": {},
   "outputs": [],
   "source": [
    "'''8-4'''"
   ]
  },
  {
   "cell_type": "code",
   "execution_count": 50,
   "id": "39916b1e",
   "metadata": {},
   "outputs": [
    {
     "name": "stdout",
     "output_type": "stream",
     "text": [
      "Wall time: 6 ms\n"
     ]
    }
   ],
   "source": [
    "%time nyc['distance'] = haversine(nyc['pickup_longitude'], nyc['pickup_latitude'], nyc['dropoff_longitude'], nyc['dropoff_latitude'])"
   ]
  },
  {
   "cell_type": "code",
   "execution_count": 49,
   "id": "3b017cad",
   "metadata": {},
   "outputs": [
    {
     "data": {
      "text/plain": [
       "0        1.030764\n",
       "1        8.450134\n",
       "2        1.389525\n",
       "3        2.799270\n",
       "4        1.999157\n",
       "           ...   \n",
       "49995    4.940374\n",
       "49996    0.874706\n",
       "49997    2.263286\n",
       "49998    0.665245\n",
       "49999    0.000000\n",
       "Name: distance, Length: 50000, dtype: float64"
      ]
     },
     "execution_count": 49,
     "metadata": {},
     "output_type": "execute_result"
    }
   ],
   "source": [
    "nyc.distance"
   ]
  },
  {
   "cell_type": "code",
   "execution_count": null,
   "id": "736841f0",
   "metadata": {},
   "outputs": [],
   "source": [
    "'''8-5'''"
   ]
  },
  {
   "cell_type": "code",
   "execution_count": 52,
   "id": "205add80",
   "metadata": {},
   "outputs": [
    {
     "name": "stdout",
     "output_type": "stream",
     "text": [
      "Wall time: 5 ms\n"
     ]
    }
   ],
   "source": [
    "%time nyc['distance'] = haversine(nyc['pickup_longitude'].values, nyc['pickup_latitude'].values, nyc['dropoff_longitude'].values, nyc['dropoff_latitude'].values)"
   ]
  },
  {
   "cell_type": "code",
   "execution_count": null,
   "id": "3616db4d",
   "metadata": {},
   "outputs": [],
   "source": [
    "'''8-7'''"
   ]
  },
  {
   "cell_type": "code",
   "execution_count": 53,
   "id": "32966a79",
   "metadata": {},
   "outputs": [
    {
     "data": {
      "text/html": [
       "<div>\n",
       "<style scoped>\n",
       "    .dataframe tbody tr th:only-of-type {\n",
       "        vertical-align: middle;\n",
       "    }\n",
       "\n",
       "    .dataframe tbody tr th {\n",
       "        vertical-align: top;\n",
       "    }\n",
       "\n",
       "    .dataframe thead th {\n",
       "        text-align: right;\n",
       "    }\n",
       "</style>\n",
       "<table border=\"1\" class=\"dataframe\">\n",
       "  <thead>\n",
       "    <tr style=\"text-align: right;\">\n",
       "      <th></th>\n",
       "      <th>key</th>\n",
       "      <th>fare_amount</th>\n",
       "      <th>pickup_datetime</th>\n",
       "      <th>pickup_longitude</th>\n",
       "      <th>pickup_latitude</th>\n",
       "      <th>dropoff_longitude</th>\n",
       "      <th>dropoff_latitude</th>\n",
       "      <th>passenger_count</th>\n",
       "      <th>distance</th>\n",
       "    </tr>\n",
       "  </thead>\n",
       "  <tbody>\n",
       "    <tr>\n",
       "      <th>48996</th>\n",
       "      <td>2012-05-12 10:48:00.00000020</td>\n",
       "      <td>49.8</td>\n",
       "      <td>2012-05-12 10:48:00 UTC</td>\n",
       "      <td>-74.014917</td>\n",
       "      <td>40.713382</td>\n",
       "      <td>0.0</td>\n",
       "      <td>0.0</td>\n",
       "      <td>1</td>\n",
       "      <td>8667.818812</td>\n",
       "    </tr>\n",
       "  </tbody>\n",
       "</table>\n",
       "</div>"
      ],
      "text/plain": [
       "                                key  fare_amount          pickup_datetime  \\\n",
       "48996  2012-05-12 10:48:00.00000020         49.8  2012-05-12 10:48:00 UTC   \n",
       "\n",
       "       pickup_longitude  pickup_latitude  dropoff_longitude  dropoff_latitude  \\\n",
       "48996        -74.014917        40.713382                0.0               0.0   \n",
       "\n",
       "       passenger_count     distance  \n",
       "48996                1  8667.818812  "
      ]
     },
     "execution_count": 53,
     "metadata": {},
     "output_type": "execute_result"
    }
   ],
   "source": [
    "nyc.query('distance == distance.max()')"
   ]
  },
  {
   "cell_type": "code",
   "execution_count": 55,
   "id": "e6635e79",
   "metadata": {},
   "outputs": [
    {
     "data": {
      "text/html": [
       "<div>\n",
       "<style scoped>\n",
       "    .dataframe tbody tr th:only-of-type {\n",
       "        vertical-align: middle;\n",
       "    }\n",
       "\n",
       "    .dataframe tbody tr th {\n",
       "        vertical-align: top;\n",
       "    }\n",
       "\n",
       "    .dataframe thead th {\n",
       "        text-align: right;\n",
       "    }\n",
       "</style>\n",
       "<table border=\"1\" class=\"dataframe\">\n",
       "  <thead>\n",
       "    <tr style=\"text-align: right;\">\n",
       "      <th></th>\n",
       "      <th>key</th>\n",
       "      <th>fare_amount</th>\n",
       "      <th>pickup_datetime</th>\n",
       "      <th>pickup_longitude</th>\n",
       "      <th>pickup_latitude</th>\n",
       "      <th>dropoff_longitude</th>\n",
       "      <th>dropoff_latitude</th>\n",
       "      <th>passenger_count</th>\n",
       "      <th>distance</th>\n",
       "    </tr>\n",
       "  </thead>\n",
       "  <tbody>\n",
       "    <tr>\n",
       "      <th>11</th>\n",
       "      <td>2012-12-24 11:24:00.00000098</td>\n",
       "      <td>5.5</td>\n",
       "      <td>2012-12-24 11:24:00 UTC</td>\n",
       "      <td>0.0</td>\n",
       "      <td>0.0</td>\n",
       "      <td>0.0</td>\n",
       "      <td>0.0</td>\n",
       "      <td>3</td>\n",
       "      <td>0.0</td>\n",
       "    </tr>\n",
       "    <tr>\n",
       "      <th>15</th>\n",
       "      <td>2013-11-23 12:57:00.000000190</td>\n",
       "      <td>5.0</td>\n",
       "      <td>2013-11-23 12:57:00 UTC</td>\n",
       "      <td>0.0</td>\n",
       "      <td>0.0</td>\n",
       "      <td>0.0</td>\n",
       "      <td>0.0</td>\n",
       "      <td>1</td>\n",
       "      <td>0.0</td>\n",
       "    </tr>\n",
       "    <tr>\n",
       "      <th>26</th>\n",
       "      <td>2011-02-07 20:01:00.000000114</td>\n",
       "      <td>6.5</td>\n",
       "      <td>2011-02-07 20:01:00 UTC</td>\n",
       "      <td>0.0</td>\n",
       "      <td>0.0</td>\n",
       "      <td>0.0</td>\n",
       "      <td>0.0</td>\n",
       "      <td>1</td>\n",
       "      <td>0.0</td>\n",
       "    </tr>\n",
       "    <tr>\n",
       "      <th>124</th>\n",
       "      <td>2013-01-17 17:22:00.00000043</td>\n",
       "      <td>8.0</td>\n",
       "      <td>2013-01-17 17:22:00 UTC</td>\n",
       "      <td>0.0</td>\n",
       "      <td>0.0</td>\n",
       "      <td>0.0</td>\n",
       "      <td>0.0</td>\n",
       "      <td>2</td>\n",
       "      <td>0.0</td>\n",
       "    </tr>\n",
       "    <tr>\n",
       "      <th>192</th>\n",
       "      <td>2010-09-05 17:08:00.00000092</td>\n",
       "      <td>3.7</td>\n",
       "      <td>2010-09-05 17:08:00 UTC</td>\n",
       "      <td>0.0</td>\n",
       "      <td>0.0</td>\n",
       "      <td>0.0</td>\n",
       "      <td>0.0</td>\n",
       "      <td>5</td>\n",
       "      <td>0.0</td>\n",
       "    </tr>\n",
       "    <tr>\n",
       "      <th>...</th>\n",
       "      <td>...</td>\n",
       "      <td>...</td>\n",
       "      <td>...</td>\n",
       "      <td>...</td>\n",
       "      <td>...</td>\n",
       "      <td>...</td>\n",
       "      <td>...</td>\n",
       "      <td>...</td>\n",
       "      <td>...</td>\n",
       "    </tr>\n",
       "    <tr>\n",
       "      <th>49625</th>\n",
       "      <td>2012-01-09 19:50:27.0000001</td>\n",
       "      <td>12.1</td>\n",
       "      <td>2012-01-09 19:50:27 UTC</td>\n",
       "      <td>0.0</td>\n",
       "      <td>0.0</td>\n",
       "      <td>0.0</td>\n",
       "      <td>0.0</td>\n",
       "      <td>1</td>\n",
       "      <td>0.0</td>\n",
       "    </tr>\n",
       "    <tr>\n",
       "      <th>49816</th>\n",
       "      <td>2012-02-20 00:54:00.000000100</td>\n",
       "      <td>4.9</td>\n",
       "      <td>2012-02-20 00:54:00 UTC</td>\n",
       "      <td>0.0</td>\n",
       "      <td>0.0</td>\n",
       "      <td>0.0</td>\n",
       "      <td>0.0</td>\n",
       "      <td>1</td>\n",
       "      <td>0.0</td>\n",
       "    </tr>\n",
       "    <tr>\n",
       "      <th>49845</th>\n",
       "      <td>2009-03-02 21:57:15.0000001</td>\n",
       "      <td>6.6</td>\n",
       "      <td>2009-03-02 21:57:15 UTC</td>\n",
       "      <td>0.0</td>\n",
       "      <td>0.0</td>\n",
       "      <td>0.0</td>\n",
       "      <td>0.0</td>\n",
       "      <td>3</td>\n",
       "      <td>0.0</td>\n",
       "    </tr>\n",
       "    <tr>\n",
       "      <th>49856</th>\n",
       "      <td>2010-04-19 17:25:00.000000170</td>\n",
       "      <td>10.9</td>\n",
       "      <td>2010-04-19 17:25:00 UTC</td>\n",
       "      <td>0.0</td>\n",
       "      <td>0.0</td>\n",
       "      <td>0.0</td>\n",
       "      <td>0.0</td>\n",
       "      <td>5</td>\n",
       "      <td>0.0</td>\n",
       "    </tr>\n",
       "    <tr>\n",
       "      <th>49967</th>\n",
       "      <td>2014-06-09 21:31:34.0000003</td>\n",
       "      <td>20.5</td>\n",
       "      <td>2014-06-09 21:31:34 UTC</td>\n",
       "      <td>0.0</td>\n",
       "      <td>0.0</td>\n",
       "      <td>0.0</td>\n",
       "      <td>0.0</td>\n",
       "      <td>1</td>\n",
       "      <td>0.0</td>\n",
       "    </tr>\n",
       "  </tbody>\n",
       "</table>\n",
       "<p>958 rows × 9 columns</p>\n",
       "</div>"
      ],
      "text/plain": [
       "                                 key  fare_amount          pickup_datetime  \\\n",
       "11      2012-12-24 11:24:00.00000098          5.5  2012-12-24 11:24:00 UTC   \n",
       "15     2013-11-23 12:57:00.000000190          5.0  2013-11-23 12:57:00 UTC   \n",
       "26     2011-02-07 20:01:00.000000114          6.5  2011-02-07 20:01:00 UTC   \n",
       "124     2013-01-17 17:22:00.00000043          8.0  2013-01-17 17:22:00 UTC   \n",
       "192     2010-09-05 17:08:00.00000092          3.7  2010-09-05 17:08:00 UTC   \n",
       "...                              ...          ...                      ...   \n",
       "49625    2012-01-09 19:50:27.0000001         12.1  2012-01-09 19:50:27 UTC   \n",
       "49816  2012-02-20 00:54:00.000000100          4.9  2012-02-20 00:54:00 UTC   \n",
       "49845    2009-03-02 21:57:15.0000001          6.6  2009-03-02 21:57:15 UTC   \n",
       "49856  2010-04-19 17:25:00.000000170         10.9  2010-04-19 17:25:00 UTC   \n",
       "49967    2014-06-09 21:31:34.0000003         20.5  2014-06-09 21:31:34 UTC   \n",
       "\n",
       "       pickup_longitude  pickup_latitude  dropoff_longitude  dropoff_latitude  \\\n",
       "11                  0.0              0.0                0.0               0.0   \n",
       "15                  0.0              0.0                0.0               0.0   \n",
       "26                  0.0              0.0                0.0               0.0   \n",
       "124                 0.0              0.0                0.0               0.0   \n",
       "192                 0.0              0.0                0.0               0.0   \n",
       "...                 ...              ...                ...               ...   \n",
       "49625               0.0              0.0                0.0               0.0   \n",
       "49816               0.0              0.0                0.0               0.0   \n",
       "49845               0.0              0.0                0.0               0.0   \n",
       "49856               0.0              0.0                0.0               0.0   \n",
       "49967               0.0              0.0                0.0               0.0   \n",
       "\n",
       "       passenger_count  distance  \n",
       "11                   3       0.0  \n",
       "15                   1       0.0  \n",
       "26                   1       0.0  \n",
       "124                  2       0.0  \n",
       "192                  5       0.0  \n",
       "...                ...       ...  \n",
       "49625                1       0.0  \n",
       "49816                1       0.0  \n",
       "49845                3       0.0  \n",
       "49856                5       0.0  \n",
       "49967                1       0.0  \n",
       "\n",
       "[958 rows x 9 columns]"
      ]
     },
     "execution_count": 55,
     "metadata": {},
     "output_type": "execute_result"
    }
   ],
   "source": [
    "nyc.query('dropoff_longitude == 0 | dropoff_latitude == 0')"
   ]
  },
  {
   "cell_type": "code",
   "execution_count": null,
   "id": "cf71fcea",
   "metadata": {},
   "outputs": [],
   "source": [
    "'''8-8'''"
   ]
  },
  {
   "cell_type": "code",
   "execution_count": 62,
   "id": "931f4393",
   "metadata": {},
   "outputs": [],
   "source": [
    "nyc_long_lat = nyc[['pickup_longitude', 'pickup_latitude', 'dropoff_longitude', 'dropoff_latitude']]"
   ]
  },
  {
   "cell_type": "code",
   "execution_count": 66,
   "id": "83d00f0f",
   "metadata": {},
   "outputs": [
    {
     "data": {
      "text/plain": [
       "<AxesSubplot:>"
      ]
     },
     "execution_count": 66,
     "metadata": {},
     "output_type": "execute_result"
    },
    {
     "data": {
      "image/png": "[encoded data removed]",
      "text/plain": [
       "<Figure size 640x480 with 1 Axes>"
      ]
     },
     "metadata": {},
     "output_type": "display_data"
    }
   ],
   "source": [
    "sns.boxplot(data=nyc_long_lat)"
   ]
  },
  {
   "cell_type": "code",
   "execution_count": 72,
   "id": "67c3024f",
   "metadata": {},
   "outputs": [
    {
     "data": {
      "text/plain": [
       "<AxesSubplot:>"
      ]
     },
     "execution_count": 72,
     "metadata": {},
     "output_type": "execute_result"
    },
    {
     "data": {
      "image/png": "[encoded data removed]",
      "text/plain": [
       "<Figure size 640x480 with 1 Axes>"
      ]
     },
     "metadata": {},
     "output_type": "display_data"
    }
   ],
   "source": [
    "sns.boxenplot(data=nyc_long_lat)\n"
   ]
  },
  {
   "cell_type": "code",
   "execution_count": 108,
   "id": "d74ac7df",
   "metadata": {},
   "outputs": [],
   "source": [
    "sort_nyc = nyc_long_lat[['pickup_longitude','pickup_latitude', 'dropoff_longitude', 'dropoff_latitude']] \\\n",
    "    .query('pickup_longitude < -60 & 10 < pickup_latitude < 120 & dropoff_longitude < -60 & 10 < dropoff_latitude')"
   ]
  },
  {
   "cell_type": "code",
   "execution_count": 122,
   "id": "bb24cf9a",
   "metadata": {},
   "outputs": [
    {
     "data": {
      "text/plain": [
       "<AxesSubplot:>"
      ]
     },
     "execution_count": 122,
     "metadata": {},
     "output_type": "execute_result"
    },
    {
     "data": {
      "image/png": "[encoded data removed]",
      "text/plain": [
       "<Figure size 640x480 with 1 Axes>"
      ]
     },
     "metadata": {},
     "output_type": "display_data"
    }
   ],
   "source": [
    "sns.boxenplot(data=sort_nyc)"
   ]
  },
  {
   "cell_type": "code",
   "execution_count": 92,
   "id": "e7f42b5c",
   "metadata": {},
   "outputs": [
    {
     "data": {
      "text/plain": [
       "array([[<AxesSubplot:title={'center':'dropoff_latitude'}>]], dtype=object)"
      ]
     },
     "execution_count": 92,
     "metadata": {},
     "output_type": "execute_result"
    },
    {
     "data": {
      "image/png": "[encoded data removed]",
      "text/plain": [
       "<Figure size 400x400 with 1 Axes>"
      ]
     },
     "metadata": {},
     "output_type": "display_data"
    },
    {
     "data": {
      "image/png": "[encoded data removed]",
      "text/plain": [
       "<Figure size 400x400 with 1 Axes>"
      ]
     },
     "metadata": {},
     "output_type": "display_data"
    },
    {
     "data": {
      "image/png": "[encoded data removed]",
      "text/plain": [
       "<Figure size 400x400 with 1 Axes>"
      ]
     },
     "metadata": {},
     "output_type": "display_data"
    },
    {
     "data": {
      "image/png": "[encoded data removed]",
      "text/plain": [
       "<Figure size 400x400 with 1 Axes>"
      ]
     },
     "metadata": {},
     "output_type": "display_data"
    }
   ],
   "source": [
    "#sns.boxenplot(nyc.pickup_longitude)\n",
    "nyc_long_lat.query('pickup_longitude < -60').hist (column='pickup_longitude',figsize=(4, 4))\n",
    "nyc_long_lat.query('10 < pickup_latitude < 120').hist (column='pickup_latitude',figsize=(4, 4))\n",
    "nyc_long_lat.query('dropoff_longitude < -60').hist (column='dropoff_longitude',figsize=(4, 4))\n",
    "nyc_long_lat.query('10 < dropoff_latitude').hist (column='dropoff_latitude',figsize=(4, 4))"
   ]
  },
  {
   "cell_type": "code",
   "execution_count": null,
   "id": "80dec882",
   "metadata": {},
   "outputs": [],
   "source": [
    "'''10 < pickup_latitude < 120\n",
    "pickup_longitude < -60\n",
    "10 < dropoff_latitude\n",
    "dropoff_longitude < -60'''"
   ]
  },
  {
   "cell_type": "code",
   "execution_count": 123,
   "id": "17640a4c",
   "metadata": {},
   "outputs": [
    {
     "data": {
      "text/plain": [
       "<AxesSubplot:>"
      ]
     },
     "execution_count": 123,
     "metadata": {},
     "output_type": "execute_result"
    },
    {
     "data": {
      "image/png": "[encoded data removed]",
      "text/plain": [
       "<Figure size 640x480 with 1 Axes>"
      ]
     },
     "metadata": {},
     "output_type": "display_data"
    }
   ],
   "source": [
    "sort_nyc.plot()"
   ]
  },
  {
   "cell_type": "code",
   "execution_count": 132,
   "id": "922f84ad",
   "metadata": {},
   "outputs": [
    {
     "data": {
      "text/plain": [
       "33502    136.0\n",
       "Name: fare_amount, dtype: float64"
      ]
     },
     "execution_count": 132,
     "metadata": {},
     "output_type": "execute_result"
    }
   ],
   "source": [
    "nyc.query('distance < 50').query('distance == distance.max()').fare_amount"
   ]
  },
  {
   "cell_type": "code",
   "execution_count": null,
   "id": "7f1c1501",
   "metadata": {},
   "outputs": [],
   "source": []
  }
 ],
 "metadata": {
  "kernelspec": {
   "display_name": "Python 3 (ipykernel)",
   "language": "python",
   "name": "python3"
  },
  "language_info": {
   "codemirror_mode": {
    "name": "ipython",
    "version": 3
   },
   "file_extension": ".py",
   "mimetype": "text/x-python",
   "name": "python",
   "nbconvert_exporter": "python",
   "pygments_lexer": "ipython3",
   "version": "3.9.13"
  }
 },
 "nbformat": 4,
 "nbformat_minor": 5
}
