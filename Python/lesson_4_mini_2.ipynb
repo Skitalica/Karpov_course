{
 "cells": [
  {
   "cell_type": "code",
   "execution_count": 1,
   "id": "dcf9aff7",
   "metadata": {},
   "outputs": [],
   "source": [
    "import pandas as pd\n",
    "import matplotlib.pyplot as plt\n",
    "import seaborn as sns\n",
    "import os\n",
    "%matplotlib inline"
   ]
  },
  {
   "cell_type": "markdown",
   "id": "d418429b",
   "metadata": {},
   "source": [
    "Дополнительный проект И небольшой минипроект на фильтрацию данных!\n",
    "=\n",
    "Имеется таблица с записями о компаниях, включая их ИНН, и отдельный текстовый файл с набором ИНН (колонка head_inn), которые хранятся в папке 4_inn.\n",
    "\n",
    "inn.xls — таблица в экселевском формате necessary_inn.txt — перечень необходимых ИНН в текстовом формате \n",
    "\n",
    "Задачи:\n",
    "=\n",
    "извлечь из таблицы записи с ИНН, указанными в текстовом файле записать результат в файл selected_inn.csv\n",
    "\n",
    "В качестве проверки укажите сумму колонки income,RUB в отобранных данных.\n",
    "\n",
    "**NB!** У набора данных necessary_inn.txt нет заголовка, поэтому вам пригодится аргумент header=None."
   ]
  },
  {
   "cell_type": "code",
   "execution_count": null,
   "id": "37332cc3",
   "metadata": {},
   "outputs": [],
   "source": [
    "# https://getfile.dokpub.com/yandex/get/https://disk.yandex.ru/i/o2dds5AuREg9Uw эксэль\n",
    "# https://getfile.dokpub.com/yandex/get/https://disk.yandex.ru/d/UPU6456vZSGIqQ текстовый        \n",
    "pd.read_csv"
   ]
  },
  {
   "cell_type": "code",
   "execution_count": 77,
   "id": "79ee8188",
   "metadata": {},
   "outputs": [
    {
     "data": {
      "text/html": [
       "<div>\n",
       "<style scoped>\n",
       "    .dataframe tbody tr th:only-of-type {\n",
       "        vertical-align: middle;\n",
       "    }\n",
       "\n",
       "    .dataframe tbody tr th {\n",
       "        vertical-align: top;\n",
       "    }\n",
       "\n",
       "    .dataframe thead th {\n",
       "        text-align: right;\n",
       "    }\n",
       "</style>\n",
       "<table border=\"1\" class=\"dataframe\">\n",
       "  <thead>\n",
       "    <tr style=\"text-align: right;\">\n",
       "      <th></th>\n",
       "      <th>Unnamed: 0</th>\n",
       "      <th>#</th>\n",
       "      <th>name</th>\n",
       "      <th>reg_number</th>\n",
       "      <th>address</th>\n",
       "      <th>head</th>\n",
       "      <th>head_job</th>\n",
       "      <th>head_inn</th>\n",
       "      <th>phone</th>\n",
       "      <th>email</th>\n",
       "      <th>site</th>\n",
       "      <th>registration_date</th>\n",
       "      <th>nalogoplatelschik_code</th>\n",
       "      <th>oktmo_code</th>\n",
       "      <th>okato_code</th>\n",
       "      <th>registration_region</th>\n",
       "      <th>okato_name</th>\n",
       "      <th>field</th>\n",
       "      <th>capital,RUB</th>\n",
       "      <th>income,RUB</th>\n",
       "    </tr>\n",
       "  </thead>\n",
       "  <tbody>\n",
       "    <tr>\n",
       "      <th>0</th>\n",
       "      <td>0</td>\n",
       "      <td>0</td>\n",
       "      <td>ЗАО «Власова, Макаров и Шашков»</td>\n",
       "      <td>1143692580560</td>\n",
       "      <td>д. Кирово-Чепецк, пр. Металлургов, д. 537 к. 3...</td>\n",
       "      <td>Жданов Карл Виленович</td>\n",
       "      <td>Маммолог</td>\n",
       "      <td>109092209811</td>\n",
       "      <td>+7 (559) 338-87-76</td>\n",
       "      <td>bogdanovavtonom@yahoo.com</td>\n",
       "      <td>ooo.info</td>\n",
       "      <td>2015-01-07</td>\n",
       "      <td>2006-10-04</td>\n",
       "      <td>21112877268</td>\n",
       "      <td>73423615032</td>\n",
       "      <td>Ulan-Ude</td>\n",
       "      <td>к. Тосно, ул. Пушкинская, д. 896, 617222</td>\n",
       "      <td>Синхронизация критически важных отношений</td>\n",
       "      <td>54875526078</td>\n",
       "      <td>32205872896</td>\n",
       "    </tr>\n",
       "  </tbody>\n",
       "</table>\n",
       "</div>"
      ],
      "text/plain": [
       "   Unnamed: 0  #                             name     reg_number  \\\n",
       "0           0  0  ЗАО «Власова, Макаров и Шашков»  1143692580560   \n",
       "\n",
       "                                             address                   head  \\\n",
       "0  д. Кирово-Чепецк, пр. Металлургов, д. 537 к. 3...  Жданов Карл Виленович   \n",
       "\n",
       "   head_job      head_inn               phone                      email  \\\n",
       "0  Маммолог  109092209811  +7 (559) 338-87-76  bogdanovavtonom@yahoo.com   \n",
       "\n",
       "       site registration_date nalogoplatelschik_code   oktmo_code  \\\n",
       "0  ooo.info        2015-01-07             2006-10-04  21112877268   \n",
       "\n",
       "    okato_code registration_region                                okato_name  \\\n",
       "0  73423615032            Ulan-Ude  к. Тосно, ул. Пушкинская, д. 896, 617222   \n",
       "\n",
       "                                       field  capital,RUB   income,RUB  \n",
       "0  Синхронизация критически важных отношений  54875526078  32205872896  "
      ]
     },
     "execution_count": 77,
     "metadata": {},
     "output_type": "execute_result"
    }
   ],
   "source": [
    "inn = pd.read_excel('https://getfile.dokpub.com/yandex/get/https://disk.yandex.ru/i/o2dds5AuREg9Uw')\n",
    "inn.head(1)"
   ]
  },
  {
   "cell_type": "code",
   "execution_count": 33,
   "id": "68222638",
   "metadata": {},
   "outputs": [
    {
     "data": {
      "text/plain": [
       "(2110, 20)"
      ]
     },
     "execution_count": 33,
     "metadata": {},
     "output_type": "execute_result"
    }
   ],
   "source": [
    "inn.shape"
   ]
  },
  {
   "cell_type": "code",
   "execution_count": 78,
   "id": "8ddc7196",
   "metadata": {},
   "outputs": [
    {
     "name": "stderr",
     "output_type": "stream",
     "text": [
      "C:\\Users\\Skitalica\\AppData\\Local\\Temp\\ipykernel_6236\\47337855.py:1: FutureWarning: The squeeze argument has been deprecated and will be removed in a future version. Append .squeeze(\"columns\") to the call to squeeze.\n",
      "\n",
      "\n",
      "  necessary_inn = pd.read_csv('https://getfile.dokpub.com/yandex/get/https://disk.yandex.ru/d/UPU6456vZSGIqQ', header = None, squeeze=True)\n"
     ]
    }
   ],
   "source": [
    "necessary_inn = pd.read_csv('https://getfile.dokpub.com/yandex/get/https://disk.yandex.ru/d/UPU6456vZSGIqQ', header = None, squeeze=True)\n"
   ]
  },
  {
   "cell_type": "code",
   "execution_count": 79,
   "id": "f800ed10",
   "metadata": {},
   "outputs": [],
   "source": [
    "selected_inn = inn[inn.head_inn.isin(necessary_inn)]"
   ]
  },
  {
   "cell_type": "code",
   "execution_count": 80,
   "id": "36254908",
   "metadata": {},
   "outputs": [
    {
     "data": {
      "text/html": [
       "<div>\n",
       "<style scoped>\n",
       "    .dataframe tbody tr th:only-of-type {\n",
       "        vertical-align: middle;\n",
       "    }\n",
       "\n",
       "    .dataframe tbody tr th {\n",
       "        vertical-align: top;\n",
       "    }\n",
       "\n",
       "    .dataframe thead th {\n",
       "        text-align: right;\n",
       "    }\n",
       "</style>\n",
       "<table border=\"1\" class=\"dataframe\">\n",
       "  <thead>\n",
       "    <tr style=\"text-align: right;\">\n",
       "      <th></th>\n",
       "      <th>Unnamed: 0</th>\n",
       "      <th>#</th>\n",
       "      <th>name</th>\n",
       "      <th>reg_number</th>\n",
       "      <th>address</th>\n",
       "      <th>head</th>\n",
       "      <th>head_job</th>\n",
       "      <th>head_inn</th>\n",
       "      <th>phone</th>\n",
       "      <th>email</th>\n",
       "      <th>site</th>\n",
       "      <th>registration_date</th>\n",
       "      <th>nalogoplatelschik_code</th>\n",
       "      <th>oktmo_code</th>\n",
       "      <th>okato_code</th>\n",
       "      <th>registration_region</th>\n",
       "      <th>okato_name</th>\n",
       "      <th>field</th>\n",
       "      <th>capital,RUB</th>\n",
       "      <th>income,RUB</th>\n",
       "    </tr>\n",
       "  </thead>\n",
       "  <tbody>\n",
       "    <tr>\n",
       "      <th>47</th>\n",
       "      <td>47</td>\n",
       "      <td>47</td>\n",
       "      <td>Пермэнергосбыт</td>\n",
       "      <td>6417532956774</td>\n",
       "      <td>ст. Слюдянка, пер. Брянский, д. 378 стр. 634, ...</td>\n",
       "      <td>Емельян Феликсович Зайцев</td>\n",
       "      <td>Релайтер</td>\n",
       "      <td>175482780898</td>\n",
       "      <td>8 833 729 83 14</td>\n",
       "      <td>boleslav28@gmail.com</td>\n",
       "      <td>krilova.net</td>\n",
       "      <td>1986-03-20</td>\n",
       "      <td>1998-02-11</td>\n",
       "      <td>47158105405</td>\n",
       "      <td>10234283083</td>\n",
       "      <td>Novosilikatnyy</td>\n",
       "      <td>г. Кропоткин (Краснод.), пр. Лесный, д. 8/3 к....</td>\n",
       "      <td>Разработка подробных результатов</td>\n",
       "      <td>44637351562</td>\n",
       "      <td>67534335517</td>\n",
       "    </tr>\n",
       "    <tr>\n",
       "      <th>76</th>\n",
       "      <td>76</td>\n",
       "      <td>76</td>\n",
       "      <td>ЗАО «Кабанова Ковалев»</td>\n",
       "      <td>9343329412518</td>\n",
       "      <td>с. Нарткала, ул. Верхняя, д. 68 стр. 1, 393309</td>\n",
       "      <td>Геннадий Денисович Григорьев</td>\n",
       "      <td>Бондарь</td>\n",
       "      <td>120708914823</td>\n",
       "      <td>+7 455 632 1053</td>\n",
       "      <td>kapustinjulian@oao.com</td>\n",
       "      <td>ao.ru</td>\n",
       "      <td>2011-09-28</td>\n",
       "      <td>1983-11-10</td>\n",
       "      <td>20653722407</td>\n",
       "      <td>92544205998</td>\n",
       "      <td>Severodvinsk</td>\n",
       "      <td>д. Москва, МГУ, бул. Транспортный, д. 75 стр. ...</td>\n",
       "      <td>Монетизация передовых действий</td>\n",
       "      <td>78570288945</td>\n",
       "      <td>19932336080</td>\n",
       "    </tr>\n",
       "  </tbody>\n",
       "</table>\n",
       "</div>"
      ],
      "text/plain": [
       "    Unnamed: 0   #                    name     reg_number  \\\n",
       "47          47  47          Пермэнергосбыт  6417532956774   \n",
       "76          76  76  ЗАО «Кабанова Ковалев»  9343329412518   \n",
       "\n",
       "                                              address  \\\n",
       "47  ст. Слюдянка, пер. Брянский, д. 378 стр. 634, ...   \n",
       "76     с. Нарткала, ул. Верхняя, д. 68 стр. 1, 393309   \n",
       "\n",
       "                            head  head_job      head_inn            phone  \\\n",
       "47     Емельян Феликсович Зайцев  Релайтер  175482780898  8 833 729 83 14   \n",
       "76  Геннадий Денисович Григорьев   Бондарь  120708914823  +7 455 632 1053   \n",
       "\n",
       "                     email         site registration_date  \\\n",
       "47    boleslav28@gmail.com  krilova.net        1986-03-20   \n",
       "76  kapustinjulian@oao.com        ao.ru        2011-09-28   \n",
       "\n",
       "   nalogoplatelschik_code   oktmo_code   okato_code registration_region  \\\n",
       "47             1998-02-11  47158105405  10234283083      Novosilikatnyy   \n",
       "76             1983-11-10  20653722407  92544205998        Severodvinsk   \n",
       "\n",
       "                                           okato_name  \\\n",
       "47  г. Кропоткин (Краснод.), пр. Лесный, д. 8/3 к....   \n",
       "76  д. Москва, МГУ, бул. Транспортный, д. 75 стр. ...   \n",
       "\n",
       "                               field  capital,RUB   income,RUB  \n",
       "47  Разработка подробных результатов  44637351562  67534335517  \n",
       "76    Монетизация передовых действий  78570288945  19932336080  "
      ]
     },
     "execution_count": 80,
     "metadata": {},
     "output_type": "execute_result"
    }
   ],
   "source": [
    "selected_inn.head(2)"
   ]
  },
  {
   "cell_type": "code",
   "execution_count": 81,
   "id": "29c4059d",
   "metadata": {},
   "outputs": [
    {
     "data": {
      "text/plain": [
       "6104522627393"
      ]
     },
     "execution_count": 81,
     "metadata": {},
     "output_type": "execute_result"
    }
   ],
   "source": [
    "selected_inn['income,RUB'].sum()"
   ]
  },
  {
   "cell_type": "code",
   "execution_count": null,
   "id": "f099830a",
   "metadata": {},
   "outputs": [],
   "source": []
  }
 ],
 "metadata": {
  "kernelspec": {
   "display_name": "Python 3 (ipykernel)",
   "language": "python",
   "name": "python3"
  },
  "language_info": {
   "codemirror_mode": {
    "name": "ipython",
    "version": 3
   },
   "file_extension": ".py",
   "mimetype": "text/x-python",
   "name": "python",
   "nbconvert_exporter": "python",
   "pygments_lexer": "ipython3",
   "version": "3.9.13"
  }
 },
 "nbformat": 4,
 "nbformat_minor": 5
}
