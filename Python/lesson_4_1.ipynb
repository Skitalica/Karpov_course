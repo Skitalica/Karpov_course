{
 "cells": [
  {
   "cell_type": "code",
   "execution_count": 1,
   "id": "f71baa52",
   "metadata": {},
   "outputs": [
    {
     "data": {
      "text/plain": [
       "\"4-1-1\\nВ переменной df находится датафрэйм. Запишите в переменную  df_shape строку с информацией о том, сколько строк и столбцов \\nон содержит, в следующем виде:\\n'df has y rows and x columns'\\nгде y — число строк, а x — число колонок.\\n\""
      ]
     },
     "execution_count": 1,
     "metadata": {},
     "output_type": "execute_result"
    }
   ],
   "source": [
    "'''4-1-1\n",
    "В переменной df находится датафрэйм. Запишите в переменную  df_shape строку с информацией о том, сколько строк и столбцов \n",
    "он содержит, в следующем виде:\n",
    "'df has y rows and x columns'\n",
    "где y — число строк, а x — число колонок.\n",
    "'''"
   ]
  },
  {
   "cell_type": "code",
   "execution_count": 2,
   "id": "580a52f7",
   "metadata": {},
   "outputs": [],
   "source": [
    "# df_shape = f'''df has {df.shape[0]} rows and {df.shape[1]} columns'''"
   ]
  },
  {
   "cell_type": "code",
   "execution_count": 3,
   "id": "348861c2",
   "metadata": {},
   "outputs": [
    {
     "data": {
      "text/plain": [
       "'4-1-2\\nСохраните в переменную na_number серию, в которой для каждой колонки будет указано, сколько пропущенных значений она содержит.\\nНапример, для такого датафрейма'"
      ]
     },
     "execution_count": 3,
     "metadata": {},
     "output_type": "execute_result"
    }
   ],
   "source": [
    "'''4-1-2\n",
    "Сохраните в переменную na_number серию, в которой для каждой колонки будет указано, сколько пропущенных значений она содержит.\n",
    "Например, для такого датафрейма'''"
   ]
  },
  {
   "cell_type": "code",
   "execution_count": 4,
   "id": "9364603e",
   "metadata": {},
   "outputs": [],
   "source": [
    "# na_number = df.isna().sum()"
   ]
  },
  {
   "cell_type": "code",
   "execution_count": 5,
   "id": "bdab787f",
   "metadata": {},
   "outputs": [
    {
     "data": {
      "text/plain": [
       "'4-1-3 Сохраните в переменную df_types типы данных каждой колонки датафрэйма df.'"
      ]
     },
     "execution_count": 5,
     "metadata": {},
     "output_type": "execute_result"
    }
   ],
   "source": [
    "'''4-1-3 Сохраните в переменную df_types типы данных каждой колонки датафрэйма df.'''"
   ]
  },
  {
   "cell_type": "code",
   "execution_count": 6,
   "id": "e125070f",
   "metadata": {},
   "outputs": [],
   "source": [
    "# df_types = df.dtypes"
   ]
  },
  {
   "cell_type": "code",
   "execution_count": 7,
   "id": "eadea4e5",
   "metadata": {},
   "outputs": [
    {
     "data": {
      "text/plain": [
       "'4-1-4 Внезапно оказалось, что в колонке age значения хранятся в виде строк! Поменяйте тип значений на целочисленный \\nв этой колонке датафрэйма df.\\n'"
      ]
     },
     "execution_count": 7,
     "metadata": {},
     "output_type": "execute_result"
    }
   ],
   "source": [
    "'''4-1-4 Внезапно оказалось, что в колонке age значения хранятся в виде строк! Поменяйте тип значений на целочисленный \n",
    "в этой колонке датафрэйма df.\n",
    "'''"
   ]
  },
  {
   "cell_type": "code",
   "execution_count": 8,
   "id": "a761bb33",
   "metadata": {},
   "outputs": [],
   "source": [
    "# df['age'] = df.age.astype('int')"
   ]
  },
  {
   "cell_type": "code",
   "execution_count": 9,
   "id": "be6c45d0",
   "metadata": {},
   "outputs": [
    {
     "data": {
      "text/plain": [
       "'4-1-5 Как выяснилось, для дальнейшего анализа нам не понадобятся колонки sex и age – удалите их из датафрэйма.\\n'"
      ]
     },
     "execution_count": 9,
     "metadata": {},
     "output_type": "execute_result"
    }
   ],
   "source": [
    "'''4-1-5 Как выяснилось, для дальнейшего анализа нам не понадобятся колонки sex и age – удалите их из датафрэйма.\n",
    "'''"
   ]
  },
  {
   "cell_type": "code",
   "execution_count": 10,
   "id": "a7ff691d",
   "metadata": {},
   "outputs": [],
   "source": [
    "# df = df.drop(columns=['sex', 'age'])"
   ]
  },
  {
   "cell_type": "code",
   "execution_count": 11,
   "id": "cb473cf1",
   "metadata": {},
   "outputs": [
    {
     "data": {
      "text/plain": [
       "'4-1-6 А теперь проверим, есть ли в нашей таблице df дубликаты по полю client_id. Сохраните в переменную df датафрейм, \\nв котором не будет дубликатов по колонке client_id, оставив первую строку с id\\n'"
      ]
     },
     "execution_count": 11,
     "metadata": {},
     "output_type": "execute_result"
    }
   ],
   "source": [
    "'''4-1-6 А теперь проверим, есть ли в нашей таблице df дубликаты по полю client_id. Сохраните в переменную df датафрейм, \n",
    "в котором не будет дубликатов по колонке client_id, оставив первую строку с id\n",
    "'''"
   ]
  },
  {
   "cell_type": "code",
   "execution_count": 12,
   "id": "d2ca755e",
   "metadata": {},
   "outputs": [],
   "source": [
    "# df = df.drop_duplicates(subset='client_id')"
   ]
  },
  {
   "cell_type": "code",
   "execution_count": 13,
   "id": "3ce7b4d5",
   "metadata": {},
   "outputs": [
    {
     "data": {
      "text/plain": [
       "'4-1-7 \\nА сейчас ненадолго вернемся к чистому Python.\\nВ списке numbers содержатся числа. Добавьте через цикл в список positive_numbers положительные числа из numbers. \\nЕсли вам попался 0, то нужно прекратить этот цикл.\\nНапример,\\nnumbers = [1, -2, 3, 0, -3, 2]\\nТогда positive_numbers должен быть:\\npositive_numbers = [1, 3]\\n'"
      ]
     },
     "execution_count": 13,
     "metadata": {},
     "output_type": "execute_result"
    }
   ],
   "source": [
    "'''4-1-7 \n",
    "А сейчас ненадолго вернемся к чистому Python.\n",
    "В списке numbers содержатся числа. Добавьте через цикл в список positive_numbers положительные числа из numbers. \n",
    "Если вам попался 0, то нужно прекратить этот цикл.\n",
    "Например,\n",
    "numbers = [1, -2, 3, 0, -3, 2]\n",
    "Тогда positive_numbers должен быть:\n",
    "positive_numbers = [1, 3]\n",
    "'''"
   ]
  },
  {
   "cell_type": "code",
   "execution_count": 14,
   "id": "e0c55b71",
   "metadata": {},
   "outputs": [
    {
     "data": {
      "text/plain": [
       "'\\npositive_numbers = []\\nfor i in numbers:\\n    if i > 0:\\n        positive_numbers.append(i)\\n    elif i == 0:\\n        break'"
      ]
     },
     "execution_count": 14,
     "metadata": {},
     "output_type": "execute_result"
    }
   ],
   "source": [
    "'''\n",
    "positive_numbers = []\n",
    "for i in numbers:\n",
    "    if i > 0:\n",
    "        positive_numbers.append(i)\n",
    "    elif i == 0:\n",
    "        break'''"
   ]
  },
  {
   "cell_type": "code",
   "execution_count": 15,
   "id": "3fa48b23",
   "metadata": {},
   "outputs": [
    {
     "data": {
      "text/plain": [
       "'4-1-8 \\nПродолжим анализ данных по поездкам на такси из Перу. В предыдущем уроке вы изучили распределения оценок водителей и клиентов.\\nТеперь посмотрим на колонки со временем!\\nСсылка на датасет находится в переменной path_to_file. Сохраните данные в переменную taxi, разделитель — ;.\\nЗатем приведите столбцы start_at, end_at, arrived_at к формату даты, используя pd.to_datetime(). \\nОтфильтруйте данные и оставьте наблюдения со статусом заказа \"asap\" и \"reserved\" (start_type) .\\n'"
      ]
     },
     "execution_count": 15,
     "metadata": {},
     "output_type": "execute_result"
    }
   ],
   "source": [
    "'''4-1-8 \n",
    "Продолжим анализ данных по поездкам на такси из Перу. В предыдущем уроке вы изучили распределения оценок водителей и клиентов.\n",
    "Теперь посмотрим на колонки со временем!\n",
    "Ссылка на датасет находится в переменной path_to_file. Сохраните данные в переменную taxi, разделитель — ;.\n",
    "Затем приведите столбцы start_at, end_at, arrived_at к формату даты, используя pd.to_datetime(). \n",
    "Отфильтруйте данные и оставьте наблюдения со статусом заказа \"asap\" и \"reserved\" (start_type) .\n",
    "'''"
   ]
  },
  {
   "cell_type": "code",
   "execution_count": 69,
   "id": "978df9f1",
   "metadata": {},
   "outputs": [],
   "source": [
    "import pandas as pd\n",
    "import matplotlib.pyplot as plt\n",
    "import seaborn as sns\n",
    "%matplotlib inline"
   ]
  },
  {
   "cell_type": "code",
   "execution_count": 41,
   "id": "501b52aa",
   "metadata": {},
   "outputs": [],
   "source": [
    "#path_to_file = 'https://getfile.dokpub.com/yandex/get/https://disk.yandex.ru/d/Cvw_rbzOwk8xsQ'\n",
    "path_to_file = '3_taxi_peru.csv'"
   ]
  },
  {
   "cell_type": "code",
   "execution_count": 42,
   "id": "1ddef2c3",
   "metadata": {},
   "outputs": [],
   "source": [
    "taxi = pd.read_csv(path_to_file, sep=';') # , encoding = 'windows-1251'"
   ]
  },
  {
   "cell_type": "code",
   "execution_count": 43,
   "id": "7865abd3",
   "metadata": {},
   "outputs": [
    {
     "data": {
      "text/html": [
       "<div>\n",
       "<style scoped>\n",
       "    .dataframe tbody tr th:only-of-type {\n",
       "        vertical-align: middle;\n",
       "    }\n",
       "\n",
       "    .dataframe tbody tr th {\n",
       "        vertical-align: top;\n",
       "    }\n",
       "\n",
       "    .dataframe thead th {\n",
       "        text-align: right;\n",
       "    }\n",
       "</style>\n",
       "<table border=\"1\" class=\"dataframe\">\n",
       "  <thead>\n",
       "    <tr style=\"text-align: right;\">\n",
       "      <th></th>\n",
       "      <th>journey_id</th>\n",
       "      <th>user_id</th>\n",
       "      <th>driver_id</th>\n",
       "      <th>taxi_id</th>\n",
       "      <th>icon</th>\n",
       "      <th>start_type</th>\n",
       "      <th>start_at</th>\n",
       "      <th>start_lat</th>\n",
       "      <th>start_lon</th>\n",
       "      <th>end_at</th>\n",
       "      <th>end_lat</th>\n",
       "      <th>end_lon</th>\n",
       "      <th>end_state</th>\n",
       "      <th>driver_start_lat</th>\n",
       "      <th>driver_start_lon</th>\n",
       "      <th>arrived_at</th>\n",
       "      <th>source</th>\n",
       "      <th>driver_score</th>\n",
       "      <th>rider_score</th>\n",
       "    </tr>\n",
       "  </thead>\n",
       "  <tbody>\n",
       "    <tr>\n",
       "      <th>0</th>\n",
       "      <td>23a1406fc6a11d866e3c82f22eed4d4c</td>\n",
       "      <td>0e9af5bbf1edfe591b54ecdfd7e91e26</td>\n",
       "      <td>583949a89a9ee17d19e3ca4f137b6b4c</td>\n",
       "      <td>b12f4f09c783e29fe0d0ea624530db56</td>\n",
       "      <td>executive</td>\n",
       "      <td>asap</td>\n",
       "      <td>2010-11-16 16:44:00</td>\n",
       "      <td>-12,13983536</td>\n",
       "      <td>-77,02355957</td>\n",
       "      <td>2010-11-16 17:29:00</td>\n",
       "      <td>-12,05537033</td>\n",
       "      <td>-77,0413208</td>\n",
       "      <td>drop off</td>\n",
       "      <td>-12,10825481</td>\n",
       "      <td>-77,0272739</td>\n",
       "      <td>2010-11-16 17:02:00</td>\n",
       "      <td>iPhone</td>\n",
       "      <td>5.0</td>\n",
       "      <td>5.0</td>\n",
       "    </tr>\n",
       "    <tr>\n",
       "      <th>1</th>\n",
       "      <td>dd2af4715d0dc16eded53afc0e243577</td>\n",
       "      <td>a553c46e3a22fb9c326aeb3d72b3334e</td>\n",
       "      <td>NaN</td>\n",
       "      <td>NaN</td>\n",
       "      <td>executive</td>\n",
       "      <td>asap</td>\n",
       "      <td>2010-06-01 00:34:00</td>\n",
       "      <td>-12,13874817</td>\n",
       "      <td>-76,99536133</td>\n",
       "      <td>2010-06-01 00:37:00</td>\n",
       "      <td>-12,12465668</td>\n",
       "      <td>-77,02886963</td>\n",
       "      <td>not found</td>\n",
       "      <td>NaN</td>\n",
       "      <td>NaN</td>\n",
       "      <td>NaN</td>\n",
       "      <td>iPhone</td>\n",
       "      <td>NaN</td>\n",
       "      <td>NaN</td>\n",
       "    </tr>\n",
       "    <tr>\n",
       "      <th>2</th>\n",
       "      <td>dd91e131888064bf7df3ce08f3d4b4ad</td>\n",
       "      <td>a553c46e3a22fb9c326aeb3d72b3334e</td>\n",
       "      <td>NaN</td>\n",
       "      <td>NaN</td>\n",
       "      <td>executive</td>\n",
       "      <td>asap</td>\n",
       "      <td>2010-05-31 05:01:00</td>\n",
       "      <td>-12,12453079</td>\n",
       "      <td>-77,02780151</td>\n",
       "      <td>2010-05-31 05:04:00</td>\n",
       "      <td>-12,13883209</td>\n",
       "      <td>-76,99530029</td>\n",
       "      <td>not found</td>\n",
       "      <td>NaN</td>\n",
       "      <td>NaN</td>\n",
       "      <td>NaN</td>\n",
       "      <td>iPhone</td>\n",
       "      <td>NaN</td>\n",
       "      <td>NaN</td>\n",
       "    </tr>\n",
       "    <tr>\n",
       "      <th>3</th>\n",
       "      <td>dd2af4715d0dc16eded53afc0e2466d0</td>\n",
       "      <td>a553c46e3a22fb9c326aeb3d72b3334e</td>\n",
       "      <td>NaN</td>\n",
       "      <td>NaN</td>\n",
       "      <td>executive</td>\n",
       "      <td>asap</td>\n",
       "      <td>2010-06-01 00:29:00</td>\n",
       "      <td>-12,13885117</td>\n",
       "      <td>-76,99530029</td>\n",
       "      <td>2010-06-01 00:32:00</td>\n",
       "      <td>-12,12458801</td>\n",
       "      <td>-77,02896118</td>\n",
       "      <td>not found</td>\n",
       "      <td>NaN</td>\n",
       "      <td>NaN</td>\n",
       "      <td>NaN</td>\n",
       "      <td>iPhone</td>\n",
       "      <td>NaN</td>\n",
       "      <td>NaN</td>\n",
       "    </tr>\n",
       "    <tr>\n",
       "      <th>4</th>\n",
       "      <td>85b7eabcf5d84e42dc7629b7d27781af</td>\n",
       "      <td>56772d544fdfa589a020a1ff894a86f7</td>\n",
       "      <td>d665fb9f75ef5d9cd0fd89479380ba78</td>\n",
       "      <td>0accdd3aa5a322f4129fa20b53278c69</td>\n",
       "      <td>executive</td>\n",
       "      <td>reserved</td>\n",
       "      <td>2010-09-11 23:55:00</td>\n",
       "      <td>-12,08995438</td>\n",
       "      <td>-76,92626953</td>\n",
       "      <td>2010-09-12 01:07:00</td>\n",
       "      <td>-12,02223206</td>\n",
       "      <td>-77,10638428</td>\n",
       "      <td>drop off</td>\n",
       "      <td>-12,08311558</td>\n",
       "      <td>-76,9277072</td>\n",
       "      <td>2010-09-11 23:50:00</td>\n",
       "      <td>iPhone</td>\n",
       "      <td>4.0</td>\n",
       "      <td>5.0</td>\n",
       "    </tr>\n",
       "  </tbody>\n",
       "</table>\n",
       "</div>"
      ],
      "text/plain": [
       "                         journey_id                           user_id  \\\n",
       "0  23a1406fc6a11d866e3c82f22eed4d4c  0e9af5bbf1edfe591b54ecdfd7e91e26   \n",
       "1  dd2af4715d0dc16eded53afc0e243577  a553c46e3a22fb9c326aeb3d72b3334e   \n",
       "2  dd91e131888064bf7df3ce08f3d4b4ad  a553c46e3a22fb9c326aeb3d72b3334e   \n",
       "3  dd2af4715d0dc16eded53afc0e2466d0  a553c46e3a22fb9c326aeb3d72b3334e   \n",
       "4  85b7eabcf5d84e42dc7629b7d27781af  56772d544fdfa589a020a1ff894a86f7   \n",
       "\n",
       "                          driver_id                           taxi_id  \\\n",
       "0  583949a89a9ee17d19e3ca4f137b6b4c  b12f4f09c783e29fe0d0ea624530db56   \n",
       "1                               NaN                               NaN   \n",
       "2                               NaN                               NaN   \n",
       "3                               NaN                               NaN   \n",
       "4  d665fb9f75ef5d9cd0fd89479380ba78  0accdd3aa5a322f4129fa20b53278c69   \n",
       "\n",
       "        icon start_type             start_at     start_lat     start_lon  \\\n",
       "0  executive       asap  2010-11-16 16:44:00  -12,13983536  -77,02355957   \n",
       "1  executive       asap  2010-06-01 00:34:00  -12,13874817  -76,99536133   \n",
       "2  executive       asap  2010-05-31 05:01:00  -12,12453079  -77,02780151   \n",
       "3  executive       asap  2010-06-01 00:29:00  -12,13885117  -76,99530029   \n",
       "4  executive   reserved  2010-09-11 23:55:00  -12,08995438  -76,92626953   \n",
       "\n",
       "                end_at       end_lat       end_lon  end_state  \\\n",
       "0  2010-11-16 17:29:00  -12,05537033   -77,0413208   drop off   \n",
       "1  2010-06-01 00:37:00  -12,12465668  -77,02886963  not found   \n",
       "2  2010-05-31 05:04:00  -12,13883209  -76,99530029  not found   \n",
       "3  2010-06-01 00:32:00  -12,12458801  -77,02896118  not found   \n",
       "4  2010-09-12 01:07:00  -12,02223206  -77,10638428   drop off   \n",
       "\n",
       "  driver_start_lat driver_start_lon           arrived_at  source  \\\n",
       "0     -12,10825481      -77,0272739  2010-11-16 17:02:00  iPhone   \n",
       "1              NaN              NaN                  NaN  iPhone   \n",
       "2              NaN              NaN                  NaN  iPhone   \n",
       "3              NaN              NaN                  NaN  iPhone   \n",
       "4     -12,08311558      -76,9277072  2010-09-11 23:50:00  iPhone   \n",
       "\n",
       "   driver_score  rider_score  \n",
       "0           5.0          5.0  \n",
       "1           NaN          NaN  \n",
       "2           NaN          NaN  \n",
       "3           NaN          NaN  \n",
       "4           4.0          5.0  "
      ]
     },
     "execution_count": 43,
     "metadata": {},
     "output_type": "execute_result"
    }
   ],
   "source": [
    "taxi.head()"
   ]
  },
  {
   "cell_type": "code",
   "execution_count": 44,
   "id": "3d8e27ee",
   "metadata": {},
   "outputs": [],
   "source": [
    "taxi[['start_at', 'end_at', 'arrived_at']] = taxi[['start_at','end_at', 'arrived_at']].apply(pd.to_datetime)"
   ]
  },
  {
   "cell_type": "code",
   "execution_count": 45,
   "id": "10f45f10",
   "metadata": {},
   "outputs": [
    {
     "data": {
      "text/plain": [
       "(23091, 19)"
      ]
     },
     "execution_count": 45,
     "metadata": {},
     "output_type": "execute_result"
    }
   ],
   "source": [
    "taxi_start_type = taxi.query('start_type==\"asap\" or start_type==\"reserved\"')\n",
    "taxi_start_type.shape"
   ]
  },
  {
   "cell_type": "code",
   "execution_count": 38,
   "id": "03f92111",
   "metadata": {},
   "outputs": [
    {
     "data": {
      "text/plain": [
       "\" 4-1-9 \\n⭐️Задание со звёздочкой!⭐️\\nСоздайте колонку wait_time, в которой будет храниться разница между временем подачи машины (arrived_at) и временем заказа \\n(start_at) в минутах.\\nЧтобы сконвертировать полученный результат в минуты, можно использовать метод  .astype('timedelta64[m]').\""
      ]
     },
     "execution_count": 38,
     "metadata": {},
     "output_type": "execute_result"
    }
   ],
   "source": [
    "''' 4-1-9 \n",
    "⭐️Задание со звёздочкой!⭐️\n",
    "Создайте колонку wait_time, в которой будет храниться разница между временем подачи машины (arrived_at) и временем заказа \n",
    "(start_at) в минутах.\n",
    "Чтобы сконвертировать полученный результат в минуты, можно использовать метод  .astype('timedelta64[m]').'''"
   ]
  },
  {
   "cell_type": "code",
   "execution_count": 46,
   "id": "3031e3bd",
   "metadata": {},
   "outputs": [],
   "source": [
    "taxi['wait_time'] = taxi.arrived_at - taxi.start_at"
   ]
  },
  {
   "cell_type": "code",
   "execution_count": 47,
   "id": "ecd7b0c0",
   "metadata": {},
   "outputs": [],
   "source": [
    "taxi.wait_time = taxi.wait_time.astype('timedelta64[m]')"
   ]
  },
  {
   "cell_type": "code",
   "execution_count": 25,
   "id": "01ef4f5a",
   "metadata": {},
   "outputs": [
    {
     "data": {
      "text/plain": [
       "\"4-1-10\\n⭐️Задание со звёздочкой!⭐️\\nПосмотрим, какие водители опаздывали на заказы к определенному времени (start_type == 'reserved'). \\nОпозданием считается время ожидания wait_time > 0.0.\\nСгруппируйте отфильтрованные данные по driver_id и в качестве ответа укажите id водителя, \\nкоторый опоздал на заказ интересующего нас типа наибольшее число раз\""
      ]
     },
     "execution_count": 25,
     "metadata": {},
     "output_type": "execute_result"
    }
   ],
   "source": [
    "'''4-1-10\n",
    "⭐️Задание со звёздочкой!⭐️\n",
    "Посмотрим, какие водители опаздывали на заказы к определенному времени (start_type == 'reserved'). \n",
    "Опозданием считается время ожидания wait_time > 0.0.\n",
    "Сгруппируйте отфильтрованные данные по driver_id и в качестве ответа укажите id водителя, \n",
    "который опоздал на заказ интересующего нас типа наибольшее число раз'''"
   ]
  },
  {
   "cell_type": "code",
   "execution_count": 48,
   "id": "68c8c3d2",
   "metadata": {},
   "outputs": [],
   "source": [
    "taxi_late = taxi.query('start_type == \"reserved\" and wait_time > 0.0') \\\n",
    "                .groupby('driver_id') \\\n",
    "                .agg({'start_type':'count'}) \\\n",
    "                .idxmax()"
   ]
  },
  {
   "cell_type": "code",
   "execution_count": 49,
   "id": "6f4c79a7",
   "metadata": {},
   "outputs": [
    {
     "data": {
      "text/plain": [
       "start_type    406921adcca37705ef527b4246c0cfea\n",
       "dtype: object"
      ]
     },
     "execution_count": 49,
     "metadata": {},
     "output_type": "execute_result"
    }
   ],
   "source": [
    "taxi_late"
   ]
  },
  {
   "cell_type": "code",
   "execution_count": null,
   "id": "d1a60e0e",
   "metadata": {},
   "outputs": [],
   "source": [
    "'''4-1-11 Подумайте, что может влиять на число опозданий из прошлого задания 🤔'''"
   ]
  },
  {
   "cell_type": "code",
   "execution_count": null,
   "id": "c47979fa",
   "metadata": {},
   "outputs": [],
   "source": [
    "'''Число взятых заказов и пунктуальность водителя'''"
   ]
  },
  {
   "cell_type": "code",
   "execution_count": null,
   "id": "7f701100",
   "metadata": {},
   "outputs": [],
   "source": [
    "'''4-1-12 \n",
    "⭐️Задание со звёздочкой!⭐️\n",
    "Добавьте столбец month, где будет храниться номер месяца, в котором был сделан заказ (start_at),  и столбец weekday\n",
    "– название дня недели. \n",
    "Полезные ссылки:\n",
    "как извлечь нужное значение из даты?\n",
    ".dt.strftime('%A') – извлечь день недели в формате названия (подробнее о strftime здесь)'''"
   ]
  },
  {
   "cell_type": "code",
   "execution_count": 53,
   "id": "b231b0a4",
   "metadata": {},
   "outputs": [
    {
     "data": {
      "text/plain": [
       "0        11\n",
       "1         6\n",
       "2         5\n",
       "3         6\n",
       "4         9\n",
       "         ..\n",
       "23106     7\n",
       "23107    10\n",
       "23108     9\n",
       "23109     4\n",
       "23110     3\n",
       "Name: month, Length: 23111, dtype: int64"
      ]
     },
     "execution_count": 53,
     "metadata": {},
     "output_type": "execute_result"
    }
   ],
   "source": [
    "taxi['month'] = taxi['start_at'].dt.month\n",
    "taxi.month"
   ]
  },
  {
   "cell_type": "code",
   "execution_count": 55,
   "id": "cf9f6f10",
   "metadata": {},
   "outputs": [
    {
     "data": {
      "text/plain": [
       "0         Tuesday\n",
       "1         Tuesday\n",
       "2          Monday\n",
       "3         Tuesday\n",
       "4        Saturday\n",
       "           ...   \n",
       "23106    Saturday\n",
       "23107    Saturday\n",
       "23108     Tuesday\n",
       "23109    Thursday\n",
       "23110     Tuesday\n",
       "Name: weekday, Length: 23111, dtype: object"
      ]
     },
     "execution_count": 55,
     "metadata": {},
     "output_type": "execute_result"
    }
   ],
   "source": [
    "taxi['weekday'] = taxi.start_at.dt.strftime('%A')\n",
    "taxi.weekday"
   ]
  },
  {
   "cell_type": "code",
   "execution_count": null,
   "id": "fcaddf5c",
   "metadata": {},
   "outputs": [],
   "source": [
    "'''4-1-13 \n",
    "⭐️Задание со звёздочкой!⭐️\n",
    "Постройте график числа заказов по месяцам (month). Подумайте, с чем может быть связана полученная картина. \n",
    "Вопрос: в каком летнем месяце было сделано наименьшее число заказов? В качестве ответа введите номер месяца (6, 7 или 8). '''"
   ]
  },
  {
   "cell_type": "code",
   "execution_count": 58,
   "id": "127341bd",
   "metadata": {},
   "outputs": [
    {
     "name": "stderr",
     "output_type": "stream",
     "text": [
      "C:\\Users\\Skitalica\\anaconda3\\lib\\site-packages\\seaborn\\_decorators.py:36: FutureWarning: Pass the following variable as a keyword arg: x. From version 0.12, the only valid positional argument will be `data`, and passing other arguments without an explicit keyword will result in an error or misinterpretation.\n",
      "  warnings.warn(\n"
     ]
    },
    {
     "data": {
      "text/plain": [
       "<AxesSubplot:xlabel='month', ylabel='count'>"
      ]
     },
     "execution_count": 58,
     "metadata": {},
     "output_type": "execute_result"
    },
    {
     "data": {
      "image/png": "[encoded data removed]",
      "text/plain": [
       "<Figure size 640x480 with 1 Axes>"
      ]
     },
     "metadata": {},
     "output_type": "display_data"
    }
   ],
   "source": [
    "sns.countplot(taxi.month)"
   ]
  },
  {
   "cell_type": "code",
   "execution_count": null,
   "id": "96eb159a",
   "metadata": {},
   "outputs": [],
   "source": [
    "'''4-1-14\n",
    "⭐️Задание со звёздочкой!⭐️\n",
    "А теперь – график по дням недели (weekday). Задать порядок столбиков на графике можно с помощью аргумента order, \n",
    "которому нужно передать список названий в нужном порядке. Например: \n",
    "sns.countplot(data['column'], order=['One', 'Two', 'Three'])\n",
    "\n",
    "Вопрос: в какой день недели суммарно поступает меньше всего заказов? Укажите то название, \n",
    "которое написано в самом датафрейме.'''"
   ]
  },
  {
   "cell_type": "code",
   "execution_count": 59,
   "id": "b75492e5",
   "metadata": {},
   "outputs": [
    {
     "name": "stderr",
     "output_type": "stream",
     "text": [
      "C:\\Users\\Skitalica\\anaconda3\\lib\\site-packages\\seaborn\\_decorators.py:36: FutureWarning: Pass the following variable as a keyword arg: x. From version 0.12, the only valid positional argument will be `data`, and passing other arguments without an explicit keyword will result in an error or misinterpretation.\n",
      "  warnings.warn(\n"
     ]
    },
    {
     "data": {
      "text/plain": [
       "<AxesSubplot:xlabel='weekday', ylabel='count'>"
      ]
     },
     "execution_count": 59,
     "metadata": {},
     "output_type": "execute_result"
    },
    {
     "data": {
      "image/png": "[encoded data removed]",
      "text/plain": [
       "<Figure size 640x480 with 1 Axes>"
      ]
     },
     "metadata": {},
     "output_type": "display_data"
    }
   ],
   "source": [
    "sns.countplot(taxi['weekday'])#, order=['One', 'Two', 'Three']"
   ]
  },
  {
   "cell_type": "code",
   "execution_count": 61,
   "id": "97752c7b",
   "metadata": {},
   "outputs": [
    {
     "data": {
      "text/plain": [
       "'Wednesday'"
      ]
     },
     "execution_count": 61,
     "metadata": {},
     "output_type": "execute_result"
    }
   ],
   "source": [
    "taxi.weekday.value_counts().idxmin()"
   ]
  },
  {
   "cell_type": "code",
   "execution_count": null,
   "id": "8dafef05",
   "metadata": {},
   "outputs": [],
   "source": [
    "'''4-1-15\n",
    "⭐️Задание со звёздочкой!⭐️\n",
    "Также мы можем посмотреть на несколько простых метрик, показывающих число уникальных пользователей за определённый период:\n",
    "DAU (daily active users) – число уникальных пользователей за день\n",
    "WAU (weekly active users) – число уникальных пользователей за неделю\n",
    "MAU (monthly active users) – число уникальных пользователей за месяц\n",
    "Активные пользователи – те, кто воспользовался приложением и сделал хотя бы один заказ за выбранный промежуток времени. \n",
    "Постройте график MAU и выберите верные утверждения. \n",
    "Могут пригодиться:\n",
    "groupby – группировка\n",
    "nunique – число уникальных значений\n",
    "plot.line – линейная диаграмма\n",
    "'''"
   ]
  },
  {
   "cell_type": "code",
   "execution_count": 65,
   "id": "be901191",
   "metadata": {},
   "outputs": [
    {
     "data": {
      "text/plain": [
       "month\n",
       "1     102\n",
       "2     111\n",
       "3     163\n",
       "4     254\n",
       "5     275\n",
       "6     309\n",
       "7     318\n",
       "8     377\n",
       "9     416\n",
       "10    437\n",
       "11    504\n",
       "12    569\n",
       "Name: user_id, dtype: int64"
      ]
     },
     "execution_count": 65,
     "metadata": {},
     "output_type": "execute_result"
    }
   ],
   "source": [
    "MAU=taxi.groupby('month').user_id.nunique()\n",
    "MAU"
   ]
  },
  {
   "cell_type": "code",
   "execution_count": 67,
   "id": "c6a3fc74",
   "metadata": {},
   "outputs": [
    {
     "name": "stderr",
     "output_type": "stream",
     "text": [
      "C:\\Users\\Skitalica\\anaconda3\\lib\\site-packages\\seaborn\\_decorators.py:36: FutureWarning: Pass the following variables as keyword args: x, y. From version 0.12, the only valid positional argument will be `data`, and passing other arguments without an explicit keyword will result in an error or misinterpretation.\n",
      "  warnings.warn(\n"
     ]
    },
    {
     "data": {
      "text/plain": [
       "<AxesSubplot:xlabel='month', ylabel='user_id'>"
      ]
     },
     "execution_count": 67,
     "metadata": {},
     "output_type": "execute_result"
    },
    {
     "data": {
      "image/png": "[encoded data removed]",
      "text/plain": [
       "<Figure size 640x480 with 1 Axes>"
      ]
     },
     "metadata": {},
     "output_type": "display_data"
    }
   ],
   "source": [
    "sns.lineplot(taxi.month, MAU)"
   ]
  },
  {
   "cell_type": "code",
   "execution_count": null,
   "id": "09226608",
   "metadata": {},
   "outputs": [],
   "source": [
    "'''В течение всего года число уникальных пользователей увеличивалось\n",
    "MAU за апрель примерно в 2.5 раза больше, чем за январь'''"
   ]
  }
 ],
 "metadata": {
  "kernelspec": {
   "display_name": "Python 3 (ipykernel)",
   "language": "python",
   "name": "python3"
  },
  "language_info": {
   "codemirror_mode": {
    "name": "ipython",
    "version": 3
   },
   "file_extension": ".py",
   "mimetype": "text/x-python",
   "name": "python",
   "nbconvert_exporter": "python",
   "pygments_lexer": "ipython3",
   "version": "3.9.13"
  }
 },
 "nbformat": 4,
 "nbformat_minor": 5
}
