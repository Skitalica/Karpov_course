{
 "cells": [
  {
   "cell_type": "markdown",
   "id": "aac07ef1",
   "metadata": {
    "id": "aac07ef1"
   },
   "source": [
    "*Проект e-commerce: вариант 1 \n",
    "Продакт-менеджер Василий попросил вас проанализировать совершенные покупки и ответить на следующие вопросы:*"
   ]
  },
  {
   "cell_type": "markdown",
   "id": "64cfb81d",
   "metadata": {
    "id": "64cfb81d"
   },
   "source": [
    "Начинаем с импортирования всех необходимых библиотек:"
   ]
  },
  {
   "cell_type": "code",
   "execution_count": null,
   "id": "4408f331",
   "metadata": {
    "id": "4408f331"
   },
   "outputs": [],
   "source": [
    "import pandas as pd\n",
    "import matplotlib.pyplot as plt\n",
    "%matplotlib inline\n",
    "import seaborn as sns\n",
    "import datetime as dt\n",
    "from datetime import timedelta\n",
    "from urllib.parse import urlencode\n",
    "import requests\n",
    "import warnings\n",
    "warnings.filterwarnings('ignore')\n",
    "import plotly.express as px\n",
    "import ssl\n",
    "import pandas as pd\n",
    "import urllib.request"
   ]
  },
  {
   "cell_type": "markdown",
   "id": "f5c92449",
   "metadata": {
    "id": "f5c92449"
   },
   "source": [
    "Для начала работы загрузим данные.\n",
    "\n",
    "Для создания необходимых ссылок воспользуемся cайтом https://getfile.dokpub.com/\n",
    "\n",
    "И сразу проверим как она загрузилась."
   ]
  },
  {
   "cell_type": "markdown",
   "id": "7e61c3b9",
   "metadata": {
    "id": "7e61c3b9"
   },
   "source": [
    "Таблица с уникальными идентификаторами пользователей:"
   ]
  },
  {
   "cell_type": "code",
   "execution_count": null,
   "id": "20ca0ef3",
   "metadata": {
    "id": "20ca0ef3",
    "outputId": "b3f55d4a-a080-4a3a-a7c1-9bd6b63a18f6"
   },
   "outputs": [
    {
     "data": {
      "text/html": [
       "<div>\n",
       "<style scoped>\n",
       "    .dataframe tbody tr th:only-of-type {\n",
       "        vertical-align: middle;\n",
       "    }\n",
       "\n",
       "    .dataframe tbody tr th {\n",
       "        vertical-align: top;\n",
       "    }\n",
       "\n",
       "    .dataframe thead th {\n",
       "        text-align: right;\n",
       "    }\n",
       "</style>\n",
       "<table border=\"1\" class=\"dataframe\">\n",
       "  <thead>\n",
       "    <tr style=\"text-align: right;\">\n",
       "      <th></th>\n",
       "      <th>customer_id</th>\n",
       "      <th>customer_unique_id</th>\n",
       "      <th>customer_zip_code_prefix</th>\n",
       "      <th>customer_city</th>\n",
       "      <th>customer_state</th>\n",
       "    </tr>\n",
       "  </thead>\n",
       "  <tbody>\n",
       "    <tr>\n",
       "      <th>0</th>\n",
       "      <td>06b8999e2fba1a1fbc88172c00ba8bc7</td>\n",
       "      <td>861eff4711a542e4b93843c6dd7febb0</td>\n",
       "      <td>14409</td>\n",
       "      <td>franca</td>\n",
       "      <td>SP</td>\n",
       "    </tr>\n",
       "    <tr>\n",
       "      <th>1</th>\n",
       "      <td>18955e83d337fd6b2def6b18a428ac77</td>\n",
       "      <td>290c77bc529b7ac935b93aa66c333dc3</td>\n",
       "      <td>9790</td>\n",
       "      <td>sao bernardo do campo</td>\n",
       "      <td>SP</td>\n",
       "    </tr>\n",
       "    <tr>\n",
       "      <th>2</th>\n",
       "      <td>4e7b3e00288586ebd08712fdd0374a03</td>\n",
       "      <td>060e732b5b29e8181a18229c7b0b2b5e</td>\n",
       "      <td>1151</td>\n",
       "      <td>sao paulo</td>\n",
       "      <td>SP</td>\n",
       "    </tr>\n",
       "    <tr>\n",
       "      <th>3</th>\n",
       "      <td>b2b6027bc5c5109e529d4dc6358b12c3</td>\n",
       "      <td>259dac757896d24d7702b9acbbff3f3c</td>\n",
       "      <td>8775</td>\n",
       "      <td>mogi das cruzes</td>\n",
       "      <td>SP</td>\n",
       "    </tr>\n",
       "    <tr>\n",
       "      <th>4</th>\n",
       "      <td>4f2d8ab171c80ec8364f7c12e35b23ad</td>\n",
       "      <td>345ecd01c38d18a9036ed96c73b8d066</td>\n",
       "      <td>13056</td>\n",
       "      <td>campinas</td>\n",
       "      <td>SP</td>\n",
       "    </tr>\n",
       "  </tbody>\n",
       "</table>\n",
       "</div>"
      ],
      "text/plain": [
       "                        customer_id                customer_unique_id  \\\n",
       "0  06b8999e2fba1a1fbc88172c00ba8bc7  861eff4711a542e4b93843c6dd7febb0   \n",
       "1  18955e83d337fd6b2def6b18a428ac77  290c77bc529b7ac935b93aa66c333dc3   \n",
       "2  4e7b3e00288586ebd08712fdd0374a03  060e732b5b29e8181a18229c7b0b2b5e   \n",
       "3  b2b6027bc5c5109e529d4dc6358b12c3  259dac757896d24d7702b9acbbff3f3c   \n",
       "4  4f2d8ab171c80ec8364f7c12e35b23ad  345ecd01c38d18a9036ed96c73b8d066   \n",
       "\n",
       "   customer_zip_code_prefix          customer_city customer_state  \n",
       "0                     14409                 franca             SP  \n",
       "1                      9790  sao bernardo do campo             SP  \n",
       "2                      1151              sao paulo             SP  \n",
       "3                      8775        mogi das cruzes             SP  \n",
       "4                     13056               campinas             SP  "
      ]
     },
     "execution_count": 8,
     "metadata": {},
     "output_type": "execute_result"
    }
   ],
   "source": [
    "url = \"https://getfile.dokpub.com/yandex/get/https://disk.yandex.ru/d/QXrVDUoQvFhIcg\"\n",
    "context = ssl._create_unverified_context()\n",
    "response = urllib.request.urlopen(url, context=context)\n",
    "\n",
    "df_id = pd.read_csv(response)\n",
    "\n",
    "'''\n",
    "#если использовать этот вариант, в кавычках, то возникает ошибка SSL: CERTIFICATE_VERIFY_FAILED\n",
    "#Она указывает на проблему с проверкой сертификата SSL на моем компьютере. \n",
    "df_id = pd.read_csv('https://getfile.dokpub.com/yandex/get/https://disk.yandex.ru/d/QXrVDUoQvFhIcg')'''\n",
    "\n",
    "df_id.head()  # команда head() покажет первые 5 записей в таблице"
   ]
  },
  {
   "cell_type": "markdown",
   "id": "196b14d2",
   "metadata": {
    "id": "196b14d2"
   },
   "source": [
    " olist_customers_datase.csv — таблица с уникальными идентификаторами пользователей. Ее колонки:\n",
    " \n",
    "    customer_id — позаказный идентификатор пользователя\n",
    "\n",
    "    customer_unique_id —  уникальный идентификатор пользователя  (аналог номера паспорта)\n",
    "\n",
    "    customer_zip_code_prefix —  почтовый индекс пользователя\n",
    "\n",
    "    customer_city —  город доставки пользователя\n",
    "\n",
    "    customer_state —  штат доставки пользователя"
   ]
  },
  {
   "cell_type": "markdown",
   "id": "1fdda2b8",
   "metadata": {
    "id": "1fdda2b8"
   },
   "source": [
    "Таблица заказов, сразу заменим типы данных в колонках, связанных со временем на временной:"
   ]
  },
  {
   "cell_type": "code",
   "execution_count": null,
   "id": "8aa73a43",
   "metadata": {
    "id": "8aa73a43",
    "outputId": "ffad92e4-614c-4549-a55e-79a3e6d069bc"
   },
   "outputs": [
    {
     "data": {
      "text/html": [
       "<div>\n",
       "<style scoped>\n",
       "    .dataframe tbody tr th:only-of-type {\n",
       "        vertical-align: middle;\n",
       "    }\n",
       "\n",
       "    .dataframe tbody tr th {\n",
       "        vertical-align: top;\n",
       "    }\n",
       "\n",
       "    .dataframe thead th {\n",
       "        text-align: right;\n",
       "    }\n",
       "</style>\n",
       "<table border=\"1\" class=\"dataframe\">\n",
       "  <thead>\n",
       "    <tr style=\"text-align: right;\">\n",
       "      <th></th>\n",
       "      <th>order_id</th>\n",
       "      <th>customer_id</th>\n",
       "      <th>order_status</th>\n",
       "      <th>order_purchase_timestamp</th>\n",
       "      <th>order_approved_at</th>\n",
       "      <th>order_delivered_carrier_date</th>\n",
       "      <th>order_delivered_customer_date</th>\n",
       "      <th>order_estimated_delivery_date</th>\n",
       "    </tr>\n",
       "  </thead>\n",
       "  <tbody>\n",
       "    <tr>\n",
       "      <th>0</th>\n",
       "      <td>e481f51cbdc54678b7cc49136f2d6af7</td>\n",
       "      <td>9ef432eb6251297304e76186b10a928d</td>\n",
       "      <td>delivered</td>\n",
       "      <td>2017-10-02 10:56:33</td>\n",
       "      <td>2017-10-02 11:07:15</td>\n",
       "      <td>2017-10-04 19:55:00</td>\n",
       "      <td>2017-10-10 21:25:13</td>\n",
       "      <td>2017-10-18</td>\n",
       "    </tr>\n",
       "    <tr>\n",
       "      <th>1</th>\n",
       "      <td>53cdb2fc8bc7dce0b6741e2150273451</td>\n",
       "      <td>b0830fb4747a6c6d20dea0b8c802d7ef</td>\n",
       "      <td>delivered</td>\n",
       "      <td>2018-07-24 20:41:37</td>\n",
       "      <td>2018-07-26 03:24:27</td>\n",
       "      <td>2018-07-26 14:31:00</td>\n",
       "      <td>2018-08-07 15:27:45</td>\n",
       "      <td>2018-08-13</td>\n",
       "    </tr>\n",
       "    <tr>\n",
       "      <th>2</th>\n",
       "      <td>47770eb9100c2d0c44946d9cf07ec65d</td>\n",
       "      <td>41ce2a54c0b03bf3443c3d931a367089</td>\n",
       "      <td>delivered</td>\n",
       "      <td>2018-08-08 08:38:49</td>\n",
       "      <td>2018-08-08 08:55:23</td>\n",
       "      <td>2018-08-08 13:50:00</td>\n",
       "      <td>2018-08-17 18:06:29</td>\n",
       "      <td>2018-09-04</td>\n",
       "    </tr>\n",
       "    <tr>\n",
       "      <th>3</th>\n",
       "      <td>949d5b44dbf5de918fe9c16f97b45f8a</td>\n",
       "      <td>f88197465ea7920adcdbec7375364d82</td>\n",
       "      <td>delivered</td>\n",
       "      <td>2017-11-18 19:28:06</td>\n",
       "      <td>2017-11-18 19:45:59</td>\n",
       "      <td>2017-11-22 13:39:59</td>\n",
       "      <td>2017-12-02 00:28:42</td>\n",
       "      <td>2017-12-15</td>\n",
       "    </tr>\n",
       "    <tr>\n",
       "      <th>4</th>\n",
       "      <td>ad21c59c0840e6cb83a9ceb5573f8159</td>\n",
       "      <td>8ab97904e6daea8866dbdbc4fb7aad2c</td>\n",
       "      <td>delivered</td>\n",
       "      <td>2018-02-13 21:18:39</td>\n",
       "      <td>2018-02-13 22:20:29</td>\n",
       "      <td>2018-02-14 19:46:34</td>\n",
       "      <td>2018-02-16 18:17:02</td>\n",
       "      <td>2018-02-26</td>\n",
       "    </tr>\n",
       "  </tbody>\n",
       "</table>\n",
       "</div>"
      ],
      "text/plain": [
       "                           order_id                       customer_id  \\\n",
       "0  e481f51cbdc54678b7cc49136f2d6af7  9ef432eb6251297304e76186b10a928d   \n",
       "1  53cdb2fc8bc7dce0b6741e2150273451  b0830fb4747a6c6d20dea0b8c802d7ef   \n",
       "2  47770eb9100c2d0c44946d9cf07ec65d  41ce2a54c0b03bf3443c3d931a367089   \n",
       "3  949d5b44dbf5de918fe9c16f97b45f8a  f88197465ea7920adcdbec7375364d82   \n",
       "4  ad21c59c0840e6cb83a9ceb5573f8159  8ab97904e6daea8866dbdbc4fb7aad2c   \n",
       "\n",
       "  order_status order_purchase_timestamp   order_approved_at  \\\n",
       "0    delivered      2017-10-02 10:56:33 2017-10-02 11:07:15   \n",
       "1    delivered      2018-07-24 20:41:37 2018-07-26 03:24:27   \n",
       "2    delivered      2018-08-08 08:38:49 2018-08-08 08:55:23   \n",
       "3    delivered      2017-11-18 19:28:06 2017-11-18 19:45:59   \n",
       "4    delivered      2018-02-13 21:18:39 2018-02-13 22:20:29   \n",
       "\n",
       "  order_delivered_carrier_date order_delivered_customer_date  \\\n",
       "0          2017-10-04 19:55:00           2017-10-10 21:25:13   \n",
       "1          2018-07-26 14:31:00           2018-08-07 15:27:45   \n",
       "2          2018-08-08 13:50:00           2018-08-17 18:06:29   \n",
       "3          2017-11-22 13:39:59           2017-12-02 00:28:42   \n",
       "4          2018-02-14 19:46:34           2018-02-16 18:17:02   \n",
       "\n",
       "  order_estimated_delivery_date  \n",
       "0                    2017-10-18  \n",
       "1                    2018-08-13  \n",
       "2                    2018-09-04  \n",
       "3                    2017-12-15  \n",
       "4                    2018-02-26  "
      ]
     },
     "execution_count": 9,
     "metadata": {},
     "output_type": "execute_result"
    }
   ],
   "source": [
    "url = \"https://getfile.dokpub.com/yandex/get/https://disk.yandex.ru/d/0zWmh1bYP6REbw\"\n",
    "context = ssl._create_unverified_context()\n",
    "response = urllib.request.urlopen(url, context=context)\n",
    "\n",
    "df_orders = pd.read_csv(response,\n",
    "                        parse_dates=[3,4,5,6,7])\n",
    "\n",
    "''' #тут наблюдаем точно такую же ошибку как и в предыдщем шаге\n",
    "df_orders = pd.read_csv('https://getfile.dokpub.com/yandex/get/https://disk.yandex.ru/d/0zWmh1bYP6REbw',\n",
    "                        parse_dates=[3,4,5,6,7])'''\n",
    "df_orders.head()  # команда head() покажет первые 5 записей в таблице"
   ]
  },
  {
   "cell_type": "markdown",
   "id": "f5d52f8e",
   "metadata": {
    "id": "f5d52f8e"
   },
   "source": [
    "olist_orders_dataset.csv —  таблица заказов\n",
    "\n",
    "    order_id —  уникальный идентификатор заказа (номер чека)\n",
    "\n",
    "    customer_id —  позаказный идентификатор пользователя\n",
    "\n",
    "    order_status —  статус заказа\n",
    "\n",
    "    order_purchase_timestamp —  время создания заказа\n",
    "\n",
    "    order_approved_at —  время подтверждения оплаты заказа\n",
    "\n",
    "    order_delivered_carrier_date —  время передачи заказа в логистическую службу\n",
    "\n",
    "    order_delivered_customer_date —  время доставки заказа\n",
    "\n",
    "    order_estimated_delivery_date —  обещанная дата доставки"
   ]
  },
  {
   "cell_type": "markdown",
   "id": "1172fcfa",
   "metadata": {
    "id": "1172fcfa"
   },
   "source": [
    "Товарные позиции, входящие в заказы, сразу заменим тип данных в колонке, связанной со временем на временной:"
   ]
  },
  {
   "cell_type": "code",
   "execution_count": null,
   "id": "3c45f519",
   "metadata": {
    "id": "3c45f519",
    "outputId": "d1cb1a92-18a3-414e-9a3b-1617230be652"
   },
   "outputs": [
    {
     "data": {
      "text/html": [
       "<div>\n",
       "<style scoped>\n",
       "    .dataframe tbody tr th:only-of-type {\n",
       "        vertical-align: middle;\n",
       "    }\n",
       "\n",
       "    .dataframe tbody tr th {\n",
       "        vertical-align: top;\n",
       "    }\n",
       "\n",
       "    .dataframe thead th {\n",
       "        text-align: right;\n",
       "    }\n",
       "</style>\n",
       "<table border=\"1\" class=\"dataframe\">\n",
       "  <thead>\n",
       "    <tr style=\"text-align: right;\">\n",
       "      <th></th>\n",
       "      <th>order_id</th>\n",
       "      <th>order_item_id</th>\n",
       "      <th>product_id</th>\n",
       "      <th>seller_id</th>\n",
       "      <th>shipping_limit_date</th>\n",
       "      <th>price</th>\n",
       "      <th>freight_value</th>\n",
       "    </tr>\n",
       "  </thead>\n",
       "  <tbody>\n",
       "    <tr>\n",
       "      <th>0</th>\n",
       "      <td>00010242fe8c5a6d1ba2dd792cb16214</td>\n",
       "      <td>1</td>\n",
       "      <td>4244733e06e7ecb4970a6e2683c13e61</td>\n",
       "      <td>48436dade18ac8b2bce089ec2a041202</td>\n",
       "      <td>2017-09-19 09:45:35</td>\n",
       "      <td>58.90</td>\n",
       "      <td>13.29</td>\n",
       "    </tr>\n",
       "    <tr>\n",
       "      <th>1</th>\n",
       "      <td>00018f77f2f0320c557190d7a144bdd3</td>\n",
       "      <td>1</td>\n",
       "      <td>e5f2d52b802189ee658865ca93d83a8f</td>\n",
       "      <td>dd7ddc04e1b6c2c614352b383efe2d36</td>\n",
       "      <td>2017-05-03 11:05:13</td>\n",
       "      <td>239.90</td>\n",
       "      <td>19.93</td>\n",
       "    </tr>\n",
       "    <tr>\n",
       "      <th>2</th>\n",
       "      <td>000229ec398224ef6ca0657da4fc703e</td>\n",
       "      <td>1</td>\n",
       "      <td>c777355d18b72b67abbeef9df44fd0fd</td>\n",
       "      <td>5b51032eddd242adc84c38acab88f23d</td>\n",
       "      <td>2018-01-18 14:48:30</td>\n",
       "      <td>199.00</td>\n",
       "      <td>17.87</td>\n",
       "    </tr>\n",
       "    <tr>\n",
       "      <th>3</th>\n",
       "      <td>00024acbcdf0a6daa1e931b038114c75</td>\n",
       "      <td>1</td>\n",
       "      <td>7634da152a4610f1595efa32f14722fc</td>\n",
       "      <td>9d7a1d34a5052409006425275ba1c2b4</td>\n",
       "      <td>2018-08-15 10:10:18</td>\n",
       "      <td>12.99</td>\n",
       "      <td>12.79</td>\n",
       "    </tr>\n",
       "    <tr>\n",
       "      <th>4</th>\n",
       "      <td>00042b26cf59d7ce69dfabb4e55b4fd9</td>\n",
       "      <td>1</td>\n",
       "      <td>ac6c3623068f30de03045865e4e10089</td>\n",
       "      <td>df560393f3a51e74553ab94004ba5c87</td>\n",
       "      <td>2017-02-13 13:57:51</td>\n",
       "      <td>199.90</td>\n",
       "      <td>18.14</td>\n",
       "    </tr>\n",
       "  </tbody>\n",
       "</table>\n",
       "</div>"
      ],
      "text/plain": [
       "                           order_id  order_item_id  \\\n",
       "0  00010242fe8c5a6d1ba2dd792cb16214              1   \n",
       "1  00018f77f2f0320c557190d7a144bdd3              1   \n",
       "2  000229ec398224ef6ca0657da4fc703e              1   \n",
       "3  00024acbcdf0a6daa1e931b038114c75              1   \n",
       "4  00042b26cf59d7ce69dfabb4e55b4fd9              1   \n",
       "\n",
       "                         product_id                         seller_id  \\\n",
       "0  4244733e06e7ecb4970a6e2683c13e61  48436dade18ac8b2bce089ec2a041202   \n",
       "1  e5f2d52b802189ee658865ca93d83a8f  dd7ddc04e1b6c2c614352b383efe2d36   \n",
       "2  c777355d18b72b67abbeef9df44fd0fd  5b51032eddd242adc84c38acab88f23d   \n",
       "3  7634da152a4610f1595efa32f14722fc  9d7a1d34a5052409006425275ba1c2b4   \n",
       "4  ac6c3623068f30de03045865e4e10089  df560393f3a51e74553ab94004ba5c87   \n",
       "\n",
       "  shipping_limit_date   price  freight_value  \n",
       "0 2017-09-19 09:45:35   58.90          13.29  \n",
       "1 2017-05-03 11:05:13  239.90          19.93  \n",
       "2 2018-01-18 14:48:30  199.00          17.87  \n",
       "3 2018-08-15 10:10:18   12.99          12.79  \n",
       "4 2017-02-13 13:57:51  199.90          18.14  "
      ]
     },
     "execution_count": 10,
     "metadata": {},
     "output_type": "execute_result"
    }
   ],
   "source": [
    "url = \"https://getfile.dokpub.com/yandex/get/https://disk.yandex.ru/d/xCsQ0FiC-Ue4Lg\"\n",
    "context = ssl._create_unverified_context()\n",
    "response = urllib.request.urlopen(url, context=context)\n",
    "\n",
    "df_products = pd.read_csv(response,\n",
    "                        parse_dates=['shipping_limit_date'])\n",
    "\n",
    "'''# и на этом шаге снова повторяется ошибка сертификата\n",
    "df_products = pd.read_csv('https://getfile.dokpub.com/yandex/get/https://disk.yandex.ru/d/xCsQ0FiC-Ue4Lg',\n",
    "                          parse_dates=['shipping_limit_date'])'''\n",
    "df_products.head()  # команда head() покажет первые 5 записей в таблице"
   ]
  },
  {
   "cell_type": "markdown",
   "id": "72522c10",
   "metadata": {
    "id": "72522c10"
   },
   "source": [
    "olist_order_items_dataset.csv —  товарные позиции, входящие в заказы\n",
    "\n",
    "    order_id —  уникальный идентификатор заказа (номер чека)\n",
    "\n",
    "    order_item_id —  идентификатор товара внутри одного заказа\n",
    "\n",
    "    product_id —  ид товара (аналог штрихкода)\n",
    "\n",
    "    seller_id — ид производителя товара\n",
    "\n",
    "    shipping_limit_date —  максимальная дата доставки продавцом для передачи заказа партнеру по логистике\n",
    "\n",
    "    price —  цена за единицу товара\n",
    "\n",
    "    freight_value —  вес товара"
   ]
  },
  {
   "cell_type": "code",
   "execution_count": null,
   "id": "6f1c555f",
   "metadata": {
    "id": "6f1c555f",
    "outputId": "9adbb0a2-4fa2-4975-98a1-7363009c22eb"
   },
   "outputs": [
    {
     "name": "stderr",
     "output_type": "stream",
     "text": [
      "1:80: E501 line too long (102 > 79 characters)\n",
      "10:80: E501 line too long (80 > 79 characters)\n"
     ]
    }
   ],
   "source": [
    "#  Второй вариант загрузки данных, если первый не сработает, необходимо просто убрать тройные кавычки:\n",
    "\n",
    "'''\n",
    "id_url = 'https://disk.yandex.ru/d/QXrVDUoQvFhIcg'\n",
    "orders_url = 'https://disk.yandex.ru/d/0zWmh1bYP6REbw'\n",
    "products_url = 'https://disk.yandex.ru/d/xCsQ0FiC-Ue4Lg'\n",
    "\n",
    "\n",
    "def get_yandex(public_key):\n",
    "    base_url = 'https://cloud-api.yandex.net/v1/disk/public/resources/download?'\n",
    "    final_url = base_url + urlencode(dict(public_key=public_key))\n",
    "    response = requests.get(final_url)\n",
    "    download_url = response.json()['href']\n",
    "    return download_url\n",
    "\n",
    "\n",
    "df_id = pd.read_csv(get_yandex(id_url))\n",
    "df_orders = pd.read_csv(get_yandex(orders_url), parse_dates=[3, 4, 5, 6, 7])\n",
    "df_products = pd.read_csv(get_yandex(products_url), parse_dates=[4])'''"
   ]
  },
  {
   "cell_type": "markdown",
   "id": "c75845fb",
   "metadata": {
    "id": "c75845fb"
   },
   "source": [
    "Посмотрим на типы данных в таблицах, количество строк и колонок и пропущенные значения:"
   ]
  },
  {
   "cell_type": "code",
   "execution_count": null,
   "id": "8249778a",
   "metadata": {
    "id": "8249778a",
    "outputId": "555dbc8a-fa14-4ca8-8fba-ade6e7395cba"
   },
   "outputs": [
    {
     "name": "stdout",
     "output_type": "stream",
     "text": [
      "<class 'pandas.core.frame.DataFrame'>\n",
      "RangeIndex: 99441 entries, 0 to 99440\n",
      "Data columns (total 5 columns):\n",
      " #   Column                    Non-Null Count  Dtype \n",
      "---  ------                    --------------  ----- \n",
      " 0   customer_id               99441 non-null  object\n",
      " 1   customer_unique_id        99441 non-null  object\n",
      " 2   customer_zip_code_prefix  99441 non-null  int64 \n",
      " 3   customer_city             99441 non-null  object\n",
      " 4   customer_state            99441 non-null  object\n",
      "dtypes: int64(1), object(4)\n",
      "memory usage: 3.8+ MB\n"
     ]
    }
   ],
   "source": [
    "df_id.info()  # команда info выводит нам информацию по нашему датасету: количество строк и столбцов, \n",
    "              # количество пропущенных значений и типы данных колонок"
   ]
  },
  {
   "cell_type": "markdown",
   "id": "3ca5edd5",
   "metadata": {
    "id": "3ca5edd5"
   },
   "source": [
    "В таблице с уникальными идентификаторами пользователей 99441 строка и 5 столбцов, все типы данных совпадают с описанием колонок, пропущенных значений нет."
   ]
  },
  {
   "cell_type": "code",
   "execution_count": null,
   "id": "b41d6da5",
   "metadata": {
    "id": "b41d6da5",
    "outputId": "f5db72f8-a22a-415f-feb5-5bdbc320d309"
   },
   "outputs": [
    {
     "name": "stdout",
     "output_type": "stream",
     "text": [
      "<class 'pandas.core.frame.DataFrame'>\n",
      "RangeIndex: 99441 entries, 0 to 99440\n",
      "Data columns (total 8 columns):\n",
      " #   Column                         Non-Null Count  Dtype         \n",
      "---  ------                         --------------  -----         \n",
      " 0   order_id                       99441 non-null  object        \n",
      " 1   customer_id                    99441 non-null  object        \n",
      " 2   order_status                   99441 non-null  object        \n",
      " 3   order_purchase_timestamp       99441 non-null  datetime64[ns]\n",
      " 4   order_approved_at              99281 non-null  datetime64[ns]\n",
      " 5   order_delivered_carrier_date   97658 non-null  datetime64[ns]\n",
      " 6   order_delivered_customer_date  96476 non-null  datetime64[ns]\n",
      " 7   order_estimated_delivery_date  99441 non-null  datetime64[ns]\n",
      "dtypes: datetime64[ns](5), object(3)\n",
      "memory usage: 6.1+ MB\n"
     ]
    }
   ],
   "source": [
    "df_orders.info()"
   ]
  },
  {
   "cell_type": "markdown",
   "id": "453fead4",
   "metadata": {
    "id": "453fead4"
   },
   "source": [
    "В таблице заказов 99441 строка и 8 столбцов, все типы данных совпадают с описанием колонок, наблюдаются пропущенные значения в столбце 'order_approved_at', 'order_delivered_carrier_date' и 'order_delivered_customer_date'. Посчитаем количество пропущенных значений в каждом столбце:"
   ]
  },
  {
   "cell_type": "code",
   "execution_count": null,
   "id": "b3ba399d",
   "metadata": {
    "id": "b3ba399d",
    "outputId": "6c2960d2-35c7-4552-f1d9-22f260667667"
   },
   "outputs": [
    {
     "data": {
      "text/plain": [
       "order_id                            0\n",
       "customer_id                         0\n",
       "order_status                        0\n",
       "order_purchase_timestamp            0\n",
       "order_approved_at                 160\n",
       "order_delivered_carrier_date     1783\n",
       "order_delivered_customer_date    2965\n",
       "order_estimated_delivery_date       0\n",
       "dtype: int64"
      ]
     },
     "execution_count": 14,
     "metadata": {},
     "output_type": "execute_result"
    }
   ],
   "source": [
    "df_orders.isnull().sum()  # команда isnull() заменит все значения в датасете на True, где пропущено значение \n",
    "                          # и False, где значение есть, затем просто просуммируем булевые значения и узнаем где \n",
    "                          # сколько пропущенных значений"
   ]
  },
  {
   "cell_type": "code",
   "execution_count": null,
   "id": "92d9959a",
   "metadata": {
    "id": "92d9959a",
    "outputId": "25f88487-a840-4246-d8c8-7eb859bfc056"
   },
   "outputs": [
    {
     "name": "stdout",
     "output_type": "stream",
     "text": [
      "<class 'pandas.core.frame.DataFrame'>\n",
      "RangeIndex: 112650 entries, 0 to 112649\n",
      "Data columns (total 7 columns):\n",
      " #   Column               Non-Null Count   Dtype         \n",
      "---  ------               --------------   -----         \n",
      " 0   order_id             112650 non-null  object        \n",
      " 1   order_item_id        112650 non-null  int64         \n",
      " 2   product_id           112650 non-null  object        \n",
      " 3   seller_id            112650 non-null  object        \n",
      " 4   shipping_limit_date  112650 non-null  datetime64[ns]\n",
      " 5   price                112650 non-null  float64       \n",
      " 6   freight_value        112650 non-null  float64       \n",
      "dtypes: datetime64[ns](1), float64(2), int64(1), object(3)\n",
      "memory usage: 6.0+ MB\n"
     ]
    }
   ],
   "source": [
    "df_products.info()"
   ]
  },
  {
   "cell_type": "markdown",
   "id": "f8e05054",
   "metadata": {
    "id": "f8e05054"
   },
   "source": [
    "В таблице с товарными позициями, входящими в заказы 112650 строк и 7 колонок, все типы данных совпадают с описанием колонок, пропущенных значений нет."
   ]
  },
  {
   "cell_type": "markdown",
   "id": "2962a026",
   "metadata": {
    "id": "2962a026"
   },
   "source": [
    "#### Задание № 1. Сколько у нас пользователей, которые совершили покупку только один раз? ####"
   ]
  },
  {
   "cell_type": "markdown",
   "id": "3a79b8f3",
   "metadata": {
    "id": "3a79b8f3"
   },
   "source": [
    "Уникальные статусы заказов в таблице df_orders:\n",
    "\n",
    "    created —  создан\n",
    "    approved —  подтверждён\n",
    "    invoiced —  выставлен счёт\n",
    "    processing —  в процессе сборки заказа\n",
    "    shipped —  отгружен со склада\n",
    "    delivered —  доставлен пользователю\n",
    "    unavailable —  недоступен\n",
    "    canceled —  отменён\n",
    "    \n",
    "Всего уникальных статусов в таблице df_orders у нас 8. С точки зрения покупателя фактом покупки будем считать факт перехода в собственность товара, а значит статус 'delivered'."
   ]
  },
  {
   "cell_type": "code",
   "execution_count": null,
   "id": "01f8499b",
   "metadata": {
    "id": "01f8499b",
    "outputId": "cec9d1c9-f182-499b-ac17-c878f6472f35"
   },
   "outputs": [
    {
     "data": {
      "text/plain": [
       "delivered      96478\n",
       "shipped         1107\n",
       "canceled         625\n",
       "unavailable      609\n",
       "invoiced         314\n",
       "processing       301\n",
       "created            5\n",
       "approved           2\n",
       "Name: order_status, dtype: int64"
      ]
     },
     "execution_count": 15,
     "metadata": {},
     "output_type": "execute_result"
    }
   ],
   "source": [
    "# Проверим количество по статусу заказов\n",
    "df_orders.order_status.value_counts()"
   ]
  },
  {
   "cell_type": "markdown",
   "id": "c067ff52",
   "metadata": {
    "id": "c067ff52"
   },
   "source": [
    "Объединяем две таблицы, с уникальными идентификаторами пользователей и таблицу заказов"
   ]
  },
  {
   "cell_type": "code",
   "execution_count": null,
   "id": "86e2ba84",
   "metadata": {
    "id": "86e2ba84"
   },
   "outputs": [],
   "source": [
    "df_id_orders = df_id.merge(df_orders, on='customer_id')"
   ]
  },
  {
   "cell_type": "code",
   "execution_count": null,
   "id": "d002f890",
   "metadata": {
    "id": "d002f890",
    "outputId": "12573309-e934-44e4-c409-1b88c409f3ab"
   },
   "outputs": [
    {
     "data": {
      "text/plain": [
       "customer_unique_id    90557\n",
       "order_id              90557\n",
       "dtype: int64"
      ]
     },
     "execution_count": 26,
     "metadata": {},
     "output_type": "execute_result"
    }
   ],
   "source": [
    "df_id_orders.query(\"order_status == 'delivered'\") \\\n",
    "    .groupby('customer_unique_id', as_index=False) \\\n",
    "    .agg({'order_id':'count'}) \\\n",
    "    .query(\"order_id == 1\") \\\n",
    "    .count()"
   ]
  },
  {
   "cell_type": "markdown",
   "id": "911bc16f",
   "metadata": {
    "id": "911bc16f"
   },
   "source": [
    "#### 90557 пользователей совершили покупку только один раз ####"
   ]
  },
  {
   "cell_type": "markdown",
   "id": "24e187bb",
   "metadata": {
    "id": "24e187bb"
   },
   "source": [
    "#### 2. Сколько заказов в месяц в среднем не доставляется по разным причинам (вывести детализацию по причинам)? ####"
   ]
  },
  {
   "cell_type": "markdown",
   "id": "102a25bc",
   "metadata": {
    "id": "102a25bc"
   },
   "source": [
    "Посмотрим на заказы со статусом delivered, но с отсутствующей датой доставки."
   ]
  },
  {
   "cell_type": "code",
   "execution_count": null,
   "id": "a6f101cf",
   "metadata": {
    "id": "a6f101cf",
    "outputId": "b338adf1-ede6-4001-e5d4-5d7bbbeb30d4"
   },
   "outputs": [
    {
     "data": {
      "text/html": [
       "<div>\n",
       "<style scoped>\n",
       "    .dataframe tbody tr th:only-of-type {\n",
       "        vertical-align: middle;\n",
       "    }\n",
       "\n",
       "    .dataframe tbody tr th {\n",
       "        vertical-align: top;\n",
       "    }\n",
       "\n",
       "    .dataframe thead th {\n",
       "        text-align: right;\n",
       "    }\n",
       "</style>\n",
       "<table border=\"1\" class=\"dataframe\">\n",
       "  <thead>\n",
       "    <tr style=\"text-align: right;\">\n",
       "      <th></th>\n",
       "      <th>order_id</th>\n",
       "      <th>customer_id</th>\n",
       "      <th>order_status</th>\n",
       "      <th>order_purchase_timestamp</th>\n",
       "      <th>order_approved_at</th>\n",
       "      <th>order_delivered_carrier_date</th>\n",
       "      <th>order_delivered_customer_date</th>\n",
       "      <th>order_estimated_delivery_date</th>\n",
       "    </tr>\n",
       "  </thead>\n",
       "  <tbody>\n",
       "    <tr>\n",
       "      <th>3002</th>\n",
       "      <td>2d1e2d5bf4dc7227b3bfebb81328c15f</td>\n",
       "      <td>ec05a6d8558c6455f0cbbd8a420ad34f</td>\n",
       "      <td>delivered</td>\n",
       "      <td>2017-11-28 17:44:07</td>\n",
       "      <td>2017-11-28 17:56:40</td>\n",
       "      <td>2017-11-30 18:12:23</td>\n",
       "      <td>NaT</td>\n",
       "      <td>2017-12-18</td>\n",
       "    </tr>\n",
       "    <tr>\n",
       "      <th>20618</th>\n",
       "      <td>f5dd62b788049ad9fc0526e3ad11a097</td>\n",
       "      <td>5e89028e024b381dc84a13a3570decb4</td>\n",
       "      <td>delivered</td>\n",
       "      <td>2018-06-20 06:58:43</td>\n",
       "      <td>2018-06-20 07:19:05</td>\n",
       "      <td>2018-06-25 08:05:00</td>\n",
       "      <td>NaT</td>\n",
       "      <td>2018-07-16</td>\n",
       "    </tr>\n",
       "    <tr>\n",
       "      <th>43834</th>\n",
       "      <td>2ebdfc4f15f23b91474edf87475f108e</td>\n",
       "      <td>29f0540231702fda0cfdee0a310f11aa</td>\n",
       "      <td>delivered</td>\n",
       "      <td>2018-07-01 17:05:11</td>\n",
       "      <td>2018-07-01 17:15:12</td>\n",
       "      <td>2018-07-03 13:57:00</td>\n",
       "      <td>NaT</td>\n",
       "      <td>2018-07-30</td>\n",
       "    </tr>\n",
       "    <tr>\n",
       "      <th>79263</th>\n",
       "      <td>e69f75a717d64fc5ecdfae42b2e8e086</td>\n",
       "      <td>cfda40ca8dd0a5d486a9635b611b398a</td>\n",
       "      <td>delivered</td>\n",
       "      <td>2018-07-01 22:05:55</td>\n",
       "      <td>2018-07-01 22:15:14</td>\n",
       "      <td>2018-07-03 13:57:00</td>\n",
       "      <td>NaT</td>\n",
       "      <td>2018-07-30</td>\n",
       "    </tr>\n",
       "    <tr>\n",
       "      <th>82868</th>\n",
       "      <td>0d3268bad9b086af767785e3f0fc0133</td>\n",
       "      <td>4f1d63d35fb7c8999853b2699f5c7649</td>\n",
       "      <td>delivered</td>\n",
       "      <td>2018-07-01 21:14:02</td>\n",
       "      <td>2018-07-01 21:29:54</td>\n",
       "      <td>2018-07-03 09:28:00</td>\n",
       "      <td>NaT</td>\n",
       "      <td>2018-07-24</td>\n",
       "    </tr>\n",
       "    <tr>\n",
       "      <th>92643</th>\n",
       "      <td>2d858f451373b04fb5c984a1cc2defaf</td>\n",
       "      <td>e08caf668d499a6d643dafd7c5cc498a</td>\n",
       "      <td>delivered</td>\n",
       "      <td>2017-05-25 23:22:43</td>\n",
       "      <td>2017-05-25 23:30:16</td>\n",
       "      <td>NaT</td>\n",
       "      <td>NaT</td>\n",
       "      <td>2017-06-23</td>\n",
       "    </tr>\n",
       "    <tr>\n",
       "      <th>97647</th>\n",
       "      <td>ab7c89dc1bf4a1ead9d6ec1ec8968a84</td>\n",
       "      <td>dd1b84a7286eb4524d52af4256c0ba24</td>\n",
       "      <td>delivered</td>\n",
       "      <td>2018-06-08 12:09:39</td>\n",
       "      <td>2018-06-08 12:36:39</td>\n",
       "      <td>2018-06-12 14:10:00</td>\n",
       "      <td>NaT</td>\n",
       "      <td>2018-06-26</td>\n",
       "    </tr>\n",
       "    <tr>\n",
       "      <th>98038</th>\n",
       "      <td>20edc82cf5400ce95e1afacc25798b31</td>\n",
       "      <td>28c37425f1127d887d7337f284080a0f</td>\n",
       "      <td>delivered</td>\n",
       "      <td>2018-06-27 16:09:12</td>\n",
       "      <td>2018-06-27 16:29:30</td>\n",
       "      <td>2018-07-03 19:26:00</td>\n",
       "      <td>NaT</td>\n",
       "      <td>2018-07-19</td>\n",
       "    </tr>\n",
       "  </tbody>\n",
       "</table>\n",
       "</div>"
      ],
      "text/plain": [
       "                               order_id                       customer_id  \\\n",
       "3002   2d1e2d5bf4dc7227b3bfebb81328c15f  ec05a6d8558c6455f0cbbd8a420ad34f   \n",
       "20618  f5dd62b788049ad9fc0526e3ad11a097  5e89028e024b381dc84a13a3570decb4   \n",
       "43834  2ebdfc4f15f23b91474edf87475f108e  29f0540231702fda0cfdee0a310f11aa   \n",
       "79263  e69f75a717d64fc5ecdfae42b2e8e086  cfda40ca8dd0a5d486a9635b611b398a   \n",
       "82868  0d3268bad9b086af767785e3f0fc0133  4f1d63d35fb7c8999853b2699f5c7649   \n",
       "92643  2d858f451373b04fb5c984a1cc2defaf  e08caf668d499a6d643dafd7c5cc498a   \n",
       "97647  ab7c89dc1bf4a1ead9d6ec1ec8968a84  dd1b84a7286eb4524d52af4256c0ba24   \n",
       "98038  20edc82cf5400ce95e1afacc25798b31  28c37425f1127d887d7337f284080a0f   \n",
       "\n",
       "      order_status order_purchase_timestamp   order_approved_at  \\\n",
       "3002     delivered      2017-11-28 17:44:07 2017-11-28 17:56:40   \n",
       "20618    delivered      2018-06-20 06:58:43 2018-06-20 07:19:05   \n",
       "43834    delivered      2018-07-01 17:05:11 2018-07-01 17:15:12   \n",
       "79263    delivered      2018-07-01 22:05:55 2018-07-01 22:15:14   \n",
       "82868    delivered      2018-07-01 21:14:02 2018-07-01 21:29:54   \n",
       "92643    delivered      2017-05-25 23:22:43 2017-05-25 23:30:16   \n",
       "97647    delivered      2018-06-08 12:09:39 2018-06-08 12:36:39   \n",
       "98038    delivered      2018-06-27 16:09:12 2018-06-27 16:29:30   \n",
       "\n",
       "      order_delivered_carrier_date order_delivered_customer_date  \\\n",
       "3002           2017-11-30 18:12:23                           NaT   \n",
       "20618          2018-06-25 08:05:00                           NaT   \n",
       "43834          2018-07-03 13:57:00                           NaT   \n",
       "79263          2018-07-03 13:57:00                           NaT   \n",
       "82868          2018-07-03 09:28:00                           NaT   \n",
       "92643                          NaT                           NaT   \n",
       "97647          2018-06-12 14:10:00                           NaT   \n",
       "98038          2018-07-03 19:26:00                           NaT   \n",
       "\n",
       "      order_estimated_delivery_date  \n",
       "3002                     2017-12-18  \n",
       "20618                    2018-07-16  \n",
       "43834                    2018-07-30  \n",
       "79263                    2018-07-30  \n",
       "82868                    2018-07-24  \n",
       "92643                    2017-06-23  \n",
       "97647                    2018-06-26  \n",
       "98038                    2018-07-19  "
      ]
     },
     "execution_count": 6,
     "metadata": {},
     "output_type": "execute_result"
    }
   ],
   "source": [
    "df_orders.query('order_status == \"delivered\" & order_delivered_customer_date == \"\"')"
   ]
  },
  {
   "cell_type": "markdown",
   "id": "36aedef9",
   "metadata": {
    "id": "36aedef9"
   },
   "source": [
    "Возможно это технический сбой, а возможно дата доставки сформируется после подтверждения получения посылки покупателем.\n",
    "Посмотрим на количество недоставленных заказов по статусам, для этого исключим доставленные."
   ]
  },
  {
   "cell_type": "code",
   "execution_count": null,
   "id": "5e3cc812",
   "metadata": {
    "id": "5e3cc812"
   },
   "outputs": [],
   "source": [
    "df_undelivered = df_orders.query(\"order_status != 'delivered'\")"
   ]
  },
  {
   "cell_type": "code",
   "execution_count": null,
   "id": "732865e9",
   "metadata": {
    "id": "732865e9",
    "outputId": "da5adbe6-e3c6-455a-eaac-354abfa50347"
   },
   "outputs": [
    {
     "data": {
      "text/plain": [
       "shipped        1107\n",
       "canceled        625\n",
       "unavailable     609\n",
       "invoiced        314\n",
       "processing      301\n",
       "created           5\n",
       "approved          2\n",
       "Name: order_status, dtype: int64"
      ]
     },
     "execution_count": 8,
     "metadata": {},
     "output_type": "execute_result"
    }
   ],
   "source": [
    "df_undelivered.order_status.value_counts()"
   ]
  },
  {
   "cell_type": "markdown",
   "id": "4148c1b5",
   "metadata": {
    "id": "4148c1b5"
   },
   "source": [
    "Для начала добавим в новый датасет колонки, в которых будет отображаться информация о месяце и годе покупки."
   ]
  },
  {
   "cell_type": "code",
   "execution_count": null,
   "id": "543e579c",
   "metadata": {
    "id": "543e579c"
   },
   "outputs": [],
   "source": [
    "df_undelivered['order_month'] = df_orders['order_purchase_timestamp'].dt.month\n",
    "df_undelivered['order_year'] = df_orders['order_purchase_timestamp'].dt.year"
   ]
  },
  {
   "cell_type": "code",
   "execution_count": null,
   "id": "f0253658",
   "metadata": {
    "id": "f0253658",
    "outputId": "e0c98111-12c3-46e6-a1d1-654b1d38050d"
   },
   "outputs": [
    {
     "data": {
      "text/html": [
       "<div>\n",
       "<style scoped>\n",
       "    .dataframe tbody tr th:only-of-type {\n",
       "        vertical-align: middle;\n",
       "    }\n",
       "\n",
       "    .dataframe tbody tr th {\n",
       "        vertical-align: top;\n",
       "    }\n",
       "\n",
       "    .dataframe thead th {\n",
       "        text-align: right;\n",
       "    }\n",
       "</style>\n",
       "<table border=\"1\" class=\"dataframe\">\n",
       "  <thead>\n",
       "    <tr style=\"text-align: right;\">\n",
       "      <th></th>\n",
       "      <th>order_id</th>\n",
       "      <th>customer_id</th>\n",
       "      <th>order_status</th>\n",
       "      <th>order_purchase_timestamp</th>\n",
       "      <th>order_approved_at</th>\n",
       "      <th>order_delivered_carrier_date</th>\n",
       "      <th>order_delivered_customer_date</th>\n",
       "      <th>order_estimated_delivery_date</th>\n",
       "      <th>order_month</th>\n",
       "      <th>order_year</th>\n",
       "    </tr>\n",
       "  </thead>\n",
       "  <tbody>\n",
       "    <tr>\n",
       "      <th>6</th>\n",
       "      <td>136cce7faa42fdb2cefd53fdc79a6098</td>\n",
       "      <td>ed0271e0b7da060a393796590e7b737a</td>\n",
       "      <td>invoiced</td>\n",
       "      <td>2017-04-11 12:22:08</td>\n",
       "      <td>2017-04-13 13:25:17</td>\n",
       "      <td>NaT</td>\n",
       "      <td>NaT</td>\n",
       "      <td>2017-05-09</td>\n",
       "      <td>4</td>\n",
       "      <td>2017</td>\n",
       "    </tr>\n",
       "    <tr>\n",
       "      <th>44</th>\n",
       "      <td>ee64d42b8cf066f35eac1cf57de1aa85</td>\n",
       "      <td>caded193e8e47b8362864762a83db3c5</td>\n",
       "      <td>shipped</td>\n",
       "      <td>2018-06-04 16:44:48</td>\n",
       "      <td>2018-06-05 04:31:18</td>\n",
       "      <td>2018-06-05 14:32:00</td>\n",
       "      <td>NaT</td>\n",
       "      <td>2018-06-28</td>\n",
       "      <td>6</td>\n",
       "      <td>2018</td>\n",
       "    </tr>\n",
       "    <tr>\n",
       "      <th>103</th>\n",
       "      <td>0760a852e4e9d89eb77bf631eaaf1c84</td>\n",
       "      <td>d2a79636084590b7465af8ab374a8cf5</td>\n",
       "      <td>invoiced</td>\n",
       "      <td>2018-08-03 17:44:42</td>\n",
       "      <td>2018-08-07 06:15:14</td>\n",
       "      <td>NaT</td>\n",
       "      <td>NaT</td>\n",
       "      <td>2018-08-21</td>\n",
       "      <td>8</td>\n",
       "      <td>2018</td>\n",
       "    </tr>\n",
       "    <tr>\n",
       "      <th>128</th>\n",
       "      <td>15bed8e2fec7fdbadb186b57c46c92f2</td>\n",
       "      <td>f3f0e613e0bdb9c7cee75504f0f90679</td>\n",
       "      <td>processing</td>\n",
       "      <td>2017-09-03 14:22:03</td>\n",
       "      <td>2017-09-03 14:30:09</td>\n",
       "      <td>NaT</td>\n",
       "      <td>NaT</td>\n",
       "      <td>2017-10-03</td>\n",
       "      <td>9</td>\n",
       "      <td>2017</td>\n",
       "    </tr>\n",
       "    <tr>\n",
       "      <th>154</th>\n",
       "      <td>6942b8da583c2f9957e990d028607019</td>\n",
       "      <td>52006a9383bf149a4fb24226b173106f</td>\n",
       "      <td>shipped</td>\n",
       "      <td>2018-01-10 11:33:07</td>\n",
       "      <td>2018-01-11 02:32:30</td>\n",
       "      <td>2018-01-11 19:39:23</td>\n",
       "      <td>NaT</td>\n",
       "      <td>2018-02-07</td>\n",
       "      <td>1</td>\n",
       "      <td>2018</td>\n",
       "    </tr>\n",
       "    <tr>\n",
       "      <th>...</th>\n",
       "      <td>...</td>\n",
       "      <td>...</td>\n",
       "      <td>...</td>\n",
       "      <td>...</td>\n",
       "      <td>...</td>\n",
       "      <td>...</td>\n",
       "      <td>...</td>\n",
       "      <td>...</td>\n",
       "      <td>...</td>\n",
       "      <td>...</td>\n",
       "    </tr>\n",
       "    <tr>\n",
       "      <th>99283</th>\n",
       "      <td>3a3cddda5a7c27851bd96c3313412840</td>\n",
       "      <td>0b0d6095c5555fe083844281f6b093bb</td>\n",
       "      <td>canceled</td>\n",
       "      <td>2018-08-31 16:13:44</td>\n",
       "      <td>NaT</td>\n",
       "      <td>NaT</td>\n",
       "      <td>NaT</td>\n",
       "      <td>2018-10-01</td>\n",
       "      <td>8</td>\n",
       "      <td>2018</td>\n",
       "    </tr>\n",
       "    <tr>\n",
       "      <th>99313</th>\n",
       "      <td>e9e64a17afa9653aacf2616d94c005b8</td>\n",
       "      <td>b4cd0522e632e481f8eaf766a2646e86</td>\n",
       "      <td>processing</td>\n",
       "      <td>2018-01-05 23:07:24</td>\n",
       "      <td>2018-01-09 07:18:05</td>\n",
       "      <td>NaT</td>\n",
       "      <td>NaT</td>\n",
       "      <td>2018-02-06</td>\n",
       "      <td>1</td>\n",
       "      <td>2018</td>\n",
       "    </tr>\n",
       "    <tr>\n",
       "      <th>99347</th>\n",
       "      <td>a89abace0dcc01eeb267a9660b5ac126</td>\n",
       "      <td>2f0524a7b1b3845a1a57fcf3910c4333</td>\n",
       "      <td>canceled</td>\n",
       "      <td>2018-09-06 18:45:47</td>\n",
       "      <td>NaT</td>\n",
       "      <td>NaT</td>\n",
       "      <td>NaT</td>\n",
       "      <td>2018-09-27</td>\n",
       "      <td>9</td>\n",
       "      <td>2018</td>\n",
       "    </tr>\n",
       "    <tr>\n",
       "      <th>99348</th>\n",
       "      <td>a69ba794cc7deb415c3e15a0a3877e69</td>\n",
       "      <td>726f0894b5becdf952ea537d5266e543</td>\n",
       "      <td>unavailable</td>\n",
       "      <td>2017-08-23 16:28:04</td>\n",
       "      <td>2017-08-28 15:44:47</td>\n",
       "      <td>NaT</td>\n",
       "      <td>NaT</td>\n",
       "      <td>2017-09-15</td>\n",
       "      <td>8</td>\n",
       "      <td>2017</td>\n",
       "    </tr>\n",
       "    <tr>\n",
       "      <th>99415</th>\n",
       "      <td>5fabc81b6322c8443648e1b21a6fef21</td>\n",
       "      <td>32c9df889d41b0ee8309a5efb6855dcb</td>\n",
       "      <td>unavailable</td>\n",
       "      <td>2017-10-10 10:50:03</td>\n",
       "      <td>2017-10-14 18:35:57</td>\n",
       "      <td>NaT</td>\n",
       "      <td>NaT</td>\n",
       "      <td>2017-10-23</td>\n",
       "      <td>10</td>\n",
       "      <td>2017</td>\n",
       "    </tr>\n",
       "  </tbody>\n",
       "</table>\n",
       "<p>2963 rows × 10 columns</p>\n",
       "</div>"
      ],
      "text/plain": [
       "                               order_id                       customer_id  \\\n",
       "6      136cce7faa42fdb2cefd53fdc79a6098  ed0271e0b7da060a393796590e7b737a   \n",
       "44     ee64d42b8cf066f35eac1cf57de1aa85  caded193e8e47b8362864762a83db3c5   \n",
       "103    0760a852e4e9d89eb77bf631eaaf1c84  d2a79636084590b7465af8ab374a8cf5   \n",
       "128    15bed8e2fec7fdbadb186b57c46c92f2  f3f0e613e0bdb9c7cee75504f0f90679   \n",
       "154    6942b8da583c2f9957e990d028607019  52006a9383bf149a4fb24226b173106f   \n",
       "...                                 ...                               ...   \n",
       "99283  3a3cddda5a7c27851bd96c3313412840  0b0d6095c5555fe083844281f6b093bb   \n",
       "99313  e9e64a17afa9653aacf2616d94c005b8  b4cd0522e632e481f8eaf766a2646e86   \n",
       "99347  a89abace0dcc01eeb267a9660b5ac126  2f0524a7b1b3845a1a57fcf3910c4333   \n",
       "99348  a69ba794cc7deb415c3e15a0a3877e69  726f0894b5becdf952ea537d5266e543   \n",
       "99415  5fabc81b6322c8443648e1b21a6fef21  32c9df889d41b0ee8309a5efb6855dcb   \n",
       "\n",
       "      order_status order_purchase_timestamp   order_approved_at  \\\n",
       "6         invoiced      2017-04-11 12:22:08 2017-04-13 13:25:17   \n",
       "44         shipped      2018-06-04 16:44:48 2018-06-05 04:31:18   \n",
       "103       invoiced      2018-08-03 17:44:42 2018-08-07 06:15:14   \n",
       "128     processing      2017-09-03 14:22:03 2017-09-03 14:30:09   \n",
       "154        shipped      2018-01-10 11:33:07 2018-01-11 02:32:30   \n",
       "...            ...                      ...                 ...   \n",
       "99283     canceled      2018-08-31 16:13:44                 NaT   \n",
       "99313   processing      2018-01-05 23:07:24 2018-01-09 07:18:05   \n",
       "99347     canceled      2018-09-06 18:45:47                 NaT   \n",
       "99348  unavailable      2017-08-23 16:28:04 2017-08-28 15:44:47   \n",
       "99415  unavailable      2017-10-10 10:50:03 2017-10-14 18:35:57   \n",
       "\n",
       "      order_delivered_carrier_date order_delivered_customer_date  \\\n",
       "6                              NaT                           NaT   \n",
       "44             2018-06-05 14:32:00                           NaT   \n",
       "103                            NaT                           NaT   \n",
       "128                            NaT                           NaT   \n",
       "154            2018-01-11 19:39:23                           NaT   \n",
       "...                            ...                           ...   \n",
       "99283                          NaT                           NaT   \n",
       "99313                          NaT                           NaT   \n",
       "99347                          NaT                           NaT   \n",
       "99348                          NaT                           NaT   \n",
       "99415                          NaT                           NaT   \n",
       "\n",
       "      order_estimated_delivery_date  order_month  order_year  \n",
       "6                        2017-05-09            4        2017  \n",
       "44                       2018-06-28            6        2018  \n",
       "103                      2018-08-21            8        2018  \n",
       "128                      2017-10-03            9        2017  \n",
       "154                      2018-02-07            1        2018  \n",
       "...                             ...          ...         ...  \n",
       "99283                    2018-10-01            8        2018  \n",
       "99313                    2018-02-06            1        2018  \n",
       "99347                    2018-09-27            9        2018  \n",
       "99348                    2017-09-15            8        2017  \n",
       "99415                    2017-10-23           10        2017  \n",
       "\n",
       "[2963 rows x 10 columns]"
      ]
     },
     "execution_count": 18,
     "metadata": {},
     "output_type": "execute_result"
    }
   ],
   "source": [
    "df_undelivered"
   ]
  },
  {
   "cell_type": "markdown",
   "id": "1e3c3786",
   "metadata": {
    "id": "1e3c3786"
   },
   "source": [
    "К недоставленным заказам отнесём заказы, находящиеся в статусах \"canceled\" и \"unavailable\". Так как остальные могут находиться в процессе формирования"
   ]
  },
  {
   "cell_type": "code",
   "execution_count": null,
   "id": "40fb3d28",
   "metadata": {
    "id": "40fb3d28",
    "outputId": "244d2c54-6e3c-49c6-de2f-07c031a18a72"
   },
   "outputs": [
    {
     "name": "stdout",
     "output_type": "stream",
     "text": [
      "canceled 26.04\n",
      "unavailable 29.0\n"
     ]
    }
   ],
   "source": [
    "canceled_by_month = df_undelivered.query(\"order_status == 'canceled'\") \\\n",
    "                                .groupby(['order_month', 'order_year'], as_index=False) \\\n",
    "                                .agg({'order_id': 'count'}) \\\n",
    "                                .mean().round(2)\n",
    "\n",
    "unavailable_by_month = df_undelivered.query(\"order_status == 'unavailable'\") \\\n",
    "                                .groupby(['order_month', 'order_year'], as_index=False) \\\n",
    "                                .agg({'order_id': 'count'}) \\\n",
    "                                .mean().round(2)\n",
    "print('canceled', canceled_by_month.order_id)\n",
    "print('unavailable', unavailable_by_month.order_id)"
   ]
  },
  {
   "cell_type": "markdown",
   "id": "c2501753",
   "metadata": {
    "id": "c2501753"
   },
   "source": [
    "#### Среднее количество недоставленных заказов в месяц по причинам canceled и unavailable:\n",
    "\n",
    "#### canceled     26.04 ####\n",
    "#### unavailable 29.0 #### "
   ]
  },
  {
   "cell_type": "markdown",
   "id": "c8d6a915",
   "metadata": {
    "id": "c8d6a915"
   },
   "source": [
    "\n",
    "#### 3. По каждому товару определить, в какой день недели товар чаще всего покупается."
   ]
  },
  {
   "cell_type": "markdown",
   "id": "e23bd1cc",
   "metadata": {
    "id": "e23bd1cc"
   },
   "source": [
    "Для начала объединим датафрейм с заказами с датафреймом товаров"
   ]
  },
  {
   "cell_type": "code",
   "execution_count": null,
   "id": "b58184b3",
   "metadata": {
    "id": "b58184b3"
   },
   "outputs": [],
   "source": [
    "df_orders_products = df_orders.merge(df_products, on = 'order_id')"
   ]
  },
  {
   "cell_type": "code",
   "execution_count": null,
   "id": "931f7dce",
   "metadata": {
    "id": "931f7dce",
    "outputId": "7df5299e-c113-475a-e9da-6192eb10d914",
    "scrolled": true
   },
   "outputs": [
    {
     "data": {
      "text/html": [
       "<div>\n",
       "<style scoped>\n",
       "    .dataframe tbody tr th:only-of-type {\n",
       "        vertical-align: middle;\n",
       "    }\n",
       "\n",
       "    .dataframe tbody tr th {\n",
       "        vertical-align: top;\n",
       "    }\n",
       "\n",
       "    .dataframe thead th {\n",
       "        text-align: right;\n",
       "    }\n",
       "</style>\n",
       "<table border=\"1\" class=\"dataframe\">\n",
       "  <thead>\n",
       "    <tr style=\"text-align: right;\">\n",
       "      <th></th>\n",
       "      <th>order_id</th>\n",
       "      <th>customer_id</th>\n",
       "      <th>order_status</th>\n",
       "      <th>order_purchase_timestamp</th>\n",
       "      <th>order_approved_at</th>\n",
       "      <th>order_delivered_carrier_date</th>\n",
       "      <th>order_delivered_customer_date</th>\n",
       "      <th>order_estimated_delivery_date</th>\n",
       "      <th>order_item_id</th>\n",
       "      <th>product_id</th>\n",
       "      <th>seller_id</th>\n",
       "      <th>shipping_limit_date</th>\n",
       "      <th>price</th>\n",
       "      <th>freight_value</th>\n",
       "    </tr>\n",
       "  </thead>\n",
       "  <tbody>\n",
       "    <tr>\n",
       "      <th>0</th>\n",
       "      <td>e481f51cbdc54678b7cc49136f2d6af7</td>\n",
       "      <td>9ef432eb6251297304e76186b10a928d</td>\n",
       "      <td>delivered</td>\n",
       "      <td>2017-10-02 10:56:33</td>\n",
       "      <td>2017-10-02 11:07:15</td>\n",
       "      <td>2017-10-04 19:55:00</td>\n",
       "      <td>2017-10-10 21:25:13</td>\n",
       "      <td>2017-10-18</td>\n",
       "      <td>1</td>\n",
       "      <td>87285b34884572647811a353c7ac498a</td>\n",
       "      <td>3504c0cb71d7fa48d967e0e4c94d59d9</td>\n",
       "      <td>2017-10-06 11:07:15</td>\n",
       "      <td>29.99</td>\n",
       "      <td>8.72</td>\n",
       "    </tr>\n",
       "    <tr>\n",
       "      <th>1</th>\n",
       "      <td>53cdb2fc8bc7dce0b6741e2150273451</td>\n",
       "      <td>b0830fb4747a6c6d20dea0b8c802d7ef</td>\n",
       "      <td>delivered</td>\n",
       "      <td>2018-07-24 20:41:37</td>\n",
       "      <td>2018-07-26 03:24:27</td>\n",
       "      <td>2018-07-26 14:31:00</td>\n",
       "      <td>2018-08-07 15:27:45</td>\n",
       "      <td>2018-08-13</td>\n",
       "      <td>1</td>\n",
       "      <td>595fac2a385ac33a80bd5114aec74eb8</td>\n",
       "      <td>289cdb325fb7e7f891c38608bf9e0962</td>\n",
       "      <td>2018-07-30 03:24:27</td>\n",
       "      <td>118.70</td>\n",
       "      <td>22.76</td>\n",
       "    </tr>\n",
       "    <tr>\n",
       "      <th>2</th>\n",
       "      <td>47770eb9100c2d0c44946d9cf07ec65d</td>\n",
       "      <td>41ce2a54c0b03bf3443c3d931a367089</td>\n",
       "      <td>delivered</td>\n",
       "      <td>2018-08-08 08:38:49</td>\n",
       "      <td>2018-08-08 08:55:23</td>\n",
       "      <td>2018-08-08 13:50:00</td>\n",
       "      <td>2018-08-17 18:06:29</td>\n",
       "      <td>2018-09-04</td>\n",
       "      <td>1</td>\n",
       "      <td>aa4383b373c6aca5d8797843e5594415</td>\n",
       "      <td>4869f7a5dfa277a7dca6462dcf3b52b2</td>\n",
       "      <td>2018-08-13 08:55:23</td>\n",
       "      <td>159.90</td>\n",
       "      <td>19.22</td>\n",
       "    </tr>\n",
       "    <tr>\n",
       "      <th>3</th>\n",
       "      <td>949d5b44dbf5de918fe9c16f97b45f8a</td>\n",
       "      <td>f88197465ea7920adcdbec7375364d82</td>\n",
       "      <td>delivered</td>\n",
       "      <td>2017-11-18 19:28:06</td>\n",
       "      <td>2017-11-18 19:45:59</td>\n",
       "      <td>2017-11-22 13:39:59</td>\n",
       "      <td>2017-12-02 00:28:42</td>\n",
       "      <td>2017-12-15</td>\n",
       "      <td>1</td>\n",
       "      <td>d0b61bfb1de832b15ba9d266ca96e5b0</td>\n",
       "      <td>66922902710d126a0e7d26b0e3805106</td>\n",
       "      <td>2017-11-23 19:45:59</td>\n",
       "      <td>45.00</td>\n",
       "      <td>27.20</td>\n",
       "    </tr>\n",
       "    <tr>\n",
       "      <th>4</th>\n",
       "      <td>ad21c59c0840e6cb83a9ceb5573f8159</td>\n",
       "      <td>8ab97904e6daea8866dbdbc4fb7aad2c</td>\n",
       "      <td>delivered</td>\n",
       "      <td>2018-02-13 21:18:39</td>\n",
       "      <td>2018-02-13 22:20:29</td>\n",
       "      <td>2018-02-14 19:46:34</td>\n",
       "      <td>2018-02-16 18:17:02</td>\n",
       "      <td>2018-02-26</td>\n",
       "      <td>1</td>\n",
       "      <td>65266b2da20d04dbe00c5c2d3bb7859e</td>\n",
       "      <td>2c9e548be18521d1c43cde1c582c6de8</td>\n",
       "      <td>2018-02-19 20:31:37</td>\n",
       "      <td>19.90</td>\n",
       "      <td>8.72</td>\n",
       "    </tr>\n",
       "  </tbody>\n",
       "</table>\n",
       "</div>"
      ],
      "text/plain": [
       "                           order_id                       customer_id  \\\n",
       "0  e481f51cbdc54678b7cc49136f2d6af7  9ef432eb6251297304e76186b10a928d   \n",
       "1  53cdb2fc8bc7dce0b6741e2150273451  b0830fb4747a6c6d20dea0b8c802d7ef   \n",
       "2  47770eb9100c2d0c44946d9cf07ec65d  41ce2a54c0b03bf3443c3d931a367089   \n",
       "3  949d5b44dbf5de918fe9c16f97b45f8a  f88197465ea7920adcdbec7375364d82   \n",
       "4  ad21c59c0840e6cb83a9ceb5573f8159  8ab97904e6daea8866dbdbc4fb7aad2c   \n",
       "\n",
       "  order_status order_purchase_timestamp   order_approved_at  \\\n",
       "0    delivered      2017-10-02 10:56:33 2017-10-02 11:07:15   \n",
       "1    delivered      2018-07-24 20:41:37 2018-07-26 03:24:27   \n",
       "2    delivered      2018-08-08 08:38:49 2018-08-08 08:55:23   \n",
       "3    delivered      2017-11-18 19:28:06 2017-11-18 19:45:59   \n",
       "4    delivered      2018-02-13 21:18:39 2018-02-13 22:20:29   \n",
       "\n",
       "  order_delivered_carrier_date order_delivered_customer_date  \\\n",
       "0          2017-10-04 19:55:00           2017-10-10 21:25:13   \n",
       "1          2018-07-26 14:31:00           2018-08-07 15:27:45   \n",
       "2          2018-08-08 13:50:00           2018-08-17 18:06:29   \n",
       "3          2017-11-22 13:39:59           2017-12-02 00:28:42   \n",
       "4          2018-02-14 19:46:34           2018-02-16 18:17:02   \n",
       "\n",
       "  order_estimated_delivery_date  order_item_id  \\\n",
       "0                    2017-10-18              1   \n",
       "1                    2018-08-13              1   \n",
       "2                    2018-09-04              1   \n",
       "3                    2017-12-15              1   \n",
       "4                    2018-02-26              1   \n",
       "\n",
       "                         product_id                         seller_id  \\\n",
       "0  87285b34884572647811a353c7ac498a  3504c0cb71d7fa48d967e0e4c94d59d9   \n",
       "1  595fac2a385ac33a80bd5114aec74eb8  289cdb325fb7e7f891c38608bf9e0962   \n",
       "2  aa4383b373c6aca5d8797843e5594415  4869f7a5dfa277a7dca6462dcf3b52b2   \n",
       "3  d0b61bfb1de832b15ba9d266ca96e5b0  66922902710d126a0e7d26b0e3805106   \n",
       "4  65266b2da20d04dbe00c5c2d3bb7859e  2c9e548be18521d1c43cde1c582c6de8   \n",
       "\n",
       "  shipping_limit_date   price  freight_value  \n",
       "0 2017-10-06 11:07:15   29.99           8.72  \n",
       "1 2018-07-30 03:24:27  118.70          22.76  \n",
       "2 2018-08-13 08:55:23  159.90          19.22  \n",
       "3 2017-11-23 19:45:59   45.00          27.20  \n",
       "4 2018-02-19 20:31:37   19.90           8.72  "
      ]
     },
     "execution_count": 12,
     "metadata": {},
     "output_type": "execute_result"
    }
   ],
   "source": [
    "df_orders_products.head(5)"
   ]
  },
  {
   "cell_type": "markdown",
   "id": "d9da40aa",
   "metadata": {
    "id": "d9da40aa"
   },
   "source": [
    "Проверим лишний раз типы данных в колонках"
   ]
  },
  {
   "cell_type": "code",
   "execution_count": null,
   "id": "bd77f1e7",
   "metadata": {
    "id": "bd77f1e7",
    "outputId": "f3ed6b84-13f2-476e-e5b2-6aacc941a3f1"
   },
   "outputs": [
    {
     "name": "stdout",
     "output_type": "stream",
     "text": [
      "<class 'pandas.core.frame.DataFrame'>\n",
      "Int64Index: 112650 entries, 0 to 112649\n",
      "Data columns (total 14 columns):\n",
      " #   Column                         Non-Null Count   Dtype         \n",
      "---  ------                         --------------   -----         \n",
      " 0   order_id                       112650 non-null  object        \n",
      " 1   customer_id                    112650 non-null  object        \n",
      " 2   order_status                   112650 non-null  object        \n",
      " 3   order_purchase_timestamp       112650 non-null  datetime64[ns]\n",
      " 4   order_approved_at              112635 non-null  datetime64[ns]\n",
      " 5   order_delivered_carrier_date   111456 non-null  datetime64[ns]\n",
      " 6   order_delivered_customer_date  110196 non-null  datetime64[ns]\n",
      " 7   order_estimated_delivery_date  112650 non-null  datetime64[ns]\n",
      " 8   order_item_id                  112650 non-null  int64         \n",
      " 9   product_id                     112650 non-null  object        \n",
      " 10  seller_id                      112650 non-null  object        \n",
      " 11  shipping_limit_date            112650 non-null  datetime64[ns]\n",
      " 12  price                          112650 non-null  float64       \n",
      " 13  freight_value                  112650 non-null  float64       \n",
      "dtypes: datetime64[ns](6), float64(2), int64(1), object(5)\n",
      "memory usage: 12.9+ MB\n"
     ]
    }
   ],
   "source": [
    "df_orders_products.info()"
   ]
  },
  {
   "cell_type": "markdown",
   "id": "96a729fe",
   "metadata": {
    "id": "96a729fe"
   },
   "source": [
    "Нам необходимо сделать колонку с днем недели в который создан заказ. Мы рассматриваем именно с точки зрения покупательской активности."
   ]
  },
  {
   "cell_type": "code",
   "execution_count": null,
   "id": "8844da5c",
   "metadata": {
    "id": "8844da5c",
    "outputId": "628a11a6-5ac1-4eab-f695-cba664342601"
   },
   "outputs": [
    {
     "data": {
      "text/html": [
       "<div>\n",
       "<style scoped>\n",
       "    .dataframe tbody tr th:only-of-type {\n",
       "        vertical-align: middle;\n",
       "    }\n",
       "\n",
       "    .dataframe tbody tr th {\n",
       "        vertical-align: top;\n",
       "    }\n",
       "\n",
       "    .dataframe thead th {\n",
       "        text-align: right;\n",
       "    }\n",
       "</style>\n",
       "<table border=\"1\" class=\"dataframe\">\n",
       "  <thead>\n",
       "    <tr style=\"text-align: right;\">\n",
       "      <th></th>\n",
       "      <th>order_id</th>\n",
       "      <th>customer_id</th>\n",
       "      <th>order_status</th>\n",
       "      <th>order_purchase_timestamp</th>\n",
       "      <th>order_approved_at</th>\n",
       "      <th>order_delivered_carrier_date</th>\n",
       "      <th>order_delivered_customer_date</th>\n",
       "      <th>order_estimated_delivery_date</th>\n",
       "      <th>order_item_id</th>\n",
       "      <th>product_id</th>\n",
       "      <th>seller_id</th>\n",
       "      <th>shipping_limit_date</th>\n",
       "      <th>price</th>\n",
       "      <th>freight_value</th>\n",
       "      <th>purchase_day</th>\n",
       "    </tr>\n",
       "  </thead>\n",
       "  <tbody>\n",
       "    <tr>\n",
       "      <th>0</th>\n",
       "      <td>e481f51cbdc54678b7cc49136f2d6af7</td>\n",
       "      <td>9ef432eb6251297304e76186b10a928d</td>\n",
       "      <td>delivered</td>\n",
       "      <td>2017-10-02 10:56:33</td>\n",
       "      <td>2017-10-02 11:07:15</td>\n",
       "      <td>2017-10-04 19:55:00</td>\n",
       "      <td>2017-10-10 21:25:13</td>\n",
       "      <td>2017-10-18</td>\n",
       "      <td>1</td>\n",
       "      <td>87285b34884572647811a353c7ac498a</td>\n",
       "      <td>3504c0cb71d7fa48d967e0e4c94d59d9</td>\n",
       "      <td>2017-10-06 11:07:15</td>\n",
       "      <td>29.99</td>\n",
       "      <td>8.72</td>\n",
       "      <td>0</td>\n",
       "    </tr>\n",
       "    <tr>\n",
       "      <th>1</th>\n",
       "      <td>53cdb2fc8bc7dce0b6741e2150273451</td>\n",
       "      <td>b0830fb4747a6c6d20dea0b8c802d7ef</td>\n",
       "      <td>delivered</td>\n",
       "      <td>2018-07-24 20:41:37</td>\n",
       "      <td>2018-07-26 03:24:27</td>\n",
       "      <td>2018-07-26 14:31:00</td>\n",
       "      <td>2018-08-07 15:27:45</td>\n",
       "      <td>2018-08-13</td>\n",
       "      <td>1</td>\n",
       "      <td>595fac2a385ac33a80bd5114aec74eb8</td>\n",
       "      <td>289cdb325fb7e7f891c38608bf9e0962</td>\n",
       "      <td>2018-07-30 03:24:27</td>\n",
       "      <td>118.70</td>\n",
       "      <td>22.76</td>\n",
       "      <td>1</td>\n",
       "    </tr>\n",
       "  </tbody>\n",
       "</table>\n",
       "</div>"
      ],
      "text/plain": [
       "                           order_id                       customer_id  \\\n",
       "0  e481f51cbdc54678b7cc49136f2d6af7  9ef432eb6251297304e76186b10a928d   \n",
       "1  53cdb2fc8bc7dce0b6741e2150273451  b0830fb4747a6c6d20dea0b8c802d7ef   \n",
       "\n",
       "  order_status order_purchase_timestamp   order_approved_at  \\\n",
       "0    delivered      2017-10-02 10:56:33 2017-10-02 11:07:15   \n",
       "1    delivered      2018-07-24 20:41:37 2018-07-26 03:24:27   \n",
       "\n",
       "  order_delivered_carrier_date order_delivered_customer_date  \\\n",
       "0          2017-10-04 19:55:00           2017-10-10 21:25:13   \n",
       "1          2018-07-26 14:31:00           2018-08-07 15:27:45   \n",
       "\n",
       "  order_estimated_delivery_date  order_item_id  \\\n",
       "0                    2017-10-18              1   \n",
       "1                    2018-08-13              1   \n",
       "\n",
       "                         product_id                         seller_id  \\\n",
       "0  87285b34884572647811a353c7ac498a  3504c0cb71d7fa48d967e0e4c94d59d9   \n",
       "1  595fac2a385ac33a80bd5114aec74eb8  289cdb325fb7e7f891c38608bf9e0962   \n",
       "\n",
       "  shipping_limit_date   price  freight_value  purchase_day  \n",
       "0 2017-10-06 11:07:15   29.99           8.72             0  \n",
       "1 2018-07-30 03:24:27  118.70          22.76             1  "
      ]
     },
     "execution_count": 14,
     "metadata": {},
     "output_type": "execute_result"
    }
   ],
   "source": [
    "df_orders_products['purchase_day'] = df_orders_products.order_purchase_timestamp.dt.dayofweek\n",
    "df_orders_products.head(2)"
   ]
  },
  {
   "cell_type": "markdown",
   "id": "3b7c745a",
   "metadata": {
    "id": "3b7c745a"
   },
   "source": [
    "Сгруппируем по дням недели и по каждому товару все покупки"
   ]
  },
  {
   "cell_type": "code",
   "execution_count": null,
   "id": "8687d129",
   "metadata": {
    "id": "8687d129",
    "outputId": "20250925-f8ec-4011-fe4a-45481e9dcdfc"
   },
   "outputs": [
    {
     "data": {
      "text/html": [
       "<div>\n",
       "<style scoped>\n",
       "    .dataframe tbody tr th:only-of-type {\n",
       "        vertical-align: middle;\n",
       "    }\n",
       "\n",
       "    .dataframe tbody tr th {\n",
       "        vertical-align: top;\n",
       "    }\n",
       "\n",
       "    .dataframe thead th {\n",
       "        text-align: right;\n",
       "    }\n",
       "</style>\n",
       "<table border=\"1\" class=\"dataframe\">\n",
       "  <thead>\n",
       "    <tr style=\"text-align: right;\">\n",
       "      <th></th>\n",
       "      <th>product_id</th>\n",
       "      <th>purchase_day</th>\n",
       "      <th>quantity</th>\n",
       "    </tr>\n",
       "  </thead>\n",
       "  <tbody>\n",
       "    <tr>\n",
       "      <th>0</th>\n",
       "      <td>00066f42aeeb9f3007548bb9d3f33c38</td>\n",
       "      <td>6</td>\n",
       "      <td>1</td>\n",
       "    </tr>\n",
       "    <tr>\n",
       "      <th>1</th>\n",
       "      <td>00088930e925c41fd95ebfe695fd2655</td>\n",
       "      <td>1</td>\n",
       "      <td>1</td>\n",
       "    </tr>\n",
       "    <tr>\n",
       "      <th>2</th>\n",
       "      <td>0009406fd7479715e4bef61dd91f2462</td>\n",
       "      <td>3</td>\n",
       "      <td>1</td>\n",
       "    </tr>\n",
       "    <tr>\n",
       "      <th>3</th>\n",
       "      <td>000b8f95fcb9e0096488278317764d19</td>\n",
       "      <td>2</td>\n",
       "      <td>1</td>\n",
       "    </tr>\n",
       "    <tr>\n",
       "      <th>4</th>\n",
       "      <td>000b8f95fcb9e0096488278317764d19</td>\n",
       "      <td>4</td>\n",
       "      <td>1</td>\n",
       "    </tr>\n",
       "    <tr>\n",
       "      <th>...</th>\n",
       "      <td>...</td>\n",
       "      <td>...</td>\n",
       "      <td>...</td>\n",
       "    </tr>\n",
       "    <tr>\n",
       "      <th>61225</th>\n",
       "      <td>fffdb2d0ec8d6a61f0a0a0db3f25b441</td>\n",
       "      <td>1</td>\n",
       "      <td>2</td>\n",
       "    </tr>\n",
       "    <tr>\n",
       "      <th>61226</th>\n",
       "      <td>fffdb2d0ec8d6a61f0a0a0db3f25b441</td>\n",
       "      <td>3</td>\n",
       "      <td>1</td>\n",
       "    </tr>\n",
       "    <tr>\n",
       "      <th>61227</th>\n",
       "      <td>fffdb2d0ec8d6a61f0a0a0db3f25b441</td>\n",
       "      <td>4</td>\n",
       "      <td>1</td>\n",
       "    </tr>\n",
       "    <tr>\n",
       "      <th>61228</th>\n",
       "      <td>fffdb2d0ec8d6a61f0a0a0db3f25b441</td>\n",
       "      <td>6</td>\n",
       "      <td>1</td>\n",
       "    </tr>\n",
       "    <tr>\n",
       "      <th>61229</th>\n",
       "      <td>fffe9eeff12fcbd74a2f2b007dde0c58</td>\n",
       "      <td>2</td>\n",
       "      <td>1</td>\n",
       "    </tr>\n",
       "  </tbody>\n",
       "</table>\n",
       "<p>61230 rows × 3 columns</p>\n",
       "</div>"
      ],
      "text/plain": [
       "                             product_id  purchase_day  quantity\n",
       "0      00066f42aeeb9f3007548bb9d3f33c38             6         1\n",
       "1      00088930e925c41fd95ebfe695fd2655             1         1\n",
       "2      0009406fd7479715e4bef61dd91f2462             3         1\n",
       "3      000b8f95fcb9e0096488278317764d19             2         1\n",
       "4      000b8f95fcb9e0096488278317764d19             4         1\n",
       "...                                 ...           ...       ...\n",
       "61225  fffdb2d0ec8d6a61f0a0a0db3f25b441             1         2\n",
       "61226  fffdb2d0ec8d6a61f0a0a0db3f25b441             3         1\n",
       "61227  fffdb2d0ec8d6a61f0a0a0db3f25b441             4         1\n",
       "61228  fffdb2d0ec8d6a61f0a0a0db3f25b441             6         1\n",
       "61229  fffe9eeff12fcbd74a2f2b007dde0c58             2         1\n",
       "\n",
       "[61230 rows x 3 columns]"
      ]
     },
     "execution_count": 15,
     "metadata": {},
     "output_type": "execute_result"
    }
   ],
   "source": [
    "df_goods_per_day = df_orders_products.groupby(['product_id','purchase_day'], as_index = False) \\\n",
    "            .agg({'order_id':'count'}) \\\n",
    "            .rename(columns = {'order_id':'quantity'})\n",
    "df_goods_per_day"
   ]
  },
  {
   "cell_type": "markdown",
   "id": "fbd6001f",
   "metadata": {
    "id": "fbd6001f"
   },
   "source": [
    "Теперь выясним максимальное количество купленных товаров"
   ]
  },
  {
   "cell_type": "code",
   "execution_count": null,
   "id": "b6facdc3",
   "metadata": {
    "id": "b6facdc3",
    "outputId": "30cced33-1a5f-4dd7-a6fc-924d5036f249"
   },
   "outputs": [
    {
     "data": {
      "text/html": [
       "<div>\n",
       "<style scoped>\n",
       "    .dataframe tbody tr th:only-of-type {\n",
       "        vertical-align: middle;\n",
       "    }\n",
       "\n",
       "    .dataframe tbody tr th {\n",
       "        vertical-align: top;\n",
       "    }\n",
       "\n",
       "    .dataframe thead th {\n",
       "        text-align: right;\n",
       "    }\n",
       "</style>\n",
       "<table border=\"1\" class=\"dataframe\">\n",
       "  <thead>\n",
       "    <tr style=\"text-align: right;\">\n",
       "      <th></th>\n",
       "      <th>product_id</th>\n",
       "      <th>quantity</th>\n",
       "    </tr>\n",
       "  </thead>\n",
       "  <tbody>\n",
       "    <tr>\n",
       "      <th>8613</th>\n",
       "      <td>422879e10f46682990de24d770e7f83d</td>\n",
       "      <td>93</td>\n",
       "    </tr>\n",
       "    <tr>\n",
       "      <th>19742</th>\n",
       "      <td>99a4788cb24856965c36a24e339b6058</td>\n",
       "      <td>92</td>\n",
       "    </tr>\n",
       "    <tr>\n",
       "      <th>22112</th>\n",
       "      <td>aca2eb7d00ea1a7b8ebd4e68314663af</td>\n",
       "      <td>89</td>\n",
       "    </tr>\n",
       "    <tr>\n",
       "      <th>10867</th>\n",
       "      <td>53b36df67ebb7c41585e8d54d6772e08</td>\n",
       "      <td>76</td>\n",
       "    </tr>\n",
       "    <tr>\n",
       "      <th>7079</th>\n",
       "      <td>368c6c730842d78016ad823897a372db</td>\n",
       "      <td>67</td>\n",
       "    </tr>\n",
       "    <tr>\n",
       "      <th>...</th>\n",
       "      <td>...</td>\n",
       "      <td>...</td>\n",
       "    </tr>\n",
       "    <tr>\n",
       "      <th>12761</th>\n",
       "      <td>62b07aff118f62756ee579afeedc3eb0</td>\n",
       "      <td>1</td>\n",
       "    </tr>\n",
       "    <tr>\n",
       "      <th>12760</th>\n",
       "      <td>62ae6a8f5789aec14529a277c7516def</td>\n",
       "      <td>1</td>\n",
       "    </tr>\n",
       "    <tr>\n",
       "      <th>12758</th>\n",
       "      <td>62abef05dddbd149514e4339c84f7d7d</td>\n",
       "      <td>1</td>\n",
       "    </tr>\n",
       "    <tr>\n",
       "      <th>12757</th>\n",
       "      <td>62a6991adbb1e60f5c03a77fae5568ff</td>\n",
       "      <td>1</td>\n",
       "    </tr>\n",
       "    <tr>\n",
       "      <th>32950</th>\n",
       "      <td>fffe9eeff12fcbd74a2f2b007dde0c58</td>\n",
       "      <td>1</td>\n",
       "    </tr>\n",
       "  </tbody>\n",
       "</table>\n",
       "<p>32951 rows × 2 columns</p>\n",
       "</div>"
      ],
      "text/plain": [
       "                             product_id  quantity\n",
       "8613   422879e10f46682990de24d770e7f83d        93\n",
       "19742  99a4788cb24856965c36a24e339b6058        92\n",
       "22112  aca2eb7d00ea1a7b8ebd4e68314663af        89\n",
       "10867  53b36df67ebb7c41585e8d54d6772e08        76\n",
       "7079   368c6c730842d78016ad823897a372db        67\n",
       "...                                 ...       ...\n",
       "12761  62b07aff118f62756ee579afeedc3eb0         1\n",
       "12760  62ae6a8f5789aec14529a277c7516def         1\n",
       "12758  62abef05dddbd149514e4339c84f7d7d         1\n",
       "12757  62a6991adbb1e60f5c03a77fae5568ff         1\n",
       "32950  fffe9eeff12fcbd74a2f2b007dde0c58         1\n",
       "\n",
       "[32951 rows x 2 columns]"
      ]
     },
     "execution_count": 16,
     "metadata": {},
     "output_type": "execute_result"
    }
   ],
   "source": [
    "df_goods_maximum = df_goods_per_day.groupby(['product_id'], as_index = False) \\\n",
    "                                    .quantity.max() \\\n",
    "                                    .sort_values('quantity', ascending = False)\n",
    "df_goods_maximum"
   ]
  },
  {
   "cell_type": "markdown",
   "id": "8a18d680",
   "metadata": {
    "id": "8a18d680"
   },
   "source": [
    "Нам осталось выяснить в какой день недели это было сделано. Для этого объединим последние данные."
   ]
  },
  {
   "cell_type": "code",
   "execution_count": null,
   "id": "8107bad5",
   "metadata": {
    "id": "8107bad5"
   },
   "outputs": [],
   "source": [
    "max_goods_per_day = df_goods_maximum.merge(df_goods_per_day, on = ['product_id', 'quantity'])"
   ]
  },
  {
   "cell_type": "markdown",
   "id": "180646c4",
   "metadata": {
    "id": "180646c4"
   },
   "source": [
    "Посмотрим на топ 10 продаваемых товаров и в какие дни они продавались в таком количестве."
   ]
  },
  {
   "cell_type": "code",
   "execution_count": null,
   "id": "5cacd67b",
   "metadata": {
    "id": "5cacd67b",
    "outputId": "638db49d-c016-4803-ac0d-5da3e6d191c5"
   },
   "outputs": [
    {
     "data": {
      "text/html": [
       "<div>\n",
       "<style scoped>\n",
       "    .dataframe tbody tr th:only-of-type {\n",
       "        vertical-align: middle;\n",
       "    }\n",
       "\n",
       "    .dataframe tbody tr th {\n",
       "        vertical-align: top;\n",
       "    }\n",
       "\n",
       "    .dataframe thead th {\n",
       "        text-align: right;\n",
       "    }\n",
       "</style>\n",
       "<table border=\"1\" class=\"dataframe\">\n",
       "  <thead>\n",
       "    <tr style=\"text-align: right;\">\n",
       "      <th></th>\n",
       "      <th>product_id</th>\n",
       "      <th>quantity</th>\n",
       "      <th>purchase_day</th>\n",
       "    </tr>\n",
       "  </thead>\n",
       "  <tbody>\n",
       "    <tr>\n",
       "      <th>0</th>\n",
       "      <td>422879e10f46682990de24d770e7f83d</td>\n",
       "      <td>93</td>\n",
       "      <td>2</td>\n",
       "    </tr>\n",
       "    <tr>\n",
       "      <th>1</th>\n",
       "      <td>99a4788cb24856965c36a24e339b6058</td>\n",
       "      <td>92</td>\n",
       "      <td>0</td>\n",
       "    </tr>\n",
       "    <tr>\n",
       "      <th>2</th>\n",
       "      <td>aca2eb7d00ea1a7b8ebd4e68314663af</td>\n",
       "      <td>89</td>\n",
       "      <td>3</td>\n",
       "    </tr>\n",
       "    <tr>\n",
       "      <th>3</th>\n",
       "      <td>53b36df67ebb7c41585e8d54d6772e08</td>\n",
       "      <td>76</td>\n",
       "      <td>1</td>\n",
       "    </tr>\n",
       "    <tr>\n",
       "      <th>4</th>\n",
       "      <td>368c6c730842d78016ad823897a372db</td>\n",
       "      <td>67</td>\n",
       "      <td>4</td>\n",
       "    </tr>\n",
       "    <tr>\n",
       "      <th>5</th>\n",
       "      <td>389d119b48cf3043d311335e499d9c6b</td>\n",
       "      <td>67</td>\n",
       "      <td>3</td>\n",
       "    </tr>\n",
       "    <tr>\n",
       "      <th>6</th>\n",
       "      <td>53759a2ecddad2bb87a079a1f1519f73</td>\n",
       "      <td>66</td>\n",
       "      <td>2</td>\n",
       "    </tr>\n",
       "    <tr>\n",
       "      <th>7</th>\n",
       "      <td>d1c427060a0f73f6b889a5c7c61f2ac4</td>\n",
       "      <td>64</td>\n",
       "      <td>0</td>\n",
       "    </tr>\n",
       "    <tr>\n",
       "      <th>8</th>\n",
       "      <td>3dd2a17168ec895c781a9191c1e95ad7</td>\n",
       "      <td>54</td>\n",
       "      <td>2</td>\n",
       "    </tr>\n",
       "    <tr>\n",
       "      <th>9</th>\n",
       "      <td>a62e25e09e05e6faf31d90c6ec1aa3d1</td>\n",
       "      <td>50</td>\n",
       "      <td>3</td>\n",
       "    </tr>\n",
       "  </tbody>\n",
       "</table>\n",
       "</div>"
      ],
      "text/plain": [
       "                         product_id  quantity  purchase_day\n",
       "0  422879e10f46682990de24d770e7f83d        93             2\n",
       "1  99a4788cb24856965c36a24e339b6058        92             0\n",
       "2  aca2eb7d00ea1a7b8ebd4e68314663af        89             3\n",
       "3  53b36df67ebb7c41585e8d54d6772e08        76             1\n",
       "4  368c6c730842d78016ad823897a372db        67             4\n",
       "5  389d119b48cf3043d311335e499d9c6b        67             3\n",
       "6  53759a2ecddad2bb87a079a1f1519f73        66             2\n",
       "7  d1c427060a0f73f6b889a5c7c61f2ac4        64             0\n",
       "8  3dd2a17168ec895c781a9191c1e95ad7        54             2\n",
       "9  a62e25e09e05e6faf31d90c6ec1aa3d1        50             3"
      ]
     },
     "execution_count": 18,
     "metadata": {},
     "output_type": "execute_result"
    }
   ],
   "source": [
    "max_goods_per_day.head(10)"
   ]
  },
  {
   "cell_type": "markdown",
   "id": "487019d6",
   "metadata": {
    "id": "487019d6"
   },
   "source": [
    "#### Максимальное количество товаров купленное в какой-либо из дней недели:\n",
    "#### Первое место за товаром с id 422879e10f46682990de24d770e7f83d , его купили 93 штуки в среду\n",
    "#### Второе место в нашем рейтинге за товаром с id 99a4788cb24856965c36a24e339b6058 , его купили 92 штуки в понедельник\n",
    "#### Третье место занимает товар с id aca2eb7d00ea1a7b8ebd4e68314663af , его приобрели 89 штук в четверг\n",
    "#### Дальнейший рейтинг можно посмотреть непосредственно в самой выборке max_goods_per_day"
   ]
  },
  {
   "cell_type": "markdown",
   "id": "50b86735",
   "metadata": {
    "id": "50b86735"
   },
   "source": [
    "\n",
    "\n",
    "#### 4. Сколько у каждого из пользователей в среднем покупок в неделю (по месяцам)? Не стоит забывать, что внутри месяца может быть не целое количество недель. \n",
    "Например, в ноябре 2021 года 4,28 недели. И внутри метрики это нужно учесть."
   ]
  },
  {
   "cell_type": "markdown",
   "id": "7d80f481",
   "metadata": {
    "id": "7d80f481"
   },
   "source": [
    "Для определения среднего количества покупок в неделю будем брать время создания заказа, мы же продолжаем анализировать покупательскую активность."
   ]
  },
  {
   "cell_type": "markdown",
   "id": "7bfa7193",
   "metadata": {
    "id": "7bfa7193"
   },
   "source": [
    "Формировать новый датасет не имеет смысла. Возьмем датасет из первого задания, в котором объединили таблицу с данными о покупателях и таблицу с данными о заказах."
   ]
  },
  {
   "cell_type": "code",
   "execution_count": null,
   "id": "dcc42411",
   "metadata": {
    "id": "dcc42411",
    "outputId": "f20a3106-24be-4b2a-8d31-1c832ebc18ae"
   },
   "outputs": [
    {
     "data": {
      "text/html": [
       "<div>\n",
       "<style scoped>\n",
       "    .dataframe tbody tr th:only-of-type {\n",
       "        vertical-align: middle;\n",
       "    }\n",
       "\n",
       "    .dataframe tbody tr th {\n",
       "        vertical-align: top;\n",
       "    }\n",
       "\n",
       "    .dataframe thead th {\n",
       "        text-align: right;\n",
       "    }\n",
       "</style>\n",
       "<table border=\"1\" class=\"dataframe\">\n",
       "  <thead>\n",
       "    <tr style=\"text-align: right;\">\n",
       "      <th></th>\n",
       "      <th>customer_id</th>\n",
       "      <th>customer_unique_id</th>\n",
       "      <th>customer_zip_code_prefix</th>\n",
       "      <th>customer_city</th>\n",
       "      <th>customer_state</th>\n",
       "      <th>order_id</th>\n",
       "      <th>order_status</th>\n",
       "      <th>order_purchase_timestamp</th>\n",
       "      <th>order_approved_at</th>\n",
       "      <th>order_delivered_carrier_date</th>\n",
       "      <th>order_delivered_customer_date</th>\n",
       "      <th>order_estimated_delivery_date</th>\n",
       "    </tr>\n",
       "  </thead>\n",
       "  <tbody>\n",
       "    <tr>\n",
       "      <th>0</th>\n",
       "      <td>06b8999e2fba1a1fbc88172c00ba8bc7</td>\n",
       "      <td>861eff4711a542e4b93843c6dd7febb0</td>\n",
       "      <td>14409</td>\n",
       "      <td>franca</td>\n",
       "      <td>SP</td>\n",
       "      <td>00e7ee1b050b8499577073aeb2a297a1</td>\n",
       "      <td>delivered</td>\n",
       "      <td>2017-05-16 15:05:35</td>\n",
       "      <td>2017-05-16 15:22:12</td>\n",
       "      <td>2017-05-23 10:47:57</td>\n",
       "      <td>2017-05-25 10:35:35</td>\n",
       "      <td>2017-06-05</td>\n",
       "    </tr>\n",
       "    <tr>\n",
       "      <th>1</th>\n",
       "      <td>18955e83d337fd6b2def6b18a428ac77</td>\n",
       "      <td>290c77bc529b7ac935b93aa66c333dc3</td>\n",
       "      <td>9790</td>\n",
       "      <td>sao bernardo do campo</td>\n",
       "      <td>SP</td>\n",
       "      <td>29150127e6685892b6eab3eec79f59c7</td>\n",
       "      <td>delivered</td>\n",
       "      <td>2018-01-12 20:48:24</td>\n",
       "      <td>2018-01-12 20:58:32</td>\n",
       "      <td>2018-01-15 17:14:59</td>\n",
       "      <td>2018-01-29 12:41:19</td>\n",
       "      <td>2018-02-06</td>\n",
       "    </tr>\n",
       "    <tr>\n",
       "      <th>2</th>\n",
       "      <td>4e7b3e00288586ebd08712fdd0374a03</td>\n",
       "      <td>060e732b5b29e8181a18229c7b0b2b5e</td>\n",
       "      <td>1151</td>\n",
       "      <td>sao paulo</td>\n",
       "      <td>SP</td>\n",
       "      <td>b2059ed67ce144a36e2aa97d2c9e9ad2</td>\n",
       "      <td>delivered</td>\n",
       "      <td>2018-05-19 16:07:45</td>\n",
       "      <td>2018-05-20 16:19:10</td>\n",
       "      <td>2018-06-11 14:31:00</td>\n",
       "      <td>2018-06-14 17:58:51</td>\n",
       "      <td>2018-06-13</td>\n",
       "    </tr>\n",
       "    <tr>\n",
       "      <th>3</th>\n",
       "      <td>b2b6027bc5c5109e529d4dc6358b12c3</td>\n",
       "      <td>259dac757896d24d7702b9acbbff3f3c</td>\n",
       "      <td>8775</td>\n",
       "      <td>mogi das cruzes</td>\n",
       "      <td>SP</td>\n",
       "      <td>951670f92359f4fe4a63112aa7306eba</td>\n",
       "      <td>delivered</td>\n",
       "      <td>2018-03-13 16:06:38</td>\n",
       "      <td>2018-03-13 17:29:19</td>\n",
       "      <td>2018-03-27 23:22:42</td>\n",
       "      <td>2018-03-28 16:04:25</td>\n",
       "      <td>2018-04-10</td>\n",
       "    </tr>\n",
       "    <tr>\n",
       "      <th>4</th>\n",
       "      <td>4f2d8ab171c80ec8364f7c12e35b23ad</td>\n",
       "      <td>345ecd01c38d18a9036ed96c73b8d066</td>\n",
       "      <td>13056</td>\n",
       "      <td>campinas</td>\n",
       "      <td>SP</td>\n",
       "      <td>6b7d50bd145f6fc7f33cebabd7e49d0f</td>\n",
       "      <td>delivered</td>\n",
       "      <td>2018-07-29 09:51:30</td>\n",
       "      <td>2018-07-29 10:10:09</td>\n",
       "      <td>2018-07-30 15:16:00</td>\n",
       "      <td>2018-08-09 20:55:48</td>\n",
       "      <td>2018-08-15</td>\n",
       "    </tr>\n",
       "  </tbody>\n",
       "</table>\n",
       "</div>"
      ],
      "text/plain": [
       "                        customer_id                customer_unique_id  \\\n",
       "0  06b8999e2fba1a1fbc88172c00ba8bc7  861eff4711a542e4b93843c6dd7febb0   \n",
       "1  18955e83d337fd6b2def6b18a428ac77  290c77bc529b7ac935b93aa66c333dc3   \n",
       "2  4e7b3e00288586ebd08712fdd0374a03  060e732b5b29e8181a18229c7b0b2b5e   \n",
       "3  b2b6027bc5c5109e529d4dc6358b12c3  259dac757896d24d7702b9acbbff3f3c   \n",
       "4  4f2d8ab171c80ec8364f7c12e35b23ad  345ecd01c38d18a9036ed96c73b8d066   \n",
       "\n",
       "   customer_zip_code_prefix          customer_city customer_state  \\\n",
       "0                     14409                 franca             SP   \n",
       "1                      9790  sao bernardo do campo             SP   \n",
       "2                      1151              sao paulo             SP   \n",
       "3                      8775        mogi das cruzes             SP   \n",
       "4                     13056               campinas             SP   \n",
       "\n",
       "                           order_id order_status order_purchase_timestamp  \\\n",
       "0  00e7ee1b050b8499577073aeb2a297a1    delivered      2017-05-16 15:05:35   \n",
       "1  29150127e6685892b6eab3eec79f59c7    delivered      2018-01-12 20:48:24   \n",
       "2  b2059ed67ce144a36e2aa97d2c9e9ad2    delivered      2018-05-19 16:07:45   \n",
       "3  951670f92359f4fe4a63112aa7306eba    delivered      2018-03-13 16:06:38   \n",
       "4  6b7d50bd145f6fc7f33cebabd7e49d0f    delivered      2018-07-29 09:51:30   \n",
       "\n",
       "    order_approved_at order_delivered_carrier_date  \\\n",
       "0 2017-05-16 15:22:12          2017-05-23 10:47:57   \n",
       "1 2018-01-12 20:58:32          2018-01-15 17:14:59   \n",
       "2 2018-05-20 16:19:10          2018-06-11 14:31:00   \n",
       "3 2018-03-13 17:29:19          2018-03-27 23:22:42   \n",
       "4 2018-07-29 10:10:09          2018-07-30 15:16:00   \n",
       "\n",
       "  order_delivered_customer_date order_estimated_delivery_date  \n",
       "0           2017-05-25 10:35:35                    2017-06-05  \n",
       "1           2018-01-29 12:41:19                    2018-02-06  \n",
       "2           2018-06-14 17:58:51                    2018-06-13  \n",
       "3           2018-03-28 16:04:25                    2018-04-10  \n",
       "4           2018-08-09 20:55:48                    2018-08-15  "
      ]
     },
     "execution_count": 19,
     "metadata": {},
     "output_type": "execute_result"
    }
   ],
   "source": [
    "df_id_orders.head()"
   ]
  },
  {
   "cell_type": "markdown",
   "id": "8ee34cff",
   "metadata": {
    "id": "8ee34cff"
   },
   "source": [
    "Необходимо создать колонку с месяцем и годом покупки."
   ]
  },
  {
   "cell_type": "code",
   "execution_count": null,
   "id": "bd69c1fe",
   "metadata": {
    "id": "bd69c1fe"
   },
   "outputs": [],
   "source": [
    "df_id_orders[\"month_year\"] = df_id_orders.order_purchase_timestamp.dt.to_period(\"M\")"
   ]
  },
  {
   "cell_type": "code",
   "execution_count": null,
   "id": "381cc63e",
   "metadata": {
    "id": "381cc63e",
    "outputId": "65bd9d0f-5334-4fea-a62e-b6ef1a12e717"
   },
   "outputs": [
    {
     "data": {
      "text/html": [
       "<div>\n",
       "<style scoped>\n",
       "    .dataframe tbody tr th:only-of-type {\n",
       "        vertical-align: middle;\n",
       "    }\n",
       "\n",
       "    .dataframe tbody tr th {\n",
       "        vertical-align: top;\n",
       "    }\n",
       "\n",
       "    .dataframe thead th {\n",
       "        text-align: right;\n",
       "    }\n",
       "</style>\n",
       "<table border=\"1\" class=\"dataframe\">\n",
       "  <thead>\n",
       "    <tr style=\"text-align: right;\">\n",
       "      <th></th>\n",
       "      <th>customer_id</th>\n",
       "      <th>customer_unique_id</th>\n",
       "      <th>customer_zip_code_prefix</th>\n",
       "      <th>customer_city</th>\n",
       "      <th>customer_state</th>\n",
       "      <th>order_id</th>\n",
       "      <th>order_status</th>\n",
       "      <th>order_purchase_timestamp</th>\n",
       "      <th>order_approved_at</th>\n",
       "      <th>order_delivered_carrier_date</th>\n",
       "      <th>order_delivered_customer_date</th>\n",
       "      <th>order_estimated_delivery_date</th>\n",
       "      <th>month_year</th>\n",
       "    </tr>\n",
       "  </thead>\n",
       "  <tbody>\n",
       "    <tr>\n",
       "      <th>84697</th>\n",
       "      <td>08c5351a6aca1c1589a38f244edeee9d</td>\n",
       "      <td>b7d76e111c89f7ebf14761390f0f7d17</td>\n",
       "      <td>69309</td>\n",
       "      <td>boa vista</td>\n",
       "      <td>RR</td>\n",
       "      <td>2e7a8482f6fb09756ca50c10d7bfc047</td>\n",
       "      <td>shipped</td>\n",
       "      <td>2016-09-04 21:15:19</td>\n",
       "      <td>2016-10-07 13:18:03</td>\n",
       "      <td>2016-10-18 13:14:51</td>\n",
       "      <td>NaT</td>\n",
       "      <td>2016-10-20</td>\n",
       "      <td>2016-09</td>\n",
       "    </tr>\n",
       "    <tr>\n",
       "      <th>21125</th>\n",
       "      <td>86dc2ffce2dfff336de2f386a786e574</td>\n",
       "      <td>830d5b7aaa3b6f1e9ad63703bec97d23</td>\n",
       "      <td>14600</td>\n",
       "      <td>sao joaquim da barra</td>\n",
       "      <td>SP</td>\n",
       "      <td>bfbd0f9bdef84302105ad712db648a6c</td>\n",
       "      <td>delivered</td>\n",
       "      <td>2016-09-15 12:16:38</td>\n",
       "      <td>2016-09-15 12:16:38</td>\n",
       "      <td>2016-11-07 17:11:53</td>\n",
       "      <td>2016-11-09 07:47:38</td>\n",
       "      <td>2016-10-04</td>\n",
       "      <td>2016-09</td>\n",
       "    </tr>\n",
       "    <tr>\n",
       "      <th>70561</th>\n",
       "      <td>683c54fc24d40ee9f8a6fc179fd9856c</td>\n",
       "      <td>4854e9b3feff728c13ee5fc7d1547e92</td>\n",
       "      <td>99025</td>\n",
       "      <td>passo fundo</td>\n",
       "      <td>RS</td>\n",
       "      <td>e5fa5a7210941f7d56d0208e4e071d35</td>\n",
       "      <td>canceled</td>\n",
       "      <td>2016-09-05 00:15:34</td>\n",
       "      <td>2016-10-07 13:17:15</td>\n",
       "      <td>NaT</td>\n",
       "      <td>NaT</td>\n",
       "      <td>2016-10-28</td>\n",
       "      <td>2016-09</td>\n",
       "    </tr>\n",
       "    <tr>\n",
       "      <th>84845</th>\n",
       "      <td>622e13439d6b5a0b486c435618b2679e</td>\n",
       "      <td>009b0127b727ab0ba422f6d9604487c7</td>\n",
       "      <td>12244</td>\n",
       "      <td>sao jose dos campos</td>\n",
       "      <td>SP</td>\n",
       "      <td>809a282bbd5dbcabb6f2f724fca862ec</td>\n",
       "      <td>canceled</td>\n",
       "      <td>2016-09-13 15:24:19</td>\n",
       "      <td>2016-10-07 13:16:46</td>\n",
       "      <td>NaT</td>\n",
       "      <td>NaT</td>\n",
       "      <td>2016-09-30</td>\n",
       "      <td>2016-09</td>\n",
       "    </tr>\n",
       "    <tr>\n",
       "      <th>77451</th>\n",
       "      <td>cee53b7d3dd56da687a4fa61c6ce8d32</td>\n",
       "      <td>4403513209514871ac9d0fd681f7cdb5</td>\n",
       "      <td>6703</td>\n",
       "      <td>cotia</td>\n",
       "      <td>SP</td>\n",
       "      <td>1069874467b6a425853288c450f68fc9</td>\n",
       "      <td>delivered</td>\n",
       "      <td>2016-10-07 22:51:32</td>\n",
       "      <td>2016-10-07 23:13:46</td>\n",
       "      <td>2016-10-11 23:13:46</td>\n",
       "      <td>2016-10-28 13:51:23</td>\n",
       "      <td>2016-11-29</td>\n",
       "      <td>2016-10</td>\n",
       "    </tr>\n",
       "    <tr>\n",
       "      <th>...</th>\n",
       "      <td>...</td>\n",
       "      <td>...</td>\n",
       "      <td>...</td>\n",
       "      <td>...</td>\n",
       "      <td>...</td>\n",
       "      <td>...</td>\n",
       "      <td>...</td>\n",
       "      <td>...</td>\n",
       "      <td>...</td>\n",
       "      <td>...</td>\n",
       "      <td>...</td>\n",
       "      <td>...</td>\n",
       "      <td>...</td>\n",
       "    </tr>\n",
       "    <tr>\n",
       "      <th>50487</th>\n",
       "      <td>ead83a4f8f7be8c3034b2e98754a6147</td>\n",
       "      <td>230a1e9f42924d41f37fd22a1d4a9707</td>\n",
       "      <td>6540</td>\n",
       "      <td>santana de parnaiba</td>\n",
       "      <td>SP</td>\n",
       "      <td>4d59cc2a2e7bb6c0a851725f5888a9b5</td>\n",
       "      <td>canceled</td>\n",
       "      <td>2018-09-06 14:50:07</td>\n",
       "      <td>NaT</td>\n",
       "      <td>NaT</td>\n",
       "      <td>NaT</td>\n",
       "      <td>2018-09-21</td>\n",
       "      <td>2018-09</td>\n",
       "    </tr>\n",
       "    <tr>\n",
       "      <th>75902</th>\n",
       "      <td>bf6181a85bbb4115736c0a8db1a53be3</td>\n",
       "      <td>634420a0ea42302205032ed44ac7fccc</td>\n",
       "      <td>27175</td>\n",
       "      <td>pirai</td>\n",
       "      <td>RJ</td>\n",
       "      <td>616fa7d4871b87832197b2a137a115d2</td>\n",
       "      <td>canceled</td>\n",
       "      <td>2018-10-01 15:30:09</td>\n",
       "      <td>NaT</td>\n",
       "      <td>NaT</td>\n",
       "      <td>NaT</td>\n",
       "      <td>2018-10-23</td>\n",
       "      <td>2018-10</td>\n",
       "    </tr>\n",
       "    <tr>\n",
       "      <th>68312</th>\n",
       "      <td>4c2ec60c29d10c34bd49cb88aa85cfc4</td>\n",
       "      <td>af5454198a97379394cacf676e1e96cb</td>\n",
       "      <td>11900</td>\n",
       "      <td>registro</td>\n",
       "      <td>SP</td>\n",
       "      <td>a2ac6dad85cf8af5b0afb510a240fe8c</td>\n",
       "      <td>canceled</td>\n",
       "      <td>2018-10-03 18:55:29</td>\n",
       "      <td>NaT</td>\n",
       "      <td>NaT</td>\n",
       "      <td>NaT</td>\n",
       "      <td>2018-10-16</td>\n",
       "      <td>2018-10</td>\n",
       "    </tr>\n",
       "    <tr>\n",
       "      <th>85415</th>\n",
       "      <td>a4b417188addbc05b26b72d5e44837a1</td>\n",
       "      <td>87ab9fec999db8bd5774917de3cdf01c</td>\n",
       "      <td>18077</td>\n",
       "      <td>sorocaba</td>\n",
       "      <td>SP</td>\n",
       "      <td>10a045cdf6a5650c21e9cfeb60384c16</td>\n",
       "      <td>canceled</td>\n",
       "      <td>2018-10-17 17:30:18</td>\n",
       "      <td>NaT</td>\n",
       "      <td>NaT</td>\n",
       "      <td>NaT</td>\n",
       "      <td>2018-10-30</td>\n",
       "      <td>2018-10</td>\n",
       "    </tr>\n",
       "    <tr>\n",
       "      <th>69139</th>\n",
       "      <td>856336203359aa6a61bf3826f7d84c49</td>\n",
       "      <td>262e1f1e26e92e86375f86840b4ffd63</td>\n",
       "      <td>64600</td>\n",
       "      <td>picos</td>\n",
       "      <td>PI</td>\n",
       "      <td>b059ee4de278302d550a3035c4cdb740</td>\n",
       "      <td>canceled</td>\n",
       "      <td>2018-10-16 20:16:02</td>\n",
       "      <td>NaT</td>\n",
       "      <td>NaT</td>\n",
       "      <td>NaT</td>\n",
       "      <td>2018-11-12</td>\n",
       "      <td>2018-10</td>\n",
       "    </tr>\n",
       "  </tbody>\n",
       "</table>\n",
       "<p>99441 rows × 13 columns</p>\n",
       "</div>"
      ],
      "text/plain": [
       "                            customer_id                customer_unique_id  \\\n",
       "84697  08c5351a6aca1c1589a38f244edeee9d  b7d76e111c89f7ebf14761390f0f7d17   \n",
       "21125  86dc2ffce2dfff336de2f386a786e574  830d5b7aaa3b6f1e9ad63703bec97d23   \n",
       "70561  683c54fc24d40ee9f8a6fc179fd9856c  4854e9b3feff728c13ee5fc7d1547e92   \n",
       "84845  622e13439d6b5a0b486c435618b2679e  009b0127b727ab0ba422f6d9604487c7   \n",
       "77451  cee53b7d3dd56da687a4fa61c6ce8d32  4403513209514871ac9d0fd681f7cdb5   \n",
       "...                                 ...                               ...   \n",
       "50487  ead83a4f8f7be8c3034b2e98754a6147  230a1e9f42924d41f37fd22a1d4a9707   \n",
       "75902  bf6181a85bbb4115736c0a8db1a53be3  634420a0ea42302205032ed44ac7fccc   \n",
       "68312  4c2ec60c29d10c34bd49cb88aa85cfc4  af5454198a97379394cacf676e1e96cb   \n",
       "85415  a4b417188addbc05b26b72d5e44837a1  87ab9fec999db8bd5774917de3cdf01c   \n",
       "69139  856336203359aa6a61bf3826f7d84c49  262e1f1e26e92e86375f86840b4ffd63   \n",
       "\n",
       "       customer_zip_code_prefix         customer_city customer_state  \\\n",
       "84697                     69309             boa vista             RR   \n",
       "21125                     14600  sao joaquim da barra             SP   \n",
       "70561                     99025           passo fundo             RS   \n",
       "84845                     12244   sao jose dos campos             SP   \n",
       "77451                      6703                 cotia             SP   \n",
       "...                         ...                   ...            ...   \n",
       "50487                      6540   santana de parnaiba             SP   \n",
       "75902                     27175                 pirai             RJ   \n",
       "68312                     11900              registro             SP   \n",
       "85415                     18077              sorocaba             SP   \n",
       "69139                     64600                 picos             PI   \n",
       "\n",
       "                               order_id order_status order_purchase_timestamp  \\\n",
       "84697  2e7a8482f6fb09756ca50c10d7bfc047      shipped      2016-09-04 21:15:19   \n",
       "21125  bfbd0f9bdef84302105ad712db648a6c    delivered      2016-09-15 12:16:38   \n",
       "70561  e5fa5a7210941f7d56d0208e4e071d35     canceled      2016-09-05 00:15:34   \n",
       "84845  809a282bbd5dbcabb6f2f724fca862ec     canceled      2016-09-13 15:24:19   \n",
       "77451  1069874467b6a425853288c450f68fc9    delivered      2016-10-07 22:51:32   \n",
       "...                                 ...          ...                      ...   \n",
       "50487  4d59cc2a2e7bb6c0a851725f5888a9b5     canceled      2018-09-06 14:50:07   \n",
       "75902  616fa7d4871b87832197b2a137a115d2     canceled      2018-10-01 15:30:09   \n",
       "68312  a2ac6dad85cf8af5b0afb510a240fe8c     canceled      2018-10-03 18:55:29   \n",
       "85415  10a045cdf6a5650c21e9cfeb60384c16     canceled      2018-10-17 17:30:18   \n",
       "69139  b059ee4de278302d550a3035c4cdb740     canceled      2018-10-16 20:16:02   \n",
       "\n",
       "        order_approved_at order_delivered_carrier_date  \\\n",
       "84697 2016-10-07 13:18:03          2016-10-18 13:14:51   \n",
       "21125 2016-09-15 12:16:38          2016-11-07 17:11:53   \n",
       "70561 2016-10-07 13:17:15                          NaT   \n",
       "84845 2016-10-07 13:16:46                          NaT   \n",
       "77451 2016-10-07 23:13:46          2016-10-11 23:13:46   \n",
       "...                   ...                          ...   \n",
       "50487                 NaT                          NaT   \n",
       "75902                 NaT                          NaT   \n",
       "68312                 NaT                          NaT   \n",
       "85415                 NaT                          NaT   \n",
       "69139                 NaT                          NaT   \n",
       "\n",
       "      order_delivered_customer_date order_estimated_delivery_date month_year  \n",
       "84697                           NaT                    2016-10-20    2016-09  \n",
       "21125           2016-11-09 07:47:38                    2016-10-04    2016-09  \n",
       "70561                           NaT                    2016-10-28    2016-09  \n",
       "84845                           NaT                    2016-09-30    2016-09  \n",
       "77451           2016-10-28 13:51:23                    2016-11-29    2016-10  \n",
       "...                             ...                           ...        ...  \n",
       "50487                           NaT                    2018-09-21    2018-09  \n",
       "75902                           NaT                    2018-10-23    2018-10  \n",
       "68312                           NaT                    2018-10-16    2018-10  \n",
       "85415                           NaT                    2018-10-30    2018-10  \n",
       "69139                           NaT                    2018-11-12    2018-10  \n",
       "\n",
       "[99441 rows x 13 columns]"
      ]
     },
     "execution_count": 21,
     "metadata": {},
     "output_type": "execute_result"
    }
   ],
   "source": [
    "df_id_orders.sort_values('month_year')"
   ]
  },
  {
   "cell_type": "markdown",
   "id": "856c6a2b",
   "metadata": {
    "id": "856c6a2b"
   },
   "source": [
    "Создадим датасет на основе датасета из задания 1 и уберем из него отмененные и неоплаченные заказы."
   ]
  },
  {
   "cell_type": "code",
   "execution_count": null,
   "id": "a532c5cb",
   "metadata": {
    "id": "a532c5cb",
    "outputId": "321b8279-a6c2-4981-cbd3-d7cff38aacd7"
   },
   "outputs": [
    {
     "data": {
      "text/html": [
       "<div>\n",
       "<style scoped>\n",
       "    .dataframe tbody tr th:only-of-type {\n",
       "        vertical-align: middle;\n",
       "    }\n",
       "\n",
       "    .dataframe tbody tr th {\n",
       "        vertical-align: top;\n",
       "    }\n",
       "\n",
       "    .dataframe thead th {\n",
       "        text-align: right;\n",
       "    }\n",
       "</style>\n",
       "<table border=\"1\" class=\"dataframe\">\n",
       "  <thead>\n",
       "    <tr style=\"text-align: right;\">\n",
       "      <th></th>\n",
       "      <th>customer_unique_id</th>\n",
       "      <th>month_year</th>\n",
       "      <th>order_id</th>\n",
       "    </tr>\n",
       "  </thead>\n",
       "  <tbody>\n",
       "    <tr>\n",
       "      <th>49391</th>\n",
       "      <td>830d5b7aaa3b6f1e9ad63703bec97d23</td>\n",
       "      <td>2016-09</td>\n",
       "      <td>1</td>\n",
       "    </tr>\n",
       "    <tr>\n",
       "      <th>69212</th>\n",
       "      <td>b7d76e111c89f7ebf14761390f0f7d17</td>\n",
       "      <td>2016-09</td>\n",
       "      <td>1</td>\n",
       "    </tr>\n",
       "    <tr>\n",
       "      <th>51057</th>\n",
       "      <td>87b3f231705783eb2217e25851c0a45d</td>\n",
       "      <td>2016-10</td>\n",
       "      <td>1</td>\n",
       "    </tr>\n",
       "    <tr>\n",
       "      <th>13189</th>\n",
       "      <td>22e16e7154401d6eb4f7ba788b3edb7e</td>\n",
       "      <td>2016-10</td>\n",
       "      <td>1</td>\n",
       "    </tr>\n",
       "    <tr>\n",
       "      <th>42843</th>\n",
       "      <td>71b35d5b0fa5a6a266dd6f103680009c</td>\n",
       "      <td>2016-10</td>\n",
       "      <td>1</td>\n",
       "    </tr>\n",
       "    <tr>\n",
       "      <th>...</th>\n",
       "      <td>...</td>\n",
       "      <td>...</td>\n",
       "      <td>...</td>\n",
       "    </tr>\n",
       "    <tr>\n",
       "      <th>64627</th>\n",
       "      <td>aba681cb8f8096ffb08c03b2d21bdc4f</td>\n",
       "      <td>2018-08</td>\n",
       "      <td>1</td>\n",
       "    </tr>\n",
       "    <tr>\n",
       "      <th>91012</th>\n",
       "      <td>f1e792f1f42a33314fbaedefe2aa7822</td>\n",
       "      <td>2018-08</td>\n",
       "      <td>1</td>\n",
       "    </tr>\n",
       "    <tr>\n",
       "      <th>37562</th>\n",
       "      <td>63923c0ec5cbc6893736efc26df5767e</td>\n",
       "      <td>2018-08</td>\n",
       "      <td>1</td>\n",
       "    </tr>\n",
       "    <tr>\n",
       "      <th>27649</th>\n",
       "      <td>4959bd250fc12ae68ecc707331565abf</td>\n",
       "      <td>2018-08</td>\n",
       "      <td>1</td>\n",
       "    </tr>\n",
       "    <tr>\n",
       "      <th>95928</th>\n",
       "      <td>ff22e30958c13ffe219db7d711e8f564</td>\n",
       "      <td>2018-09</td>\n",
       "      <td>1</td>\n",
       "    </tr>\n",
       "  </tbody>\n",
       "</table>\n",
       "<p>96263 rows × 3 columns</p>\n",
       "</div>"
      ],
      "text/plain": [
       "                     customer_unique_id month_year  order_id\n",
       "49391  830d5b7aaa3b6f1e9ad63703bec97d23    2016-09         1\n",
       "69212  b7d76e111c89f7ebf14761390f0f7d17    2016-09         1\n",
       "51057  87b3f231705783eb2217e25851c0a45d    2016-10         1\n",
       "13189  22e16e7154401d6eb4f7ba788b3edb7e    2016-10         1\n",
       "42843  71b35d5b0fa5a6a266dd6f103680009c    2016-10         1\n",
       "...                                 ...        ...       ...\n",
       "64627  aba681cb8f8096ffb08c03b2d21bdc4f    2018-08         1\n",
       "91012  f1e792f1f42a33314fbaedefe2aa7822    2018-08         1\n",
       "37562  63923c0ec5cbc6893736efc26df5767e    2018-08         1\n",
       "27649  4959bd250fc12ae68ecc707331565abf    2018-08         1\n",
       "95928  ff22e30958c13ffe219db7d711e8f564    2018-09         1\n",
       "\n",
       "[96263 rows x 3 columns]"
      ]
     },
     "execution_count": 22,
     "metadata": {},
     "output_type": "execute_result"
    }
   ],
   "source": [
    "df_4 = df_id_orders.query(\"order_status != 'canceled' and order_delivered_carrier_date != 'NaT'\") \\\n",
    "                    .groupby(['customer_unique_id', 'month_year'],as_index=False) \\\n",
    "                    .agg({'order_id':'count'}) \\\n",
    "                    .sort_values('month_year')\n",
    "df_4"
   ]
  },
  {
   "cell_type": "markdown",
   "id": "2b7274ae",
   "metadata": {
    "id": "2b7274ae"
   },
   "source": [
    "Если посмотреть на созданный датасет, то видно, что сентябрь 2016 и сентябрь 2018 года не имеют полного объема данных. Для точности стоило бы их отсечь."
   ]
  },
  {
   "cell_type": "code",
   "execution_count": null,
   "id": "0c4311b5",
   "metadata": {
    "id": "0c4311b5",
    "outputId": "48101c78-0c1e-44e0-e16d-b978c801c808"
   },
   "outputs": [
    {
     "data": {
      "text/html": [
       "<div>\n",
       "<style scoped>\n",
       "    .dataframe tbody tr th:only-of-type {\n",
       "        vertical-align: middle;\n",
       "    }\n",
       "\n",
       "    .dataframe tbody tr th {\n",
       "        vertical-align: top;\n",
       "    }\n",
       "\n",
       "    .dataframe thead th {\n",
       "        text-align: right;\n",
       "    }\n",
       "</style>\n",
       "<table border=\"1\" class=\"dataframe\">\n",
       "  <thead>\n",
       "    <tr style=\"text-align: right;\">\n",
       "      <th></th>\n",
       "      <th>customer_unique_id</th>\n",
       "      <th>month_year</th>\n",
       "      <th>order_id</th>\n",
       "    </tr>\n",
       "  </thead>\n",
       "  <tbody>\n",
       "    <tr>\n",
       "      <th>51057</th>\n",
       "      <td>87b3f231705783eb2217e25851c0a45d</td>\n",
       "      <td>2016-10</td>\n",
       "      <td>1</td>\n",
       "    </tr>\n",
       "    <tr>\n",
       "      <th>13189</th>\n",
       "      <td>22e16e7154401d6eb4f7ba788b3edb7e</td>\n",
       "      <td>2016-10</td>\n",
       "      <td>1</td>\n",
       "    </tr>\n",
       "    <tr>\n",
       "      <th>42843</th>\n",
       "      <td>71b35d5b0fa5a6a266dd6f103680009c</td>\n",
       "      <td>2016-10</td>\n",
       "      <td>1</td>\n",
       "    </tr>\n",
       "    <tr>\n",
       "      <th>80906</th>\n",
       "      <td>d6cbe5bf7d8f5583902fd66f1b7a2f44</td>\n",
       "      <td>2016-10</td>\n",
       "      <td>1</td>\n",
       "    </tr>\n",
       "    <tr>\n",
       "      <th>28578</th>\n",
       "      <td>4be873e3bf0455763882101d7eccc78c</td>\n",
       "      <td>2016-10</td>\n",
       "      <td>1</td>\n",
       "    </tr>\n",
       "    <tr>\n",
       "      <th>...</th>\n",
       "      <td>...</td>\n",
       "      <td>...</td>\n",
       "      <td>...</td>\n",
       "    </tr>\n",
       "    <tr>\n",
       "      <th>45717</th>\n",
       "      <td>795c1622cf7a53d63d324e862349d01c</td>\n",
       "      <td>2018-08</td>\n",
       "      <td>1</td>\n",
       "    </tr>\n",
       "    <tr>\n",
       "      <th>64627</th>\n",
       "      <td>aba681cb8f8096ffb08c03b2d21bdc4f</td>\n",
       "      <td>2018-08</td>\n",
       "      <td>1</td>\n",
       "    </tr>\n",
       "    <tr>\n",
       "      <th>91012</th>\n",
       "      <td>f1e792f1f42a33314fbaedefe2aa7822</td>\n",
       "      <td>2018-08</td>\n",
       "      <td>1</td>\n",
       "    </tr>\n",
       "    <tr>\n",
       "      <th>37562</th>\n",
       "      <td>63923c0ec5cbc6893736efc26df5767e</td>\n",
       "      <td>2018-08</td>\n",
       "      <td>1</td>\n",
       "    </tr>\n",
       "    <tr>\n",
       "      <th>27649</th>\n",
       "      <td>4959bd250fc12ae68ecc707331565abf</td>\n",
       "      <td>2018-08</td>\n",
       "      <td>1</td>\n",
       "    </tr>\n",
       "  </tbody>\n",
       "</table>\n",
       "<p>96260 rows × 3 columns</p>\n",
       "</div>"
      ],
      "text/plain": [
       "                     customer_unique_id month_year  order_id\n",
       "51057  87b3f231705783eb2217e25851c0a45d    2016-10         1\n",
       "13189  22e16e7154401d6eb4f7ba788b3edb7e    2016-10         1\n",
       "42843  71b35d5b0fa5a6a266dd6f103680009c    2016-10         1\n",
       "80906  d6cbe5bf7d8f5583902fd66f1b7a2f44    2016-10         1\n",
       "28578  4be873e3bf0455763882101d7eccc78c    2016-10         1\n",
       "...                                 ...        ...       ...\n",
       "45717  795c1622cf7a53d63d324e862349d01c    2018-08         1\n",
       "64627  aba681cb8f8096ffb08c03b2d21bdc4f    2018-08         1\n",
       "91012  f1e792f1f42a33314fbaedefe2aa7822    2018-08         1\n",
       "37562  63923c0ec5cbc6893736efc26df5767e    2018-08         1\n",
       "27649  4959bd250fc12ae68ecc707331565abf    2018-08         1\n",
       "\n",
       "[96260 rows x 3 columns]"
      ]
     },
     "execution_count": 23,
     "metadata": {},
     "output_type": "execute_result"
    }
   ],
   "source": [
    "df_4= df_4.query('month_year > \"2016-09\" and month_year < \"2018-09\"')\n",
    "df_4"
   ]
  },
  {
   "cell_type": "markdown",
   "id": "ee9537bc",
   "metadata": {
    "id": "ee9537bc"
   },
   "source": [
    "Теперь посчитаем количество недель в каждом месяце и добавим такую колонку в нашу таблицу."
   ]
  },
  {
   "cell_type": "code",
   "execution_count": null,
   "id": "bad8f8ab",
   "metadata": {
    "id": "bad8f8ab",
    "outputId": "5a4d5398-56eb-415a-b6e0-b174bdd50620"
   },
   "outputs": [
    {
     "data": {
      "text/html": [
       "<div>\n",
       "<style scoped>\n",
       "    .dataframe tbody tr th:only-of-type {\n",
       "        vertical-align: middle;\n",
       "    }\n",
       "\n",
       "    .dataframe tbody tr th {\n",
       "        vertical-align: top;\n",
       "    }\n",
       "\n",
       "    .dataframe thead th {\n",
       "        text-align: right;\n",
       "    }\n",
       "</style>\n",
       "<table border=\"1\" class=\"dataframe\">\n",
       "  <thead>\n",
       "    <tr style=\"text-align: right;\">\n",
       "      <th></th>\n",
       "      <th>customer_unique_id</th>\n",
       "      <th>month_year</th>\n",
       "      <th>order_id</th>\n",
       "      <th>weeks_in_month</th>\n",
       "    </tr>\n",
       "  </thead>\n",
       "  <tbody>\n",
       "    <tr>\n",
       "      <th>51057</th>\n",
       "      <td>87b3f231705783eb2217e25851c0a45d</td>\n",
       "      <td>2016-10</td>\n",
       "      <td>1</td>\n",
       "      <td>4.428571</td>\n",
       "    </tr>\n",
       "    <tr>\n",
       "      <th>13189</th>\n",
       "      <td>22e16e7154401d6eb4f7ba788b3edb7e</td>\n",
       "      <td>2016-10</td>\n",
       "      <td>1</td>\n",
       "      <td>4.428571</td>\n",
       "    </tr>\n",
       "    <tr>\n",
       "      <th>42843</th>\n",
       "      <td>71b35d5b0fa5a6a266dd6f103680009c</td>\n",
       "      <td>2016-10</td>\n",
       "      <td>1</td>\n",
       "      <td>4.428571</td>\n",
       "    </tr>\n",
       "    <tr>\n",
       "      <th>80906</th>\n",
       "      <td>d6cbe5bf7d8f5583902fd66f1b7a2f44</td>\n",
       "      <td>2016-10</td>\n",
       "      <td>1</td>\n",
       "      <td>4.428571</td>\n",
       "    </tr>\n",
       "    <tr>\n",
       "      <th>28578</th>\n",
       "      <td>4be873e3bf0455763882101d7eccc78c</td>\n",
       "      <td>2016-10</td>\n",
       "      <td>1</td>\n",
       "      <td>4.428571</td>\n",
       "    </tr>\n",
       "  </tbody>\n",
       "</table>\n",
       "</div>"
      ],
      "text/plain": [
       "                     customer_unique_id month_year  order_id  weeks_in_month\n",
       "51057  87b3f231705783eb2217e25851c0a45d    2016-10         1        4.428571\n",
       "13189  22e16e7154401d6eb4f7ba788b3edb7e    2016-10         1        4.428571\n",
       "42843  71b35d5b0fa5a6a266dd6f103680009c    2016-10         1        4.428571\n",
       "80906  d6cbe5bf7d8f5583902fd66f1b7a2f44    2016-10         1        4.428571\n",
       "28578  4be873e3bf0455763882101d7eccc78c    2016-10         1        4.428571"
      ]
     },
     "execution_count": 24,
     "metadata": {},
     "output_type": "execute_result"
    }
   ],
   "source": [
    "df_4['weeks_in_month'] = df_4['month_year'].dt.days_in_month / 7\n",
    "df_4.head()"
   ]
  },
  {
   "cell_type": "markdown",
   "id": "340d53b0",
   "metadata": {
    "id": "340d53b0"
   },
   "source": [
    "Теперь поделим количество покупок у каждого покупателя в месяц на количество недель в месяце и сделаем из этого отдельную колонку в нашей таблице."
   ]
  },
  {
   "cell_type": "code",
   "execution_count": null,
   "id": "01de83cb",
   "metadata": {
    "id": "01de83cb",
    "outputId": "e506f1d2-23a6-44ec-a890-2d10802dd040"
   },
   "outputs": [
    {
     "data": {
      "text/html": [
       "<div>\n",
       "<style scoped>\n",
       "    .dataframe tbody tr th:only-of-type {\n",
       "        vertical-align: middle;\n",
       "    }\n",
       "\n",
       "    .dataframe tbody tr th {\n",
       "        vertical-align: top;\n",
       "    }\n",
       "\n",
       "    .dataframe thead th {\n",
       "        text-align: right;\n",
       "    }\n",
       "</style>\n",
       "<table border=\"1\" class=\"dataframe\">\n",
       "  <thead>\n",
       "    <tr style=\"text-align: right;\">\n",
       "      <th></th>\n",
       "      <th>customer_unique_id</th>\n",
       "      <th>month_year</th>\n",
       "      <th>order_id</th>\n",
       "      <th>weeks_in_month</th>\n",
       "      <th>purchases_per_week</th>\n",
       "    </tr>\n",
       "  </thead>\n",
       "  <tbody>\n",
       "    <tr>\n",
       "      <th>51057</th>\n",
       "      <td>87b3f231705783eb2217e25851c0a45d</td>\n",
       "      <td>2016-10</td>\n",
       "      <td>1</td>\n",
       "      <td>4.428571</td>\n",
       "      <td>0.225806</td>\n",
       "    </tr>\n",
       "    <tr>\n",
       "      <th>13189</th>\n",
       "      <td>22e16e7154401d6eb4f7ba788b3edb7e</td>\n",
       "      <td>2016-10</td>\n",
       "      <td>1</td>\n",
       "      <td>4.428571</td>\n",
       "      <td>0.225806</td>\n",
       "    </tr>\n",
       "    <tr>\n",
       "      <th>42843</th>\n",
       "      <td>71b35d5b0fa5a6a266dd6f103680009c</td>\n",
       "      <td>2016-10</td>\n",
       "      <td>1</td>\n",
       "      <td>4.428571</td>\n",
       "      <td>0.225806</td>\n",
       "    </tr>\n",
       "    <tr>\n",
       "      <th>80906</th>\n",
       "      <td>d6cbe5bf7d8f5583902fd66f1b7a2f44</td>\n",
       "      <td>2016-10</td>\n",
       "      <td>1</td>\n",
       "      <td>4.428571</td>\n",
       "      <td>0.225806</td>\n",
       "    </tr>\n",
       "    <tr>\n",
       "      <th>28578</th>\n",
       "      <td>4be873e3bf0455763882101d7eccc78c</td>\n",
       "      <td>2016-10</td>\n",
       "      <td>1</td>\n",
       "      <td>4.428571</td>\n",
       "      <td>0.225806</td>\n",
       "    </tr>\n",
       "  </tbody>\n",
       "</table>\n",
       "</div>"
      ],
      "text/plain": [
       "                     customer_unique_id month_year  order_id  weeks_in_month  \\\n",
       "51057  87b3f231705783eb2217e25851c0a45d    2016-10         1        4.428571   \n",
       "13189  22e16e7154401d6eb4f7ba788b3edb7e    2016-10         1        4.428571   \n",
       "42843  71b35d5b0fa5a6a266dd6f103680009c    2016-10         1        4.428571   \n",
       "80906  d6cbe5bf7d8f5583902fd66f1b7a2f44    2016-10         1        4.428571   \n",
       "28578  4be873e3bf0455763882101d7eccc78c    2016-10         1        4.428571   \n",
       "\n",
       "       purchases_per_week  \n",
       "51057            0.225806  \n",
       "13189            0.225806  \n",
       "42843            0.225806  \n",
       "80906            0.225806  \n",
       "28578            0.225806  "
      ]
     },
     "execution_count": 25,
     "metadata": {},
     "output_type": "execute_result"
    }
   ],
   "source": [
    "df_4['purchases_per_week'] = df_4.order_id / df_4.weeks_in_month\n",
    "df_4.head()"
   ]
  },
  {
   "cell_type": "code",
   "execution_count": null,
   "id": "310ee448",
   "metadata": {
    "id": "310ee448",
    "outputId": "217ce6fa-e122-4ef3-f1cb-beeba371cf6c"
   },
   "outputs": [
    {
     "data": {
      "text/html": [
       "<div>\n",
       "<style scoped>\n",
       "    .dataframe tbody tr th:only-of-type {\n",
       "        vertical-align: middle;\n",
       "    }\n",
       "\n",
       "    .dataframe tbody tr th {\n",
       "        vertical-align: top;\n",
       "    }\n",
       "\n",
       "    .dataframe thead th {\n",
       "        text-align: right;\n",
       "    }\n",
       "</style>\n",
       "<table border=\"1\" class=\"dataframe\">\n",
       "  <thead>\n",
       "    <tr style=\"text-align: right;\">\n",
       "      <th></th>\n",
       "      <th>customer_unique_id</th>\n",
       "      <th>month_year</th>\n",
       "      <th>order_id</th>\n",
       "      <th>weeks_in_month</th>\n",
       "      <th>purchases_per_week</th>\n",
       "    </tr>\n",
       "  </thead>\n",
       "  <tbody>\n",
       "    <tr>\n",
       "      <th>51057</th>\n",
       "      <td>87b3f231705783eb2217e25851c0a45d</td>\n",
       "      <td>2016-10</td>\n",
       "      <td>1</td>\n",
       "      <td>4.428571</td>\n",
       "      <td>0.225806</td>\n",
       "    </tr>\n",
       "  </tbody>\n",
       "</table>\n",
       "</div>"
      ],
      "text/plain": [
       "                     customer_unique_id month_year  order_id  weeks_in_month  \\\n",
       "51057  87b3f231705783eb2217e25851c0a45d    2016-10         1        4.428571   \n",
       "\n",
       "       purchases_per_week  \n",
       "51057            0.225806  "
      ]
     },
     "execution_count": 26,
     "metadata": {},
     "output_type": "execute_result"
    }
   ],
   "source": [
    "df_4.sort_values( 'purchases_per_week').head( 1)"
   ]
  },
  {
   "cell_type": "code",
   "execution_count": null,
   "id": "1d6a7605",
   "metadata": {
    "id": "1d6a7605",
    "outputId": "5fee96d8-d52b-4686-b4ad-ee7af8f3499d"
   },
   "outputs": [
    {
     "data": {
      "text/html": [
       "<div>\n",
       "<style scoped>\n",
       "    .dataframe tbody tr th:only-of-type {\n",
       "        vertical-align: middle;\n",
       "    }\n",
       "\n",
       "    .dataframe tbody tr th {\n",
       "        vertical-align: top;\n",
       "    }\n",
       "\n",
       "    .dataframe thead th {\n",
       "        text-align: right;\n",
       "    }\n",
       "</style>\n",
       "<table border=\"1\" class=\"dataframe\">\n",
       "  <thead>\n",
       "    <tr style=\"text-align: right;\">\n",
       "      <th></th>\n",
       "      <th>customer_unique_id</th>\n",
       "      <th>month_year</th>\n",
       "      <th>order_id</th>\n",
       "      <th>weeks_in_month</th>\n",
       "      <th>purchases_per_week</th>\n",
       "    </tr>\n",
       "  </thead>\n",
       "  <tbody>\n",
       "    <tr>\n",
       "      <th>7191</th>\n",
       "      <td>12f5d6e1cbf93dafd9dcc19095df0b3d</td>\n",
       "      <td>2017-01</td>\n",
       "      <td>6</td>\n",
       "      <td>4.428571</td>\n",
       "      <td>1.354839</td>\n",
       "    </tr>\n",
       "  </tbody>\n",
       "</table>\n",
       "</div>"
      ],
      "text/plain": [
       "                    customer_unique_id month_year  order_id  weeks_in_month  \\\n",
       "7191  12f5d6e1cbf93dafd9dcc19095df0b3d    2017-01         6        4.428571   \n",
       "\n",
       "      purchases_per_week  \n",
       "7191            1.354839  "
      ]
     },
     "execution_count": 27,
     "metadata": {},
     "output_type": "execute_result"
    }
   ],
   "source": [
    "df_4.sort_values( 'purchases_per_week', ascending = False).head( 1)"
   ]
  },
  {
   "cell_type": "markdown",
   "id": "2965695e",
   "metadata": {
    "id": "2965695e"
   },
   "source": [
    "#### Среднее количество покупок в неделю у каждого пользователя варьируется от 0.225806 у пользователя с id 87b3f231705783eb2217e25851c0a45d и до 1.354839 у пользователя 12f5d6e1cbf93dafd9dcc19095df0b3d ."
   ]
  },
  {
   "cell_type": "markdown",
   "id": "6572c926",
   "metadata": {
    "id": "6572c926"
   },
   "source": [
    "\n",
    "#### 5. Используя pandas, проведи когортный анализ пользователей. В период с января по декабрь выяви когорту с самым высоким retention на 3й месяц."
   ]
  },
  {
   "cell_type": "markdown",
   "id": "bae0ec98",
   "metadata": {
    "id": "bae0ec98"
   },
   "source": [
    "Retention rate показывает отношение клиентов, которые вернулись за повторными покупками, к числу клиентов на начало расчетного периода."
   ]
  },
  {
   "cell_type": "markdown",
   "id": "fbe93777",
   "metadata": {
    "id": "fbe93777"
   },
   "source": [
    "Воспользуемся уже имеющимся у нас датасетом в котором мы объединили датафрейм заказов с датафреймом покупателей из первого задания. Необходимо убрать все строки в которых нет времени оплаты заказа."
   ]
  },
  {
   "cell_type": "code",
   "execution_count": null,
   "id": "d77d129c",
   "metadata": {
    "id": "d77d129c"
   },
   "outputs": [],
   "source": [
    "df_id_orders = df_id_orders.query('order_approved_at != \"NaN\" ')"
   ]
  },
  {
   "cell_type": "markdown",
   "id": "70b4d9f5",
   "metadata": {
    "id": "70b4d9f5"
   },
   "source": [
    "Нам будет необходим столбец с месяцем и годом оплаты заказа."
   ]
  },
  {
   "cell_type": "code",
   "execution_count": null,
   "id": "691d98b8",
   "metadata": {
    "id": "691d98b8",
    "outputId": "5c555bf7-9d6c-4e72-a5b5-1dabe43117bb"
   },
   "outputs": [
    {
     "data": {
      "text/html": [
       "<div>\n",
       "<style scoped>\n",
       "    .dataframe tbody tr th:only-of-type {\n",
       "        vertical-align: middle;\n",
       "    }\n",
       "\n",
       "    .dataframe tbody tr th {\n",
       "        vertical-align: top;\n",
       "    }\n",
       "\n",
       "    .dataframe thead th {\n",
       "        text-align: right;\n",
       "    }\n",
       "</style>\n",
       "<table border=\"1\" class=\"dataframe\">\n",
       "  <thead>\n",
       "    <tr style=\"text-align: right;\">\n",
       "      <th></th>\n",
       "      <th>customer_id</th>\n",
       "      <th>customer_unique_id</th>\n",
       "      <th>customer_zip_code_prefix</th>\n",
       "      <th>customer_city</th>\n",
       "      <th>customer_state</th>\n",
       "      <th>order_id</th>\n",
       "      <th>order_status</th>\n",
       "      <th>order_purchase_timestamp</th>\n",
       "      <th>order_approved_at</th>\n",
       "      <th>order_delivered_carrier_date</th>\n",
       "      <th>order_delivered_customer_date</th>\n",
       "      <th>order_estimated_delivery_date</th>\n",
       "      <th>month_year</th>\n",
       "      <th>approve_month_year</th>\n",
       "    </tr>\n",
       "  </thead>\n",
       "  <tbody>\n",
       "    <tr>\n",
       "      <th>0</th>\n",
       "      <td>06b8999e2fba1a1fbc88172c00ba8bc7</td>\n",
       "      <td>861eff4711a542e4b93843c6dd7febb0</td>\n",
       "      <td>14409</td>\n",
       "      <td>franca</td>\n",
       "      <td>SP</td>\n",
       "      <td>00e7ee1b050b8499577073aeb2a297a1</td>\n",
       "      <td>delivered</td>\n",
       "      <td>2017-05-16 15:05:35</td>\n",
       "      <td>2017-05-16 15:22:12</td>\n",
       "      <td>2017-05-23 10:47:57</td>\n",
       "      <td>2017-05-25 10:35:35</td>\n",
       "      <td>2017-06-05</td>\n",
       "      <td>2017-05</td>\n",
       "      <td>2017-05</td>\n",
       "    </tr>\n",
       "    <tr>\n",
       "      <th>1</th>\n",
       "      <td>18955e83d337fd6b2def6b18a428ac77</td>\n",
       "      <td>290c77bc529b7ac935b93aa66c333dc3</td>\n",
       "      <td>9790</td>\n",
       "      <td>sao bernardo do campo</td>\n",
       "      <td>SP</td>\n",
       "      <td>29150127e6685892b6eab3eec79f59c7</td>\n",
       "      <td>delivered</td>\n",
       "      <td>2018-01-12 20:48:24</td>\n",
       "      <td>2018-01-12 20:58:32</td>\n",
       "      <td>2018-01-15 17:14:59</td>\n",
       "      <td>2018-01-29 12:41:19</td>\n",
       "      <td>2018-02-06</td>\n",
       "      <td>2018-01</td>\n",
       "      <td>2018-01</td>\n",
       "    </tr>\n",
       "    <tr>\n",
       "      <th>2</th>\n",
       "      <td>4e7b3e00288586ebd08712fdd0374a03</td>\n",
       "      <td>060e732b5b29e8181a18229c7b0b2b5e</td>\n",
       "      <td>1151</td>\n",
       "      <td>sao paulo</td>\n",
       "      <td>SP</td>\n",
       "      <td>b2059ed67ce144a36e2aa97d2c9e9ad2</td>\n",
       "      <td>delivered</td>\n",
       "      <td>2018-05-19 16:07:45</td>\n",
       "      <td>2018-05-20 16:19:10</td>\n",
       "      <td>2018-06-11 14:31:00</td>\n",
       "      <td>2018-06-14 17:58:51</td>\n",
       "      <td>2018-06-13</td>\n",
       "      <td>2018-05</td>\n",
       "      <td>2018-05</td>\n",
       "    </tr>\n",
       "    <tr>\n",
       "      <th>3</th>\n",
       "      <td>b2b6027bc5c5109e529d4dc6358b12c3</td>\n",
       "      <td>259dac757896d24d7702b9acbbff3f3c</td>\n",
       "      <td>8775</td>\n",
       "      <td>mogi das cruzes</td>\n",
       "      <td>SP</td>\n",
       "      <td>951670f92359f4fe4a63112aa7306eba</td>\n",
       "      <td>delivered</td>\n",
       "      <td>2018-03-13 16:06:38</td>\n",
       "      <td>2018-03-13 17:29:19</td>\n",
       "      <td>2018-03-27 23:22:42</td>\n",
       "      <td>2018-03-28 16:04:25</td>\n",
       "      <td>2018-04-10</td>\n",
       "      <td>2018-03</td>\n",
       "      <td>2018-03</td>\n",
       "    </tr>\n",
       "    <tr>\n",
       "      <th>4</th>\n",
       "      <td>4f2d8ab171c80ec8364f7c12e35b23ad</td>\n",
       "      <td>345ecd01c38d18a9036ed96c73b8d066</td>\n",
       "      <td>13056</td>\n",
       "      <td>campinas</td>\n",
       "      <td>SP</td>\n",
       "      <td>6b7d50bd145f6fc7f33cebabd7e49d0f</td>\n",
       "      <td>delivered</td>\n",
       "      <td>2018-07-29 09:51:30</td>\n",
       "      <td>2018-07-29 10:10:09</td>\n",
       "      <td>2018-07-30 15:16:00</td>\n",
       "      <td>2018-08-09 20:55:48</td>\n",
       "      <td>2018-08-15</td>\n",
       "      <td>2018-07</td>\n",
       "      <td>2018-07</td>\n",
       "    </tr>\n",
       "  </tbody>\n",
       "</table>\n",
       "</div>"
      ],
      "text/plain": [
       "                        customer_id                customer_unique_id  \\\n",
       "0  06b8999e2fba1a1fbc88172c00ba8bc7  861eff4711a542e4b93843c6dd7febb0   \n",
       "1  18955e83d337fd6b2def6b18a428ac77  290c77bc529b7ac935b93aa66c333dc3   \n",
       "2  4e7b3e00288586ebd08712fdd0374a03  060e732b5b29e8181a18229c7b0b2b5e   \n",
       "3  b2b6027bc5c5109e529d4dc6358b12c3  259dac757896d24d7702b9acbbff3f3c   \n",
       "4  4f2d8ab171c80ec8364f7c12e35b23ad  345ecd01c38d18a9036ed96c73b8d066   \n",
       "\n",
       "   customer_zip_code_prefix          customer_city customer_state  \\\n",
       "0                     14409                 franca             SP   \n",
       "1                      9790  sao bernardo do campo             SP   \n",
       "2                      1151              sao paulo             SP   \n",
       "3                      8775        mogi das cruzes             SP   \n",
       "4                     13056               campinas             SP   \n",
       "\n",
       "                           order_id order_status order_purchase_timestamp  \\\n",
       "0  00e7ee1b050b8499577073aeb2a297a1    delivered      2017-05-16 15:05:35   \n",
       "1  29150127e6685892b6eab3eec79f59c7    delivered      2018-01-12 20:48:24   \n",
       "2  b2059ed67ce144a36e2aa97d2c9e9ad2    delivered      2018-05-19 16:07:45   \n",
       "3  951670f92359f4fe4a63112aa7306eba    delivered      2018-03-13 16:06:38   \n",
       "4  6b7d50bd145f6fc7f33cebabd7e49d0f    delivered      2018-07-29 09:51:30   \n",
       "\n",
       "    order_approved_at order_delivered_carrier_date  \\\n",
       "0 2017-05-16 15:22:12          2017-05-23 10:47:57   \n",
       "1 2018-01-12 20:58:32          2018-01-15 17:14:59   \n",
       "2 2018-05-20 16:19:10          2018-06-11 14:31:00   \n",
       "3 2018-03-13 17:29:19          2018-03-27 23:22:42   \n",
       "4 2018-07-29 10:10:09          2018-07-30 15:16:00   \n",
       "\n",
       "  order_delivered_customer_date order_estimated_delivery_date month_year  \\\n",
       "0           2017-05-25 10:35:35                    2017-06-05    2017-05   \n",
       "1           2018-01-29 12:41:19                    2018-02-06    2018-01   \n",
       "2           2018-06-14 17:58:51                    2018-06-13    2018-05   \n",
       "3           2018-03-28 16:04:25                    2018-04-10    2018-03   \n",
       "4           2018-08-09 20:55:48                    2018-08-15    2018-07   \n",
       "\n",
       "  approve_month_year  \n",
       "0            2017-05  \n",
       "1            2018-01  \n",
       "2            2018-05  \n",
       "3            2018-03  \n",
       "4            2018-07  "
      ]
     },
     "execution_count": 29,
     "metadata": {},
     "output_type": "execute_result"
    }
   ],
   "source": [
    "df_id_orders['approve_month_year'] = df_id_orders.order_approved_at.dt.to_period(\"M\")\n",
    "df_id_orders.head()"
   ]
  },
  {
   "cell_type": "markdown",
   "id": "c14375c1",
   "metadata": {
    "id": "c14375c1"
   },
   "source": [
    "И январь и декабрь у нас есть только за 2017 год. Мы возьмем даты покупок за период всего 2017 года + 3 первых месяца 2018 года.\n",
    "Для начала выберем из таблицы только нужные нам данные."
   ]
  },
  {
   "cell_type": "code",
   "execution_count": null,
   "id": "0e52b32e",
   "metadata": {
    "id": "0e52b32e",
    "outputId": "1669cc14-4a31-4a03-c072-2a4371712d8d"
   },
   "outputs": [
    {
     "data": {
      "text/html": [
       "<div>\n",
       "<style scoped>\n",
       "    .dataframe tbody tr th:only-of-type {\n",
       "        vertical-align: middle;\n",
       "    }\n",
       "\n",
       "    .dataframe tbody tr th {\n",
       "        vertical-align: top;\n",
       "    }\n",
       "\n",
       "    .dataframe thead th {\n",
       "        text-align: right;\n",
       "    }\n",
       "</style>\n",
       "<table border=\"1\" class=\"dataframe\">\n",
       "  <thead>\n",
       "    <tr style=\"text-align: right;\">\n",
       "      <th></th>\n",
       "      <th>customer_unique_id</th>\n",
       "      <th>approve_month_year</th>\n",
       "    </tr>\n",
       "  </thead>\n",
       "  <tbody>\n",
       "    <tr>\n",
       "      <th>0</th>\n",
       "      <td>861eff4711a542e4b93843c6dd7febb0</td>\n",
       "      <td>2017-05</td>\n",
       "    </tr>\n",
       "    <tr>\n",
       "      <th>1</th>\n",
       "      <td>290c77bc529b7ac935b93aa66c333dc3</td>\n",
       "      <td>2018-01</td>\n",
       "    </tr>\n",
       "    <tr>\n",
       "      <th>3</th>\n",
       "      <td>259dac757896d24d7702b9acbbff3f3c</td>\n",
       "      <td>2018-03</td>\n",
       "    </tr>\n",
       "    <tr>\n",
       "      <th>5</th>\n",
       "      <td>4c93744516667ad3b8f1fb645a3116a4</td>\n",
       "      <td>2017-09</td>\n",
       "    </tr>\n",
       "    <tr>\n",
       "      <th>6</th>\n",
       "      <td>addec96d2e059c80c30fe6871d30d177</td>\n",
       "      <td>2018-02</td>\n",
       "    </tr>\n",
       "  </tbody>\n",
       "</table>\n",
       "</div>"
      ],
      "text/plain": [
       "                 customer_unique_id approve_month_year\n",
       "0  861eff4711a542e4b93843c6dd7febb0            2017-05\n",
       "1  290c77bc529b7ac935b93aa66c333dc3            2018-01\n",
       "3  259dac757896d24d7702b9acbbff3f3c            2018-03\n",
       "5  4c93744516667ad3b8f1fb645a3116a4            2017-09\n",
       "6  addec96d2e059c80c30fe6871d30d177            2018-02"
      ]
     },
     "execution_count": 30,
     "metadata": {},
     "output_type": "execute_result"
    }
   ],
   "source": [
    "df_cohort = df_id_orders[['customer_unique_id', 'approve_month_year']].query('approve_month_year < \"2018-04\" and approve_month_year >= \"2017-01\"')\n",
    "df_cohort.head()"
   ]
  },
  {
   "cell_type": "markdown",
   "id": "3af24815",
   "metadata": {
    "id": "3af24815"
   },
   "source": [
    "Создадим таблицу с датой первой покупки каждого пользователя."
   ]
  },
  {
   "cell_type": "code",
   "execution_count": null,
   "id": "2b937c8c",
   "metadata": {
    "id": "2b937c8c",
    "outputId": "fd3c603d-7343-49ec-fa66-90c6cdf9e6f5"
   },
   "outputs": [
    {
     "data": {
      "text/html": [
       "<div>\n",
       "<style scoped>\n",
       "    .dataframe tbody tr th:only-of-type {\n",
       "        vertical-align: middle;\n",
       "    }\n",
       "\n",
       "    .dataframe tbody tr th {\n",
       "        vertical-align: top;\n",
       "    }\n",
       "\n",
       "    .dataframe thead th {\n",
       "        text-align: right;\n",
       "    }\n",
       "</style>\n",
       "<table border=\"1\" class=\"dataframe\">\n",
       "  <thead>\n",
       "    <tr style=\"text-align: right;\">\n",
       "      <th></th>\n",
       "      <th>customer_unique_id</th>\n",
       "      <th>first_purchase</th>\n",
       "    </tr>\n",
       "  </thead>\n",
       "  <tbody>\n",
       "    <tr>\n",
       "      <th>0</th>\n",
       "      <td>0000f46a3911fa3c0805444483337064</td>\n",
       "      <td>2017-03</td>\n",
       "    </tr>\n",
       "    <tr>\n",
       "      <th>1</th>\n",
       "      <td>0000f6ccb0745a6a4b88665a16c9f078</td>\n",
       "      <td>2017-10</td>\n",
       "    </tr>\n",
       "    <tr>\n",
       "      <th>2</th>\n",
       "      <td>0004aac84e0df4da2b147fca70cf8255</td>\n",
       "      <td>2017-11</td>\n",
       "    </tr>\n",
       "    <tr>\n",
       "      <th>3</th>\n",
       "      <td>00053a61a98854899e70ed204dd4bafe</td>\n",
       "      <td>2018-02</td>\n",
       "    </tr>\n",
       "    <tr>\n",
       "      <th>4</th>\n",
       "      <td>0005e1862207bf6ccc02e4228effd9a0</td>\n",
       "      <td>2017-03</td>\n",
       "    </tr>\n",
       "  </tbody>\n",
       "</table>\n",
       "</div>"
      ],
      "text/plain": [
       "                 customer_unique_id first_purchase\n",
       "0  0000f46a3911fa3c0805444483337064        2017-03\n",
       "1  0000f6ccb0745a6a4b88665a16c9f078        2017-10\n",
       "2  0004aac84e0df4da2b147fca70cf8255        2017-11\n",
       "3  00053a61a98854899e70ed204dd4bafe        2018-02\n",
       "4  0005e1862207bf6ccc02e4228effd9a0        2017-03"
      ]
     },
     "execution_count": 31,
     "metadata": {},
     "output_type": "execute_result"
    }
   ],
   "source": [
    "first_purchase = df_cohort.groupby('customer_unique_id', as_index=False) \\\n",
    "                             .agg({'approve_month_year': 'min'}) \\\n",
    "                             .rename(columns = {'approve_month_year': 'first_purchase'})\n",
    "first_purchase.head()"
   ]
  },
  {
   "cell_type": "markdown",
   "id": "659fae4c",
   "metadata": {
    "id": "659fae4c"
   },
   "source": [
    "Теперь нам нужно объединить данные из последних двух таблиц."
   ]
  },
  {
   "cell_type": "code",
   "execution_count": null,
   "id": "20bc79d9",
   "metadata": {
    "id": "20bc79d9",
    "outputId": "ed34a2ad-5d60-4a52-87c7-0a0b8d01f589"
   },
   "outputs": [
    {
     "data": {
      "text/html": [
       "<div>\n",
       "<style scoped>\n",
       "    .dataframe tbody tr th:only-of-type {\n",
       "        vertical-align: middle;\n",
       "    }\n",
       "\n",
       "    .dataframe tbody tr th {\n",
       "        vertical-align: top;\n",
       "    }\n",
       "\n",
       "    .dataframe thead th {\n",
       "        text-align: right;\n",
       "    }\n",
       "</style>\n",
       "<table border=\"1\" class=\"dataframe\">\n",
       "  <thead>\n",
       "    <tr style=\"text-align: right;\">\n",
       "      <th></th>\n",
       "      <th>customer_unique_id</th>\n",
       "      <th>approve_month_year</th>\n",
       "      <th>first_purchase</th>\n",
       "    </tr>\n",
       "  </thead>\n",
       "  <tbody>\n",
       "    <tr>\n",
       "      <th>0</th>\n",
       "      <td>861eff4711a542e4b93843c6dd7febb0</td>\n",
       "      <td>2017-05</td>\n",
       "      <td>2017-05</td>\n",
       "    </tr>\n",
       "    <tr>\n",
       "      <th>1</th>\n",
       "      <td>290c77bc529b7ac935b93aa66c333dc3</td>\n",
       "      <td>2018-01</td>\n",
       "      <td>2018-01</td>\n",
       "    </tr>\n",
       "    <tr>\n",
       "      <th>2</th>\n",
       "      <td>259dac757896d24d7702b9acbbff3f3c</td>\n",
       "      <td>2018-03</td>\n",
       "      <td>2018-03</td>\n",
       "    </tr>\n",
       "    <tr>\n",
       "      <th>3</th>\n",
       "      <td>4c93744516667ad3b8f1fb645a3116a4</td>\n",
       "      <td>2017-09</td>\n",
       "      <td>2017-09</td>\n",
       "    </tr>\n",
       "    <tr>\n",
       "      <th>4</th>\n",
       "      <td>4c93744516667ad3b8f1fb645a3116a4</td>\n",
       "      <td>2017-10</td>\n",
       "      <td>2017-09</td>\n",
       "    </tr>\n",
       "  </tbody>\n",
       "</table>\n",
       "</div>"
      ],
      "text/plain": [
       "                 customer_unique_id approve_month_year first_purchase\n",
       "0  861eff4711a542e4b93843c6dd7febb0            2017-05        2017-05\n",
       "1  290c77bc529b7ac935b93aa66c333dc3            2018-01        2018-01\n",
       "2  259dac757896d24d7702b9acbbff3f3c            2018-03        2018-03\n",
       "3  4c93744516667ad3b8f1fb645a3116a4            2017-09        2017-09\n",
       "4  4c93744516667ad3b8f1fb645a3116a4            2017-10        2017-09"
      ]
     },
     "execution_count": 32,
     "metadata": {},
     "output_type": "execute_result"
    }
   ],
   "source": [
    "df_5 = df_cohort.merge( first_purchase, on = 'customer_unique_id')\n",
    "df_5.head()"
   ]
  },
  {
   "cell_type": "markdown",
   "id": "0a198852",
   "metadata": {
    "id": "0a198852"
   },
   "source": [
    "Далее нам необходимо посчитать количество уникальных пользователей совершивших покупки за каждый интересующий нас месяц"
   ]
  },
  {
   "cell_type": "code",
   "execution_count": null,
   "id": "bc3c6f2c",
   "metadata": {
    "id": "bc3c6f2c",
    "outputId": "9691fe77-f350-4302-b0a6-657bda493e0e"
   },
   "outputs": [
    {
     "data": {
      "text/html": [
       "<div>\n",
       "<style scoped>\n",
       "    .dataframe tbody tr th:only-of-type {\n",
       "        vertical-align: middle;\n",
       "    }\n",
       "\n",
       "    .dataframe tbody tr th {\n",
       "        vertical-align: top;\n",
       "    }\n",
       "\n",
       "    .dataframe thead th {\n",
       "        text-align: right;\n",
       "    }\n",
       "</style>\n",
       "<table border=\"1\" class=\"dataframe\">\n",
       "  <thead>\n",
       "    <tr style=\"text-align: right;\">\n",
       "      <th></th>\n",
       "      <th>first_purchase</th>\n",
       "      <th>total</th>\n",
       "    </tr>\n",
       "  </thead>\n",
       "  <tbody>\n",
       "    <tr>\n",
       "      <th>0</th>\n",
       "      <td>2017-01</td>\n",
       "      <td>727</td>\n",
       "    </tr>\n",
       "    <tr>\n",
       "      <th>1</th>\n",
       "      <td>2017-02</td>\n",
       "      <td>1736</td>\n",
       "    </tr>\n",
       "    <tr>\n",
       "      <th>2</th>\n",
       "      <td>2017-03</td>\n",
       "      <td>2643</td>\n",
       "    </tr>\n",
       "    <tr>\n",
       "      <th>3</th>\n",
       "      <td>2017-04</td>\n",
       "      <td>2324</td>\n",
       "    </tr>\n",
       "    <tr>\n",
       "      <th>4</th>\n",
       "      <td>2017-05</td>\n",
       "      <td>3592</td>\n",
       "    </tr>\n",
       "  </tbody>\n",
       "</table>\n",
       "</div>"
      ],
      "text/plain": [
       "  first_purchase  total\n",
       "0        2017-01    727\n",
       "1        2017-02   1736\n",
       "2        2017-03   2643\n",
       "3        2017-04   2324\n",
       "4        2017-05   3592"
      ]
     },
     "execution_count": 33,
     "metadata": {},
     "output_type": "execute_result"
    }
   ],
   "source": [
    "df_total = df_5.groupby( ['first_purchase'], as_index = False)\\\n",
    "                             .agg({'customer_unique_id': 'nunique'})\\\n",
    "                             .rename(columns = {'customer_unique_id': 'total'})\n",
    "df_total.head()"
   ]
  },
  {
   "cell_type": "markdown",
   "id": "8e93a9dd",
   "metadata": {
    "id": "8e93a9dd"
   },
   "source": [
    "А теперь посчитаем количество уникальных покупателей, совершивших покупки не в первый месяц, по месяцам."
   ]
  },
  {
   "cell_type": "code",
   "execution_count": null,
   "id": "4654f4a4",
   "metadata": {
    "id": "4654f4a4",
    "outputId": "dfae14dc-1d91-4193-95ed-e688cd9e5d64"
   },
   "outputs": [
    {
     "data": {
      "text/html": [
       "<div>\n",
       "<style scoped>\n",
       "    .dataframe tbody tr th:only-of-type {\n",
       "        vertical-align: middle;\n",
       "    }\n",
       "\n",
       "    .dataframe tbody tr th {\n",
       "        vertical-align: top;\n",
       "    }\n",
       "\n",
       "    .dataframe thead th {\n",
       "        text-align: right;\n",
       "    }\n",
       "</style>\n",
       "<table border=\"1\" class=\"dataframe\">\n",
       "  <thead>\n",
       "    <tr style=\"text-align: right;\">\n",
       "      <th></th>\n",
       "      <th>first_purchase</th>\n",
       "      <th>approve_month_year</th>\n",
       "      <th>customer_unique_id</th>\n",
       "    </tr>\n",
       "  </thead>\n",
       "  <tbody>\n",
       "    <tr>\n",
       "      <th>0</th>\n",
       "      <td>2017-01</td>\n",
       "      <td>2017-01</td>\n",
       "      <td>727</td>\n",
       "    </tr>\n",
       "    <tr>\n",
       "      <th>1</th>\n",
       "      <td>2017-01</td>\n",
       "      <td>2017-02</td>\n",
       "      <td>4</td>\n",
       "    </tr>\n",
       "    <tr>\n",
       "      <th>2</th>\n",
       "      <td>2017-01</td>\n",
       "      <td>2017-03</td>\n",
       "      <td>2</td>\n",
       "    </tr>\n",
       "    <tr>\n",
       "      <th>3</th>\n",
       "      <td>2017-01</td>\n",
       "      <td>2017-04</td>\n",
       "      <td>1</td>\n",
       "    </tr>\n",
       "    <tr>\n",
       "      <th>4</th>\n",
       "      <td>2017-01</td>\n",
       "      <td>2017-05</td>\n",
       "      <td>3</td>\n",
       "    </tr>\n",
       "  </tbody>\n",
       "</table>\n",
       "</div>"
      ],
      "text/plain": [
       "  first_purchase approve_month_year  customer_unique_id\n",
       "0        2017-01            2017-01                 727\n",
       "1        2017-01            2017-02                   4\n",
       "2        2017-01            2017-03                   2\n",
       "3        2017-01            2017-04                   1\n",
       "4        2017-01            2017-05                   3"
      ]
     },
     "execution_count": 34,
     "metadata": {},
     "output_type": "execute_result"
    }
   ],
   "source": [
    "df_total_another_month = df_5.groupby(['first_purchase', 'approve_month_year'], as_index = False)\\\n",
    "                                .agg({'customer_unique_id':'nunique'})\n",
    "df_total_another_month.head()"
   ]
  },
  {
   "cell_type": "markdown",
   "id": "d54d681a",
   "metadata": {
    "id": "d54d681a"
   },
   "source": [
    "Необходимо объединить последние два датасета."
   ]
  },
  {
   "cell_type": "code",
   "execution_count": null,
   "id": "484d26c3",
   "metadata": {
    "id": "484d26c3",
    "outputId": "e0bff72a-30ed-4d8f-b3b2-5eb84d067db4"
   },
   "outputs": [
    {
     "data": {
      "text/html": [
       "<div>\n",
       "<style scoped>\n",
       "    .dataframe tbody tr th:only-of-type {\n",
       "        vertical-align: middle;\n",
       "    }\n",
       "\n",
       "    .dataframe tbody tr th {\n",
       "        vertical-align: top;\n",
       "    }\n",
       "\n",
       "    .dataframe thead th {\n",
       "        text-align: right;\n",
       "    }\n",
       "</style>\n",
       "<table border=\"1\" class=\"dataframe\">\n",
       "  <thead>\n",
       "    <tr style=\"text-align: right;\">\n",
       "      <th></th>\n",
       "      <th>first_purchase</th>\n",
       "      <th>total</th>\n",
       "      <th>approve_month_year</th>\n",
       "      <th>customer_unique_id</th>\n",
       "    </tr>\n",
       "  </thead>\n",
       "  <tbody>\n",
       "    <tr>\n",
       "      <th>0</th>\n",
       "      <td>2017-01</td>\n",
       "      <td>727</td>\n",
       "      <td>2017-01</td>\n",
       "      <td>727</td>\n",
       "    </tr>\n",
       "    <tr>\n",
       "      <th>1</th>\n",
       "      <td>2017-01</td>\n",
       "      <td>727</td>\n",
       "      <td>2017-02</td>\n",
       "      <td>4</td>\n",
       "    </tr>\n",
       "    <tr>\n",
       "      <th>2</th>\n",
       "      <td>2017-01</td>\n",
       "      <td>727</td>\n",
       "      <td>2017-03</td>\n",
       "      <td>2</td>\n",
       "    </tr>\n",
       "    <tr>\n",
       "      <th>3</th>\n",
       "      <td>2017-01</td>\n",
       "      <td>727</td>\n",
       "      <td>2017-04</td>\n",
       "      <td>1</td>\n",
       "    </tr>\n",
       "    <tr>\n",
       "      <th>4</th>\n",
       "      <td>2017-01</td>\n",
       "      <td>727</td>\n",
       "      <td>2017-05</td>\n",
       "      <td>3</td>\n",
       "    </tr>\n",
       "  </tbody>\n",
       "</table>\n",
       "</div>"
      ],
      "text/plain": [
       "  first_purchase  total approve_month_year  customer_unique_id\n",
       "0        2017-01    727            2017-01                 727\n",
       "1        2017-01    727            2017-02                   4\n",
       "2        2017-01    727            2017-03                   2\n",
       "3        2017-01    727            2017-04                   1\n",
       "4        2017-01    727            2017-05                   3"
      ]
     },
     "execution_count": 35,
     "metadata": {},
     "output_type": "execute_result"
    }
   ],
   "source": [
    "df_cohort_final = df_total.merge(df_total_another_month, on ='first_purchase')\n",
    "df_cohort_final.head()"
   ]
  },
  {
   "cell_type": "code",
   "execution_count": null,
   "id": "a5040785",
   "metadata": {
    "id": "a5040785",
    "outputId": "9d832048-8570-42f7-ff3f-04d6b08456b4"
   },
   "outputs": [
    {
     "name": "stdout",
     "output_type": "stream",
     "text": [
      "<class 'pandas.core.frame.DataFrame'>\n",
      "Int64Index: 119 entries, 0 to 118\n",
      "Data columns (total 4 columns):\n",
      " #   Column              Non-Null Count  Dtype    \n",
      "---  ------              --------------  -----    \n",
      " 0   first_purchase      119 non-null    period[M]\n",
      " 1   total               119 non-null    int64    \n",
      " 2   approve_month_year  119 non-null    period[M]\n",
      " 3   customer_unique_id  119 non-null    int64    \n",
      "dtypes: int64(2), period[M](2)\n",
      "memory usage: 4.6 KB\n"
     ]
    }
   ],
   "source": [
    "df_cohort_final.info()"
   ]
  },
  {
   "cell_type": "markdown",
   "id": "f4039a26",
   "metadata": {
    "id": "f4039a26"
   },
   "source": [
    "Теперь посчитаем разницу в месяцах покупки между первой и остальными. И внесем это в новую колонку."
   ]
  },
  {
   "cell_type": "code",
   "execution_count": null,
   "id": "b4b17fb1",
   "metadata": {
    "id": "b4b17fb1",
    "outputId": "f342938d-b3b6-4f4e-ba25-09bd6a546a73"
   },
   "outputs": [
    {
     "data": {
      "text/html": [
       "<div>\n",
       "<style scoped>\n",
       "    .dataframe tbody tr th:only-of-type {\n",
       "        vertical-align: middle;\n",
       "    }\n",
       "\n",
       "    .dataframe tbody tr th {\n",
       "        vertical-align: top;\n",
       "    }\n",
       "\n",
       "    .dataframe thead th {\n",
       "        text-align: right;\n",
       "    }\n",
       "</style>\n",
       "<table border=\"1\" class=\"dataframe\">\n",
       "  <thead>\n",
       "    <tr style=\"text-align: right;\">\n",
       "      <th></th>\n",
       "      <th>first_purchase</th>\n",
       "      <th>total</th>\n",
       "      <th>approve_month_year</th>\n",
       "      <th>customer_unique_id</th>\n",
       "      <th>months_diff</th>\n",
       "    </tr>\n",
       "  </thead>\n",
       "  <tbody>\n",
       "    <tr>\n",
       "      <th>0</th>\n",
       "      <td>2017-01</td>\n",
       "      <td>727</td>\n",
       "      <td>2017-01</td>\n",
       "      <td>727</td>\n",
       "      <td>&lt;0 * MonthEnds&gt;</td>\n",
       "    </tr>\n",
       "    <tr>\n",
       "      <th>1</th>\n",
       "      <td>2017-01</td>\n",
       "      <td>727</td>\n",
       "      <td>2017-02</td>\n",
       "      <td>4</td>\n",
       "      <td>&lt;MonthEnd&gt;</td>\n",
       "    </tr>\n",
       "    <tr>\n",
       "      <th>2</th>\n",
       "      <td>2017-01</td>\n",
       "      <td>727</td>\n",
       "      <td>2017-03</td>\n",
       "      <td>2</td>\n",
       "      <td>&lt;2 * MonthEnds&gt;</td>\n",
       "    </tr>\n",
       "    <tr>\n",
       "      <th>3</th>\n",
       "      <td>2017-01</td>\n",
       "      <td>727</td>\n",
       "      <td>2017-04</td>\n",
       "      <td>1</td>\n",
       "      <td>&lt;3 * MonthEnds&gt;</td>\n",
       "    </tr>\n",
       "    <tr>\n",
       "      <th>4</th>\n",
       "      <td>2017-01</td>\n",
       "      <td>727</td>\n",
       "      <td>2017-05</td>\n",
       "      <td>3</td>\n",
       "      <td>&lt;4 * MonthEnds&gt;</td>\n",
       "    </tr>\n",
       "  </tbody>\n",
       "</table>\n",
       "</div>"
      ],
      "text/plain": [
       "  first_purchase  total approve_month_year  customer_unique_id  \\\n",
       "0        2017-01    727            2017-01                 727   \n",
       "1        2017-01    727            2017-02                   4   \n",
       "2        2017-01    727            2017-03                   2   \n",
       "3        2017-01    727            2017-04                   1   \n",
       "4        2017-01    727            2017-05                   3   \n",
       "\n",
       "       months_diff  \n",
       "0  <0 * MonthEnds>  \n",
       "1       <MonthEnd>  \n",
       "2  <2 * MonthEnds>  \n",
       "3  <3 * MonthEnds>  \n",
       "4  <4 * MonthEnds>  "
      ]
     },
     "execution_count": 37,
     "metadata": {},
     "output_type": "execute_result"
    }
   ],
   "source": [
    "df_cohort_final['months_diff'] = df_cohort_final.approve_month_year - df_cohort_final.first_purchase\n",
    "df_cohort_final.head()"
   ]
  },
  {
   "cell_type": "code",
   "execution_count": null,
   "id": "da72d600",
   "metadata": {
    "id": "da72d600",
    "outputId": "52260351-0e6c-41e8-dda7-62ca50a8aed4"
   },
   "outputs": [
    {
     "data": {
      "text/plain": [
       "array([<0 * MonthEnds>, <MonthEnd>, <2 * MonthEnds>, <3 * MonthEnds>,\n",
       "       <4 * MonthEnds>, <5 * MonthEnds>, <6 * MonthEnds>, <7 * MonthEnds>,\n",
       "       <8 * MonthEnds>, <10 * MonthEnds>, <11 * MonthEnds>,\n",
       "       <12 * MonthEnds>, <13 * MonthEnds>, <14 * MonthEnds>,\n",
       "       <9 * MonthEnds>], dtype=object)"
      ]
     },
     "execution_count": 38,
     "metadata": {},
     "output_type": "execute_result"
    }
   ],
   "source": [
    "df_cohort_final.months_diff.unique()"
   ]
  },
  {
   "cell_type": "code",
   "execution_count": null,
   "id": "fbff02e6",
   "metadata": {
    "id": "fbff02e6",
    "outputId": "447a0026-fe54-43f2-ba6a-a4e4ce3295cc"
   },
   "outputs": [
    {
     "name": "stdout",
     "output_type": "stream",
     "text": [
      "<class 'pandas.core.frame.DataFrame'>\n",
      "Int64Index: 119 entries, 0 to 118\n",
      "Data columns (total 5 columns):\n",
      " #   Column              Non-Null Count  Dtype    \n",
      "---  ------              --------------  -----    \n",
      " 0   first_purchase      119 non-null    period[M]\n",
      " 1   total               119 non-null    int64    \n",
      " 2   approve_month_year  119 non-null    period[M]\n",
      " 3   customer_unique_id  119 non-null    int64    \n",
      " 4   months_diff         119 non-null    object   \n",
      "dtypes: int64(2), object(1), period[M](2)\n",
      "memory usage: 5.6+ KB\n"
     ]
    }
   ],
   "source": [
    "df_cohort_final.info()"
   ]
  },
  {
   "cell_type": "code",
   "execution_count": null,
   "id": "ac3d0705",
   "metadata": {
    "id": "ac3d0705"
   },
   "outputs": [],
   "source": [
    "def monthend(x):\n",
    "    if x.startswith(\"<\") and x.endswith(\" * MonthEnds>\"):\n",
    "        number = x[1:-13]  # Извлекаем число из строки\n",
    "        try:\n",
    "            number = int(number)  # Преобразуем число в int\n",
    "            return number\n",
    "        except ValueError:\n",
    "            pass\n",
    "    elif x == \"<MonthEnd>\":\n",
    "        return 1\n",
    "\n",
    "    return x  # Возвращаем исходную строку, если замена не выполнена"
   ]
  },
  {
   "cell_type": "code",
   "execution_count": null,
   "id": "82af1ad8",
   "metadata": {
    "id": "82af1ad8"
   },
   "outputs": [],
   "source": [
    "df_cohort_final.months_diff = df_cohort_final.months_diff.astype(str).apply(monthend)"
   ]
  },
  {
   "cell_type": "code",
   "execution_count": null,
   "id": "086744f4",
   "metadata": {
    "id": "086744f4",
    "outputId": "34cc137c-7d8f-4734-ac80-fce444b213f5"
   },
   "outputs": [
    {
     "data": {
      "text/html": [
       "<div>\n",
       "<style scoped>\n",
       "    .dataframe tbody tr th:only-of-type {\n",
       "        vertical-align: middle;\n",
       "    }\n",
       "\n",
       "    .dataframe tbody tr th {\n",
       "        vertical-align: top;\n",
       "    }\n",
       "\n",
       "    .dataframe thead th {\n",
       "        text-align: right;\n",
       "    }\n",
       "</style>\n",
       "<table border=\"1\" class=\"dataframe\">\n",
       "  <thead>\n",
       "    <tr style=\"text-align: right;\">\n",
       "      <th></th>\n",
       "      <th>first_purchase</th>\n",
       "      <th>total</th>\n",
       "      <th>approve_month_year</th>\n",
       "      <th>customer_unique_id</th>\n",
       "      <th>months_diff</th>\n",
       "    </tr>\n",
       "  </thead>\n",
       "  <tbody>\n",
       "    <tr>\n",
       "      <th>0</th>\n",
       "      <td>2017-01</td>\n",
       "      <td>727</td>\n",
       "      <td>2017-01</td>\n",
       "      <td>727</td>\n",
       "      <td>0</td>\n",
       "    </tr>\n",
       "    <tr>\n",
       "      <th>1</th>\n",
       "      <td>2017-01</td>\n",
       "      <td>727</td>\n",
       "      <td>2017-02</td>\n",
       "      <td>4</td>\n",
       "      <td>1</td>\n",
       "    </tr>\n",
       "    <tr>\n",
       "      <th>2</th>\n",
       "      <td>2017-01</td>\n",
       "      <td>727</td>\n",
       "      <td>2017-03</td>\n",
       "      <td>2</td>\n",
       "      <td>2</td>\n",
       "    </tr>\n",
       "    <tr>\n",
       "      <th>3</th>\n",
       "      <td>2017-01</td>\n",
       "      <td>727</td>\n",
       "      <td>2017-04</td>\n",
       "      <td>1</td>\n",
       "      <td>3</td>\n",
       "    </tr>\n",
       "    <tr>\n",
       "      <th>4</th>\n",
       "      <td>2017-01</td>\n",
       "      <td>727</td>\n",
       "      <td>2017-05</td>\n",
       "      <td>3</td>\n",
       "      <td>4</td>\n",
       "    </tr>\n",
       "    <tr>\n",
       "      <th>...</th>\n",
       "      <td>...</td>\n",
       "      <td>...</td>\n",
       "      <td>...</td>\n",
       "      <td>...</td>\n",
       "      <td>...</td>\n",
       "    </tr>\n",
       "    <tr>\n",
       "      <th>114</th>\n",
       "      <td>2018-01</td>\n",
       "      <td>6950</td>\n",
       "      <td>2018-02</td>\n",
       "      <td>25</td>\n",
       "      <td>1</td>\n",
       "    </tr>\n",
       "    <tr>\n",
       "      <th>115</th>\n",
       "      <td>2018-01</td>\n",
       "      <td>6950</td>\n",
       "      <td>2018-03</td>\n",
       "      <td>28</td>\n",
       "      <td>2</td>\n",
       "    </tr>\n",
       "    <tr>\n",
       "      <th>116</th>\n",
       "      <td>2018-02</td>\n",
       "      <td>6429</td>\n",
       "      <td>2018-02</td>\n",
       "      <td>6429</td>\n",
       "      <td>0</td>\n",
       "    </tr>\n",
       "    <tr>\n",
       "      <th>117</th>\n",
       "      <td>2018-02</td>\n",
       "      <td>6429</td>\n",
       "      <td>2018-03</td>\n",
       "      <td>23</td>\n",
       "      <td>1</td>\n",
       "    </tr>\n",
       "    <tr>\n",
       "      <th>118</th>\n",
       "      <td>2018-03</td>\n",
       "      <td>7043</td>\n",
       "      <td>2018-03</td>\n",
       "      <td>7043</td>\n",
       "      <td>0</td>\n",
       "    </tr>\n",
       "  </tbody>\n",
       "</table>\n",
       "<p>119 rows × 5 columns</p>\n",
       "</div>"
      ],
      "text/plain": [
       "    first_purchase  total approve_month_year  customer_unique_id  months_diff\n",
       "0          2017-01    727            2017-01                 727            0\n",
       "1          2017-01    727            2017-02                   4            1\n",
       "2          2017-01    727            2017-03                   2            2\n",
       "3          2017-01    727            2017-04                   1            3\n",
       "4          2017-01    727            2017-05                   3            4\n",
       "..             ...    ...                ...                 ...          ...\n",
       "114        2018-01   6950            2018-02                  25            1\n",
       "115        2018-01   6950            2018-03                  28            2\n",
       "116        2018-02   6429            2018-02                6429            0\n",
       "117        2018-02   6429            2018-03                  23            1\n",
       "118        2018-03   7043            2018-03                7043            0\n",
       "\n",
       "[119 rows x 5 columns]"
      ]
     },
     "execution_count": 42,
     "metadata": {},
     "output_type": "execute_result"
    }
   ],
   "source": [
    "df_cohort_final"
   ]
  },
  {
   "cell_type": "markdown",
   "id": "a14d55be",
   "metadata": {
    "id": "a14d55be"
   },
   "source": [
    "Создадим еще одну колонку, где разделим количество покупателей, совершивших повторную покупку в определенном месяце на общее количество покупателей в когорте."
   ]
  },
  {
   "cell_type": "code",
   "execution_count": null,
   "id": "e19820d2",
   "metadata": {
    "id": "e19820d2",
    "outputId": "b5526034-a0ba-4be1-b62e-53ecc75a94d5"
   },
   "outputs": [
    {
     "data": {
      "text/html": [
       "<div>\n",
       "<style scoped>\n",
       "    .dataframe tbody tr th:only-of-type {\n",
       "        vertical-align: middle;\n",
       "    }\n",
       "\n",
       "    .dataframe tbody tr th {\n",
       "        vertical-align: top;\n",
       "    }\n",
       "\n",
       "    .dataframe thead th {\n",
       "        text-align: right;\n",
       "    }\n",
       "</style>\n",
       "<table border=\"1\" class=\"dataframe\">\n",
       "  <thead>\n",
       "    <tr style=\"text-align: right;\">\n",
       "      <th></th>\n",
       "      <th>first_purchase</th>\n",
       "      <th>total</th>\n",
       "      <th>approve_month_year</th>\n",
       "      <th>customer_unique_id</th>\n",
       "      <th>months_diff</th>\n",
       "      <th>retention_rate</th>\n",
       "    </tr>\n",
       "  </thead>\n",
       "  <tbody>\n",
       "    <tr>\n",
       "      <th>0</th>\n",
       "      <td>2017-01</td>\n",
       "      <td>727</td>\n",
       "      <td>2017-01</td>\n",
       "      <td>727</td>\n",
       "      <td>0</td>\n",
       "      <td>1.000000</td>\n",
       "    </tr>\n",
       "    <tr>\n",
       "      <th>1</th>\n",
       "      <td>2017-01</td>\n",
       "      <td>727</td>\n",
       "      <td>2017-02</td>\n",
       "      <td>4</td>\n",
       "      <td>1</td>\n",
       "      <td>0.005502</td>\n",
       "    </tr>\n",
       "    <tr>\n",
       "      <th>2</th>\n",
       "      <td>2017-01</td>\n",
       "      <td>727</td>\n",
       "      <td>2017-03</td>\n",
       "      <td>2</td>\n",
       "      <td>2</td>\n",
       "      <td>0.002751</td>\n",
       "    </tr>\n",
       "    <tr>\n",
       "      <th>3</th>\n",
       "      <td>2017-01</td>\n",
       "      <td>727</td>\n",
       "      <td>2017-04</td>\n",
       "      <td>1</td>\n",
       "      <td>3</td>\n",
       "      <td>0.001376</td>\n",
       "    </tr>\n",
       "    <tr>\n",
       "      <th>4</th>\n",
       "      <td>2017-01</td>\n",
       "      <td>727</td>\n",
       "      <td>2017-05</td>\n",
       "      <td>3</td>\n",
       "      <td>4</td>\n",
       "      <td>0.004127</td>\n",
       "    </tr>\n",
       "  </tbody>\n",
       "</table>\n",
       "</div>"
      ],
      "text/plain": [
       "  first_purchase  total approve_month_year  customer_unique_id  months_diff  \\\n",
       "0        2017-01    727            2017-01                 727            0   \n",
       "1        2017-01    727            2017-02                   4            1   \n",
       "2        2017-01    727            2017-03                   2            2   \n",
       "3        2017-01    727            2017-04                   1            3   \n",
       "4        2017-01    727            2017-05                   3            4   \n",
       "\n",
       "   retention_rate  \n",
       "0        1.000000  \n",
       "1        0.005502  \n",
       "2        0.002751  \n",
       "3        0.001376  \n",
       "4        0.004127  "
      ]
     },
     "execution_count": 43,
     "metadata": {},
     "output_type": "execute_result"
    }
   ],
   "source": [
    "df_cohort_final['retention_rate'] = (df_cohort_final.customer_unique_id / df_cohort_final.total)\n",
    "df_cohort_final.head()"
   ]
  },
  {
   "cell_type": "markdown",
   "id": "499e87c1",
   "metadata": {
    "id": "499e87c1"
   },
   "source": [
    "Нам нужна более наглядная таблица"
   ]
  },
  {
   "cell_type": "code",
   "execution_count": null,
   "id": "aa27f05b",
   "metadata": {
    "id": "aa27f05b",
    "outputId": "e0d7124f-34b9-4eda-d756-351b04bb3dd4"
   },
   "outputs": [
    {
     "data": {
      "text/html": [
       "<div>\n",
       "<style scoped>\n",
       "    .dataframe tbody tr th:only-of-type {\n",
       "        vertical-align: middle;\n",
       "    }\n",
       "\n",
       "    .dataframe tbody tr th {\n",
       "        vertical-align: top;\n",
       "    }\n",
       "\n",
       "    .dataframe thead th {\n",
       "        text-align: right;\n",
       "    }\n",
       "</style>\n",
       "<table border=\"1\" class=\"dataframe\">\n",
       "  <thead>\n",
       "    <tr style=\"text-align: right;\">\n",
       "      <th>months_diff</th>\n",
       "      <th>0</th>\n",
       "      <th>1</th>\n",
       "      <th>2</th>\n",
       "      <th>3</th>\n",
       "      <th>4</th>\n",
       "      <th>5</th>\n",
       "      <th>6</th>\n",
       "      <th>7</th>\n",
       "      <th>8</th>\n",
       "      <th>9</th>\n",
       "      <th>10</th>\n",
       "      <th>11</th>\n",
       "      <th>12</th>\n",
       "      <th>13</th>\n",
       "      <th>14</th>\n",
       "    </tr>\n",
       "    <tr>\n",
       "      <th>first_purchase</th>\n",
       "      <th></th>\n",
       "      <th></th>\n",
       "      <th></th>\n",
       "      <th></th>\n",
       "      <th></th>\n",
       "      <th></th>\n",
       "      <th></th>\n",
       "      <th></th>\n",
       "      <th></th>\n",
       "      <th></th>\n",
       "      <th></th>\n",
       "      <th></th>\n",
       "      <th></th>\n",
       "      <th></th>\n",
       "      <th></th>\n",
       "    </tr>\n",
       "  </thead>\n",
       "  <tbody>\n",
       "    <tr>\n",
       "      <th>2017-01</th>\n",
       "      <td>1.0</td>\n",
       "      <td>0.005502</td>\n",
       "      <td>0.002751</td>\n",
       "      <td>0.001376</td>\n",
       "      <td>0.004127</td>\n",
       "      <td>0.001376</td>\n",
       "      <td>0.005502</td>\n",
       "      <td>0.001376</td>\n",
       "      <td>0.001376</td>\n",
       "      <td>NaN</td>\n",
       "      <td>0.002751</td>\n",
       "      <td>0.002751</td>\n",
       "      <td>0.008253</td>\n",
       "      <td>0.004127</td>\n",
       "      <td>0.001376</td>\n",
       "    </tr>\n",
       "    <tr>\n",
       "      <th>2017-02</th>\n",
       "      <td>1.0</td>\n",
       "      <td>0.002304</td>\n",
       "      <td>0.002304</td>\n",
       "      <td>0.001728</td>\n",
       "      <td>0.004032</td>\n",
       "      <td>0.001152</td>\n",
       "      <td>0.002304</td>\n",
       "      <td>0.001728</td>\n",
       "      <td>0.001152</td>\n",
       "      <td>0.002304</td>\n",
       "      <td>0.001152</td>\n",
       "      <td>0.002880</td>\n",
       "      <td>0.001728</td>\n",
       "      <td>0.001728</td>\n",
       "      <td>NaN</td>\n",
       "    </tr>\n",
       "    <tr>\n",
       "      <th>2017-03</th>\n",
       "      <td>1.0</td>\n",
       "      <td>0.004919</td>\n",
       "      <td>0.003405</td>\n",
       "      <td>0.003405</td>\n",
       "      <td>0.003405</td>\n",
       "      <td>0.001513</td>\n",
       "      <td>0.001513</td>\n",
       "      <td>0.003027</td>\n",
       "      <td>0.003027</td>\n",
       "      <td>0.001135</td>\n",
       "      <td>0.003784</td>\n",
       "      <td>0.001513</td>\n",
       "      <td>0.002270</td>\n",
       "      <td>NaN</td>\n",
       "      <td>NaN</td>\n",
       "    </tr>\n",
       "    <tr>\n",
       "      <th>2017-04</th>\n",
       "      <td>1.0</td>\n",
       "      <td>0.006024</td>\n",
       "      <td>0.002151</td>\n",
       "      <td>0.001721</td>\n",
       "      <td>0.003012</td>\n",
       "      <td>0.002582</td>\n",
       "      <td>0.003442</td>\n",
       "      <td>0.002582</td>\n",
       "      <td>0.003442</td>\n",
       "      <td>0.001721</td>\n",
       "      <td>0.002151</td>\n",
       "      <td>0.000861</td>\n",
       "      <td>NaN</td>\n",
       "      <td>NaN</td>\n",
       "      <td>NaN</td>\n",
       "    </tr>\n",
       "    <tr>\n",
       "      <th>2017-05</th>\n",
       "      <td>1.0</td>\n",
       "      <td>0.005290</td>\n",
       "      <td>0.005011</td>\n",
       "      <td>0.003898</td>\n",
       "      <td>0.003062</td>\n",
       "      <td>0.003341</td>\n",
       "      <td>0.004176</td>\n",
       "      <td>0.001670</td>\n",
       "      <td>0.002506</td>\n",
       "      <td>0.003062</td>\n",
       "      <td>0.002784</td>\n",
       "      <td>NaN</td>\n",
       "      <td>NaN</td>\n",
       "      <td>NaN</td>\n",
       "      <td>NaN</td>\n",
       "    </tr>\n",
       "    <tr>\n",
       "      <th>2017-06</th>\n",
       "      <td>1.0</td>\n",
       "      <td>0.004765</td>\n",
       "      <td>0.003494</td>\n",
       "      <td>0.004130</td>\n",
       "      <td>0.002541</td>\n",
       "      <td>0.003494</td>\n",
       "      <td>0.003812</td>\n",
       "      <td>0.002224</td>\n",
       "      <td>0.001271</td>\n",
       "      <td>0.002224</td>\n",
       "      <td>NaN</td>\n",
       "      <td>NaN</td>\n",
       "      <td>NaN</td>\n",
       "      <td>NaN</td>\n",
       "      <td>NaN</td>\n",
       "    </tr>\n",
       "    <tr>\n",
       "      <th>2017-07</th>\n",
       "      <td>1.0</td>\n",
       "      <td>0.005203</td>\n",
       "      <td>0.003382</td>\n",
       "      <td>0.002081</td>\n",
       "      <td>0.003382</td>\n",
       "      <td>0.001821</td>\n",
       "      <td>0.003122</td>\n",
       "      <td>0.001041</td>\n",
       "      <td>0.001821</td>\n",
       "      <td>NaN</td>\n",
       "      <td>NaN</td>\n",
       "      <td>NaN</td>\n",
       "      <td>NaN</td>\n",
       "      <td>NaN</td>\n",
       "      <td>NaN</td>\n",
       "    </tr>\n",
       "    <tr>\n",
       "      <th>2017-08</th>\n",
       "      <td>1.0</td>\n",
       "      <td>0.006660</td>\n",
       "      <td>0.003568</td>\n",
       "      <td>0.002617</td>\n",
       "      <td>0.003806</td>\n",
       "      <td>0.005233</td>\n",
       "      <td>0.002617</td>\n",
       "      <td>0.002617</td>\n",
       "      <td>NaN</td>\n",
       "      <td>NaN</td>\n",
       "      <td>NaN</td>\n",
       "      <td>NaN</td>\n",
       "      <td>NaN</td>\n",
       "      <td>NaN</td>\n",
       "      <td>NaN</td>\n",
       "    </tr>\n",
       "    <tr>\n",
       "      <th>2017-09</th>\n",
       "      <td>1.0</td>\n",
       "      <td>0.006508</td>\n",
       "      <td>0.004820</td>\n",
       "      <td>0.003374</td>\n",
       "      <td>0.004338</td>\n",
       "      <td>0.002651</td>\n",
       "      <td>0.002169</td>\n",
       "      <td>NaN</td>\n",
       "      <td>NaN</td>\n",
       "      <td>NaN</td>\n",
       "      <td>NaN</td>\n",
       "      <td>NaN</td>\n",
       "      <td>NaN</td>\n",
       "      <td>NaN</td>\n",
       "      <td>NaN</td>\n",
       "    </tr>\n",
       "    <tr>\n",
       "      <th>2017-10</th>\n",
       "      <td>1.0</td>\n",
       "      <td>0.006767</td>\n",
       "      <td>0.002933</td>\n",
       "      <td>0.000902</td>\n",
       "      <td>0.002256</td>\n",
       "      <td>0.001805</td>\n",
       "      <td>NaN</td>\n",
       "      <td>NaN</td>\n",
       "      <td>NaN</td>\n",
       "      <td>NaN</td>\n",
       "      <td>NaN</td>\n",
       "      <td>NaN</td>\n",
       "      <td>NaN</td>\n",
       "      <td>NaN</td>\n",
       "      <td>NaN</td>\n",
       "    </tr>\n",
       "    <tr>\n",
       "      <th>2017-11</th>\n",
       "      <td>1.0</td>\n",
       "      <td>0.005444</td>\n",
       "      <td>0.003769</td>\n",
       "      <td>0.001675</td>\n",
       "      <td>0.001954</td>\n",
       "      <td>NaN</td>\n",
       "      <td>NaN</td>\n",
       "      <td>NaN</td>\n",
       "      <td>NaN</td>\n",
       "      <td>NaN</td>\n",
       "      <td>NaN</td>\n",
       "      <td>NaN</td>\n",
       "      <td>NaN</td>\n",
       "      <td>NaN</td>\n",
       "      <td>NaN</td>\n",
       "    </tr>\n",
       "    <tr>\n",
       "      <th>2017-12</th>\n",
       "      <td>1.0</td>\n",
       "      <td>0.002661</td>\n",
       "      <td>0.002661</td>\n",
       "      <td>0.003193</td>\n",
       "      <td>NaN</td>\n",
       "      <td>NaN</td>\n",
       "      <td>NaN</td>\n",
       "      <td>NaN</td>\n",
       "      <td>NaN</td>\n",
       "      <td>NaN</td>\n",
       "      <td>NaN</td>\n",
       "      <td>NaN</td>\n",
       "      <td>NaN</td>\n",
       "      <td>NaN</td>\n",
       "      <td>NaN</td>\n",
       "    </tr>\n",
       "    <tr>\n",
       "      <th>2018-01</th>\n",
       "      <td>1.0</td>\n",
       "      <td>0.003597</td>\n",
       "      <td>0.004029</td>\n",
       "      <td>NaN</td>\n",
       "      <td>NaN</td>\n",
       "      <td>NaN</td>\n",
       "      <td>NaN</td>\n",
       "      <td>NaN</td>\n",
       "      <td>NaN</td>\n",
       "      <td>NaN</td>\n",
       "      <td>NaN</td>\n",
       "      <td>NaN</td>\n",
       "      <td>NaN</td>\n",
       "      <td>NaN</td>\n",
       "      <td>NaN</td>\n",
       "    </tr>\n",
       "    <tr>\n",
       "      <th>2018-02</th>\n",
       "      <td>1.0</td>\n",
       "      <td>0.003578</td>\n",
       "      <td>NaN</td>\n",
       "      <td>NaN</td>\n",
       "      <td>NaN</td>\n",
       "      <td>NaN</td>\n",
       "      <td>NaN</td>\n",
       "      <td>NaN</td>\n",
       "      <td>NaN</td>\n",
       "      <td>NaN</td>\n",
       "      <td>NaN</td>\n",
       "      <td>NaN</td>\n",
       "      <td>NaN</td>\n",
       "      <td>NaN</td>\n",
       "      <td>NaN</td>\n",
       "    </tr>\n",
       "    <tr>\n",
       "      <th>2018-03</th>\n",
       "      <td>1.0</td>\n",
       "      <td>NaN</td>\n",
       "      <td>NaN</td>\n",
       "      <td>NaN</td>\n",
       "      <td>NaN</td>\n",
       "      <td>NaN</td>\n",
       "      <td>NaN</td>\n",
       "      <td>NaN</td>\n",
       "      <td>NaN</td>\n",
       "      <td>NaN</td>\n",
       "      <td>NaN</td>\n",
       "      <td>NaN</td>\n",
       "      <td>NaN</td>\n",
       "      <td>NaN</td>\n",
       "      <td>NaN</td>\n",
       "    </tr>\n",
       "  </tbody>\n",
       "</table>\n",
       "</div>"
      ],
      "text/plain": [
       "months_diff      0         1         2         3         4         5   \\\n",
       "first_purchase                                                          \n",
       "2017-01         1.0  0.005502  0.002751  0.001376  0.004127  0.001376   \n",
       "2017-02         1.0  0.002304  0.002304  0.001728  0.004032  0.001152   \n",
       "2017-03         1.0  0.004919  0.003405  0.003405  0.003405  0.001513   \n",
       "2017-04         1.0  0.006024  0.002151  0.001721  0.003012  0.002582   \n",
       "2017-05         1.0  0.005290  0.005011  0.003898  0.003062  0.003341   \n",
       "2017-06         1.0  0.004765  0.003494  0.004130  0.002541  0.003494   \n",
       "2017-07         1.0  0.005203  0.003382  0.002081  0.003382  0.001821   \n",
       "2017-08         1.0  0.006660  0.003568  0.002617  0.003806  0.005233   \n",
       "2017-09         1.0  0.006508  0.004820  0.003374  0.004338  0.002651   \n",
       "2017-10         1.0  0.006767  0.002933  0.000902  0.002256  0.001805   \n",
       "2017-11         1.0  0.005444  0.003769  0.001675  0.001954       NaN   \n",
       "2017-12         1.0  0.002661  0.002661  0.003193       NaN       NaN   \n",
       "2018-01         1.0  0.003597  0.004029       NaN       NaN       NaN   \n",
       "2018-02         1.0  0.003578       NaN       NaN       NaN       NaN   \n",
       "2018-03         1.0       NaN       NaN       NaN       NaN       NaN   \n",
       "\n",
       "months_diff           6         7         8         9         10        11  \\\n",
       "first_purchase                                                               \n",
       "2017-01         0.005502  0.001376  0.001376       NaN  0.002751  0.002751   \n",
       "2017-02         0.002304  0.001728  0.001152  0.002304  0.001152  0.002880   \n",
       "2017-03         0.001513  0.003027  0.003027  0.001135  0.003784  0.001513   \n",
       "2017-04         0.003442  0.002582  0.003442  0.001721  0.002151  0.000861   \n",
       "2017-05         0.004176  0.001670  0.002506  0.003062  0.002784       NaN   \n",
       "2017-06         0.003812  0.002224  0.001271  0.002224       NaN       NaN   \n",
       "2017-07         0.003122  0.001041  0.001821       NaN       NaN       NaN   \n",
       "2017-08         0.002617  0.002617       NaN       NaN       NaN       NaN   \n",
       "2017-09         0.002169       NaN       NaN       NaN       NaN       NaN   \n",
       "2017-10              NaN       NaN       NaN       NaN       NaN       NaN   \n",
       "2017-11              NaN       NaN       NaN       NaN       NaN       NaN   \n",
       "2017-12              NaN       NaN       NaN       NaN       NaN       NaN   \n",
       "2018-01              NaN       NaN       NaN       NaN       NaN       NaN   \n",
       "2018-02              NaN       NaN       NaN       NaN       NaN       NaN   \n",
       "2018-03              NaN       NaN       NaN       NaN       NaN       NaN   \n",
       "\n",
       "months_diff           12        13        14  \n",
       "first_purchase                                \n",
       "2017-01         0.008253  0.004127  0.001376  \n",
       "2017-02         0.001728  0.001728       NaN  \n",
       "2017-03         0.002270       NaN       NaN  \n",
       "2017-04              NaN       NaN       NaN  \n",
       "2017-05              NaN       NaN       NaN  \n",
       "2017-06              NaN       NaN       NaN  \n",
       "2017-07              NaN       NaN       NaN  \n",
       "2017-08              NaN       NaN       NaN  \n",
       "2017-09              NaN       NaN       NaN  \n",
       "2017-10              NaN       NaN       NaN  \n",
       "2017-11              NaN       NaN       NaN  \n",
       "2017-12              NaN       NaN       NaN  \n",
       "2018-01              NaN       NaN       NaN  \n",
       "2018-02              NaN       NaN       NaN  \n",
       "2018-03              NaN       NaN       NaN  "
      ]
     },
     "execution_count": 44,
     "metadata": {},
     "output_type": "execute_result"
    }
   ],
   "source": [
    "df_cohort_final_visual = df_cohort_final.pivot(columns='months_diff', index = 'first_purchase',values='retention_rate')\n",
    "df_cohort_final_visual"
   ]
  },
  {
   "cell_type": "markdown",
   "id": "786f13b8",
   "metadata": {
    "id": "786f13b8"
   },
   "source": [
    "Визуаилизируем наши данные."
   ]
  },
  {
   "cell_type": "code",
   "execution_count": null,
   "id": "cf9732cc",
   "metadata": {
    "id": "cf9732cc",
    "outputId": "3710c3b5-430c-4a3f-da46-fd142dfd7c3b"
   },
   "outputs": [
    {
     "data": {
      "image/png": "[encoded data removed]",
      "text/plain": [
       "<Figure size 2000x1500 with 2 Axes>"
      ]
     },
     "metadata": {},
     "output_type": "display_data"
    }
   ],
   "source": [
    "plt.figure(figsize = (20, 15))\n",
    "plt.title('Retention Rate по когортам', size= 15)\n",
    "sns.heatmap(df_cohort_final_visual, vmin=0.0, vmax=0.009, cmap=\"BuPu\", annot=True, fmt='.2%')\n",
    "plt.xlabel('Месяц по счету после первой покупки',size= 14)\n",
    "plt.ylabel('Месяц первой покупки', size= 14)\n",
    "plt.show()"
   ]
  },
  {
   "cell_type": "markdown",
   "id": "e7a266e4",
   "metadata": {
    "id": "e7a266e4"
   },
   "source": [
    "#### Судя по графику самая высокая возвращаемость при первой покупке это июнь 2017 года, на третий месяц retention rate составляет 0.41%"
   ]
  },
  {
   "cell_type": "markdown",
   "id": "6dc99232",
   "metadata": {
    "id": "6dc99232"
   },
   "source": [
    "\n",
    "#### 6. Часто для качественного анализа аудитории использую подходы, основанные на сегментации. Используя python, построй RFM-сегментацию пользователей, чтобы качественно оценить свою аудиторию. В кластеризации можешь выбрать следующие метрики: R - время от последней покупки пользователя до текущей даты, F - суммарное количество покупок у пользователя за всё время, M - сумма покупок за всё время. Подробно опиши, как ты создавал кластеры. Для каждого RFM-сегмента построй границы метрик recency, frequency и monetary для интерпретации этих кластеров. Пример такого описания: RFM-сегмент 132 (recency=1, frequency=3, monetary=2) имеет границы метрик recency от 130 до 500 дней, frequency от 2 до 5 заказов в неделю, monetary от 1780 до 3560 рублей в неделю."
   ]
  },
  {
   "cell_type": "markdown",
   "id": "0d5c2e59",
   "metadata": {
    "id": "0d5c2e59"
   },
   "source": [
    "Чтобы получить оценку RFM клиента, нам нужно сначала рассчитать оценки R, F и M по шкале от 1 (худший) до 5 (лучший).\n",
    "\n",
    "Recency : насколько недавно была совершена последняя покупка клиента.\n",
    "Frequency : как часто клиент совершает покупку.\n",
    "Monetary : сколько денег тратит клиент.\n",
    "\n",
    "    рассчитать Recency = количество дней с момента последней покупки\n",
    "    рассчитать Frequency = количество покупок за исследуемый период\n",
    "    рассчитать Monetary = общая сумма покупок, сделанных за исследуемый период\n",
    "    найти квинтили для каждого из этих измерений\n",
    "    дайте оценку каждому параметру в зависимости от того, в каком квинтиле он находится\n",
    "    объединить баллы R, F и M, чтобы получить балл RFM\n",
    "    сопоставить оценки RF с сегментами\n",
    "    \n",
    "Нам понадобятся данные о клиентах, как часто они покупают и на какую сумму. Для этого нам потребуются все три таблицы. Объединим используемую ранее таблицу с данными без пропусков по оплате с таблицей товаров."
   ]
  },
  {
   "cell_type": "code",
   "execution_count": null,
   "id": "93604362",
   "metadata": {
    "id": "93604362",
    "outputId": "4d3e12bc-a624-4cd5-d2b8-13944754782c"
   },
   "outputs": [
    {
     "name": "stdout",
     "output_type": "stream",
     "text": [
      "<class 'pandas.core.frame.DataFrame'>\n",
      "Int64Index: 112635 entries, 0 to 112634\n",
      "Data columns (total 20 columns):\n",
      " #   Column                         Non-Null Count   Dtype         \n",
      "---  ------                         --------------   -----         \n",
      " 0   customer_id                    112635 non-null  object        \n",
      " 1   customer_unique_id             112635 non-null  object        \n",
      " 2   customer_zip_code_prefix       112635 non-null  int64         \n",
      " 3   customer_city                  112635 non-null  object        \n",
      " 4   customer_state                 112635 non-null  object        \n",
      " 5   order_id                       112635 non-null  object        \n",
      " 6   order_status                   112635 non-null  object        \n",
      " 7   order_purchase_timestamp       112635 non-null  datetime64[ns]\n",
      " 8   order_approved_at              112635 non-null  datetime64[ns]\n",
      " 9   order_delivered_carrier_date   111441 non-null  datetime64[ns]\n",
      " 10  order_delivered_customer_date  110181 non-null  datetime64[ns]\n",
      " 11  order_estimated_delivery_date  112635 non-null  datetime64[ns]\n",
      " 12  month_year                     112635 non-null  period[M]     \n",
      " 13  approve_month_year             112635 non-null  period[M]     \n",
      " 14  order_item_id                  112635 non-null  int64         \n",
      " 15  product_id                     112635 non-null  object        \n",
      " 16  seller_id                      112635 non-null  object        \n",
      " 17  shipping_limit_date            112635 non-null  datetime64[ns]\n",
      " 18  price                          112635 non-null  float64       \n",
      " 19  freight_value                  112635 non-null  float64       \n",
      "dtypes: datetime64[ns](6), float64(2), int64(2), object(8), period[M](2)\n",
      "memory usage: 18.0+ MB\n"
     ]
    }
   ],
   "source": [
    "df_all = df_id_orders.merge(df_products, on = 'order_id')\n",
    "df_all.info()"
   ]
  },
  {
   "cell_type": "markdown",
   "id": "43289497",
   "metadata": {
    "id": "43289497"
   },
   "source": [
    "Уберем все данные об отмененных и недоступных заказах"
   ]
  },
  {
   "cell_type": "code",
   "execution_count": null,
   "id": "92e8110a",
   "metadata": {
    "id": "92e8110a"
   },
   "outputs": [],
   "source": [
    "df_all = df_all.query('order_status != \"canceled\" and order_status !=\"unavailable\"')"
   ]
  },
  {
   "cell_type": "markdown",
   "id": "8765d749",
   "metadata": {
    "id": "8765d749"
   },
   "source": [
    "Оставим только нужные нам колонки"
   ]
  },
  {
   "cell_type": "code",
   "execution_count": null,
   "id": "5cc9d2a9",
   "metadata": {
    "id": "5cc9d2a9",
    "outputId": "99a15587-7529-4cd8-89c8-c49b5140caab"
   },
   "outputs": [
    {
     "data": {
      "text/html": [
       "<div>\n",
       "<style scoped>\n",
       "    .dataframe tbody tr th:only-of-type {\n",
       "        vertical-align: middle;\n",
       "    }\n",
       "\n",
       "    .dataframe tbody tr th {\n",
       "        vertical-align: top;\n",
       "    }\n",
       "\n",
       "    .dataframe thead th {\n",
       "        text-align: right;\n",
       "    }\n",
       "</style>\n",
       "<table border=\"1\" class=\"dataframe\">\n",
       "  <thead>\n",
       "    <tr style=\"text-align: right;\">\n",
       "      <th></th>\n",
       "      <th>order_id</th>\n",
       "      <th>price</th>\n",
       "      <th>customer_unique_id</th>\n",
       "      <th>order_approved_at</th>\n",
       "    </tr>\n",
       "  </thead>\n",
       "  <tbody>\n",
       "    <tr>\n",
       "      <th>0</th>\n",
       "      <td>00e7ee1b050b8499577073aeb2a297a1</td>\n",
       "      <td>124.99</td>\n",
       "      <td>861eff4711a542e4b93843c6dd7febb0</td>\n",
       "      <td>2017-05-16 15:22:12</td>\n",
       "    </tr>\n",
       "    <tr>\n",
       "      <th>1</th>\n",
       "      <td>29150127e6685892b6eab3eec79f59c7</td>\n",
       "      <td>289.00</td>\n",
       "      <td>290c77bc529b7ac935b93aa66c333dc3</td>\n",
       "      <td>2018-01-12 20:58:32</td>\n",
       "    </tr>\n",
       "    <tr>\n",
       "      <th>2</th>\n",
       "      <td>b2059ed67ce144a36e2aa97d2c9e9ad2</td>\n",
       "      <td>139.94</td>\n",
       "      <td>060e732b5b29e8181a18229c7b0b2b5e</td>\n",
       "      <td>2018-05-20 16:19:10</td>\n",
       "    </tr>\n",
       "    <tr>\n",
       "      <th>3</th>\n",
       "      <td>951670f92359f4fe4a63112aa7306eba</td>\n",
       "      <td>149.94</td>\n",
       "      <td>259dac757896d24d7702b9acbbff3f3c</td>\n",
       "      <td>2018-03-13 17:29:19</td>\n",
       "    </tr>\n",
       "    <tr>\n",
       "      <th>4</th>\n",
       "      <td>6b7d50bd145f6fc7f33cebabd7e49d0f</td>\n",
       "      <td>230.00</td>\n",
       "      <td>345ecd01c38d18a9036ed96c73b8d066</td>\n",
       "      <td>2018-07-29 10:10:09</td>\n",
       "    </tr>\n",
       "  </tbody>\n",
       "</table>\n",
       "</div>"
      ],
      "text/plain": [
       "                           order_id   price                customer_unique_id  \\\n",
       "0  00e7ee1b050b8499577073aeb2a297a1  124.99  861eff4711a542e4b93843c6dd7febb0   \n",
       "1  29150127e6685892b6eab3eec79f59c7  289.00  290c77bc529b7ac935b93aa66c333dc3   \n",
       "2  b2059ed67ce144a36e2aa97d2c9e9ad2  139.94  060e732b5b29e8181a18229c7b0b2b5e   \n",
       "3  951670f92359f4fe4a63112aa7306eba  149.94  259dac757896d24d7702b9acbbff3f3c   \n",
       "4  6b7d50bd145f6fc7f33cebabd7e49d0f  230.00  345ecd01c38d18a9036ed96c73b8d066   \n",
       "\n",
       "    order_approved_at  \n",
       "0 2017-05-16 15:22:12  \n",
       "1 2018-01-12 20:58:32  \n",
       "2 2018-05-20 16:19:10  \n",
       "3 2018-03-13 17:29:19  \n",
       "4 2018-07-29 10:10:09  "
      ]
     },
     "execution_count": 48,
     "metadata": {},
     "output_type": "execute_result"
    }
   ],
   "source": [
    "df = df_all[['order_id', 'price', 'customer_unique_id', 'order_approved_at']]\n",
    "df.head()"
   ]
  },
  {
   "cell_type": "markdown",
   "id": "6b904290",
   "metadata": {
    "id": "6b904290"
   },
   "source": [
    "Нам будет нужна колонка с данными о количестве дней с момента покупки до последней фиксируемой даты."
   ]
  },
  {
   "cell_type": "code",
   "execution_count": null,
   "id": "c3376150",
   "metadata": {
    "id": "c3376150"
   },
   "outputs": [],
   "source": [
    "df['days_after_purchase'] = df['order_approved_at'].apply(lambda x: (df_orders.order_approved_at.max() - x).days)"
   ]
  },
  {
   "cell_type": "code",
   "execution_count": null,
   "id": "ff3e6fa8",
   "metadata": {
    "id": "ff3e6fa8",
    "outputId": "60403ee4-33f0-45dd-e41a-a1a9f7263a91"
   },
   "outputs": [
    {
     "data": {
      "text/html": [
       "<div>\n",
       "<style scoped>\n",
       "    .dataframe tbody tr th:only-of-type {\n",
       "        vertical-align: middle;\n",
       "    }\n",
       "\n",
       "    .dataframe tbody tr th {\n",
       "        vertical-align: top;\n",
       "    }\n",
       "\n",
       "    .dataframe thead th {\n",
       "        text-align: right;\n",
       "    }\n",
       "</style>\n",
       "<table border=\"1\" class=\"dataframe\">\n",
       "  <thead>\n",
       "    <tr style=\"text-align: right;\">\n",
       "      <th></th>\n",
       "      <th>order_id</th>\n",
       "      <th>price</th>\n",
       "      <th>customer_unique_id</th>\n",
       "      <th>order_approved_at</th>\n",
       "      <th>days_after_purchase</th>\n",
       "    </tr>\n",
       "  </thead>\n",
       "  <tbody>\n",
       "    <tr>\n",
       "      <th>0</th>\n",
       "      <td>00e7ee1b050b8499577073aeb2a297a1</td>\n",
       "      <td>124.99</td>\n",
       "      <td>861eff4711a542e4b93843c6dd7febb0</td>\n",
       "      <td>2017-05-16 15:22:12</td>\n",
       "      <td>475</td>\n",
       "    </tr>\n",
       "    <tr>\n",
       "      <th>1</th>\n",
       "      <td>29150127e6685892b6eab3eec79f59c7</td>\n",
       "      <td>289.00</td>\n",
       "      <td>290c77bc529b7ac935b93aa66c333dc3</td>\n",
       "      <td>2018-01-12 20:58:32</td>\n",
       "      <td>233</td>\n",
       "    </tr>\n",
       "    <tr>\n",
       "      <th>2</th>\n",
       "      <td>b2059ed67ce144a36e2aa97d2c9e9ad2</td>\n",
       "      <td>139.94</td>\n",
       "      <td>060e732b5b29e8181a18229c7b0b2b5e</td>\n",
       "      <td>2018-05-20 16:19:10</td>\n",
       "      <td>106</td>\n",
       "    </tr>\n",
       "    <tr>\n",
       "      <th>3</th>\n",
       "      <td>951670f92359f4fe4a63112aa7306eba</td>\n",
       "      <td>149.94</td>\n",
       "      <td>259dac757896d24d7702b9acbbff3f3c</td>\n",
       "      <td>2018-03-13 17:29:19</td>\n",
       "      <td>174</td>\n",
       "    </tr>\n",
       "    <tr>\n",
       "      <th>4</th>\n",
       "      <td>6b7d50bd145f6fc7f33cebabd7e49d0f</td>\n",
       "      <td>230.00</td>\n",
       "      <td>345ecd01c38d18a9036ed96c73b8d066</td>\n",
       "      <td>2018-07-29 10:10:09</td>\n",
       "      <td>36</td>\n",
       "    </tr>\n",
       "  </tbody>\n",
       "</table>\n",
       "</div>"
      ],
      "text/plain": [
       "                           order_id   price                customer_unique_id  \\\n",
       "0  00e7ee1b050b8499577073aeb2a297a1  124.99  861eff4711a542e4b93843c6dd7febb0   \n",
       "1  29150127e6685892b6eab3eec79f59c7  289.00  290c77bc529b7ac935b93aa66c333dc3   \n",
       "2  b2059ed67ce144a36e2aa97d2c9e9ad2  139.94  060e732b5b29e8181a18229c7b0b2b5e   \n",
       "3  951670f92359f4fe4a63112aa7306eba  149.94  259dac757896d24d7702b9acbbff3f3c   \n",
       "4  6b7d50bd145f6fc7f33cebabd7e49d0f  230.00  345ecd01c38d18a9036ed96c73b8d066   \n",
       "\n",
       "    order_approved_at  days_after_purchase  \n",
       "0 2017-05-16 15:22:12                  475  \n",
       "1 2018-01-12 20:58:32                  233  \n",
       "2 2018-05-20 16:19:10                  106  \n",
       "3 2018-03-13 17:29:19                  174  \n",
       "4 2018-07-29 10:10:09                   36  "
      ]
     },
     "execution_count": 50,
     "metadata": {},
     "output_type": "execute_result"
    }
   ],
   "source": [
    "df.head()"
   ]
  },
  {
   "cell_type": "markdown",
   "id": "941dea46",
   "metadata": {
    "id": "941dea46"
   },
   "source": [
    "Посмотрим на итоговую сумму покупки."
   ]
  },
  {
   "cell_type": "code",
   "execution_count": null,
   "id": "5a13acff",
   "metadata": {
    "id": "5a13acff",
    "outputId": "6833ae36-31f1-4cda-8624-732ba081e9ba"
   },
   "outputs": [
    {
     "data": {
      "text/html": [
       "<div>\n",
       "<style scoped>\n",
       "    .dataframe tbody tr th:only-of-type {\n",
       "        vertical-align: middle;\n",
       "    }\n",
       "\n",
       "    .dataframe tbody tr th {\n",
       "        vertical-align: top;\n",
       "    }\n",
       "\n",
       "    .dataframe thead th {\n",
       "        text-align: right;\n",
       "    }\n",
       "</style>\n",
       "<table border=\"1\" class=\"dataframe\">\n",
       "  <thead>\n",
       "    <tr style=\"text-align: right;\">\n",
       "      <th></th>\n",
       "      <th>order_id</th>\n",
       "      <th>customer_unique_id</th>\n",
       "      <th>order_approved_at</th>\n",
       "      <th>days_after_purchase</th>\n",
       "      <th>total</th>\n",
       "    </tr>\n",
       "  </thead>\n",
       "  <tbody>\n",
       "    <tr>\n",
       "      <th>0</th>\n",
       "      <td>00010242fe8c5a6d1ba2dd792cb16214</td>\n",
       "      <td>871766c5855e863f6eccc05f988b23cb</td>\n",
       "      <td>2017-09-13 09:45:35</td>\n",
       "      <td>355</td>\n",
       "      <td>58.90</td>\n",
       "    </tr>\n",
       "    <tr>\n",
       "      <th>1</th>\n",
       "      <td>00018f77f2f0320c557190d7a144bdd3</td>\n",
       "      <td>eb28e67c4c0b83846050ddfb8a35d051</td>\n",
       "      <td>2017-04-26 11:05:13</td>\n",
       "      <td>495</td>\n",
       "      <td>239.90</td>\n",
       "    </tr>\n",
       "    <tr>\n",
       "      <th>2</th>\n",
       "      <td>000229ec398224ef6ca0657da4fc703e</td>\n",
       "      <td>3818d81c6709e39d06b2738a8d3a2474</td>\n",
       "      <td>2018-01-14 14:48:30</td>\n",
       "      <td>232</td>\n",
       "      <td>199.00</td>\n",
       "    </tr>\n",
       "    <tr>\n",
       "      <th>3</th>\n",
       "      <td>00024acbcdf0a6daa1e931b038114c75</td>\n",
       "      <td>af861d436cfc08b2c2ddefd0ba074622</td>\n",
       "      <td>2018-08-08 10:10:18</td>\n",
       "      <td>26</td>\n",
       "      <td>12.99</td>\n",
       "    </tr>\n",
       "    <tr>\n",
       "      <th>4</th>\n",
       "      <td>00042b26cf59d7ce69dfabb4e55b4fd9</td>\n",
       "      <td>64b576fb70d441e8f1b2d7d446e483c5</td>\n",
       "      <td>2017-02-04 14:10:13</td>\n",
       "      <td>576</td>\n",
       "      <td>199.90</td>\n",
       "    </tr>\n",
       "    <tr>\n",
       "      <th>...</th>\n",
       "      <td>...</td>\n",
       "      <td>...</td>\n",
       "      <td>...</td>\n",
       "      <td>...</td>\n",
       "      <td>...</td>\n",
       "    </tr>\n",
       "    <tr>\n",
       "      <th>98180</th>\n",
       "      <td>fffc94f6ce00a00581880bf54a75a037</td>\n",
       "      <td>0c9aeda10a71f369396d0c04dce13a64</td>\n",
       "      <td>2018-04-25 04:11:01</td>\n",
       "      <td>131</td>\n",
       "      <td>299.99</td>\n",
       "    </tr>\n",
       "    <tr>\n",
       "      <th>98181</th>\n",
       "      <td>fffcd46ef2263f404302a634eb57f7eb</td>\n",
       "      <td>0da9fe112eae0c74d3ba1fe16de0988b</td>\n",
       "      <td>2018-07-17 04:31:48</td>\n",
       "      <td>48</td>\n",
       "      <td>350.00</td>\n",
       "    </tr>\n",
       "    <tr>\n",
       "      <th>98182</th>\n",
       "      <td>fffce4705a9662cd70adb13d4a31832d</td>\n",
       "      <td>cd79b407828f02fdbba457111c38e4c4</td>\n",
       "      <td>2017-10-24 17:14:25</td>\n",
       "      <td>314</td>\n",
       "      <td>99.90</td>\n",
       "    </tr>\n",
       "    <tr>\n",
       "      <th>98183</th>\n",
       "      <td>fffe18544ffabc95dfada21779c9644f</td>\n",
       "      <td>eb803377c9315b564bdedad672039306</td>\n",
       "      <td>2017-08-15 00:04:32</td>\n",
       "      <td>384</td>\n",
       "      <td>55.99</td>\n",
       "    </tr>\n",
       "    <tr>\n",
       "      <th>98184</th>\n",
       "      <td>fffe41c64501cc87c801fd61db3f6244</td>\n",
       "      <td>cd76a00d8e3ca5e6ab9ed9ecb6667ac4</td>\n",
       "      <td>2018-06-09 17:10:13</td>\n",
       "      <td>86</td>\n",
       "      <td>43.00</td>\n",
       "    </tr>\n",
       "  </tbody>\n",
       "</table>\n",
       "<p>98185 rows × 5 columns</p>\n",
       "</div>"
      ],
      "text/plain": [
       "                               order_id                customer_unique_id  \\\n",
       "0      00010242fe8c5a6d1ba2dd792cb16214  871766c5855e863f6eccc05f988b23cb   \n",
       "1      00018f77f2f0320c557190d7a144bdd3  eb28e67c4c0b83846050ddfb8a35d051   \n",
       "2      000229ec398224ef6ca0657da4fc703e  3818d81c6709e39d06b2738a8d3a2474   \n",
       "3      00024acbcdf0a6daa1e931b038114c75  af861d436cfc08b2c2ddefd0ba074622   \n",
       "4      00042b26cf59d7ce69dfabb4e55b4fd9  64b576fb70d441e8f1b2d7d446e483c5   \n",
       "...                                 ...                               ...   \n",
       "98180  fffc94f6ce00a00581880bf54a75a037  0c9aeda10a71f369396d0c04dce13a64   \n",
       "98181  fffcd46ef2263f404302a634eb57f7eb  0da9fe112eae0c74d3ba1fe16de0988b   \n",
       "98182  fffce4705a9662cd70adb13d4a31832d  cd79b407828f02fdbba457111c38e4c4   \n",
       "98183  fffe18544ffabc95dfada21779c9644f  eb803377c9315b564bdedad672039306   \n",
       "98184  fffe41c64501cc87c801fd61db3f6244  cd76a00d8e3ca5e6ab9ed9ecb6667ac4   \n",
       "\n",
       "        order_approved_at  days_after_purchase   total  \n",
       "0     2017-09-13 09:45:35                  355   58.90  \n",
       "1     2017-04-26 11:05:13                  495  239.90  \n",
       "2     2018-01-14 14:48:30                  232  199.00  \n",
       "3     2018-08-08 10:10:18                   26   12.99  \n",
       "4     2017-02-04 14:10:13                  576  199.90  \n",
       "...                   ...                  ...     ...  \n",
       "98180 2018-04-25 04:11:01                  131  299.99  \n",
       "98181 2018-07-17 04:31:48                   48  350.00  \n",
       "98182 2017-10-24 17:14:25                  314   99.90  \n",
       "98183 2017-08-15 00:04:32                  384   55.99  \n",
       "98184 2018-06-09 17:10:13                   86   43.00  \n",
       "\n",
       "[98185 rows x 5 columns]"
      ]
     },
     "execution_count": 51,
     "metadata": {},
     "output_type": "execute_result"
    }
   ],
   "source": [
    "df = df.groupby(['order_id','customer_unique_id','order_approved_at', 'days_after_purchase'], as_index=False) \\\n",
    "        .agg({'price':'sum'}) \\\n",
    "        .rename(columns={'price':'total'})\n",
    "df"
   ]
  },
  {
   "cell_type": "markdown",
   "id": "8f40d938",
   "metadata": {
    "id": "8f40d938"
   },
   "source": [
    "Делаем таблицу с данными RFM по каждому покупателю:\n",
    "\n",
    "* время от последней покупки 'recency', \n",
    "* суммарное количество покупок 'frequency', \n",
    "* cумма покупок за все время 'monetary'"
   ]
  },
  {
   "cell_type": "code",
   "execution_count": null,
   "id": "7956cc9c",
   "metadata": {
    "id": "7956cc9c",
    "outputId": "24674389-bf6d-4ade-d1bf-b89022e614d0"
   },
   "outputs": [
    {
     "data": {
      "text/html": [
       "<div>\n",
       "<style scoped>\n",
       "    .dataframe tbody tr th:only-of-type {\n",
       "        vertical-align: middle;\n",
       "    }\n",
       "\n",
       "    .dataframe tbody tr th {\n",
       "        vertical-align: top;\n",
       "    }\n",
       "\n",
       "    .dataframe thead th {\n",
       "        text-align: right;\n",
       "    }\n",
       "</style>\n",
       "<table border=\"1\" class=\"dataframe\">\n",
       "  <thead>\n",
       "    <tr style=\"text-align: right;\">\n",
       "      <th></th>\n",
       "      <th>customer_unique_id</th>\n",
       "      <th>recency</th>\n",
       "      <th>frequency</th>\n",
       "      <th>monetary</th>\n",
       "    </tr>\n",
       "  </thead>\n",
       "  <tbody>\n",
       "    <tr>\n",
       "      <th>0</th>\n",
       "      <td>0000366f3b9a7992bf8c76cfdf3221e2</td>\n",
       "      <td>116</td>\n",
       "      <td>1</td>\n",
       "      <td>129.90</td>\n",
       "    </tr>\n",
       "    <tr>\n",
       "      <th>1</th>\n",
       "      <td>0000b849f77a49e4a4ce2b2a4ca5be3f</td>\n",
       "      <td>118</td>\n",
       "      <td>1</td>\n",
       "      <td>18.90</td>\n",
       "    </tr>\n",
       "    <tr>\n",
       "      <th>2</th>\n",
       "      <td>0000f46a3911fa3c0805444483337064</td>\n",
       "      <td>541</td>\n",
       "      <td>1</td>\n",
       "      <td>69.00</td>\n",
       "    </tr>\n",
       "    <tr>\n",
       "      <th>3</th>\n",
       "      <td>0000f6ccb0745a6a4b88665a16c9f078</td>\n",
       "      <td>325</td>\n",
       "      <td>1</td>\n",
       "      <td>25.99</td>\n",
       "    </tr>\n",
       "    <tr>\n",
       "      <th>4</th>\n",
       "      <td>0004aac84e0df4da2b147fca70cf8255</td>\n",
       "      <td>292</td>\n",
       "      <td>1</td>\n",
       "      <td>180.00</td>\n",
       "    </tr>\n",
       "  </tbody>\n",
       "</table>\n",
       "</div>"
      ],
      "text/plain": [
       "                 customer_unique_id  recency  frequency  monetary\n",
       "0  0000366f3b9a7992bf8c76cfdf3221e2      116          1    129.90\n",
       "1  0000b849f77a49e4a4ce2b2a4ca5be3f      118          1     18.90\n",
       "2  0000f46a3911fa3c0805444483337064      541          1     69.00\n",
       "3  0000f6ccb0745a6a4b88665a16c9f078      325          1     25.99\n",
       "4  0004aac84e0df4da2b147fca70cf8255      292          1    180.00"
      ]
     },
     "execution_count": 52,
     "metadata": {},
     "output_type": "execute_result"
    }
   ],
   "source": [
    "df_rfm = df.groupby('customer_unique_id', as_index = False) \\\n",
    "            .agg({ 'days_after_purchase':'min', 'order_id': 'count', 'total': 'sum'}) \\\n",
    "            .rename(columns={'days_after_purchase':'recency','order_id':'frequency','total':'monetary'})\n",
    "\n",
    "df_rfm.head()"
   ]
  },
  {
   "cell_type": "code",
   "execution_count": null,
   "id": "717e47ff",
   "metadata": {
    "id": "717e47ff",
    "outputId": "edf4c47a-c780-4eb2-f668-f74922805971"
   },
   "outputs": [
    {
     "data": {
      "text/html": [
       "<div>\n",
       "<style scoped>\n",
       "    .dataframe tbody tr th:only-of-type {\n",
       "        vertical-align: middle;\n",
       "    }\n",
       "\n",
       "    .dataframe tbody tr th {\n",
       "        vertical-align: top;\n",
       "    }\n",
       "\n",
       "    .dataframe thead th {\n",
       "        text-align: right;\n",
       "    }\n",
       "</style>\n",
       "<table border=\"1\" class=\"dataframe\">\n",
       "  <thead>\n",
       "    <tr style=\"text-align: right;\">\n",
       "      <th></th>\n",
       "      <th>recency</th>\n",
       "      <th>frequency</th>\n",
       "      <th>monetary</th>\n",
       "    </tr>\n",
       "  </thead>\n",
       "  <tbody>\n",
       "    <tr>\n",
       "      <th>count</th>\n",
       "      <td>94970.000000</td>\n",
       "      <td>94970.000000</td>\n",
       "      <td>94970.000000</td>\n",
       "    </tr>\n",
       "    <tr>\n",
       "      <th>mean</th>\n",
       "      <td>242.475519</td>\n",
       "      <td>1.033853</td>\n",
       "      <td>142.073605</td>\n",
       "    </tr>\n",
       "    <tr>\n",
       "      <th>std</th>\n",
       "      <td>152.952043</td>\n",
       "      <td>0.210801</td>\n",
       "      <td>216.085833</td>\n",
       "    </tr>\n",
       "    <tr>\n",
       "      <th>min</th>\n",
       "      <td>0.000000</td>\n",
       "      <td>1.000000</td>\n",
       "      <td>0.850000</td>\n",
       "    </tr>\n",
       "    <tr>\n",
       "      <th>25%</th>\n",
       "      <td>118.000000</td>\n",
       "      <td>1.000000</td>\n",
       "      <td>47.900000</td>\n",
       "    </tr>\n",
       "    <tr>\n",
       "      <th>50%</th>\n",
       "      <td>223.000000</td>\n",
       "      <td>1.000000</td>\n",
       "      <td>89.890000</td>\n",
       "    </tr>\n",
       "    <tr>\n",
       "      <th>75%</th>\n",
       "      <td>351.000000</td>\n",
       "      <td>1.000000</td>\n",
       "      <td>155.000000</td>\n",
       "    </tr>\n",
       "    <tr>\n",
       "      <th>max</th>\n",
       "      <td>718.000000</td>\n",
       "      <td>16.000000</td>\n",
       "      <td>13440.000000</td>\n",
       "    </tr>\n",
       "  </tbody>\n",
       "</table>\n",
       "</div>"
      ],
      "text/plain": [
       "            recency     frequency      monetary\n",
       "count  94970.000000  94970.000000  94970.000000\n",
       "mean     242.475519      1.033853    142.073605\n",
       "std      152.952043      0.210801    216.085833\n",
       "min        0.000000      1.000000      0.850000\n",
       "25%      118.000000      1.000000     47.900000\n",
       "50%      223.000000      1.000000     89.890000\n",
       "75%      351.000000      1.000000    155.000000\n",
       "max      718.000000     16.000000  13440.000000"
      ]
     },
     "execution_count": 53,
     "metadata": {},
     "output_type": "execute_result"
    }
   ],
   "source": [
    "df_rfm.describe()"
   ]
  },
  {
   "cell_type": "markdown",
   "id": "7e41621d",
   "metadata": {
    "id": "7e41621d"
   },
   "source": [
    "Судя по первичной статистике новых данных наобходимо более детально рассмотреть frequency."
   ]
  },
  {
   "cell_type": "code",
   "execution_count": null,
   "id": "6aa0a90e",
   "metadata": {
    "id": "6aa0a90e",
    "outputId": "2ac7a5a4-ade8-461b-b4cc-911e503f56df"
   },
   "outputs": [
    {
     "data": {
      "text/plain": [
       "9"
      ]
     },
     "execution_count": 54,
     "metadata": {},
     "output_type": "execute_result"
    }
   ],
   "source": [
    "df_rfm.frequency.nunique()"
   ]
  },
  {
   "cell_type": "code",
   "execution_count": null,
   "id": "358191c0",
   "metadata": {
    "id": "358191c0",
    "outputId": "08e8b579-7924-45a0-b2a4-48c420743b29"
   },
   "outputs": [
    {
     "data": {
      "text/plain": [
       "array([ 1,  2,  3,  4,  6,  7,  5,  9, 16], dtype=int64)"
      ]
     },
     "execution_count": 55,
     "metadata": {},
     "output_type": "execute_result"
    }
   ],
   "source": [
    "df_rfm.frequency.unique()"
   ]
  },
  {
   "cell_type": "code",
   "execution_count": null,
   "id": "34639bfd",
   "metadata": {
    "id": "34639bfd",
    "outputId": "de4b00e7-a103-4d7f-cb3a-85d1d50f30e9"
   },
   "outputs": [
    {
     "data": {
      "text/plain": [
       "1     92084\n",
       "2      2650\n",
       "3       188\n",
       "4        29\n",
       "5         9\n",
       "6         5\n",
       "7         3\n",
       "9         1\n",
       "16        1\n",
       "Name: frequency, dtype: int64"
      ]
     },
     "execution_count": 56,
     "metadata": {},
     "output_type": "execute_result"
    }
   ],
   "source": [
    "df_rfm.frequency.value_counts()"
   ]
  },
  {
   "cell_type": "markdown",
   "id": "826bd708",
   "metadata": {
    "id": "826bd708"
   },
   "source": [
    "Ввиду того, что количество покупок чаще всего составляет одну, придется сегментировать frequency на основе количества покупок:\n",
    "    \n",
    "    1 - одна покупка\n",
    "    2 - две покупки\n",
    "    3 - три покупки\n",
    "    4 - больше трёх покупок\n",
    "    \n",
    "recency и monetary можно сегментировать на основе квантилей распределения."
   ]
  },
  {
   "cell_type": "code",
   "execution_count": null,
   "id": "b9b89044",
   "metadata": {
    "id": "b9b89044",
    "outputId": "cd4e5153-7a39-4407-c429-ecac5700b4d2"
   },
   "outputs": [
    {
     "data": {
      "text/html": [
       "<div>\n",
       "<style scoped>\n",
       "    .dataframe tbody tr th:only-of-type {\n",
       "        vertical-align: middle;\n",
       "    }\n",
       "\n",
       "    .dataframe tbody tr th {\n",
       "        vertical-align: top;\n",
       "    }\n",
       "\n",
       "    .dataframe thead th {\n",
       "        text-align: right;\n",
       "    }\n",
       "</style>\n",
       "<table border=\"1\" class=\"dataframe\">\n",
       "  <thead>\n",
       "    <tr style=\"text-align: right;\">\n",
       "      <th></th>\n",
       "      <th>recency</th>\n",
       "      <th>frequency</th>\n",
       "      <th>monetary</th>\n",
       "    </tr>\n",
       "  </thead>\n",
       "  <tbody>\n",
       "    <tr>\n",
       "      <th>0.25</th>\n",
       "      <td>118.0</td>\n",
       "      <td>1.0</td>\n",
       "      <td>47.90</td>\n",
       "    </tr>\n",
       "    <tr>\n",
       "      <th>0.50</th>\n",
       "      <td>223.0</td>\n",
       "      <td>1.0</td>\n",
       "      <td>89.89</td>\n",
       "    </tr>\n",
       "    <tr>\n",
       "      <th>0.75</th>\n",
       "      <td>351.0</td>\n",
       "      <td>1.0</td>\n",
       "      <td>155.00</td>\n",
       "    </tr>\n",
       "  </tbody>\n",
       "</table>\n",
       "</div>"
      ],
      "text/plain": [
       "      recency  frequency  monetary\n",
       "0.25    118.0        1.0     47.90\n",
       "0.50    223.0        1.0     89.89\n",
       "0.75    351.0        1.0    155.00"
      ]
     },
     "execution_count": 57,
     "metadata": {},
     "output_type": "execute_result"
    }
   ],
   "source": [
    "quantiles = df_rfm.quantile(q=[0.25,0.5,0.75])\n",
    "quantiles"
   ]
  },
  {
   "cell_type": "code",
   "execution_count": null,
   "id": "558b8a0c",
   "metadata": {
    "id": "558b8a0c",
    "outputId": "5dadbee9-a825-4668-dba7-5060fe81bd90"
   },
   "outputs": [
    {
     "data": {
      "text/plain": [
       "{'recency': {0.25: 118.0, 0.5: 223.0, 0.75: 351.0},\n",
       " 'frequency': {0.25: 1.0, 0.5: 1.0, 0.75: 1.0},\n",
       " 'monetary': {0.25: 47.9, 0.5: 89.89, 0.75: 155.0}}"
      ]
     },
     "execution_count": 58,
     "metadata": {},
     "output_type": "execute_result"
    }
   ],
   "source": [
    "quantiles = quantiles.to_dict()\n",
    "quantiles"
   ]
  },
  {
   "cell_type": "markdown",
   "id": "a2847477",
   "metadata": {
    "id": "a2847477"
   },
   "source": [
    "Границы метрик для ранжирования:\n",
    "для recency:\n",
    "\n",
    "1. - 352 и более дней\n",
    "2. - 224-351 дней\n",
    "3. - 119-223 дней\n",
    "4. - 118 и менее дней \n",
    "       \n",
    "для monetary валюта у нас не указана, но общемировой валютой на данный момент является доллар, поэтому примем его обозначение:\n",
    "\n",
    "1. - до 48 долларов\n",
    "2. - 48 до 89.9 долларов \n",
    "3. - 89.9 до 155 долларов \n",
    "4. - всё, что 155 долларов и больше"
   ]
  },
  {
   "cell_type": "code",
   "execution_count": null,
   "id": "fa3e04d8",
   "metadata": {
    "id": "fa3e04d8"
   },
   "outputs": [],
   "source": [
    "def r_score(x):\n",
    "    if x <= 118:\n",
    "        return 4\n",
    "    elif x <= 223:\n",
    "        return 3\n",
    "    elif x <= 351:\n",
    "        return 2\n",
    "    else:\n",
    "        return 1\n",
    "    \n",
    "def m_score(x):\n",
    "    if x < 48:\n",
    "        return 1\n",
    "    elif x < 89.9:\n",
    "        return 2\n",
    "    elif x < 155:\n",
    "        return 3\n",
    "    else:\n",
    "        return 4  \n",
    "    \n",
    "def f_score(x):\n",
    "    if x == 1:\n",
    "        return 1\n",
    "    elif x == 2:\n",
    "        return 2\n",
    "    elif x == 3:\n",
    "        return 3\n",
    "    else:\n",
    "        return 4"
   ]
  },
  {
   "cell_type": "code",
   "execution_count": null,
   "id": "748eab19",
   "metadata": {
    "id": "748eab19",
    "outputId": "be440411-8fe3-47b9-ddf6-475d368247a1"
   },
   "outputs": [
    {
     "data": {
      "text/html": [
       "<div>\n",
       "<style scoped>\n",
       "    .dataframe tbody tr th:only-of-type {\n",
       "        vertical-align: middle;\n",
       "    }\n",
       "\n",
       "    .dataframe tbody tr th {\n",
       "        vertical-align: top;\n",
       "    }\n",
       "\n",
       "    .dataframe thead th {\n",
       "        text-align: right;\n",
       "    }\n",
       "</style>\n",
       "<table border=\"1\" class=\"dataframe\">\n",
       "  <thead>\n",
       "    <tr style=\"text-align: right;\">\n",
       "      <th></th>\n",
       "      <th>customer_unique_id</th>\n",
       "      <th>recency</th>\n",
       "      <th>frequency</th>\n",
       "      <th>monetary</th>\n",
       "      <th>R</th>\n",
       "      <th>F</th>\n",
       "      <th>M</th>\n",
       "      <th>RFM Score</th>\n",
       "      <th>RFM_Score</th>\n",
       "    </tr>\n",
       "  </thead>\n",
       "  <tbody>\n",
       "    <tr>\n",
       "      <th>0</th>\n",
       "      <td>0000366f3b9a7992bf8c76cfdf3221e2</td>\n",
       "      <td>116</td>\n",
       "      <td>1</td>\n",
       "      <td>129.90</td>\n",
       "      <td>4</td>\n",
       "      <td>1</td>\n",
       "      <td>3</td>\n",
       "      <td>413</td>\n",
       "      <td>413</td>\n",
       "    </tr>\n",
       "    <tr>\n",
       "      <th>1</th>\n",
       "      <td>0000b849f77a49e4a4ce2b2a4ca5be3f</td>\n",
       "      <td>118</td>\n",
       "      <td>1</td>\n",
       "      <td>18.90</td>\n",
       "      <td>4</td>\n",
       "      <td>1</td>\n",
       "      <td>1</td>\n",
       "      <td>411</td>\n",
       "      <td>411</td>\n",
       "    </tr>\n",
       "    <tr>\n",
       "      <th>2</th>\n",
       "      <td>0000f46a3911fa3c0805444483337064</td>\n",
       "      <td>541</td>\n",
       "      <td>1</td>\n",
       "      <td>69.00</td>\n",
       "      <td>1</td>\n",
       "      <td>1</td>\n",
       "      <td>2</td>\n",
       "      <td>112</td>\n",
       "      <td>112</td>\n",
       "    </tr>\n",
       "    <tr>\n",
       "      <th>3</th>\n",
       "      <td>0000f6ccb0745a6a4b88665a16c9f078</td>\n",
       "      <td>325</td>\n",
       "      <td>1</td>\n",
       "      <td>25.99</td>\n",
       "      <td>2</td>\n",
       "      <td>1</td>\n",
       "      <td>1</td>\n",
       "      <td>211</td>\n",
       "      <td>211</td>\n",
       "    </tr>\n",
       "    <tr>\n",
       "      <th>4</th>\n",
       "      <td>0004aac84e0df4da2b147fca70cf8255</td>\n",
       "      <td>292</td>\n",
       "      <td>1</td>\n",
       "      <td>180.00</td>\n",
       "      <td>2</td>\n",
       "      <td>1</td>\n",
       "      <td>4</td>\n",
       "      <td>214</td>\n",
       "      <td>214</td>\n",
       "    </tr>\n",
       "  </tbody>\n",
       "</table>\n",
       "</div>"
      ],
      "text/plain": [
       "                 customer_unique_id  recency  frequency  monetary  R  F  M  \\\n",
       "0  0000366f3b9a7992bf8c76cfdf3221e2      116          1    129.90  4  1  3   \n",
       "1  0000b849f77a49e4a4ce2b2a4ca5be3f      118          1     18.90  4  1  1   \n",
       "2  0000f46a3911fa3c0805444483337064      541          1     69.00  1  1  2   \n",
       "3  0000f6ccb0745a6a4b88665a16c9f078      325          1     25.99  2  1  1   \n",
       "4  0004aac84e0df4da2b147fca70cf8255      292          1    180.00  2  1  4   \n",
       "\n",
       "  RFM Score RFM_Score  \n",
       "0       413       413  \n",
       "1       411       411  \n",
       "2       112       112  \n",
       "3       211       211  \n",
       "4       214       214  "
      ]
     },
     "execution_count": 62,
     "metadata": {},
     "output_type": "execute_result"
    }
   ],
   "source": [
    "df_rfm['R'] = df_rfm['recency'].apply(lambda x: r_score(x))\n",
    "df_rfm['F'] = df_rfm['frequency'].apply(lambda x: f_score(x))\n",
    "df_rfm['M'] = df_rfm['monetary'].apply(lambda x: m_score(x))\n",
    "df_rfm['RFM_Score'] = df_rfm['R'].map(str) + df_rfm['F'].map(str) + df_rfm['M'].map(str)\n",
    "df_rfm.head()"
   ]
  },
  {
   "cell_type": "code",
   "execution_count": null,
   "id": "9a36bd16",
   "metadata": {
    "id": "9a36bd16",
    "outputId": "3d14c1a7-4a4b-440d-bbfd-d5a6630f1a51"
   },
   "outputs": [
    {
     "name": "stdout",
     "output_type": "stream",
     "text": [
      "Всего у нас получилось 51 сегмент\n"
     ]
    }
   ],
   "source": [
    "print('Всего у нас получилось', df_rfm.RFM_Score.nunique(), 'сегмент')"
   ]
  },
  {
   "cell_type": "markdown",
   "id": "d88585ba",
   "metadata": {
    "id": "d88585ba"
   },
   "source": [
    "Посмотрим на список наших лучших клиентов, если такие присутствуют, у которых общая сумма покупок больше 155$, времени прошло с последней покупки меньше 118 дней и которые совершили 4 и более покупок. Смотреть будет в порядке убывания суммы потраченных денег."
   ]
  },
  {
   "cell_type": "code",
   "execution_count": null,
   "id": "ab787d2d",
   "metadata": {
    "id": "ab787d2d",
    "outputId": "76badff7-9ab9-4042-f63b-70f108733460"
   },
   "outputs": [
    {
     "data": {
      "text/html": [
       "<div>\n",
       "<style scoped>\n",
       "    .dataframe tbody tr th:only-of-type {\n",
       "        vertical-align: middle;\n",
       "    }\n",
       "\n",
       "    .dataframe tbody tr th {\n",
       "        vertical-align: top;\n",
       "    }\n",
       "\n",
       "    .dataframe thead th {\n",
       "        text-align: right;\n",
       "    }\n",
       "</style>\n",
       "<table border=\"1\" class=\"dataframe\">\n",
       "  <thead>\n",
       "    <tr style=\"text-align: right;\">\n",
       "      <th></th>\n",
       "      <th>customer_unique_id</th>\n",
       "      <th>recency</th>\n",
       "      <th>frequency</th>\n",
       "      <th>monetary</th>\n",
       "      <th>R</th>\n",
       "      <th>F</th>\n",
       "      <th>M</th>\n",
       "      <th>RFM Score</th>\n",
       "      <th>RFM_Score</th>\n",
       "    </tr>\n",
       "  </thead>\n",
       "  <tbody>\n",
       "    <tr>\n",
       "      <th>74392</th>\n",
       "      <td>c8460e4251689ba205045f3ea17884a1</td>\n",
       "      <td>25</td>\n",
       "      <td>4</td>\n",
       "      <td>4080.00</td>\n",
       "      <td>4</td>\n",
       "      <td>4</td>\n",
       "      <td>4</td>\n",
       "      <td>444</td>\n",
       "      <td>444</td>\n",
       "    </tr>\n",
       "    <tr>\n",
       "      <th>29646</th>\n",
       "      <td>4facc2e6fbc2bffab2fea92d2b4aa7e4</td>\n",
       "      <td>20</td>\n",
       "      <td>4</td>\n",
       "      <td>1686.90</td>\n",
       "      <td>4</td>\n",
       "      <td>4</td>\n",
       "      <td>4</td>\n",
       "      <td>444</td>\n",
       "      <td>444</td>\n",
       "    </tr>\n",
       "    <tr>\n",
       "      <th>21394</th>\n",
       "      <td>397b44d5bb99eabf54ea9c2b41ebb905</td>\n",
       "      <td>77</td>\n",
       "      <td>4</td>\n",
       "      <td>1650.00</td>\n",
       "      <td>4</td>\n",
       "      <td>4</td>\n",
       "      <td>4</td>\n",
       "      <td>444</td>\n",
       "      <td>444</td>\n",
       "    </tr>\n",
       "    <tr>\n",
       "      <th>94415</th>\n",
       "      <td>fe81bb32c243a86b2f86fbf053fe6140</td>\n",
       "      <td>74</td>\n",
       "      <td>5</td>\n",
       "      <td>1535.40</td>\n",
       "      <td>4</td>\n",
       "      <td>4</td>\n",
       "      <td>4</td>\n",
       "      <td>444</td>\n",
       "      <td>444</td>\n",
       "    </tr>\n",
       "    <tr>\n",
       "      <th>3359</th>\n",
       "      <td>08e5b38d7948d37fbb2a59fc5e175ab1</td>\n",
       "      <td>115</td>\n",
       "      <td>4</td>\n",
       "      <td>866.79</td>\n",
       "      <td>4</td>\n",
       "      <td>4</td>\n",
       "      <td>4</td>\n",
       "      <td>444</td>\n",
       "      <td>444</td>\n",
       "    </tr>\n",
       "    <tr>\n",
       "      <th>75195</th>\n",
       "      <td>ca77025e7201e3b30c44b472ff346268</td>\n",
       "      <td>93</td>\n",
       "      <td>7</td>\n",
       "      <td>806.61</td>\n",
       "      <td>4</td>\n",
       "      <td>4</td>\n",
       "      <td>4</td>\n",
       "      <td>444</td>\n",
       "      <td>444</td>\n",
       "    </tr>\n",
       "    <tr>\n",
       "      <th>52347</th>\n",
       "      <td>8d50f5eadf50201ccdcedfb9e2ac8455</td>\n",
       "      <td>13</td>\n",
       "      <td>16</td>\n",
       "      <td>729.62</td>\n",
       "      <td>4</td>\n",
       "      <td>4</td>\n",
       "      <td>4</td>\n",
       "      <td>444</td>\n",
       "      <td>444</td>\n",
       "    </tr>\n",
       "    <tr>\n",
       "      <th>81914</th>\n",
       "      <td>dc813062e0fc23409cd255f7f53c7074</td>\n",
       "      <td>11</td>\n",
       "      <td>6</td>\n",
       "      <td>687.76</td>\n",
       "      <td>4</td>\n",
       "      <td>4</td>\n",
       "      <td>4</td>\n",
       "      <td>444</td>\n",
       "      <td>444</td>\n",
       "    </tr>\n",
       "    <tr>\n",
       "      <th>59962</th>\n",
       "      <td>a1874c5550d2f0bc14cc122164603713</td>\n",
       "      <td>103</td>\n",
       "      <td>4</td>\n",
       "      <td>670.39</td>\n",
       "      <td>4</td>\n",
       "      <td>4</td>\n",
       "      <td>4</td>\n",
       "      <td>444</td>\n",
       "      <td>444</td>\n",
       "    </tr>\n",
       "    <tr>\n",
       "      <th>37369</th>\n",
       "      <td>6469f99c1f9dfae7733b25662e7f1782</td>\n",
       "      <td>67</td>\n",
       "      <td>7</td>\n",
       "      <td>664.20</td>\n",
       "      <td>4</td>\n",
       "      <td>4</td>\n",
       "      <td>4</td>\n",
       "      <td>444</td>\n",
       "      <td>444</td>\n",
       "    </tr>\n",
       "    <tr>\n",
       "      <th>21336</th>\n",
       "      <td>394ac4de8f3acb14253c177f0e15bc58</td>\n",
       "      <td>18</td>\n",
       "      <td>5</td>\n",
       "      <td>633.16</td>\n",
       "      <td>4</td>\n",
       "      <td>4</td>\n",
       "      <td>4</td>\n",
       "      <td>444</td>\n",
       "      <td>444</td>\n",
       "    </tr>\n",
       "    <tr>\n",
       "      <th>42985</th>\n",
       "      <td>738ffcf1017b584e9d2684b36e07469c</td>\n",
       "      <td>78</td>\n",
       "      <td>4</td>\n",
       "      <td>597.90</td>\n",
       "      <td>4</td>\n",
       "      <td>4</td>\n",
       "      <td>4</td>\n",
       "      <td>444</td>\n",
       "      <td>444</td>\n",
       "    </tr>\n",
       "    <tr>\n",
       "      <th>37160</th>\n",
       "      <td>63cfc61cee11cbe306bff5857d00bfe4</td>\n",
       "      <td>98</td>\n",
       "      <td>6</td>\n",
       "      <td>579.81</td>\n",
       "      <td>4</td>\n",
       "      <td>4</td>\n",
       "      <td>4</td>\n",
       "      <td>444</td>\n",
       "      <td>444</td>\n",
       "    </tr>\n",
       "    <tr>\n",
       "      <th>72616</th>\n",
       "      <td>c37cc6c1a59d81460a3059744f7ada1c</td>\n",
       "      <td>72</td>\n",
       "      <td>4</td>\n",
       "      <td>574.47</td>\n",
       "      <td>4</td>\n",
       "      <td>4</td>\n",
       "      <td>4</td>\n",
       "      <td>444</td>\n",
       "      <td>444</td>\n",
       "    </tr>\n",
       "    <tr>\n",
       "      <th>68587</th>\n",
       "      <td>b896655e2083a1d76b7b85df8fc86e40</td>\n",
       "      <td>58</td>\n",
       "      <td>4</td>\n",
       "      <td>439.40</td>\n",
       "      <td>4</td>\n",
       "      <td>4</td>\n",
       "      <td>4</td>\n",
       "      <td>444</td>\n",
       "      <td>444</td>\n",
       "    </tr>\n",
       "    <tr>\n",
       "      <th>29175</th>\n",
       "      <td>4e65032f1f574189fb793bac5a867bbc</td>\n",
       "      <td>81</td>\n",
       "      <td>5</td>\n",
       "      <td>404.57</td>\n",
       "      <td>4</td>\n",
       "      <td>4</td>\n",
       "      <td>4</td>\n",
       "      <td>444</td>\n",
       "      <td>444</td>\n",
       "    </tr>\n",
       "    <tr>\n",
       "      <th>58238</th>\n",
       "      <td>9cc5a07f169a1606fd347a56683e6ea6</td>\n",
       "      <td>12</td>\n",
       "      <td>4</td>\n",
       "      <td>365.70</td>\n",
       "      <td>4</td>\n",
       "      <td>4</td>\n",
       "      <td>4</td>\n",
       "      <td>444</td>\n",
       "      <td>444</td>\n",
       "    </tr>\n",
       "    <tr>\n",
       "      <th>42797</th>\n",
       "      <td>7305430719d715992b00be82af4a6aa8</td>\n",
       "      <td>18</td>\n",
       "      <td>4</td>\n",
       "      <td>364.30</td>\n",
       "      <td>4</td>\n",
       "      <td>4</td>\n",
       "      <td>4</td>\n",
       "      <td>444</td>\n",
       "      <td>444</td>\n",
       "    </tr>\n",
       "    <tr>\n",
       "      <th>59650</th>\n",
       "      <td>a0abd26659c9914690cbd3320d39fd96</td>\n",
       "      <td>72</td>\n",
       "      <td>4</td>\n",
       "      <td>327.19</td>\n",
       "      <td>4</td>\n",
       "      <td>4</td>\n",
       "      <td>4</td>\n",
       "      <td>444</td>\n",
       "      <td>444</td>\n",
       "    </tr>\n",
       "    <tr>\n",
       "      <th>45116</th>\n",
       "      <td>795c1622cf7a53d63d324e862349d01c</td>\n",
       "      <td>16</td>\n",
       "      <td>4</td>\n",
       "      <td>281.20</td>\n",
       "      <td>4</td>\n",
       "      <td>4</td>\n",
       "      <td>4</td>\n",
       "      <td>444</td>\n",
       "      <td>444</td>\n",
       "    </tr>\n",
       "    <tr>\n",
       "      <th>36989</th>\n",
       "      <td>6358b15ef7fa9b1210f1a5735cabd3d9</td>\n",
       "      <td>91</td>\n",
       "      <td>4</td>\n",
       "      <td>279.60</td>\n",
       "      <td>4</td>\n",
       "      <td>4</td>\n",
       "      <td>4</td>\n",
       "      <td>444</td>\n",
       "      <td>444</td>\n",
       "    </tr>\n",
       "    <tr>\n",
       "      <th>62169</th>\n",
       "      <td>a73c5464692d3bc09d64e3edefae9015</td>\n",
       "      <td>78</td>\n",
       "      <td>4</td>\n",
       "      <td>259.49</td>\n",
       "      <td>4</td>\n",
       "      <td>4</td>\n",
       "      <td>4</td>\n",
       "      <td>444</td>\n",
       "      <td>444</td>\n",
       "    </tr>\n",
       "    <tr>\n",
       "      <th>3095</th>\n",
       "      <td>083ca1aa470c280236380973a48f77c6</td>\n",
       "      <td>20</td>\n",
       "      <td>4</td>\n",
       "      <td>218.88</td>\n",
       "      <td>4</td>\n",
       "      <td>4</td>\n",
       "      <td>4</td>\n",
       "      <td>444</td>\n",
       "      <td>444</td>\n",
       "    </tr>\n",
       "  </tbody>\n",
       "</table>\n",
       "</div>"
      ],
      "text/plain": [
       "                     customer_unique_id  recency  frequency  monetary  R  F  \\\n",
       "74392  c8460e4251689ba205045f3ea17884a1       25          4   4080.00  4  4   \n",
       "29646  4facc2e6fbc2bffab2fea92d2b4aa7e4       20          4   1686.90  4  4   \n",
       "21394  397b44d5bb99eabf54ea9c2b41ebb905       77          4   1650.00  4  4   \n",
       "94415  fe81bb32c243a86b2f86fbf053fe6140       74          5   1535.40  4  4   \n",
       "3359   08e5b38d7948d37fbb2a59fc5e175ab1      115          4    866.79  4  4   \n",
       "75195  ca77025e7201e3b30c44b472ff346268       93          7    806.61  4  4   \n",
       "52347  8d50f5eadf50201ccdcedfb9e2ac8455       13         16    729.62  4  4   \n",
       "81914  dc813062e0fc23409cd255f7f53c7074       11          6    687.76  4  4   \n",
       "59962  a1874c5550d2f0bc14cc122164603713      103          4    670.39  4  4   \n",
       "37369  6469f99c1f9dfae7733b25662e7f1782       67          7    664.20  4  4   \n",
       "21336  394ac4de8f3acb14253c177f0e15bc58       18          5    633.16  4  4   \n",
       "42985  738ffcf1017b584e9d2684b36e07469c       78          4    597.90  4  4   \n",
       "37160  63cfc61cee11cbe306bff5857d00bfe4       98          6    579.81  4  4   \n",
       "72616  c37cc6c1a59d81460a3059744f7ada1c       72          4    574.47  4  4   \n",
       "68587  b896655e2083a1d76b7b85df8fc86e40       58          4    439.40  4  4   \n",
       "29175  4e65032f1f574189fb793bac5a867bbc       81          5    404.57  4  4   \n",
       "58238  9cc5a07f169a1606fd347a56683e6ea6       12          4    365.70  4  4   \n",
       "42797  7305430719d715992b00be82af4a6aa8       18          4    364.30  4  4   \n",
       "59650  a0abd26659c9914690cbd3320d39fd96       72          4    327.19  4  4   \n",
       "45116  795c1622cf7a53d63d324e862349d01c       16          4    281.20  4  4   \n",
       "36989  6358b15ef7fa9b1210f1a5735cabd3d9       91          4    279.60  4  4   \n",
       "62169  a73c5464692d3bc09d64e3edefae9015       78          4    259.49  4  4   \n",
       "3095   083ca1aa470c280236380973a48f77c6       20          4    218.88  4  4   \n",
       "\n",
       "       M RFM Score RFM_Score  \n",
       "74392  4       444       444  \n",
       "29646  4       444       444  \n",
       "21394  4       444       444  \n",
       "94415  4       444       444  \n",
       "3359   4       444       444  \n",
       "75195  4       444       444  \n",
       "52347  4       444       444  \n",
       "81914  4       444       444  \n",
       "59962  4       444       444  \n",
       "37369  4       444       444  \n",
       "21336  4       444       444  \n",
       "42985  4       444       444  \n",
       "37160  4       444       444  \n",
       "72616  4       444       444  \n",
       "68587  4       444       444  \n",
       "29175  4       444       444  \n",
       "58238  4       444       444  \n",
       "42797  4       444       444  \n",
       "59650  4       444       444  \n",
       "45116  4       444       444  \n",
       "36989  4       444       444  \n",
       "62169  4       444       444  \n",
       "3095   4       444       444  "
      ]
     },
     "execution_count": 73,
     "metadata": {},
     "output_type": "execute_result"
    }
   ],
   "source": [
    "df_rfm.query('R == 4 and M == 4 and F == 4').sort_values('monetary', ascending = False)"
   ]
  },
  {
   "cell_type": "code",
   "execution_count": null,
   "id": "1dacc8ee",
   "metadata": {
    "id": "1dacc8ee",
    "outputId": "657f81ff-c5cf-4017-dc25-26db66ea113e"
   },
   "outputs": [
    {
     "data": {
      "text/plain": [
       "111    0.064210\n",
       "311    0.063652\n",
       "212    0.063399\n",
       "411    0.062967\n",
       "413    0.061946\n",
       "313    0.061851\n",
       "112    0.061798\n",
       "213    0.060208\n",
       "211    0.059998\n",
       "412    0.059882\n",
       "114    0.059040\n",
       "312    0.058987\n",
       "113    0.058597\n",
       "214    0.058050\n",
       "414    0.057534\n",
       "314    0.057492\n",
       "424    0.004644\n",
       "324    0.004454\n",
       "224    0.003906\n",
       "124    0.003106\n",
       "Name: RFM_Score, dtype: float64"
      ]
     },
     "execution_count": 118,
     "metadata": {},
     "output_type": "execute_result"
    }
   ],
   "source": [
    "df_rfm.RFM_Score.value_counts(normalize = True).head(20)"
   ]
  },
  {
   "cell_type": "markdown",
   "id": "49b02117",
   "metadata": {
    "id": "49b02117"
   },
   "source": [
    "Анализ всех 51 сегментов потребует большого количества времени. Распределим на меньшее количество групп уже имеющиеся сегменты\n",
    "\n",
    "1. VIP-клиенты: Клиенты с высокими значениями во всех трех параметрах RFM (R4, F4, M4).\n",
    "2. Одноразовые клиенты: Клиенты, которые сделали только одну покупку с низким значением Monetary и давно (R1-R4, F1, M1).\n",
    "3. Лояльные клиенты: Клиенты, которые имеют высокую частоту покупок и средний или высокий Monetary, независимо от Recency (F3-F4, M3-M4).\n",
    "4. Потенциальные лоялисты: Клиенты с высокой Recency, но низкой частотой покупок и средним или высоким Monetary (R4, F1-F2, M2-M4).\n",
    "5. Перспективные клиенты: Клиенты с низкой Recency, высокой частотой покупок и средним или высоким Monetary (R1-R3, F3-F4, M2-M4).\n",
    "6. Нельзя потерять: Клиенты с низкой Recency, низкой частотой покупок, но высоким Monetary (R1-R3, F1-F2, M3-M4).\n",
    "7. Клиенты, требующие внимания: Клиенты с низкой частотой покупок и средним или низким Monetary, независимо от Recency (F1-F2, M1-M3).\n",
    "8. Уснувшие неперспективные клиенты: Клиенты, с очень давним большим количеством дешевых покупок (R1, F3-F4, M1).\n",
    "9. Новые клиенты: Клиенты с недавними покупками средней суммы затрат (R3-R4, F1-F4, M2-M3)."
   ]
  },
  {
   "cell_type": "code",
   "execution_count": null,
   "id": "2c7d23c0",
   "metadata": {
    "id": "2c7d23c0",
    "outputId": "275b3578-d5f6-45ae-a3e7-51e44576f44a"
   },
   "outputs": [
    {
     "data": {
      "text/html": [
       "<div>\n",
       "<style scoped>\n",
       "    .dataframe tbody tr th:only-of-type {\n",
       "        vertical-align: middle;\n",
       "    }\n",
       "\n",
       "    .dataframe tbody tr th {\n",
       "        vertical-align: top;\n",
       "    }\n",
       "\n",
       "    .dataframe thead th {\n",
       "        text-align: right;\n",
       "    }\n",
       "</style>\n",
       "<table border=\"1\" class=\"dataframe\">\n",
       "  <thead>\n",
       "    <tr style=\"text-align: right;\">\n",
       "      <th></th>\n",
       "      <th>customer_unique_id</th>\n",
       "      <th>recency</th>\n",
       "      <th>frequency</th>\n",
       "      <th>monetary</th>\n",
       "      <th>R</th>\n",
       "      <th>F</th>\n",
       "      <th>M</th>\n",
       "      <th>RFM Score</th>\n",
       "      <th>RFM_Score</th>\n",
       "      <th>segment</th>\n",
       "    </tr>\n",
       "  </thead>\n",
       "  <tbody>\n",
       "    <tr>\n",
       "      <th>0</th>\n",
       "      <td>0000366f3b9a7992bf8c76cfdf3221e2</td>\n",
       "      <td>116</td>\n",
       "      <td>1</td>\n",
       "      <td>129.90</td>\n",
       "      <td>4</td>\n",
       "      <td>1</td>\n",
       "      <td>3</td>\n",
       "      <td>413</td>\n",
       "      <td>413</td>\n",
       "      <td>Потенциальные лоялисты</td>\n",
       "    </tr>\n",
       "    <tr>\n",
       "      <th>1</th>\n",
       "      <td>0000b849f77a49e4a4ce2b2a4ca5be3f</td>\n",
       "      <td>118</td>\n",
       "      <td>1</td>\n",
       "      <td>18.90</td>\n",
       "      <td>4</td>\n",
       "      <td>1</td>\n",
       "      <td>1</td>\n",
       "      <td>411</td>\n",
       "      <td>411</td>\n",
       "      <td>Клиенты, требующие внимания</td>\n",
       "    </tr>\n",
       "    <tr>\n",
       "      <th>2</th>\n",
       "      <td>0000f46a3911fa3c0805444483337064</td>\n",
       "      <td>541</td>\n",
       "      <td>1</td>\n",
       "      <td>69.00</td>\n",
       "      <td>1</td>\n",
       "      <td>1</td>\n",
       "      <td>2</td>\n",
       "      <td>112</td>\n",
       "      <td>112</td>\n",
       "      <td>Клиенты, требующие внимания</td>\n",
       "    </tr>\n",
       "    <tr>\n",
       "      <th>3</th>\n",
       "      <td>0000f6ccb0745a6a4b88665a16c9f078</td>\n",
       "      <td>325</td>\n",
       "      <td>1</td>\n",
       "      <td>25.99</td>\n",
       "      <td>2</td>\n",
       "      <td>1</td>\n",
       "      <td>1</td>\n",
       "      <td>211</td>\n",
       "      <td>211</td>\n",
       "      <td>Одноразовые клиенты</td>\n",
       "    </tr>\n",
       "    <tr>\n",
       "      <th>4</th>\n",
       "      <td>0004aac84e0df4da2b147fca70cf8255</td>\n",
       "      <td>292</td>\n",
       "      <td>1</td>\n",
       "      <td>180.00</td>\n",
       "      <td>2</td>\n",
       "      <td>1</td>\n",
       "      <td>4</td>\n",
       "      <td>214</td>\n",
       "      <td>214</td>\n",
       "      <td>Нельзя потерять</td>\n",
       "    </tr>\n",
       "  </tbody>\n",
       "</table>\n",
       "</div>"
      ],
      "text/plain": [
       "                 customer_unique_id  recency  frequency  monetary  R  F  M  \\\n",
       "0  0000366f3b9a7992bf8c76cfdf3221e2      116          1    129.90  4  1  3   \n",
       "1  0000b849f77a49e4a4ce2b2a4ca5be3f      118          1     18.90  4  1  1   \n",
       "2  0000f46a3911fa3c0805444483337064      541          1     69.00  1  1  2   \n",
       "3  0000f6ccb0745a6a4b88665a16c9f078      325          1     25.99  2  1  1   \n",
       "4  0004aac84e0df4da2b147fca70cf8255      292          1    180.00  2  1  4   \n",
       "\n",
       "  RFM Score RFM_Score                      segment  \n",
       "0       413       413       Потенциальные лоялисты  \n",
       "1       411       411  Клиенты, требующие внимания  \n",
       "2       112       112  Клиенты, требующие внимания  \n",
       "3       211       211          Одноразовые клиенты  \n",
       "4       214       214              Нельзя потерять  "
      ]
     },
     "execution_count": 90,
     "metadata": {},
     "output_type": "execute_result"
    }
   ],
   "source": [
    "segments = {\n",
    "    r'[4][4][4]': 'VIP',\n",
    "    r'[1-2][1][1]': 'Одноразовые клиенты',\n",
    "    r'[1-4][3-4][3-4]': 'Лояльные клиенты',\n",
    "    r'[3-4][1-2][3-4]': 'Потенциальные лоялисты',\n",
    "    r'[1-3][3-4][2-4]': 'Перспективные клиенты',\n",
    "    r'[1][3-4][1]': 'Уснувшие неперспективные клиенты',\n",
    "    r'[3-4][1-4][2-3]': 'Новые клиенты',    \n",
    "    r'[1-3][1-2][3-4]': 'Нельзя потерять',\n",
    "    r'[1-4][1-2][1-3]': 'Клиенты, требующие внимания',\n",
    "}\n",
    "\n",
    "df_rfm['segment'] = df_rfm.RFM_Score.replace(segments, regex=True)\n",
    "df_rfm.head()"
   ]
  },
  {
   "cell_type": "markdown",
   "id": "f4c62adc",
   "metadata": {
    "id": "f4c62adc"
   },
   "source": [
    "Посмотрим, все ли сегменты мы затронули."
   ]
  },
  {
   "cell_type": "code",
   "execution_count": null,
   "id": "3b9d471f",
   "metadata": {
    "id": "3b9d471f",
    "outputId": "2d40c5c8-27fb-42eb-ecfe-fdd6cf8ac7af"
   },
   "outputs": [
    {
     "data": {
      "text/plain": [
       "array(['Потенциальные лоялисты', 'Клиенты, требующие внимания',\n",
       "       'Одноразовые клиенты', 'Нельзя потерять', 'Новые клиенты',\n",
       "       'Лояльные клиенты', 'VIP', 'Перспективные клиенты',\n",
       "       'Уснувшие неперспективные клиенты'], dtype=object)"
      ]
     },
     "execution_count": 91,
     "metadata": {},
     "output_type": "execute_result"
    }
   ],
   "source": [
    "df_rfm.segment.unique()"
   ]
  },
  {
   "cell_type": "markdown",
   "id": "d678d3f3",
   "metadata": {
    "id": "d678d3f3"
   },
   "source": [
    "А теперь посмотрим, как распределились клиенты по нашей новой сегментации"
   ]
  },
  {
   "cell_type": "code",
   "execution_count": null,
   "id": "9623bae7",
   "metadata": {
    "id": "9623bae7",
    "outputId": "cd4d0c3f-18e7-4c6a-fd9c-4dedb97b2fcf"
   },
   "outputs": [
    {
     "data": {
      "text/plain": [
       "Клиенты, требующие внимания         24205\n",
       "Потенциальные лоялисты              23879\n",
       "Нельзя потерять                     23383\n",
       "Одноразовые клиенты                 11796\n",
       "Новые клиенты                       11475\n",
       "Лояльные клиенты                      198\n",
       "VIP                                    23\n",
       "Перспективные клиенты                   7\n",
       "Уснувшие неперспективные клиенты        4\n",
       "Name: segment, dtype: int64"
      ]
     },
     "execution_count": 96,
     "metadata": {},
     "output_type": "execute_result"
    }
   ],
   "source": [
    "df_rfm.segment.value_counts()"
   ]
  },
  {
   "cell_type": "markdown",
   "id": "4a3c4e32",
   "metadata": {
    "id": "4a3c4e32"
   },
   "source": [
    "Визуализируем полученные данные по количеству человек, приходящихся на каждый сегмент."
   ]
  },
  {
   "cell_type": "code",
   "execution_count": null,
   "id": "6ecfc32d",
   "metadata": {
    "id": "6ecfc32d",
    "outputId": "b0a2d3d9-d351-460a-a6b7-e9935705979f"
   },
   "outputs": [
    {
     "data": {
      "image/png": "[encoded data removed]",
      "text/plain": [
       "<Figure size 1000x500 with 1 Axes>"
      ]
     },
     "metadata": {},
     "output_type": "display_data"
    }
   ],
   "source": [
    "plt.figure(figsize = (10, 5))\n",
    "ax = sns.countplot(data = df_rfm, x = \"segment\")\n",
    "plt.xticks(rotation = 85)\n",
    "ax.set_xlabel(\"Сегменты\")\n",
    "ax.set_ylabel(\"Кол-во человек в каждом сегменте\")\n",
    "plt.show()"
   ]
  },
  {
   "cell_type": "markdown",
   "id": "598cc02c",
   "metadata": {
    "id": "598cc02c"
   },
   "source": [
    "Теперь визуализируем данные в разрезе сегментов, но по количеству денег принесенных клиентами."
   ]
  },
  {
   "cell_type": "code",
   "execution_count": null,
   "id": "a38456c4",
   "metadata": {
    "id": "a38456c4",
    "outputId": "2cae8df7-3b75-467b-c958-a7b86a34842e"
   },
   "outputs": [
    {
     "data": {
      "image/png": "[encoded data removed]",
      "text/plain": [
       "<Figure size 1000x800 with 1 Axes>"
      ]
     },
     "metadata": {},
     "output_type": "display_data"
    }
   ],
   "source": [
    "plt.figure(figsize = (10, 8))\n",
    "ax = sns.barplot(data = df_rfm, x = \"segment\", y = \"monetary\", errorbar = None)\n",
    "plt.xticks(rotation = 85)\n",
    "ax.set_xlabel(\"Сегменты\")\n",
    "ax.set_ylabel(\"Кол-во денег, приносимых людьми в каждом сегменте\")\n",
    "plt.show()"
   ]
  },
  {
   "cell_type": "markdown",
   "id": "a77fc18d",
   "metadata": {
    "id": "a77fc18d"
   },
   "source": [
    "#### Мы сделали анализ за 2 года по имеющимся у нас данным. Больше всего клиенты, требующие внимания (24205 человек), потенциальных лоялистов (23879 человек) и клиентов , которых нельзя потерять (23383 человек). Для всех этих сегментов подойдёт показ дополнительной рекламы и проведение каких-либо акций как минимум для поддержания действующего или угасающего интереса.\n",
    "#### Далее у нас идут одноразовые клиенты (11796 человек) и новые клиенты (11475 человек). \n",
    "#### Больше всего людей совершают покупку только один раз и медианная цена товара составляет примерно 90 долларов, из чего следует, что организация продает товары, которые не требуется часто менять, либо магазин не очень лоялен к своим клиентам.\n",
    "#### Наибольшую прибыль компании приносят vip клиенты, потом идут лояльные клиенты, третью позицию делят практически на равных потенциальные лоялисты и клиенты, которых нельзя потерять."
   ]
  }
 ],
 "metadata": {
  "colab": {
   "provenance": []
  },
  "kernelspec": {
   "display_name": "Python 3 (ipykernel)",
   "language": "python",
   "name": "python3"
  },
  "language_info": {
   "codemirror_mode": {
    "name": "ipython",
    "version": 3
   },
   "file_extension": ".py",
   "mimetype": "text/x-python",
   "name": "python",
   "nbconvert_exporter": "python",
   "pygments_lexer": "ipython3",
   "version": "3.9.13"
  }
 },
 "nbformat": 4,
 "nbformat_minor": 5
}
